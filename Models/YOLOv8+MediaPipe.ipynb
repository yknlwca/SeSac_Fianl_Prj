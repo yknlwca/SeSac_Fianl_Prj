{
  "nbformat": 4,
  "nbformat_minor": 0,
  "metadata": {
    "colab": {
      "provenance": []
    },
    "kernelspec": {
      "name": "python3",
      "display_name": "Python 3"
    },
    "language_info": {
      "name": "python"
    }
  },
  "cells": [
    {
      "cell_type": "code",
      "execution_count": 2,
      "metadata": {
        "colab": {
          "base_uri": "https://localhost:8080/"
        },
        "id": "of727CR57ElQ",
        "outputId": "7f87f60f-4cf1-4d6d-e5b1-51b47e081db2"
      },
      "outputs": [
        {
          "output_type": "stream",
          "name": "stdout",
          "text": [
            "Mounted at /content/drive\n"
          ]
        }
      ],
      "source": [
        "from google.colab import drive\n",
        "drive.mount('/content/drive')"
      ]
    },
    {
      "cell_type": "code",
      "source": [
        "!pip install ultralytics"
      ],
      "metadata": {
        "colab": {
          "base_uri": "https://localhost:8080/"
        },
        "id": "bYmnG8Na7JnS",
        "outputId": "c78ab4e8-9134-4614-b9f6-9aa3cc0c887d"
      },
      "execution_count": 1,
      "outputs": [
        {
          "output_type": "stream",
          "name": "stdout",
          "text": [
            "Collecting ultralytics\n",
            "  Downloading ultralytics-8.0.228-py3-none-any.whl (661 kB)\n",
            "\u001b[2K     \u001b[90m━━━━━━━━━━━━━━━━━━━━━━━━━━━━━━━━━━━━━━━━\u001b[0m \u001b[32m661.2/661.2 kB\u001b[0m \u001b[31m3.6 MB/s\u001b[0m eta \u001b[36m0:00:00\u001b[0m\n",
            "\u001b[?25hRequirement already satisfied: matplotlib>=3.3.0 in /usr/local/lib/python3.10/dist-packages (from ultralytics) (3.7.1)\n",
            "Requirement already satisfied: numpy>=1.22.2 in /usr/local/lib/python3.10/dist-packages (from ultralytics) (1.23.5)\n",
            "Requirement already satisfied: opencv-python>=4.6.0 in /usr/local/lib/python3.10/dist-packages (from ultralytics) (4.8.0.76)\n",
            "Requirement already satisfied: pillow>=7.1.2 in /usr/local/lib/python3.10/dist-packages (from ultralytics) (9.4.0)\n",
            "Requirement already satisfied: pyyaml>=5.3.1 in /usr/local/lib/python3.10/dist-packages (from ultralytics) (6.0.1)\n",
            "Requirement already satisfied: requests>=2.23.0 in /usr/local/lib/python3.10/dist-packages (from ultralytics) (2.31.0)\n",
            "Requirement already satisfied: scipy>=1.4.1 in /usr/local/lib/python3.10/dist-packages (from ultralytics) (1.11.4)\n",
            "Requirement already satisfied: torch>=1.8.0 in /usr/local/lib/python3.10/dist-packages (from ultralytics) (2.1.0+cu121)\n",
            "Requirement already satisfied: torchvision>=0.9.0 in /usr/local/lib/python3.10/dist-packages (from ultralytics) (0.16.0+cu121)\n",
            "Requirement already satisfied: tqdm>=4.64.0 in /usr/local/lib/python3.10/dist-packages (from ultralytics) (4.66.1)\n",
            "Requirement already satisfied: pandas>=1.1.4 in /usr/local/lib/python3.10/dist-packages (from ultralytics) (1.5.3)\n",
            "Requirement already satisfied: seaborn>=0.11.0 in /usr/local/lib/python3.10/dist-packages (from ultralytics) (0.12.2)\n",
            "Requirement already satisfied: psutil in /usr/local/lib/python3.10/dist-packages (from ultralytics) (5.9.5)\n",
            "Requirement already satisfied: py-cpuinfo in /usr/local/lib/python3.10/dist-packages (from ultralytics) (9.0.0)\n",
            "Collecting thop>=0.1.1 (from ultralytics)\n",
            "  Downloading thop-0.1.1.post2209072238-py3-none-any.whl (15 kB)\n",
            "Requirement already satisfied: contourpy>=1.0.1 in /usr/local/lib/python3.10/dist-packages (from matplotlib>=3.3.0->ultralytics) (1.2.0)\n",
            "Requirement already satisfied: cycler>=0.10 in /usr/local/lib/python3.10/dist-packages (from matplotlib>=3.3.0->ultralytics) (0.12.1)\n",
            "Requirement already satisfied: fonttools>=4.22.0 in /usr/local/lib/python3.10/dist-packages (from matplotlib>=3.3.0->ultralytics) (4.46.0)\n",
            "Requirement already satisfied: kiwisolver>=1.0.1 in /usr/local/lib/python3.10/dist-packages (from matplotlib>=3.3.0->ultralytics) (1.4.5)\n",
            "Requirement already satisfied: packaging>=20.0 in /usr/local/lib/python3.10/dist-packages (from matplotlib>=3.3.0->ultralytics) (23.2)\n",
            "Requirement already satisfied: pyparsing>=2.3.1 in /usr/local/lib/python3.10/dist-packages (from matplotlib>=3.3.0->ultralytics) (3.1.1)\n",
            "Requirement already satisfied: python-dateutil>=2.7 in /usr/local/lib/python3.10/dist-packages (from matplotlib>=3.3.0->ultralytics) (2.8.2)\n",
            "Requirement already satisfied: pytz>=2020.1 in /usr/local/lib/python3.10/dist-packages (from pandas>=1.1.4->ultralytics) (2023.3.post1)\n",
            "Requirement already satisfied: charset-normalizer<4,>=2 in /usr/local/lib/python3.10/dist-packages (from requests>=2.23.0->ultralytics) (3.3.2)\n",
            "Requirement already satisfied: idna<4,>=2.5 in /usr/local/lib/python3.10/dist-packages (from requests>=2.23.0->ultralytics) (3.6)\n",
            "Requirement already satisfied: urllib3<3,>=1.21.1 in /usr/local/lib/python3.10/dist-packages (from requests>=2.23.0->ultralytics) (2.0.7)\n",
            "Requirement already satisfied: certifi>=2017.4.17 in /usr/local/lib/python3.10/dist-packages (from requests>=2.23.0->ultralytics) (2023.11.17)\n",
            "Requirement already satisfied: filelock in /usr/local/lib/python3.10/dist-packages (from torch>=1.8.0->ultralytics) (3.13.1)\n",
            "Requirement already satisfied: typing-extensions in /usr/local/lib/python3.10/dist-packages (from torch>=1.8.0->ultralytics) (4.5.0)\n",
            "Requirement already satisfied: sympy in /usr/local/lib/python3.10/dist-packages (from torch>=1.8.0->ultralytics) (1.12)\n",
            "Requirement already satisfied: networkx in /usr/local/lib/python3.10/dist-packages (from torch>=1.8.0->ultralytics) (3.2.1)\n",
            "Requirement already satisfied: jinja2 in /usr/local/lib/python3.10/dist-packages (from torch>=1.8.0->ultralytics) (3.1.2)\n",
            "Requirement already satisfied: fsspec in /usr/local/lib/python3.10/dist-packages (from torch>=1.8.0->ultralytics) (2023.6.0)\n",
            "Requirement already satisfied: triton==2.1.0 in /usr/local/lib/python3.10/dist-packages (from torch>=1.8.0->ultralytics) (2.1.0)\n",
            "Requirement already satisfied: six>=1.5 in /usr/local/lib/python3.10/dist-packages (from python-dateutil>=2.7->matplotlib>=3.3.0->ultralytics) (1.16.0)\n",
            "Requirement already satisfied: MarkupSafe>=2.0 in /usr/local/lib/python3.10/dist-packages (from jinja2->torch>=1.8.0->ultralytics) (2.1.3)\n",
            "Requirement already satisfied: mpmath>=0.19 in /usr/local/lib/python3.10/dist-packages (from sympy->torch>=1.8.0->ultralytics) (1.3.0)\n",
            "Installing collected packages: thop, ultralytics\n",
            "Successfully installed thop-0.1.1.post2209072238 ultralytics-8.0.228\n"
          ]
        }
      ]
    },
    {
      "cell_type": "code",
      "source": [
        "!pip install mediapipe"
      ],
      "metadata": {
        "colab": {
          "base_uri": "https://localhost:8080/"
        },
        "id": "utwqAL9-9iHi",
        "outputId": "48aaf9e2-1367-4b1e-e44b-a86708185ba9"
      },
      "execution_count": 34,
      "outputs": [
        {
          "output_type": "stream",
          "name": "stdout",
          "text": [
            "Requirement already satisfied: mediapipe in /usr/local/lib/python3.10/dist-packages (0.10.9)\n",
            "Requirement already satisfied: absl-py in /usr/local/lib/python3.10/dist-packages (from mediapipe) (1.4.0)\n",
            "Requirement already satisfied: attrs>=19.1.0 in /usr/local/lib/python3.10/dist-packages (from mediapipe) (23.1.0)\n",
            "Requirement already satisfied: flatbuffers>=2.0 in /usr/local/lib/python3.10/dist-packages (from mediapipe) (23.5.26)\n",
            "Requirement already satisfied: matplotlib in /usr/local/lib/python3.10/dist-packages (from mediapipe) (3.7.1)\n",
            "Requirement already satisfied: numpy in /usr/local/lib/python3.10/dist-packages (from mediapipe) (1.23.5)\n",
            "Requirement already satisfied: opencv-contrib-python in /usr/local/lib/python3.10/dist-packages (from mediapipe) (4.8.0.76)\n",
            "Requirement already satisfied: protobuf<4,>=3.11 in /usr/local/lib/python3.10/dist-packages (from mediapipe) (3.20.3)\n",
            "Requirement already satisfied: sounddevice>=0.4.4 in /usr/local/lib/python3.10/dist-packages (from mediapipe) (0.4.6)\n",
            "Requirement already satisfied: CFFI>=1.0 in /usr/local/lib/python3.10/dist-packages (from sounddevice>=0.4.4->mediapipe) (1.16.0)\n",
            "Requirement already satisfied: contourpy>=1.0.1 in /usr/local/lib/python3.10/dist-packages (from matplotlib->mediapipe) (1.2.0)\n",
            "Requirement already satisfied: cycler>=0.10 in /usr/local/lib/python3.10/dist-packages (from matplotlib->mediapipe) (0.12.1)\n",
            "Requirement already satisfied: fonttools>=4.22.0 in /usr/local/lib/python3.10/dist-packages (from matplotlib->mediapipe) (4.46.0)\n",
            "Requirement already satisfied: kiwisolver>=1.0.1 in /usr/local/lib/python3.10/dist-packages (from matplotlib->mediapipe) (1.4.5)\n",
            "Requirement already satisfied: packaging>=20.0 in /usr/local/lib/python3.10/dist-packages (from matplotlib->mediapipe) (23.2)\n",
            "Requirement already satisfied: pillow>=6.2.0 in /usr/local/lib/python3.10/dist-packages (from matplotlib->mediapipe) (9.4.0)\n",
            "Requirement already satisfied: pyparsing>=2.3.1 in /usr/local/lib/python3.10/dist-packages (from matplotlib->mediapipe) (3.1.1)\n",
            "Requirement already satisfied: python-dateutil>=2.7 in /usr/local/lib/python3.10/dist-packages (from matplotlib->mediapipe) (2.8.2)\n",
            "Requirement already satisfied: pycparser in /usr/local/lib/python3.10/dist-packages (from CFFI>=1.0->sounddevice>=0.4.4->mediapipe) (2.21)\n",
            "Requirement already satisfied: six>=1.5 in /usr/local/lib/python3.10/dist-packages (from python-dateutil>=2.7->matplotlib->mediapipe) (1.16.0)\n"
          ]
        }
      ]
    },
    {
      "cell_type": "code",
      "source": [
        "import cv2\n",
        "import mediapipe as mp\n",
        "import numpy as np\n",
        "import os\n",
        "import random\n",
        "import gc\n",
        "import time\n",
        "import torch\n",
        "import torch.nn as nn\n",
        "import torch.optim as optim\n",
        "import torch.nn.functional as F\n",
        "import matplotlib.pyplot as plt\n",
        "\n",
        "from IPython.display import Image, clear_output\n",
        "from torch.cuda import memory_allocated, empty_cache\n",
        "from torch.optim import Adam\n",
        "from torch.utils.data import random_split\n",
        "from torch.utils.data import Dataset, DataLoader\n",
        "from glob import glob\n",
        "from tqdm import tqdm\n",
        "from google.colab.patches import cv2_imshow\n",
        "from ultralytics import YOLO\n",
        "import torch\n",
        "import torchvision\n",
        "import pandas\n",
        "\n",
        "%matplotlib inline"
      ],
      "metadata": {
        "id": "tgw7IOU77hOq"
      },
      "execution_count": 36,
      "outputs": []
    },
    {
      "cell_type": "code",
      "source": [
        "yolo_model = YOLO('yolov8s.pt')\n",
        "\n",
        "# 디바이스 설정\n",
        "device = 'cuda:0' if torch.cuda.is_available() else 'cpu'\n",
        "yolo_model = yolo_model.to(device)"
      ],
      "metadata": {
        "id": "xdi6II7m7Ok6",
        "colab": {
          "base_uri": "https://localhost:8080/"
        },
        "outputId": "23967144-7b3e-4d8a-c9f6-df279babc4b8"
      },
      "execution_count": 5,
      "outputs": [
        {
          "output_type": "stream",
          "name": "stdout",
          "text": [
            "Downloading https://github.com/ultralytics/assets/releases/download/v0.0.0/yolov8s.pt to 'yolov8s.pt'...\n"
          ]
        },
        {
          "output_type": "stream",
          "name": "stderr",
          "text": [
            "100%|██████████| 21.5M/21.5M [00:00<00:00, 114MB/s] \n"
          ]
        }
      ]
    },
    {
      "cell_type": "code",
      "source": [
        "BATCH_SIZE = 6\n",
        "EPOCH = 100\n",
        "NUM_LAYERS = 1      # LSTM model: num_layers\n",
        "start_dot = 11      # mp.solutions.pose 시작 포인트 (0: 얼굴부터 발목까지, 11: 어깨부터 발목까지)\n",
        "n_CONFIDENCE = 0.3    # MediaPipe Min Detectin confidence check\n",
        "y_CONFIDENCE = 0.3\n",
        "\n",
        "mp_pose = mp.solutions.pose\n",
        "attention_dot = [n for n in range(start_dot, 29)]\n",
        "\n",
        "# 라인 그리기\n",
        "if start_dot == 11:\n",
        "# 몸 부분만 머리는 신경 안써도 될듯?\n",
        "    draw_line = [[11, 13], [13, 15], [15, 21], [15, 19], [15, 17], [17, 19], \\\n",
        "                [12, 14], [14, 16], [16, 22], [16, 20], [16, 18], [18, 20], \\\n",
        "                [23, 25], [25, 27], [24, 26], [26, 28], [11, 12], [11, 23], \\\n",
        "                [23, 24], [12, 24]]\n",
        "    print('Pose : Only Body')\n",
        "\n",
        "else:\n",
        "# 몸 전체\n",
        "    draw_line = [[11, 13], [13, 15], [15, 21], [15, 19], [15, 17], [17, 19], \\\n",
        "                [12, 14], [14, 16], [16, 22], [16, 20], [16, 18], [18, 20], \\\n",
        "                [23, 25], [25, 27], [24, 26], [26, 28], [11, 12], [11, 23], \\\n",
        "                [23, 24], [12, 24], [9, 10], [0, 5], [0, 2], [5, 8], [2, 7]]\n",
        "    print('Pose : Face + Body')"
      ],
      "metadata": {
        "colab": {
          "base_uri": "https://localhost:8080/"
        },
        "id": "_xEh3ZbJ7rQq",
        "outputId": "65d25c1c-fe92-4dae-d7a0-48c6b638f2bf"
      },
      "execution_count": 11,
      "outputs": [
        {
          "output_type": "stream",
          "name": "stdout",
          "text": [
            "Pose : Only Body\n"
          ]
        }
      ]
    },
    {
      "cell_type": "code",
      "source": [
        "net.eval()\n",
        "\n",
        "length = 30 # frame 상태를 표시할 길이\n",
        "out_img_list = []\n",
        "dataset = []\n",
        "status = 'None'\n",
        "pose = mp_pose.Pose(static_image_mode=True, model_complexity=1, enable_segmentation=False, min_detection_confidence=n_CONFIDENCE)\n",
        "print('시퀀스 데이터 분석 중...')\n",
        "\n",
        "xy_list_list = []\n",
        "for img in tqdm(img_list):\n",
        "    res = yolo_model(img)\n",
        "    res_refine = res.pandas().xyxy[0].values\n",
        "\n",
        "    nms_human = len(res_refine)\n",
        "    if nms_human > 0:\n",
        "        for bbox in res_refine:\n",
        "            xx1, yy1, xx2, yy2 = int(bbox[0])-10, int(bbox[1]), int(bbox[2])+10, int(bbox[3])\n",
        "            if xx1 < 0:\n",
        "                xx1 = 0\n",
        "            elif xx2 > 639:\n",
        "                xx2 = 639\n",
        "            if yy1 < 0:\n",
        "                yy1 = 0\n",
        "            elif yy2 > 639:\n",
        "                yy2 = 639\n",
        "\n",
        "            start_point = (xx1, yy1)\n",
        "            end_point = (xx2, yy2)\n",
        "            if bbox[4] > y_CONFIDENCE:\n",
        "                img = cv2.rectangle(img, start_point, end_point, (0, 0, 255), 2)\n",
        "\n",
        "                c_img = img[yy1:yy2, xx1:xx2]\n",
        "                results = pose.process(cv2.cvtColor(c_img, cv2.COLOR_BGR2RGB))\n",
        "                if not results.pose_landmarks: continue\n",
        "                xy_list = []\n",
        "                idx = 0\n",
        "                draw_line_dic = {}\n",
        "                for x_and_y in results.pose_landmarks.landmark:\n",
        "                    if idx in attention_dot:\n",
        "                        xy_list.append(x_and_y.x)\n",
        "                        xy_list.append(x_and_y.y)\n",
        "                        x, y = int(x_and_y.x*(xx2-xx1)), int(x_and_y.y*(yy2-yy1))\n",
        "                        draw_line_dic[idx] = [x, y]\n",
        "                    idx += 1\n",
        "\n",
        "                xy_list_list.append(xy_list)\n",
        "                # 라인 그리기 (지워도 됨)\n",
        "                for line in draw_line:\n",
        "                    x1, y1 = draw_line_dic[line[0]][0], draw_line_dic[line[0]][1]\n",
        "                    x2, y2 = draw_line_dic[line[1]][0], draw_line_dic[line[1]][1]\n",
        "                    c_img = cv2.line(c_img, (x1, y1), (x2, y2), (0, 255, 0), 3)\n",
        "\n",
        "                if len(xy_list_list) == length:\n",
        "                    dataset = []\n",
        "                    dataset.append({'key' : 0, 'value' : xy_list_list})\n",
        "                    dataset = MyDataset(dataset)\n",
        "                    dataset = DataLoader(dataset)\n",
        "                    xy_list_list = []\n",
        "\n",
        "                    for data, label in dataset:\n",
        "                        data = data.to(device)\n",
        "                        with torch.no_grad():\n",
        "                            result = net(data)\n",
        "                            _, out = torch.max(result, 1)\n",
        "                            if out.item() == 0: status = 'Normal'\n",
        "                            else: status = 'Abnormal'\n",
        "    if status == 'Normal':\n",
        "        text_color = (0, 255, 0)  # 녹색\n",
        "        cv2.putText(img, status, (0, 50), cv2.FONT_HERSHEY_COMPLEX, 1.5, text_color, 2)\n",
        "    elif status == 'Abnormal':\n",
        "        text_color = (0, 0, 255)  # 빨간색\n",
        "        cv2.putText(img, status, (0, 50), cv2.FONT_HERSHEY_COMPLEX, 1.5, text_color, 2)\n",
        "\n",
        "        # 추가적인 경고 메시지 표시\n",
        "        cv2.putText(img, 'WARNING: Abnormal Activity Detected!', (50, img.shape[0] // 2), cv2.FONT_HERSHEY_COMPLEX, 1, text_color, 2)\n",
        "\n",
        "        # 화면 깜빡임 효과 추가 (예: 이미지의 경계에 빨간색 사각형 그리기)\n",
        "        cv2.rectangle(img, (0, 0), (img.shape[1], img.shape[0]), text_color, 10)\n",
        "\n",
        "    out_img_list.append(img)\n",
        "\n",
        "    cv2.putText(img, status, (0, 50), cv2.FONT_HERSHEY_COMPLEX, 1.5, (0, 0, 255), 2)\n",
        "    out_img_list.append(img)"
      ],
      "metadata": {
        "id": "d-wkwAQB7rTL",
        "colab": {
          "base_uri": "https://localhost:8080/",
          "height": 341
        },
        "outputId": "eb9b0b06-4996-4813-ab04-4d554034d960"
      },
      "execution_count": 35,
      "outputs": [
        {
          "output_type": "stream",
          "name": "stdout",
          "text": [
            "시퀀스 데이터 분석 중...\n"
          ]
        },
        {
          "output_type": "stream",
          "name": "stderr",
          "text": [
            "\r  0%|          | 0/180 [00:00<?, ?it/s]"
          ]
        },
        {
          "output_type": "stream",
          "name": "stdout",
          "text": [
            "\n",
            "0: 640x640 1 suitcase, 4 chairs, 1 potted plant, 1 tv, 896.1ms\n",
            "Speed: 4.7ms preprocess, 896.1ms inference, 2.9ms postprocess per image at shape (1, 3, 640, 640)\n"
          ]
        },
        {
          "output_type": "stream",
          "name": "stderr",
          "text": [
            "\r  0%|          | 0/180 [00:00<?, ?it/s]\n"
          ]
        },
        {
          "output_type": "error",
          "ename": "AttributeError",
          "evalue": "ignored",
          "traceback": [
            "\u001b[0;31m---------------------------------------------------------------------------\u001b[0m",
            "\u001b[0;31mAttributeError\u001b[0m                            Traceback (most recent call last)",
            "\u001b[0;32m<ipython-input-35-ba59dfd9a92e>\u001b[0m in \u001b[0;36m<cell line: 11>\u001b[0;34m()\u001b[0m\n\u001b[1;32m     11\u001b[0m \u001b[0;32mfor\u001b[0m \u001b[0mimg\u001b[0m \u001b[0;32min\u001b[0m \u001b[0mtqdm\u001b[0m\u001b[0;34m(\u001b[0m\u001b[0mimg_list\u001b[0m\u001b[0;34m)\u001b[0m\u001b[0;34m:\u001b[0m\u001b[0;34m\u001b[0m\u001b[0;34m\u001b[0m\u001b[0m\n\u001b[1;32m     12\u001b[0m     \u001b[0mres\u001b[0m \u001b[0;34m=\u001b[0m \u001b[0myolo_model\u001b[0m\u001b[0;34m(\u001b[0m\u001b[0mimg\u001b[0m\u001b[0;34m)\u001b[0m\u001b[0;34m\u001b[0m\u001b[0;34m\u001b[0m\u001b[0m\n\u001b[0;32m---> 13\u001b[0;31m     \u001b[0mres_refine\u001b[0m \u001b[0;34m=\u001b[0m \u001b[0mres\u001b[0m\u001b[0;34m.\u001b[0m\u001b[0mpandas\u001b[0m\u001b[0;34m(\u001b[0m\u001b[0;34m)\u001b[0m\u001b[0;34m.\u001b[0m\u001b[0mxyxy\u001b[0m\u001b[0;34m[\u001b[0m\u001b[0;36m0\u001b[0m\u001b[0;34m]\u001b[0m\u001b[0;34m.\u001b[0m\u001b[0mvalues\u001b[0m\u001b[0;34m\u001b[0m\u001b[0;34m\u001b[0m\u001b[0m\n\u001b[0m\u001b[1;32m     14\u001b[0m \u001b[0;34m\u001b[0m\u001b[0m\n\u001b[1;32m     15\u001b[0m     \u001b[0mnms_human\u001b[0m \u001b[0;34m=\u001b[0m \u001b[0mlen\u001b[0m\u001b[0;34m(\u001b[0m\u001b[0mres_refine\u001b[0m\u001b[0;34m)\u001b[0m\u001b[0;34m\u001b[0m\u001b[0;34m\u001b[0m\u001b[0m\n",
            "\u001b[0;31mAttributeError\u001b[0m: 'list' object has no attribute 'pandas'"
          ]
        }
      ]
    },
    {
      "cell_type": "code",
      "source": [
        "video_path = '/content/drive/MyDrive/CCTV/Data'\n",
        "raw_data = []\n",
        "\n",
        "for fold in os.listdir(video_path):\n",
        "    label = 0 if fold == 'normal' else 1\n",
        "\n",
        "    for video_name in os.listdir(os.path.join(video_path, fold)):\n",
        "        skel_data_n, skel_data_f = get_skeleton(os.path.join(video_path, fold, video_name), attention_dot, draw_line)\n",
        "        if skel_data_n is not None and len(skel_data_n) > 0:\n",
        "            seq_list_n = skel_data_n[:30]\n",
        "            seq_list_f = skel_data_f[:30]\n",
        "            raw_data.append({'key': label, 'value': seq_list_n})\n",
        "            raw_data.append({'key': label, 'value': seq_list_f})\n",
        "\n",
        "# 데이터셋을 무작위로\n",
        "random.shuffle(raw_data)"
      ],
      "metadata": {
        "colab": {
          "base_uri": "https://localhost:8080/"
        },
        "id": "AO6OWd817rX4",
        "outputId": "a62ffc26-bc77-49e7-d820-f83c18cdd29e"
      },
      "execution_count": 13,
      "outputs": [
        {
          "output_type": "stream",
          "name": "stdout",
          "text": [
            "\n",
            "0: 640x640 1 person, 1 handbag, 9 bottles, 1 cup, 1173.1ms\n",
            "Speed: 11.9ms preprocess, 1173.1ms inference, 2.8ms postprocess per image at shape (1, 3, 640, 640)\n",
            "\n",
            "0: 640x640 1 person, 8 bottles, 1 cup, 1 tv, 849.6ms\n",
            "Speed: 7.2ms preprocess, 849.6ms inference, 1.2ms postprocess per image at shape (1, 3, 640, 640)\n",
            "\n",
            "0: 640x640 1 person, 7 bottles, 1 cup, 1 tv, 552.1ms\n",
            "Speed: 3.0ms preprocess, 552.1ms inference, 1.4ms postprocess per image at shape (1, 3, 640, 640)\n",
            "\n",
            "0: 640x640 1 person, 9 bottles, 1 cup, 1 tv, 543.7ms\n",
            "Speed: 3.8ms preprocess, 543.7ms inference, 1.4ms postprocess per image at shape (1, 3, 640, 640)\n",
            "\n",
            "0: 640x640 1 person, 9 bottles, 1 cup, 1 tv, 541.3ms\n",
            "Speed: 2.9ms preprocess, 541.3ms inference, 1.3ms postprocess per image at shape (1, 3, 640, 640)\n",
            "\n",
            "0: 640x640 1 person, 8 bottles, 1 cup, 1 tv, 558.2ms\n",
            "Speed: 2.9ms preprocess, 558.2ms inference, 1.3ms postprocess per image at shape (1, 3, 640, 640)\n",
            "\n",
            "0: 640x640 1 person, 7 bottles, 1 cup, 1 tv, 848.8ms\n",
            "Speed: 2.9ms preprocess, 848.8ms inference, 1.9ms postprocess per image at shape (1, 3, 640, 640)\n",
            "\n",
            "0: 640x640 1 person, 7 bottles, 1 cup, 1 tv, 843.6ms\n",
            "Speed: 4.7ms preprocess, 843.6ms inference, 1.7ms postprocess per image at shape (1, 3, 640, 640)\n",
            "\n",
            "0: 640x640 1 person, 7 bottles, 1 cup, 1 tv, 881.3ms\n",
            "Speed: 11.9ms preprocess, 881.3ms inference, 1.9ms postprocess per image at shape (1, 3, 640, 640)\n",
            "\n",
            "0: 640x640 1 person, 5 bottles, 1 cup, 1 tv, 878.2ms\n",
            "Speed: 2.8ms preprocess, 878.2ms inference, 1.7ms postprocess per image at shape (1, 3, 640, 640)\n",
            "\n",
            "0: 640x640 1 person, 5 bottles, 1 cup, 1 tv, 1180.1ms\n",
            "Speed: 5.3ms preprocess, 1180.1ms inference, 1.7ms postprocess per image at shape (1, 3, 640, 640)\n",
            "\n",
            "0: 640x640 1 person, 7 bottles, 1 cup, 1 tv, 915.7ms\n",
            "Speed: 3.0ms preprocess, 915.7ms inference, 2.1ms postprocess per image at shape (1, 3, 640, 640)\n",
            "\n",
            "0: 640x640 1 person, 7 bottles, 1 cup, 1 tv, 864.6ms\n",
            "Speed: 2.8ms preprocess, 864.6ms inference, 1.6ms postprocess per image at shape (1, 3, 640, 640)\n",
            "\n",
            "0: 640x640 1 person, 7 bottles, 1 cup, 1 tv, 853.9ms\n",
            "Speed: 2.9ms preprocess, 853.9ms inference, 1.6ms postprocess per image at shape (1, 3, 640, 640)\n",
            "\n",
            "0: 640x640 1 person, 7 bottles, 1 cup, 1 tv, 732.0ms\n",
            "Speed: 8.9ms preprocess, 732.0ms inference, 1.3ms postprocess per image at shape (1, 3, 640, 640)\n",
            "\n",
            "0: 640x640 1 person, 1 handbag, 8 bottles, 1 cup, 1 tv, 553.2ms\n",
            "Speed: 3.1ms preprocess, 553.2ms inference, 2.0ms postprocess per image at shape (1, 3, 640, 640)\n",
            "\n",
            "0: 640x640 1 person, 8 bottles, 1 cup, 1 tv, 550.7ms\n",
            "Speed: 3.0ms preprocess, 550.7ms inference, 1.5ms postprocess per image at shape (1, 3, 640, 640)\n",
            "\n",
            "0: 640x640 1 person, 8 bottles, 1 cup, 1 tv, 557.2ms\n",
            "Speed: 3.7ms preprocess, 557.2ms inference, 1.6ms postprocess per image at shape (1, 3, 640, 640)\n",
            "\n",
            "0: 640x640 1 person, 7 bottles, 1 cup, 1 tv, 558.8ms\n",
            "Speed: 3.6ms preprocess, 558.8ms inference, 2.1ms postprocess per image at shape (1, 3, 640, 640)\n",
            "\n",
            "0: 640x640 1 person, 8 bottles, 1 cup, 1 tv, 679.6ms\n",
            "Speed: 4.6ms preprocess, 679.6ms inference, 2.0ms postprocess per image at shape (1, 3, 640, 640)\n",
            "\n",
            "0: 640x640 1 person, 8 bottles, 1 cup, 1 tv, 717.4ms\n",
            "Speed: 2.9ms preprocess, 717.4ms inference, 1.8ms postprocess per image at shape (1, 3, 640, 640)\n",
            "\n",
            "0: 640x640 1 person, 8 bottles, 1 cup, 1 tv, 762.2ms\n",
            "Speed: 7.8ms preprocess, 762.2ms inference, 1.2ms postprocess per image at shape (1, 3, 640, 640)\n",
            "\n",
            "0: 640x640 1 person, 7 bottles, 1 cup, 1 tv, 1228.3ms\n",
            "Speed: 2.9ms preprocess, 1228.3ms inference, 1.2ms postprocess per image at shape (1, 3, 640, 640)\n",
            "\n",
            "0: 640x640 1 person, 7 bottles, 1 cup, 1 tv, 2188.5ms\n",
            "Speed: 5.3ms preprocess, 2188.5ms inference, 2.1ms postprocess per image at shape (1, 3, 640, 640)\n",
            "\n",
            "0: 640x640 1 person, 6 bottles, 1 cup, 1 tv, 1787.8ms\n",
            "Speed: 8.7ms preprocess, 1787.8ms inference, 3.8ms postprocess per image at shape (1, 3, 640, 640)\n",
            "\n",
            "0: 640x640 1 person, 6 bottles, 1 cup, 1 tv, 742.9ms\n",
            "Speed: 3.6ms preprocess, 742.9ms inference, 1.3ms postprocess per image at shape (1, 3, 640, 640)\n",
            "\n",
            "0: 640x640 1 person, 8 bottles, 1 cup, 1 tv, 542.2ms\n",
            "Speed: 3.2ms preprocess, 542.2ms inference, 1.2ms postprocess per image at shape (1, 3, 640, 640)\n",
            "\n",
            "0: 640x640 1 person, 7 bottles, 1 cup, 1 tv, 545.3ms\n",
            "Speed: 2.9ms preprocess, 545.3ms inference, 1.4ms postprocess per image at shape (1, 3, 640, 640)\n",
            "\n",
            "0: 640x640 1 person, 8 bottles, 1 cup, 1 tv, 551.9ms\n",
            "Speed: 4.1ms preprocess, 551.9ms inference, 1.5ms postprocess per image at shape (1, 3, 640, 640)\n",
            "\n",
            "0: 640x640 1 person, 8 bottles, 1 cup, 1 tv, 553.2ms\n",
            "Speed: 4.6ms preprocess, 553.2ms inference, 1.3ms postprocess per image at shape (1, 3, 640, 640)\n",
            "\n",
            "0: 640x640 1 person, 9 bottles, 1 cup, 1 tv, 562.2ms\n",
            "Speed: 3.6ms preprocess, 562.2ms inference, 1.8ms postprocess per image at shape (1, 3, 640, 640)\n",
            "\n",
            "0: 640x640 1 person, 8 bottles, 1 cup, 1 tv, 563.9ms\n",
            "Speed: 3.0ms preprocess, 563.9ms inference, 1.4ms postprocess per image at shape (1, 3, 640, 640)\n",
            "\n",
            "0: 640x640 1 person, 8 bottles, 1 cup, 1 tv, 577.7ms\n",
            "Speed: 2.6ms preprocess, 577.7ms inference, 1.3ms postprocess per image at shape (1, 3, 640, 640)\n",
            "\n",
            "0: 640x640 1 person, 7 bottles, 1 cup, 1 tv, 568.2ms\n",
            "Speed: 4.2ms preprocess, 568.2ms inference, 1.6ms postprocess per image at shape (1, 3, 640, 640)\n",
            "\n",
            "0: 640x640 1 person, 7 bottles, 1 cup, 1 tv, 556.9ms\n",
            "Speed: 4.7ms preprocess, 556.9ms inference, 1.3ms postprocess per image at shape (1, 3, 640, 640)\n",
            "\n",
            "0: 640x640 1 person, 8 bottles, 1 cup, 1 tv, 559.1ms\n",
            "Speed: 4.8ms preprocess, 559.1ms inference, 1.7ms postprocess per image at shape (1, 3, 640, 640)\n",
            "\n",
            "0: 640x640 1 person, 6 bottles, 831.5ms\n",
            "Speed: 4.0ms preprocess, 831.5ms inference, 1.8ms postprocess per image at shape (1, 3, 640, 640)\n",
            "\n",
            "0: 640x640 1 person, 6 bottles, 1 tv, 872.1ms\n",
            "Speed: 2.7ms preprocess, 872.1ms inference, 1.7ms postprocess per image at shape (1, 3, 640, 640)\n",
            "\n",
            "0: 640x640 1 person, 7 bottles, 1 tv, 840.7ms\n",
            "Speed: 2.6ms preprocess, 840.7ms inference, 1.7ms postprocess per image at shape (1, 3, 640, 640)\n",
            "\n",
            "0: 640x640 1 person, 8 bottles, 1 tv, 835.9ms\n",
            "Speed: 7.7ms preprocess, 835.9ms inference, 1.3ms postprocess per image at shape (1, 3, 640, 640)\n",
            "\n",
            "0: 640x640 1 person, 7 bottles, 1 tv, 548.8ms\n",
            "Speed: 3.5ms preprocess, 548.8ms inference, 1.4ms postprocess per image at shape (1, 3, 640, 640)\n",
            "\n",
            "0: 640x640 1 person, 9 bottles, 1 tv, 551.8ms\n",
            "Speed: 3.5ms preprocess, 551.8ms inference, 1.4ms postprocess per image at shape (1, 3, 640, 640)\n",
            "\n",
            "0: 640x640 1 person, 7 bottles, 1 tv, 548.5ms\n",
            "Speed: 4.2ms preprocess, 548.5ms inference, 1.3ms postprocess per image at shape (1, 3, 640, 640)\n",
            "\n",
            "0: 640x640 1 person, 7 bottles, 1 tv, 548.5ms\n",
            "Speed: 2.8ms preprocess, 548.5ms inference, 1.4ms postprocess per image at shape (1, 3, 640, 640)\n",
            "\n",
            "0: 640x640 1 person, 7 bottles, 1 tv, 551.9ms\n",
            "Speed: 2.8ms preprocess, 551.9ms inference, 1.4ms postprocess per image at shape (1, 3, 640, 640)\n",
            "\n",
            "0: 640x640 1 person, 9 bottles, 1 tv, 536.3ms\n",
            "Speed: 2.9ms preprocess, 536.3ms inference, 1.3ms postprocess per image at shape (1, 3, 640, 640)\n",
            "\n",
            "0: 640x640 1 person, 9 bottles, 1 tv, 548.3ms\n",
            "Speed: 3.2ms preprocess, 548.3ms inference, 1.2ms postprocess per image at shape (1, 3, 640, 640)\n",
            "\n",
            "0: 640x640 1 person, 8 bottles, 1 tv, 543.0ms\n",
            "Speed: 2.9ms preprocess, 543.0ms inference, 1.4ms postprocess per image at shape (1, 3, 640, 640)\n",
            "\n",
            "0: 640x640 1 person, 7 bottles, 1 tv, 558.6ms\n",
            "Speed: 2.5ms preprocess, 558.6ms inference, 1.3ms postprocess per image at shape (1, 3, 640, 640)\n",
            "\n",
            "0: 640x640 1 person, 8 bottles, 1 tv, 553.9ms\n",
            "Speed: 5.0ms preprocess, 553.9ms inference, 2.2ms postprocess per image at shape (1, 3, 640, 640)\n",
            "\n",
            "0: 640x640 1 person, 8 bottles, 1 tv, 543.1ms\n",
            "Speed: 2.9ms preprocess, 543.1ms inference, 1.3ms postprocess per image at shape (1, 3, 640, 640)\n",
            "\n",
            "0: 640x640 1 person, 6 bottles, 1 tv, 876.0ms\n",
            "Speed: 3.9ms preprocess, 876.0ms inference, 2.1ms postprocess per image at shape (1, 3, 640, 640)\n",
            "\n",
            "0: 640x640 1 person, 8 bottles, 853.8ms\n",
            "Speed: 4.3ms preprocess, 853.8ms inference, 1.5ms postprocess per image at shape (1, 3, 640, 640)\n",
            "\n",
            "0: 640x640 1 person, 1 suitcase, 8 bottles, 1 tv, 834.4ms\n",
            "Speed: 7.1ms preprocess, 834.4ms inference, 1.6ms postprocess per image at shape (1, 3, 640, 640)\n",
            "\n",
            "0: 640x640 1 person, 10 bottles, 1 tv, 841.9ms\n",
            "Speed: 5.5ms preprocess, 841.9ms inference, 1.9ms postprocess per image at shape (1, 3, 640, 640)\n",
            "\n",
            "0: 640x640 1 person, 7 bottles, 1 tv, 654.0ms\n",
            "Speed: 2.8ms preprocess, 654.0ms inference, 1.2ms postprocess per image at shape (1, 3, 640, 640)\n",
            "\n",
            "0: 640x640 1 person, 6 bottles, 1 tv, 537.9ms\n",
            "Speed: 4.0ms preprocess, 537.9ms inference, 1.3ms postprocess per image at shape (1, 3, 640, 640)\n",
            "\n",
            "0: 640x640 1 person, 6 bottles, 1 tv, 541.0ms\n",
            "Speed: 2.8ms preprocess, 541.0ms inference, 1.2ms postprocess per image at shape (1, 3, 640, 640)\n",
            "\n",
            "0: 640x640 1 person, 8 bottles, 1 tv, 536.4ms\n",
            "Speed: 3.9ms preprocess, 536.4ms inference, 1.4ms postprocess per image at shape (1, 3, 640, 640)\n",
            "\n",
            "0: 640x640 1 person, 7 bottles, 545.0ms\n",
            "Speed: 2.8ms preprocess, 545.0ms inference, 1.3ms postprocess per image at shape (1, 3, 640, 640)\n",
            "\n",
            "0: 640x640 1 person, 7 bottles, 538.8ms\n",
            "Speed: 3.0ms preprocess, 538.8ms inference, 1.2ms postprocess per image at shape (1, 3, 640, 640)\n",
            "\n",
            "0: 640x640 1 person, 5 bottles, 1 tv, 521.8ms\n",
            "Speed: 2.8ms preprocess, 521.8ms inference, 1.3ms postprocess per image at shape (1, 3, 640, 640)\n",
            "\n",
            "0: 640x640 1 person, 6 bottles, 1 tv, 525.9ms\n",
            "Speed: 2.8ms preprocess, 525.9ms inference, 1.3ms postprocess per image at shape (1, 3, 640, 640)\n",
            "\n",
            "0: 640x640 1 person, 8 bottles, 1 tv, 537.9ms\n",
            "Speed: 2.6ms preprocess, 537.9ms inference, 1.3ms postprocess per image at shape (1, 3, 640, 640)\n",
            "\n",
            "0: 640x640 1 person, 7 bottles, 1 tv, 550.9ms\n",
            "Speed: 4.1ms preprocess, 550.9ms inference, 1.3ms postprocess per image at shape (1, 3, 640, 640)\n",
            "\n",
            "0: 640x640 1 person, 10 bottles, 1 tv, 555.2ms\n",
            "Speed: 3.3ms preprocess, 555.2ms inference, 1.3ms postprocess per image at shape (1, 3, 640, 640)\n",
            "\n",
            "0: 640x640 1 person, 8 bottles, 1 tv, 546.5ms\n",
            "Speed: 4.0ms preprocess, 546.5ms inference, 1.8ms postprocess per image at shape (1, 3, 640, 640)\n",
            "\n",
            "0: 640x640 1 person, 8 bottles, 1 tv, 830.8ms\n",
            "Speed: 2.8ms preprocess, 830.8ms inference, 1.7ms postprocess per image at shape (1, 3, 640, 640)\n",
            "\n",
            "0: 640x640 1 person, 7 bottles, 816.5ms\n",
            "Speed: 2.6ms preprocess, 816.5ms inference, 1.6ms postprocess per image at shape (1, 3, 640, 640)\n",
            "\n",
            "0: 640x640 1 person, 7 bottles, 805.6ms\n",
            "Speed: 2.7ms preprocess, 805.6ms inference, 1.9ms postprocess per image at shape (1, 3, 640, 640)\n",
            "\n",
            "0: 640x640 1 person, 7 bottles, 821.0ms\n",
            "Speed: 2.7ms preprocess, 821.0ms inference, 2.0ms postprocess per image at shape (1, 3, 640, 640)\n",
            "\n",
            "0: 640x640 1 person, 9 bottles, 578.2ms\n",
            "Speed: 2.5ms preprocess, 578.2ms inference, 1.5ms postprocess per image at shape (1, 3, 640, 640)\n",
            "\n",
            "0: 640x640 2 persons, 4 bottles, 547.5ms\n",
            "Speed: 2.8ms preprocess, 547.5ms inference, 1.4ms postprocess per image at shape (1, 3, 640, 640)\n",
            "\n",
            "0: 640x640 2 persons, 4 bottles, 551.9ms\n",
            "Speed: 3.9ms preprocess, 551.9ms inference, 1.4ms postprocess per image at shape (1, 3, 640, 640)\n",
            "\n",
            "0: 640x640 2 persons, 4 bottles, 544.7ms\n",
            "Speed: 5.0ms preprocess, 544.7ms inference, 1.5ms postprocess per image at shape (1, 3, 640, 640)\n",
            "\n",
            "0: 640x640 2 persons, 4 bottles, 620.3ms\n",
            "Speed: 3.1ms preprocess, 620.3ms inference, 1.3ms postprocess per image at shape (1, 3, 640, 640)\n",
            "\n",
            "0: 640x640 2 persons, 4 bottles, 549.2ms\n",
            "Speed: 2.7ms preprocess, 549.2ms inference, 1.5ms postprocess per image at shape (1, 3, 640, 640)\n",
            "\n",
            "0: 640x640 2 persons, 4 bottles, 546.6ms\n",
            "Speed: 5.0ms preprocess, 546.6ms inference, 1.4ms postprocess per image at shape (1, 3, 640, 640)\n",
            "\n",
            "0: 640x640 2 persons, 4 bottles, 555.4ms\n",
            "Speed: 4.2ms preprocess, 555.4ms inference, 1.9ms postprocess per image at shape (1, 3, 640, 640)\n",
            "\n",
            "0: 640x640 2 persons, 4 bottles, 552.0ms\n",
            "Speed: 3.9ms preprocess, 552.0ms inference, 1.5ms postprocess per image at shape (1, 3, 640, 640)\n",
            "\n",
            "0: 640x640 2 persons, 4 bottles, 537.4ms\n",
            "Speed: 2.8ms preprocess, 537.4ms inference, 1.4ms postprocess per image at shape (1, 3, 640, 640)\n",
            "\n",
            "0: 640x640 2 persons, 4 bottles, 852.0ms\n",
            "Speed: 6.4ms preprocess, 852.0ms inference, 1.9ms postprocess per image at shape (1, 3, 640, 640)\n",
            "\n",
            "0: 640x640 2 persons, 4 bottles, 840.1ms\n",
            "Speed: 2.8ms preprocess, 840.1ms inference, 1.7ms postprocess per image at shape (1, 3, 640, 640)\n",
            "\n",
            "0: 640x640 2 persons, 4 bottles, 811.1ms\n",
            "Speed: 6.5ms preprocess, 811.1ms inference, 1.7ms postprocess per image at shape (1, 3, 640, 640)\n",
            "\n",
            "0: 640x640 2 persons, 4 bottles, 841.5ms\n",
            "Speed: 4.9ms preprocess, 841.5ms inference, 2.0ms postprocess per image at shape (1, 3, 640, 640)\n",
            "\n",
            "0: 640x640 2 persons, 4 bottles, 563.5ms\n",
            "Speed: 3.1ms preprocess, 563.5ms inference, 1.3ms postprocess per image at shape (1, 3, 640, 640)\n",
            "\n",
            "0: 640x640 2 persons, 4 bottles, 552.3ms\n",
            "Speed: 2.8ms preprocess, 552.3ms inference, 1.2ms postprocess per image at shape (1, 3, 640, 640)\n",
            "\n",
            "0: 640x640 2 persons, 4 bottles, 1 book, 536.7ms\n",
            "Speed: 2.9ms preprocess, 536.7ms inference, 1.5ms postprocess per image at shape (1, 3, 640, 640)\n",
            "\n",
            "0: 640x640 2 persons, 4 bottles, 1 book, 541.3ms\n",
            "Speed: 2.8ms preprocess, 541.3ms inference, 1.4ms postprocess per image at shape (1, 3, 640, 640)\n",
            "\n",
            "0: 640x640 2 persons, 4 bottles, 525.4ms\n",
            "Speed: 3.1ms preprocess, 525.4ms inference, 1.3ms postprocess per image at shape (1, 3, 640, 640)\n",
            "\n",
            "0: 640x640 2 persons, 4 bottles, 549.5ms\n",
            "Speed: 2.8ms preprocess, 549.5ms inference, 1.4ms postprocess per image at shape (1, 3, 640, 640)\n",
            "\n",
            "0: 640x640 2 persons, 4 bottles, 530.0ms\n",
            "Speed: 2.9ms preprocess, 530.0ms inference, 1.2ms postprocess per image at shape (1, 3, 640, 640)\n",
            "\n",
            "0: 640x640 2 persons, 4 bottles, 543.4ms\n",
            "Speed: 3.8ms preprocess, 543.4ms inference, 1.5ms postprocess per image at shape (1, 3, 640, 640)\n",
            "\n",
            "0: 640x640 2 persons, 4 bottles, 534.2ms\n",
            "Speed: 2.7ms preprocess, 534.2ms inference, 1.3ms postprocess per image at shape (1, 3, 640, 640)\n",
            "\n",
            "0: 640x640 2 persons, 4 bottles, 533.4ms\n",
            "Speed: 3.2ms preprocess, 533.4ms inference, 1.4ms postprocess per image at shape (1, 3, 640, 640)\n",
            "\n",
            "0: 640x640 2 persons, 4 bottles, 720.5ms\n",
            "Speed: 2.7ms preprocess, 720.5ms inference, 1.8ms postprocess per image at shape (1, 3, 640, 640)\n",
            "\n",
            "0: 640x640 3 persons, 4 bottles, 1 book, 818.9ms\n",
            "Speed: 2.7ms preprocess, 818.9ms inference, 1.5ms postprocess per image at shape (1, 3, 640, 640)\n",
            "\n",
            "0: 640x640 2 persons, 4 bottles, 818.2ms\n",
            "Speed: 2.6ms preprocess, 818.2ms inference, 1.8ms postprocess per image at shape (1, 3, 640, 640)\n",
            "\n",
            "0: 640x640 2 persons, 4 bottles, 843.0ms\n",
            "Speed: 4.0ms preprocess, 843.0ms inference, 1.9ms postprocess per image at shape (1, 3, 640, 640)\n",
            "\n",
            "0: 640x640 2 persons, 1 handbag, 5 bottles, 717.9ms\n",
            "Speed: 4.2ms preprocess, 717.9ms inference, 1.4ms postprocess per image at shape (1, 3, 640, 640)\n",
            "\n",
            "0: 640x640 2 persons, 4 bottles, 552.4ms\n",
            "Speed: 3.4ms preprocess, 552.4ms inference, 1.3ms postprocess per image at shape (1, 3, 640, 640)\n",
            "\n",
            "0: 640x640 1 person, 4 bottles, 1 book, 561.4ms\n",
            "Speed: 3.7ms preprocess, 561.4ms inference, 1.4ms postprocess per image at shape (1, 3, 640, 640)\n",
            "\n",
            "0: 640x640 2 persons, 4 bottles, 1 book, 547.6ms\n",
            "Speed: 3.2ms preprocess, 547.6ms inference, 1.3ms postprocess per image at shape (1, 3, 640, 640)\n",
            "\n",
            "0: 640x640 2 persons, 4 bottles, 1 book, 561.1ms\n",
            "Speed: 2.6ms preprocess, 561.1ms inference, 1.4ms postprocess per image at shape (1, 3, 640, 640)\n",
            "\n",
            "0: 640x640 2 persons, 4 bottles, 554.1ms\n",
            "Speed: 3.3ms preprocess, 554.1ms inference, 1.8ms postprocess per image at shape (1, 3, 640, 640)\n",
            "\n",
            "0: 640x640 2 persons, 4 bottles, 548.2ms\n",
            "Speed: 3.1ms preprocess, 548.2ms inference, 1.2ms postprocess per image at shape (1, 3, 640, 640)\n",
            "\n",
            "0: 640x640 2 persons, 4 bottles, 545.2ms\n",
            "Speed: 2.6ms preprocess, 545.2ms inference, 1.3ms postprocess per image at shape (1, 3, 640, 640)\n",
            "\n",
            "0: 640x640 2 persons, 4 bottles, 547.0ms\n",
            "Speed: 3.9ms preprocess, 547.0ms inference, 1.3ms postprocess per image at shape (1, 3, 640, 640)\n",
            "\n",
            "0: 640x640 1 person, 7 bottles, 536.6ms\n",
            "Speed: 4.6ms preprocess, 536.6ms inference, 1.3ms postprocess per image at shape (1, 3, 640, 640)\n",
            "\n",
            "0: 640x640 1 person, 7 bottles, 742.2ms\n",
            "Speed: 2.9ms preprocess, 742.2ms inference, 1.9ms postprocess per image at shape (1, 3, 640, 640)\n",
            "\n",
            "0: 640x640 1 person, 7 bottles, 847.8ms\n",
            "Speed: 2.8ms preprocess, 847.8ms inference, 2.0ms postprocess per image at shape (1, 3, 640, 640)\n",
            "\n",
            "0: 640x640 1 person, 7 bottles, 830.3ms\n",
            "Speed: 2.8ms preprocess, 830.3ms inference, 1.8ms postprocess per image at shape (1, 3, 640, 640)\n",
            "\n",
            "0: 640x640 1 person, 7 bottles, 810.0ms\n",
            "Speed: 2.6ms preprocess, 810.0ms inference, 1.7ms postprocess per image at shape (1, 3, 640, 640)\n",
            "\n",
            "0: 640x640 1 person, 6 bottles, 538.1ms\n",
            "Speed: 2.8ms preprocess, 538.1ms inference, 1.3ms postprocess per image at shape (1, 3, 640, 640)\n",
            "\n",
            "0: 640x640 1 person, 6 bottles, 536.6ms\n",
            "Speed: 2.8ms preprocess, 536.6ms inference, 1.4ms postprocess per image at shape (1, 3, 640, 640)\n",
            "\n",
            "0: 640x640 1 person, 6 bottles, 546.6ms\n",
            "Speed: 3.3ms preprocess, 546.6ms inference, 1.4ms postprocess per image at shape (1, 3, 640, 640)\n",
            "\n",
            "0: 640x640 1 person, 5 bottles, 534.6ms\n",
            "Speed: 2.7ms preprocess, 534.6ms inference, 1.5ms postprocess per image at shape (1, 3, 640, 640)\n",
            "\n",
            "0: 640x640 1 person, 6 bottles, 527.5ms\n",
            "Speed: 2.9ms preprocess, 527.5ms inference, 1.4ms postprocess per image at shape (1, 3, 640, 640)\n",
            "\n",
            "0: 640x640 1 person, 6 bottles, 565.0ms\n",
            "Speed: 5.6ms preprocess, 565.0ms inference, 1.4ms postprocess per image at shape (1, 3, 640, 640)\n",
            "\n",
            "0: 640x640 1 person, 6 bottles, 693.4ms\n",
            "Speed: 7.0ms preprocess, 693.4ms inference, 1.4ms postprocess per image at shape (1, 3, 640, 640)\n",
            "\n",
            "0: 640x640 1 person, 7 bottles, 531.4ms\n",
            "Speed: 3.6ms preprocess, 531.4ms inference, 1.3ms postprocess per image at shape (1, 3, 640, 640)\n",
            "\n",
            "0: 640x640 1 person, 6 bottles, 533.5ms\n",
            "Speed: 3.8ms preprocess, 533.5ms inference, 1.4ms postprocess per image at shape (1, 3, 640, 640)\n",
            "\n",
            "0: 640x640 1 person, 8 bottles, 526.3ms\n",
            "Speed: 2.8ms preprocess, 526.3ms inference, 1.3ms postprocess per image at shape (1, 3, 640, 640)\n",
            "\n",
            "0: 640x640 1 person, 5 bottles, 829.9ms\n",
            "Speed: 5.2ms preprocess, 829.9ms inference, 1.8ms postprocess per image at shape (1, 3, 640, 640)\n",
            "\n",
            "0: 640x640 1 person, 6 bottles, 828.2ms\n",
            "Speed: 2.7ms preprocess, 828.2ms inference, 1.8ms postprocess per image at shape (1, 3, 640, 640)\n",
            "\n",
            "0: 640x640 1 person, 6 bottles, 824.1ms\n",
            "Speed: 4.2ms preprocess, 824.1ms inference, 1.9ms postprocess per image at shape (1, 3, 640, 640)\n",
            "\n",
            "0: 640x640 1 person, 6 bottles, 848.4ms\n",
            "Speed: 3.3ms preprocess, 848.4ms inference, 2.8ms postprocess per image at shape (1, 3, 640, 640)\n",
            "\n",
            "0: 640x640 1 person, 6 bottles, 536.5ms\n",
            "Speed: 2.9ms preprocess, 536.5ms inference, 1.3ms postprocess per image at shape (1, 3, 640, 640)\n",
            "\n",
            "0: 640x640 1 person, 7 bottles, 543.3ms\n",
            "Speed: 2.9ms preprocess, 543.3ms inference, 2.0ms postprocess per image at shape (1, 3, 640, 640)\n",
            "\n",
            "0: 640x640 1 person, 7 bottles, 600.0ms\n",
            "Speed: 4.9ms preprocess, 600.0ms inference, 1.6ms postprocess per image at shape (1, 3, 640, 640)\n",
            "\n",
            "0: 640x640 1 person, 7 bottles, 543.8ms\n",
            "Speed: 2.8ms preprocess, 543.8ms inference, 1.4ms postprocess per image at shape (1, 3, 640, 640)\n",
            "\n",
            "0: 640x640 1 person, 6 bottles, 524.8ms\n",
            "Speed: 4.0ms preprocess, 524.8ms inference, 1.4ms postprocess per image at shape (1, 3, 640, 640)\n",
            "\n",
            "0: 640x640 1 person, 6 bottles, 539.9ms\n",
            "Speed: 2.7ms preprocess, 539.9ms inference, 1.4ms postprocess per image at shape (1, 3, 640, 640)\n",
            "\n",
            "0: 640x640 1 person, 1 skis, 6 bottles, 539.2ms\n",
            "Speed: 4.4ms preprocess, 539.2ms inference, 1.3ms postprocess per image at shape (1, 3, 640, 640)\n",
            "\n",
            "0: 640x640 1 person, 1 skis, 6 bottles, 550.7ms\n",
            "Speed: 2.9ms preprocess, 550.7ms inference, 1.5ms postprocess per image at shape (1, 3, 640, 640)\n",
            "\n",
            "0: 640x640 1 person, 1 skis, 7 bottles, 562.0ms\n",
            "Speed: 4.5ms preprocess, 562.0ms inference, 1.9ms postprocess per image at shape (1, 3, 640, 640)\n",
            "\n",
            "0: 640x640 1 person, 7 bottles, 541.5ms\n",
            "Speed: 4.1ms preprocess, 541.5ms inference, 1.3ms postprocess per image at shape (1, 3, 640, 640)\n",
            "\n",
            "0: 640x640 1 person, 7 bottles, 857.3ms\n",
            "Speed: 13.9ms preprocess, 857.3ms inference, 6.5ms postprocess per image at shape (1, 3, 640, 640)\n",
            "\n",
            "0: 640x640 1 person, 7 bottles, 829.6ms\n",
            "Speed: 5.6ms preprocess, 829.6ms inference, 2.5ms postprocess per image at shape (1, 3, 640, 640)\n",
            "\n",
            "0: 640x640 1 person, 6 bottles, 840.4ms\n",
            "Speed: 2.6ms preprocess, 840.4ms inference, 2.1ms postprocess per image at shape (1, 3, 640, 640)\n",
            "\n",
            "0: 640x640 1 person, 6 bottles, 842.9ms\n",
            "Speed: 5.1ms preprocess, 842.9ms inference, 1.6ms postprocess per image at shape (1, 3, 640, 640)\n",
            "\n",
            "0: 640x640 1 person, 7 bottles, 1 scissors, 543.0ms\n",
            "Speed: 3.1ms preprocess, 543.0ms inference, 1.4ms postprocess per image at shape (1, 3, 640, 640)\n",
            "\n",
            "0: 640x640 1 person, 6 bottles, 1 scissors, 534.3ms\n",
            "Speed: 2.9ms preprocess, 534.3ms inference, 1.9ms postprocess per image at shape (1, 3, 640, 640)\n",
            "\n",
            "0: 640x640 1 person, 6 bottles, 554.6ms\n",
            "Speed: 2.9ms preprocess, 554.6ms inference, 2.2ms postprocess per image at shape (1, 3, 640, 640)\n",
            "\n",
            "0: 640x640 1 person, 7 bottles, 1 tv, 637.7ms\n",
            "Speed: 4.3ms preprocess, 637.7ms inference, 2.3ms postprocess per image at shape (1, 3, 640, 640)\n",
            "\n",
            "0: 640x640 1 person, 9 bottles, 1 tv, 599.0ms\n",
            "Speed: 3.1ms preprocess, 599.0ms inference, 1.4ms postprocess per image at shape (1, 3, 640, 640)\n",
            "\n",
            "0: 640x640 1 person, 7 bottles, 1 tv, 593.4ms\n",
            "Speed: 5.2ms preprocess, 593.4ms inference, 1.5ms postprocess per image at shape (1, 3, 640, 640)\n",
            "\n",
            "0: 640x640 1 person, 6 bottles, 562.0ms\n",
            "Speed: 2.9ms preprocess, 562.0ms inference, 2.0ms postprocess per image at shape (1, 3, 640, 640)\n",
            "\n",
            "0: 640x640 1 person, 8 bottles, 1 tv, 545.7ms\n",
            "Speed: 4.0ms preprocess, 545.7ms inference, 1.3ms postprocess per image at shape (1, 3, 640, 640)\n",
            "\n",
            "0: 640x640 1 person, 7 bottles, 1 tv, 545.9ms\n",
            "Speed: 5.3ms preprocess, 545.9ms inference, 1.2ms postprocess per image at shape (1, 3, 640, 640)\n",
            "\n",
            "0: 640x640 1 person, 6 bottles, 552.5ms\n",
            "Speed: 3.2ms preprocess, 552.5ms inference, 1.3ms postprocess per image at shape (1, 3, 640, 640)\n",
            "\n",
            "0: 640x640 1 person, 6 bottles, 867.4ms\n",
            "Speed: 2.6ms preprocess, 867.4ms inference, 1.6ms postprocess per image at shape (1, 3, 640, 640)\n",
            "\n",
            "0: 640x640 1 person, 5 bottles, 837.3ms\n",
            "Speed: 2.6ms preprocess, 837.3ms inference, 1.6ms postprocess per image at shape (1, 3, 640, 640)\n",
            "\n",
            "0: 640x640 1 person, 6 bottles, 1 tv, 857.6ms\n",
            "Speed: 5.6ms preprocess, 857.6ms inference, 1.6ms postprocess per image at shape (1, 3, 640, 640)\n",
            "\n",
            "0: 640x640 1 person, 6 bottles, 875.7ms\n",
            "Speed: 2.9ms preprocess, 875.7ms inference, 1.6ms postprocess per image at shape (1, 3, 640, 640)\n",
            "\n",
            "0: 640x640 1 person, 6 bottles, 1 tv, 694.4ms\n",
            "Speed: 3.4ms preprocess, 694.4ms inference, 1.3ms postprocess per image at shape (1, 3, 640, 640)\n",
            "\n",
            "0: 640x640 1 person, 5 bottles, 566.7ms\n",
            "Speed: 5.1ms preprocess, 566.7ms inference, 1.4ms postprocess per image at shape (1, 3, 640, 640)\n",
            "\n",
            "0: 640x640 1 person, 6 bottles, 551.9ms\n",
            "Speed: 2.6ms preprocess, 551.9ms inference, 2.1ms postprocess per image at shape (1, 3, 640, 640)\n",
            "\n",
            "0: 640x640 1 person, 6 bottles, 1 tv, 561.1ms\n",
            "Speed: 10.6ms preprocess, 561.1ms inference, 1.3ms postprocess per image at shape (1, 3, 640, 640)\n",
            "\n",
            "0: 640x640 1 person, 6 bottles, 1 tv, 549.1ms\n",
            "Speed: 2.8ms preprocess, 549.1ms inference, 1.2ms postprocess per image at shape (1, 3, 640, 640)\n",
            "\n",
            "0: 640x640 1 person, 5 bottles, 1 tv, 551.1ms\n",
            "Speed: 5.0ms preprocess, 551.1ms inference, 1.5ms postprocess per image at shape (1, 3, 640, 640)\n",
            "\n",
            "0: 640x640 1 person, 5 bottles, 569.5ms\n",
            "Speed: 3.3ms preprocess, 569.5ms inference, 1.4ms postprocess per image at shape (1, 3, 640, 640)\n",
            "\n",
            "0: 640x640 1 person, 6 bottles, 1 tv, 566.5ms\n",
            "Speed: 4.9ms preprocess, 566.5ms inference, 1.4ms postprocess per image at shape (1, 3, 640, 640)\n",
            "\n",
            "0: 640x640 1 person, 7 bottles, 1 tv, 559.5ms\n",
            "Speed: 2.8ms preprocess, 559.5ms inference, 1.4ms postprocess per image at shape (1, 3, 640, 640)\n",
            "\n",
            "0: 640x640 1 person, 6 bottles, 561.7ms\n",
            "Speed: 2.7ms preprocess, 561.7ms inference, 1.2ms postprocess per image at shape (1, 3, 640, 640)\n",
            "\n",
            "0: 640x640 1 person, 5 bottles, 1 tv, 551.2ms\n",
            "Speed: 3.4ms preprocess, 551.2ms inference, 1.4ms postprocess per image at shape (1, 3, 640, 640)\n",
            "\n",
            "0: 640x640 1 person, 7 bottles, 1 tv, 577.9ms\n",
            "Speed: 2.8ms preprocess, 577.9ms inference, 1.9ms postprocess per image at shape (1, 3, 640, 640)\n",
            "\n",
            "0: 640x640 1 person, 5 bottles, 857.9ms\n",
            "Speed: 4.2ms preprocess, 857.9ms inference, 1.8ms postprocess per image at shape (1, 3, 640, 640)\n",
            "\n",
            "0: 640x640 1 person, 6 bottles, 864.6ms\n",
            "Speed: 3.0ms preprocess, 864.6ms inference, 1.8ms postprocess per image at shape (1, 3, 640, 640)\n",
            "\n",
            "0: 640x640 1 person, 6 bottles, 1 tv, 859.6ms\n",
            "Speed: 2.8ms preprocess, 859.6ms inference, 1.6ms postprocess per image at shape (1, 3, 640, 640)\n",
            "\n",
            "0: 640x640 1 person, 7 bottles, 873.8ms\n",
            "Speed: 2.7ms preprocess, 873.8ms inference, 1.8ms postprocess per image at shape (1, 3, 640, 640)\n",
            "\n",
            "0: 640x640 1 person, 6 bottles, 1 tv, 550.9ms\n",
            "Speed: 2.7ms preprocess, 550.9ms inference, 1.3ms postprocess per image at shape (1, 3, 640, 640)\n",
            "\n",
            "0: 640x640 1 person, 6 bottles, 1 tv, 1 refrigerator, 556.1ms\n",
            "Speed: 3.4ms preprocess, 556.1ms inference, 1.3ms postprocess per image at shape (1, 3, 640, 640)\n",
            "\n",
            "0: 640x640 1 person, 9 bottles, 1 tv, 1 refrigerator, 539.8ms\n",
            "Speed: 3.7ms preprocess, 539.8ms inference, 1.2ms postprocess per image at shape (1, 3, 640, 640)\n",
            "\n",
            "0: 640x640 1 person, 8 bottles, 1 refrigerator, 549.5ms\n",
            "Speed: 4.3ms preprocess, 549.5ms inference, 1.3ms postprocess per image at shape (1, 3, 640, 640)\n",
            "\n",
            "0: 640x640 1 person, 8 bottles, 1 tv, 556.9ms\n",
            "Speed: 2.9ms preprocess, 556.9ms inference, 1.4ms postprocess per image at shape (1, 3, 640, 640)\n",
            "\n",
            "0: 640x640 1 person, 7 bottles, 561.2ms\n",
            "Speed: 6.1ms preprocess, 561.2ms inference, 1.3ms postprocess per image at shape (1, 3, 640, 640)\n",
            "\n",
            "0: 640x640 1 person, 7 bottles, 559.0ms\n",
            "Speed: 3.6ms preprocess, 559.0ms inference, 1.2ms postprocess per image at shape (1, 3, 640, 640)\n",
            "\n",
            "0: 640x640 1 person, 9 bottles, 1 refrigerator, 562.4ms\n",
            "Speed: 5.0ms preprocess, 562.4ms inference, 1.4ms postprocess per image at shape (1, 3, 640, 640)\n",
            "\n",
            "0: 640x640 1 person, 9 bottles, 563.4ms\n",
            "Speed: 3.6ms preprocess, 563.4ms inference, 1.4ms postprocess per image at shape (1, 3, 640, 640)\n",
            "\n",
            "0: 640x640 1 person, 8 bottles, 1 scissors, 710.3ms\n",
            "Speed: 4.6ms preprocess, 710.3ms inference, 2.0ms postprocess per image at shape (1, 3, 640, 640)\n",
            "\n",
            "0: 640x640 1 person, 8 bottles, 1 scissors, 830.5ms\n",
            "Speed: 2.5ms preprocess, 830.5ms inference, 1.8ms postprocess per image at shape (1, 3, 640, 640)\n",
            "\n",
            "0: 640x640 1 person, 8 bottles, 1 scissors, 830.6ms\n",
            "Speed: 2.8ms preprocess, 830.6ms inference, 2.0ms postprocess per image at shape (1, 3, 640, 640)\n",
            "\n",
            "0: 640x640 1 person, 8 bottles, 1 scissors, 823.5ms\n",
            "Speed: 2.6ms preprocess, 823.5ms inference, 1.9ms postprocess per image at shape (1, 3, 640, 640)\n",
            "\n",
            "0: 640x640 1 person, 7 bottles, 1 scissors, 572.9ms\n",
            "Speed: 4.7ms preprocess, 572.9ms inference, 1.4ms postprocess per image at shape (1, 3, 640, 640)\n",
            "\n",
            "0: 640x640 1 person, 7 bottles, 1 scissors, 534.2ms\n",
            "Speed: 2.8ms preprocess, 534.2ms inference, 1.4ms postprocess per image at shape (1, 3, 640, 640)\n",
            "\n",
            "0: 640x640 1 person, 7 bottles, 1 scissors, 551.5ms\n",
            "Speed: 2.7ms preprocess, 551.5ms inference, 1.3ms postprocess per image at shape (1, 3, 640, 640)\n",
            "\n",
            "0: 640x640 1 person, 8 bottles, 1 scissors, 555.4ms\n",
            "Speed: 3.1ms preprocess, 555.4ms inference, 1.3ms postprocess per image at shape (1, 3, 640, 640)\n",
            "\n",
            "0: 640x640 1 person, 7 bottles, 1 scissors, 543.5ms\n",
            "Speed: 3.4ms preprocess, 543.5ms inference, 1.3ms postprocess per image at shape (1, 3, 640, 640)\n",
            "\n",
            "0: 640x640 1 person, 8 bottles, 1 scissors, 587.4ms\n",
            "Speed: 5.3ms preprocess, 587.4ms inference, 1.8ms postprocess per image at shape (1, 3, 640, 640)\n",
            "\n",
            "0: 640x640 1 person, 8 bottles, 1 scissors, 543.2ms\n",
            "Speed: 3.0ms preprocess, 543.2ms inference, 1.3ms postprocess per image at shape (1, 3, 640, 640)\n",
            "\n",
            "0: 640x640 1 person, 8 bottles, 1 scissors, 539.1ms\n",
            "Speed: 5.6ms preprocess, 539.1ms inference, 1.5ms postprocess per image at shape (1, 3, 640, 640)\n",
            "\n",
            "0: 640x640 1 person, 8 bottles, 1 scissors, 533.7ms\n",
            "Speed: 3.1ms preprocess, 533.7ms inference, 1.4ms postprocess per image at shape (1, 3, 640, 640)\n",
            "\n",
            "0: 640x640 1 person, 1 suitcase, 8 bottles, 1 scissors, 565.0ms\n",
            "Speed: 5.7ms preprocess, 565.0ms inference, 1.9ms postprocess per image at shape (1, 3, 640, 640)\n",
            "\n",
            "0: 640x640 1 person, 1 suitcase, 8 bottles, 1 scissors, 832.9ms\n",
            "Speed: 2.7ms preprocess, 832.9ms inference, 2.0ms postprocess per image at shape (1, 3, 640, 640)\n",
            "\n",
            "0: 640x640 1 person, 8 bottles, 1 scissors, 846.7ms\n",
            "Speed: 6.2ms preprocess, 846.7ms inference, 1.6ms postprocess per image at shape (1, 3, 640, 640)\n",
            "\n",
            "0: 640x640 1 person, 8 bottles, 1 scissors, 821.8ms\n",
            "Speed: 2.7ms preprocess, 821.8ms inference, 1.6ms postprocess per image at shape (1, 3, 640, 640)\n",
            "\n",
            "0: 640x640 1 person, 8 bottles, 1 scissors, 646.6ms\n",
            "Speed: 7.9ms preprocess, 646.6ms inference, 1.5ms postprocess per image at shape (1, 3, 640, 640)\n",
            "\n",
            "0: 640x640 1 person, 8 bottles, 1 scissors, 547.3ms\n",
            "Speed: 3.3ms preprocess, 547.3ms inference, 1.3ms postprocess per image at shape (1, 3, 640, 640)\n",
            "\n",
            "0: 640x640 1 person, 8 bottles, 1 scissors, 597.0ms\n",
            "Speed: 2.7ms preprocess, 597.0ms inference, 2.1ms postprocess per image at shape (1, 3, 640, 640)\n",
            "\n",
            "0: 640x640 1 person, 8 bottles, 1 scissors, 552.5ms\n",
            "Speed: 3.7ms preprocess, 552.5ms inference, 1.4ms postprocess per image at shape (1, 3, 640, 640)\n",
            "\n",
            "0: 640x640 1 person, 8 bottles, 1 scissors, 561.4ms\n",
            "Speed: 2.9ms preprocess, 561.4ms inference, 1.4ms postprocess per image at shape (1, 3, 640, 640)\n",
            "\n",
            "0: 640x640 1 person, 8 bottles, 1 scissors, 542.3ms\n",
            "Speed: 5.1ms preprocess, 542.3ms inference, 1.3ms postprocess per image at shape (1, 3, 640, 640)\n",
            "\n",
            "0: 640x640 1 person, 8 bottles, 1 scissors, 548.1ms\n",
            "Speed: 2.8ms preprocess, 548.1ms inference, 1.2ms postprocess per image at shape (1, 3, 640, 640)\n",
            "\n",
            "0: 640x640 1 person, 8 bottles, 1 scissors, 543.5ms\n",
            "Speed: 4.0ms preprocess, 543.5ms inference, 1.4ms postprocess per image at shape (1, 3, 640, 640)\n",
            "\n",
            "0: 640x640 1 person, 8 bottles, 1 scissors, 543.2ms\n",
            "Speed: 3.9ms preprocess, 543.2ms inference, 1.3ms postprocess per image at shape (1, 3, 640, 640)\n",
            "\n",
            "0: 640x640 1 person, 8 bottles, 1 scissors, 564.3ms\n",
            "Speed: 2.9ms preprocess, 564.3ms inference, 1.4ms postprocess per image at shape (1, 3, 640, 640)\n",
            "\n",
            "0: 640x640 1 person, 8 bottles, 1 scissors, 831.8ms\n",
            "Speed: 4.5ms preprocess, 831.8ms inference, 1.9ms postprocess per image at shape (1, 3, 640, 640)\n",
            "\n",
            "0: 640x640 1 person, 7 bottles, 1 scissors, 836.4ms\n",
            "Speed: 2.5ms preprocess, 836.4ms inference, 1.5ms postprocess per image at shape (1, 3, 640, 640)\n",
            "\n",
            "0: 640x640 1 person, 7 bottles, 1 scissors, 857.8ms\n",
            "Speed: 3.7ms preprocess, 857.8ms inference, 1.7ms postprocess per image at shape (1, 3, 640, 640)\n",
            "\n",
            "0: 640x640 1 person, 7 bottles, 1 scissors, 714.9ms\n",
            "Speed: 2.6ms preprocess, 714.9ms inference, 1.2ms postprocess per image at shape (1, 3, 640, 640)\n",
            "\n",
            "0: 640x640 1 person, 8 bottles, 1 scissors, 527.7ms\n",
            "Speed: 2.8ms preprocess, 527.7ms inference, 1.3ms postprocess per image at shape (1, 3, 640, 640)\n",
            "\n",
            "0: 640x640 1 person, 8 bottles, 1 scissors, 535.8ms\n",
            "Speed: 2.8ms preprocess, 535.8ms inference, 1.4ms postprocess per image at shape (1, 3, 640, 640)\n",
            "\n",
            "0: 640x640 1 person, 8 bottles, 1 scissors, 530.2ms\n",
            "Speed: 3.1ms preprocess, 530.2ms inference, 1.3ms postprocess per image at shape (1, 3, 640, 640)\n",
            "\n",
            "0: 640x640 1 person, 8 bottles, 1 scissors, 856.6ms\n",
            "Speed: 7.5ms preprocess, 856.6ms inference, 1.3ms postprocess per image at shape (1, 3, 640, 640)\n",
            "\n",
            "0: 640x640 1 person, 8 bottles, 1 scissors, 608.5ms\n",
            "Speed: 4.8ms preprocess, 608.5ms inference, 2.0ms postprocess per image at shape (1, 3, 640, 640)\n",
            "\n",
            "0: 640x640 2 persons, 3 bottles, 1 book, 595.5ms\n",
            "Speed: 3.0ms preprocess, 595.5ms inference, 1.5ms postprocess per image at shape (1, 3, 640, 640)\n",
            "\n",
            "0: 640x640 3 persons, 2 bottles, 1 book, 598.6ms\n",
            "Speed: 2.9ms preprocess, 598.6ms inference, 1.3ms postprocess per image at shape (1, 3, 640, 640)\n",
            "\n",
            "0: 640x640 2 persons, 2 bottles, 1 book, 613.2ms\n",
            "Speed: 4.2ms preprocess, 613.2ms inference, 2.0ms postprocess per image at shape (1, 3, 640, 640)\n",
            "\n",
            "0: 640x640 2 persons, 2 bottles, 1 book, 834.9ms\n",
            "Speed: 3.7ms preprocess, 834.9ms inference, 3.1ms postprocess per image at shape (1, 3, 640, 640)\n",
            "\n",
            "0: 640x640 3 persons, 2 bottles, 1 book, 922.6ms\n",
            "Speed: 5.9ms preprocess, 922.6ms inference, 1.9ms postprocess per image at shape (1, 3, 640, 640)\n",
            "\n",
            "0: 640x640 2 persons, 2 bottles, 1 book, 886.4ms\n",
            "Speed: 4.4ms preprocess, 886.4ms inference, 1.7ms postprocess per image at shape (1, 3, 640, 640)\n",
            "\n",
            "0: 640x640 2 persons, 2 bottles, 1 book, 898.5ms\n",
            "Speed: 2.6ms preprocess, 898.5ms inference, 1.6ms postprocess per image at shape (1, 3, 640, 640)\n",
            "\n",
            "0: 640x640 2 persons, 3 bottles, 1 book, 787.0ms\n",
            "Speed: 2.7ms preprocess, 787.0ms inference, 1.2ms postprocess per image at shape (1, 3, 640, 640)\n",
            "\n",
            "0: 640x640 2 persons, 3 bottles, 1 book, 591.1ms\n",
            "Speed: 2.5ms preprocess, 591.1ms inference, 1.6ms postprocess per image at shape (1, 3, 640, 640)\n",
            "\n",
            "0: 640x640 2 persons, 4 bottles, 2 books, 572.4ms\n",
            "Speed: 2.4ms preprocess, 572.4ms inference, 1.3ms postprocess per image at shape (1, 3, 640, 640)\n",
            "\n",
            "0: 640x640 2 persons, 5 bottles, 1 book, 587.0ms\n",
            "Speed: 3.6ms preprocess, 587.0ms inference, 1.2ms postprocess per image at shape (1, 3, 640, 640)\n",
            "\n",
            "0: 640x640 2 persons, 7 bottles, 2 books, 573.0ms\n",
            "Speed: 2.7ms preprocess, 573.0ms inference, 1.4ms postprocess per image at shape (1, 3, 640, 640)\n",
            "\n",
            "0: 640x640 2 persons, 7 bottles, 1 book, 580.6ms\n",
            "Speed: 5.1ms preprocess, 580.6ms inference, 1.3ms postprocess per image at shape (1, 3, 640, 640)\n",
            "\n",
            "0: 640x640 2 persons, 7 bottles, 1 book, 584.8ms\n",
            "Speed: 2.5ms preprocess, 584.8ms inference, 1.3ms postprocess per image at shape (1, 3, 640, 640)\n",
            "\n",
            "0: 640x640 2 persons, 7 bottles, 1 book, 577.5ms\n",
            "Speed: 3.0ms preprocess, 577.5ms inference, 1.3ms postprocess per image at shape (1, 3, 640, 640)\n",
            "\n",
            "0: 640x640 2 persons, 1 handbag, 8 bottles, 2 books, 574.6ms\n",
            "Speed: 2.8ms preprocess, 574.6ms inference, 1.4ms postprocess per image at shape (1, 3, 640, 640)\n",
            "\n",
            "0: 640x640 2 persons, 9 bottles, 578.6ms\n",
            "Speed: 3.7ms preprocess, 578.6ms inference, 1.3ms postprocess per image at shape (1, 3, 640, 640)\n",
            "\n",
            "0: 640x640 2 persons, 10 bottles, 595.7ms\n",
            "Speed: 3.2ms preprocess, 595.7ms inference, 1.8ms postprocess per image at shape (1, 3, 640, 640)\n",
            "\n",
            "0: 640x640 2 persons, 1 handbag, 8 bottles, 868.7ms\n",
            "Speed: 4.5ms preprocess, 868.7ms inference, 1.8ms postprocess per image at shape (1, 3, 640, 640)\n",
            "\n",
            "0: 640x640 2 persons, 1 handbag, 7 bottles, 1 book, 893.4ms\n",
            "Speed: 2.7ms preprocess, 893.4ms inference, 1.7ms postprocess per image at shape (1, 3, 640, 640)\n",
            "\n",
            "0: 640x640 2 persons, 7 bottles, 1 book, 1028.4ms\n",
            "Speed: 5.0ms preprocess, 1028.4ms inference, 1.7ms postprocess per image at shape (1, 3, 640, 640)\n",
            "\n",
            "0: 640x640 2 persons, 8 bottles, 2 books, 586.8ms\n",
            "Speed: 8.3ms preprocess, 586.8ms inference, 1.5ms postprocess per image at shape (1, 3, 640, 640)\n",
            "\n",
            "0: 640x640 2 persons, 8 bottles, 1 book, 579.7ms\n",
            "Speed: 2.6ms preprocess, 579.7ms inference, 1.3ms postprocess per image at shape (1, 3, 640, 640)\n",
            "\n",
            "0: 640x640 2 persons, 7 bottles, 1 book, 587.8ms\n",
            "Speed: 2.8ms preprocess, 587.8ms inference, 1.3ms postprocess per image at shape (1, 3, 640, 640)\n",
            "\n",
            "0: 640x640 2 persons, 7 bottles, 1 book, 570.7ms\n",
            "Speed: 3.5ms preprocess, 570.7ms inference, 1.5ms postprocess per image at shape (1, 3, 640, 640)\n",
            "\n",
            "0: 640x640 2 persons, 7 bottles, 1 book, 580.2ms\n",
            "Speed: 2.8ms preprocess, 580.2ms inference, 1.2ms postprocess per image at shape (1, 3, 640, 640)\n",
            "\n",
            "0: 640x640 2 persons, 7 bottles, 1 book, 571.1ms\n",
            "Speed: 3.2ms preprocess, 571.1ms inference, 1.4ms postprocess per image at shape (1, 3, 640, 640)\n",
            "\n",
            "0: 640x640 2 persons, 7 bottles, 1 book, 566.7ms\n",
            "Speed: 2.5ms preprocess, 566.7ms inference, 1.9ms postprocess per image at shape (1, 3, 640, 640)\n",
            "\n",
            "0: 640x640 2 persons, 7 bottles, 1 book, 575.2ms\n",
            "Speed: 2.9ms preprocess, 575.2ms inference, 1.2ms postprocess per image at shape (1, 3, 640, 640)\n",
            "\n",
            "0: 640x640 2 persons, 8 bottles, 1 book, 591.6ms\n",
            "Speed: 2.9ms preprocess, 591.6ms inference, 2.4ms postprocess per image at shape (1, 3, 640, 640)\n",
            "\n",
            "0: 640x640 2 persons, 7 bottles, 1 book, 748.0ms\n",
            "Speed: 2.6ms preprocess, 748.0ms inference, 1.6ms postprocess per image at shape (1, 3, 640, 640)\n",
            "\n",
            "0: 640x640 2 persons, 7 bottles, 874.0ms\n",
            "Speed: 2.7ms preprocess, 874.0ms inference, 1.6ms postprocess per image at shape (1, 3, 640, 640)\n",
            "\n",
            "0: 640x640 2 persons, 7 bottles, 881.8ms\n",
            "Speed: 2.5ms preprocess, 881.8ms inference, 1.7ms postprocess per image at shape (1, 3, 640, 640)\n",
            "\n",
            "0: 640x640 2 persons, 7 bottles, 878.9ms\n",
            "Speed: 3.5ms preprocess, 878.9ms inference, 1.6ms postprocess per image at shape (1, 3, 640, 640)\n",
            "\n",
            "0: 640x640 2 persons, 7 bottles, 586.4ms\n",
            "Speed: 3.9ms preprocess, 586.4ms inference, 1.3ms postprocess per image at shape (1, 3, 640, 640)\n",
            "\n",
            "0: 640x640 2 persons, 7 bottles, 1 book, 575.4ms\n",
            "Speed: 6.7ms preprocess, 575.4ms inference, 1.4ms postprocess per image at shape (1, 3, 640, 640)\n",
            "\n",
            "0: 640x640 2 persons, 1 kite, 6 bottles, 612.3ms\n",
            "Speed: 5.4ms preprocess, 612.3ms inference, 1.3ms postprocess per image at shape (1, 3, 640, 640)\n",
            "\n",
            "0: 640x640 2 persons, 1 umbrella, 1 kite, 6 bottles, 587.3ms\n",
            "Speed: 4.0ms preprocess, 587.3ms inference, 1.3ms postprocess per image at shape (1, 3, 640, 640)\n",
            "\n",
            "0: 640x640 2 persons, 1 handbag, 1 kite, 6 bottles, 571.7ms\n",
            "Speed: 3.0ms preprocess, 571.7ms inference, 1.4ms postprocess per image at shape (1, 3, 640, 640)\n",
            "\n",
            "0: 640x640 2 persons, 1 kite, 7 bottles, 568.1ms\n",
            "Speed: 2.6ms preprocess, 568.1ms inference, 1.2ms postprocess per image at shape (1, 3, 640, 640)\n",
            "\n",
            "0: 640x640 2 persons, 1 handbag, 1 kite, 7 bottles, 565.8ms\n",
            "Speed: 3.3ms preprocess, 565.8ms inference, 1.2ms postprocess per image at shape (1, 3, 640, 640)\n",
            "\n",
            "0: 640x640 3 persons, 1 kite, 6 bottles, 565.8ms\n",
            "Speed: 3.6ms preprocess, 565.8ms inference, 1.2ms postprocess per image at shape (1, 3, 640, 640)\n",
            "\n",
            "0: 640x640 3 persons, 1 kite, 6 bottles, 570.4ms\n",
            "Speed: 3.0ms preprocess, 570.4ms inference, 1.5ms postprocess per image at shape (1, 3, 640, 640)\n",
            "\n",
            "0: 640x640 3 persons, 1 kite, 6 bottles, 753.8ms\n",
            "Speed: 3.7ms preprocess, 753.8ms inference, 1.7ms postprocess per image at shape (1, 3, 640, 640)\n",
            "\n",
            "0: 640x640 2 persons, 1 kite, 7 bottles, 885.7ms\n",
            "Speed: 2.8ms preprocess, 885.7ms inference, 1.6ms postprocess per image at shape (1, 3, 640, 640)\n",
            "\n",
            "0: 640x640 2 persons, 1 cat, 1 kite, 7 bottles, 881.5ms\n",
            "Speed: 4.8ms preprocess, 881.5ms inference, 1.7ms postprocess per image at shape (1, 3, 640, 640)\n",
            "\n",
            "0: 640x640 2 persons, 1 cat, 1 kite, 7 bottles, 852.3ms\n",
            "Speed: 2.8ms preprocess, 852.3ms inference, 1.8ms postprocess per image at shape (1, 3, 640, 640)\n",
            "\n",
            "0: 640x640 2 persons, 1 kite, 8 bottles, 573.7ms\n",
            "Speed: 2.9ms preprocess, 573.7ms inference, 1.2ms postprocess per image at shape (1, 3, 640, 640)\n",
            "\n",
            "0: 640x640 2 persons, 1 cat, 1 kite, 7 bottles, 606.3ms\n",
            "Speed: 2.9ms preprocess, 606.3ms inference, 1.3ms postprocess per image at shape (1, 3, 640, 640)\n",
            "\n",
            "0: 640x640 2 persons, 1 cat, 1 kite, 7 bottles, 600.6ms\n",
            "Speed: 2.9ms preprocess, 600.6ms inference, 1.3ms postprocess per image at shape (1, 3, 640, 640)\n",
            "\n",
            "0: 640x640 2 persons, 1 kite, 8 bottles, 597.3ms\n",
            "Speed: 3.0ms preprocess, 597.3ms inference, 1.5ms postprocess per image at shape (1, 3, 640, 640)\n",
            "\n",
            "0: 640x640 2 persons, 1 cat, 1 kite, 7 bottles, 594.0ms\n",
            "Speed: 2.7ms preprocess, 594.0ms inference, 1.7ms postprocess per image at shape (1, 3, 640, 640)\n",
            "\n",
            "0: 640x640 2 persons, 1 cat, 1 kite, 7 bottles, 572.8ms\n",
            "Speed: 2.7ms preprocess, 572.8ms inference, 1.3ms postprocess per image at shape (1, 3, 640, 640)\n",
            "\n",
            "0: 640x640 2 persons, 1 kite, 7 bottles, 584.0ms\n",
            "Speed: 3.5ms preprocess, 584.0ms inference, 1.3ms postprocess per image at shape (1, 3, 640, 640)\n",
            "\n",
            "0: 640x640 2 persons, 1 cat, 1 kite, 7 bottles, 589.3ms\n",
            "Speed: 4.0ms preprocess, 589.3ms inference, 2.1ms postprocess per image at shape (1, 3, 640, 640)\n",
            "\n",
            "0: 640x640 2 persons, 1 kite, 8 bottles, 579.5ms\n",
            "Speed: 3.5ms preprocess, 579.5ms inference, 1.2ms postprocess per image at shape (1, 3, 640, 640)\n",
            "\n",
            "0: 640x640 2 persons, 1 cat, 1 kite, 8 bottles, 578.3ms\n",
            "Speed: 4.5ms preprocess, 578.3ms inference, 1.2ms postprocess per image at shape (1, 3, 640, 640)\n",
            "\n",
            "0: 640x640 2 persons, 1 kite, 7 bottles, 876.5ms\n",
            "Speed: 2.7ms preprocess, 876.5ms inference, 1.7ms postprocess per image at shape (1, 3, 640, 640)\n",
            "\n",
            "0: 640x640 2 persons, 1 cat, 1 kite, 7 bottles, 866.9ms\n",
            "Speed: 2.6ms preprocess, 866.9ms inference, 1.7ms postprocess per image at shape (1, 3, 640, 640)\n",
            "\n",
            "0: 640x640 2 persons, 1 kite, 8 bottles, 877.0ms\n",
            "Speed: 2.7ms preprocess, 877.0ms inference, 1.7ms postprocess per image at shape (1, 3, 640, 640)\n",
            "\n",
            "0: 640x640 2 persons, 1 kite, 8 bottles, 767.7ms\n",
            "Speed: 2.7ms preprocess, 767.7ms inference, 1.3ms postprocess per image at shape (1, 3, 640, 640)\n",
            "\n",
            "0: 640x640 2 persons, 1 kite, 8 bottles, 573.8ms\n",
            "Speed: 2.9ms preprocess, 573.8ms inference, 1.2ms postprocess per image at shape (1, 3, 640, 640)\n",
            "\n",
            "0: 640x640 1 person, 1 kite, 8 bottles, 573.3ms\n",
            "Speed: 3.3ms preprocess, 573.3ms inference, 1.3ms postprocess per image at shape (1, 3, 640, 640)\n",
            "\n",
            "0: 640x640 2 persons, 1 kite, 8 bottles, 561.6ms\n",
            "Speed: 2.8ms preprocess, 561.6ms inference, 1.3ms postprocess per image at shape (1, 3, 640, 640)\n",
            "\n",
            "0: 640x640 2 persons, 1 cat, 1 kite, 8 bottles, 570.1ms\n",
            "Speed: 4.5ms preprocess, 570.1ms inference, 1.3ms postprocess per image at shape (1, 3, 640, 640)\n",
            "\n",
            "0: 640x640 2 persons, 1 cat, 1 kite, 8 bottles, 566.7ms\n",
            "Speed: 2.8ms preprocess, 566.7ms inference, 1.3ms postprocess per image at shape (1, 3, 640, 640)\n",
            "\n",
            "0: 640x640 3 persons, 1 kite, 8 bottles, 561.1ms\n",
            "Speed: 5.7ms preprocess, 561.1ms inference, 1.3ms postprocess per image at shape (1, 3, 640, 640)\n",
            "\n",
            "0: 640x640 3 persons, 1 kite, 8 bottles, 589.1ms\n",
            "Speed: 3.6ms preprocess, 589.1ms inference, 1.3ms postprocess per image at shape (1, 3, 640, 640)\n",
            "\n",
            "0: 640x640 2 persons, 1 kite, 8 bottles, 580.0ms\n",
            "Speed: 3.2ms preprocess, 580.0ms inference, 1.2ms postprocess per image at shape (1, 3, 640, 640)\n",
            "\n",
            "0: 640x640 2 persons, 1 kite, 7 bottles, 573.0ms\n",
            "Speed: 2.5ms preprocess, 573.0ms inference, 1.3ms postprocess per image at shape (1, 3, 640, 640)\n",
            "\n",
            "0: 640x640 2 persons, 1 kite, 8 bottles, 823.4ms\n",
            "Speed: 2.0ms preprocess, 823.4ms inference, 2.0ms postprocess per image at shape (1, 3, 640, 640)\n",
            "\n",
            "0: 640x640 2 persons, 1 cat, 1 kite, 7 bottles, 877.2ms\n",
            "Speed: 2.6ms preprocess, 877.2ms inference, 1.7ms postprocess per image at shape (1, 3, 640, 640)\n",
            "\n",
            "0: 640x640 1 person, 2 bottles, 1359.0ms\n",
            "Speed: 2.7ms preprocess, 1359.0ms inference, 2.4ms postprocess per image at shape (1, 3, 640, 640)\n",
            "\n",
            "0: 640x640 1 person, 2 bottles, 847.1ms\n",
            "Speed: 3.5ms preprocess, 847.1ms inference, 1.2ms postprocess per image at shape (1, 3, 640, 640)\n",
            "\n",
            "0: 640x640 1 person, 6 bottles, 1 banana, 574.8ms\n",
            "Speed: 3.5ms preprocess, 574.8ms inference, 1.3ms postprocess per image at shape (1, 3, 640, 640)\n",
            "\n",
            "0: 640x640 1 person, 3 bottles, 565.8ms\n",
            "Speed: 3.4ms preprocess, 565.8ms inference, 1.2ms postprocess per image at shape (1, 3, 640, 640)\n",
            "\n",
            "0: 640x640 1 person, 6 bottles, 1 vase, 578.5ms\n",
            "Speed: 4.4ms preprocess, 578.5ms inference, 1.5ms postprocess per image at shape (1, 3, 640, 640)\n",
            "\n",
            "0: 640x640 1 person, 1 snowboard, 1 vase, 571.0ms\n",
            "Speed: 2.5ms preprocess, 571.0ms inference, 1.2ms postprocess per image at shape (1, 3, 640, 640)\n",
            "\n",
            "0: 640x640 1 person, 2 bottles, 1 vase, 570.7ms\n",
            "Speed: 2.7ms preprocess, 570.7ms inference, 1.2ms postprocess per image at shape (1, 3, 640, 640)\n",
            "\n",
            "0: 640x640 1 person, 1 vase, 554.2ms\n",
            "Speed: 3.3ms preprocess, 554.2ms inference, 1.3ms postprocess per image at shape (1, 3, 640, 640)\n",
            "\n",
            "0: 640x640 1 person, 1 vase, 582.1ms\n",
            "Speed: 2.9ms preprocess, 582.1ms inference, 1.2ms postprocess per image at shape (1, 3, 640, 640)\n",
            "\n",
            "0: 640x640 1 person, 5 bottles, 1 vase, 589.1ms\n",
            "Speed: 2.7ms preprocess, 589.1ms inference, 1.1ms postprocess per image at shape (1, 3, 640, 640)\n",
            "\n",
            "0: 640x640 1 person, 4 bottles, 1 vase, 577.7ms\n",
            "Speed: 2.6ms preprocess, 577.7ms inference, 1.2ms postprocess per image at shape (1, 3, 640, 640)\n",
            "\n",
            "0: 640x640 1 person, 2 bottles, 1 vase, 549.8ms\n",
            "Speed: 3.2ms preprocess, 549.8ms inference, 1.3ms postprocess per image at shape (1, 3, 640, 640)\n",
            "\n",
            "0: 640x640 1 person, 7 bottles, 585.4ms\n",
            "Speed: 6.7ms preprocess, 585.4ms inference, 1.3ms postprocess per image at shape (1, 3, 640, 640)\n",
            "\n",
            "0: 640x640 1 person, 6 bottles, 571.8ms\n",
            "Speed: 3.6ms preprocess, 571.8ms inference, 1.2ms postprocess per image at shape (1, 3, 640, 640)\n",
            "\n",
            "0: 640x640 1 person, 6 bottles, 563.5ms\n",
            "Speed: 2.8ms preprocess, 563.5ms inference, 1.3ms postprocess per image at shape (1, 3, 640, 640)\n",
            "\n",
            "0: 640x640 1 person, 6 bottles, 854.5ms\n",
            "Speed: 2.5ms preprocess, 854.5ms inference, 1.9ms postprocess per image at shape (1, 3, 640, 640)\n",
            "\n",
            "0: 640x640 1 person, 7 bottles, 882.4ms\n",
            "Speed: 6.4ms preprocess, 882.4ms inference, 1.5ms postprocess per image at shape (1, 3, 640, 640)\n",
            "\n",
            "0: 640x640 1 person, 7 bottles, 880.3ms\n",
            "Speed: 3.6ms preprocess, 880.3ms inference, 1.6ms postprocess per image at shape (1, 3, 640, 640)\n",
            "\n",
            "0: 640x640 1 person, 6 bottles, 873.3ms\n",
            "Speed: 2.4ms preprocess, 873.3ms inference, 1.7ms postprocess per image at shape (1, 3, 640, 640)\n",
            "\n",
            "0: 640x640 1 person, 6 bottles, 568.3ms\n",
            "Speed: 6.8ms preprocess, 568.3ms inference, 1.3ms postprocess per image at shape (1, 3, 640, 640)\n",
            "\n",
            "0: 640x640 1 person, 6 bottles, 566.1ms\n",
            "Speed: 2.5ms preprocess, 566.1ms inference, 1.4ms postprocess per image at shape (1, 3, 640, 640)\n",
            "\n",
            "0: 640x640 1 person, 6 bottles, 580.0ms\n",
            "Speed: 2.4ms preprocess, 580.0ms inference, 2.7ms postprocess per image at shape (1, 3, 640, 640)\n",
            "\n",
            "0: 640x640 1 person, 4 bottles, 555.4ms\n",
            "Speed: 3.2ms preprocess, 555.4ms inference, 1.2ms postprocess per image at shape (1, 3, 640, 640)\n",
            "\n",
            "0: 640x640 1 person, 6 bottles, 592.5ms\n",
            "Speed: 3.0ms preprocess, 592.5ms inference, 1.2ms postprocess per image at shape (1, 3, 640, 640)\n",
            "\n",
            "0: 640x640 1 person, 5 bottles, 561.5ms\n",
            "Speed: 3.0ms preprocess, 561.5ms inference, 1.3ms postprocess per image at shape (1, 3, 640, 640)\n",
            "\n",
            "0: 640x640 1 person, 5 bottles, 561.3ms\n",
            "Speed: 4.8ms preprocess, 561.3ms inference, 1.2ms postprocess per image at shape (1, 3, 640, 640)\n",
            "\n",
            "0: 640x640 1 person, 5 bottles, 592.1ms\n",
            "Speed: 2.3ms preprocess, 592.1ms inference, 1.2ms postprocess per image at shape (1, 3, 640, 640)\n",
            "\n",
            "0: 640x640 1 person, 6 bottles, 583.7ms\n",
            "Speed: 3.7ms preprocess, 583.7ms inference, 1.3ms postprocess per image at shape (1, 3, 640, 640)\n",
            "\n",
            "0: 640x640 1 person, 6 bottles, 574.4ms\n",
            "Speed: 2.5ms preprocess, 574.4ms inference, 1.4ms postprocess per image at shape (1, 3, 640, 640)\n",
            "\n",
            "0: 640x640 1 person, 7 bottles, 584.5ms\n",
            "Speed: 2.7ms preprocess, 584.5ms inference, 1.2ms postprocess per image at shape (1, 3, 640, 640)\n",
            "\n",
            "0: 640x640 1 person, 6 bottles, 581.8ms\n",
            "Speed: 2.9ms preprocess, 581.8ms inference, 1.2ms postprocess per image at shape (1, 3, 640, 640)\n",
            "\n",
            "0: 640x640 1 person, 7 bottles, 885.7ms\n",
            "Speed: 5.7ms preprocess, 885.7ms inference, 1.5ms postprocess per image at shape (1, 3, 640, 640)\n",
            "\n",
            "0: 640x640 1 person, 6 bottles, 861.3ms\n",
            "Speed: 2.4ms preprocess, 861.3ms inference, 3.8ms postprocess per image at shape (1, 3, 640, 640)\n",
            "\n",
            "0: 640x640 1 person, 1 handbag, 6 bottles, 901.1ms\n",
            "Speed: 3.3ms preprocess, 901.1ms inference, 1.8ms postprocess per image at shape (1, 3, 640, 640)\n",
            "\n",
            "0: 640x640 1 person, 6 bottles, 864.2ms\n",
            "Speed: 2.6ms preprocess, 864.2ms inference, 1.7ms postprocess per image at shape (1, 3, 640, 640)\n",
            "\n",
            "0: 640x640 1 person, 3 bottles, 838.0ms\n",
            "Speed: 2.4ms preprocess, 838.0ms inference, 1.2ms postprocess per image at shape (1, 3, 640, 640)\n",
            "\n",
            "0: 640x640 2 persons, 1 umbrella, 9 bottles, 1 refrigerator, 634.6ms\n",
            "Speed: 3.3ms preprocess, 634.6ms inference, 1.7ms postprocess per image at shape (1, 3, 640, 640)\n",
            "\n",
            "0: 640x640 2 persons, 1 umbrella, 8 bottles, 1 refrigerator, 1 book, 582.3ms\n",
            "Speed: 6.0ms preprocess, 582.3ms inference, 1.8ms postprocess per image at shape (1, 3, 640, 640)\n",
            "\n",
            "0: 640x640 2 persons, 1 umbrella, 8 bottles, 1 refrigerator, 1 book, 565.7ms\n",
            "Speed: 6.9ms preprocess, 565.7ms inference, 1.4ms postprocess per image at shape (1, 3, 640, 640)\n",
            "\n",
            "0: 640x640 2 persons, 1 umbrella, 7 bottles, 1 refrigerator, 593.9ms\n",
            "Speed: 2.5ms preprocess, 593.9ms inference, 1.3ms postprocess per image at shape (1, 3, 640, 640)\n",
            "\n",
            "0: 640x640 2 persons, 1 umbrella, 7 bottles, 1 refrigerator, 556.6ms\n",
            "Speed: 2.6ms preprocess, 556.6ms inference, 1.4ms postprocess per image at shape (1, 3, 640, 640)\n",
            "\n",
            "0: 640x640 2 persons, 1 umbrella, 7 bottles, 1 refrigerator, 566.3ms\n",
            "Speed: 2.4ms preprocess, 566.3ms inference, 1.4ms postprocess per image at shape (1, 3, 640, 640)\n",
            "\n",
            "0: 640x640 2 persons, 1 umbrella, 7 bottles, 1 refrigerator, 565.8ms\n",
            "Speed: 2.8ms preprocess, 565.8ms inference, 1.3ms postprocess per image at shape (1, 3, 640, 640)\n",
            "\n",
            "0: 640x640 2 persons, 1 umbrella, 7 bottles, 1 refrigerator, 1 book, 572.6ms\n",
            "Speed: 5.1ms preprocess, 572.6ms inference, 1.2ms postprocess per image at shape (1, 3, 640, 640)\n",
            "\n",
            "0: 640x640 2 persons, 2 umbrellas, 8 bottles, 1 refrigerator, 758.8ms\n",
            "Speed: 4.8ms preprocess, 758.8ms inference, 1.5ms postprocess per image at shape (1, 3, 640, 640)\n",
            "\n",
            "0: 640x640 2 persons, 2 umbrellas, 7 bottles, 1 refrigerator, 881.1ms\n",
            "Speed: 2.6ms preprocess, 881.1ms inference, 2.0ms postprocess per image at shape (1, 3, 640, 640)\n",
            "\n",
            "0: 640x640 2 persons, 2 umbrellas, 7 bottles, 1 refrigerator, 883.7ms\n",
            "Speed: 3.5ms preprocess, 883.7ms inference, 1.6ms postprocess per image at shape (1, 3, 640, 640)\n",
            "\n",
            "0: 640x640 2 persons, 2 umbrellas, 8 bottles, 1 refrigerator, 896.4ms\n",
            "Speed: 4.5ms preprocess, 896.4ms inference, 2.1ms postprocess per image at shape (1, 3, 640, 640)\n",
            "\n",
            "0: 640x640 2 persons, 2 umbrellas, 8 bottles, 1 refrigerator, 580.9ms\n",
            "Speed: 3.2ms preprocess, 580.9ms inference, 1.4ms postprocess per image at shape (1, 3, 640, 640)\n",
            "\n",
            "0: 640x640 4 persons, 2 umbrellas, 8 bottles, 1 refrigerator, 577.6ms\n",
            "Speed: 2.6ms preprocess, 577.6ms inference, 1.4ms postprocess per image at shape (1, 3, 640, 640)\n",
            "\n",
            "0: 640x640 2 persons, 2 umbrellas, 8 bottles, 1 refrigerator, 566.7ms\n",
            "Speed: 2.2ms preprocess, 566.7ms inference, 1.3ms postprocess per image at shape (1, 3, 640, 640)\n",
            "\n",
            "0: 640x640 2 persons, 3 umbrellas, 8 bottles, 1 refrigerator, 580.3ms\n",
            "Speed: 2.8ms preprocess, 580.3ms inference, 1.3ms postprocess per image at shape (1, 3, 640, 640)\n",
            "\n",
            "0: 640x640 2 persons, 2 umbrellas, 8 bottles, 1 refrigerator, 581.3ms\n",
            "Speed: 4.7ms preprocess, 581.3ms inference, 1.3ms postprocess per image at shape (1, 3, 640, 640)\n",
            "\n",
            "0: 640x640 2 persons, 2 umbrellas, 8 bottles, 1 refrigerator, 578.3ms\n",
            "Speed: 3.8ms preprocess, 578.3ms inference, 1.3ms postprocess per image at shape (1, 3, 640, 640)\n",
            "\n",
            "0: 640x640 2 persons, 3 umbrellas, 8 bottles, 1 refrigerator, 578.0ms\n",
            "Speed: 2.9ms preprocess, 578.0ms inference, 1.3ms postprocess per image at shape (1, 3, 640, 640)\n",
            "\n",
            "0: 640x640 2 persons, 2 umbrellas, 8 bottles, 1 refrigerator, 568.6ms\n",
            "Speed: 5.5ms preprocess, 568.6ms inference, 1.2ms postprocess per image at shape (1, 3, 640, 640)\n",
            "\n",
            "0: 640x640 2 persons, 2 umbrellas, 8 bottles, 1 refrigerator, 874.9ms\n",
            "Speed: 2.4ms preprocess, 874.9ms inference, 1.6ms postprocess per image at shape (1, 3, 640, 640)\n",
            "\n",
            "0: 640x640 3 persons, 9 bottles, 1 refrigerator, 966.1ms\n",
            "Speed: 2.8ms preprocess, 966.1ms inference, 1.6ms postprocess per image at shape (1, 3, 640, 640)\n",
            "\n",
            "0: 640x640 2 persons, 2 umbrellas, 10 bottles, 1 refrigerator, 901.9ms\n",
            "Speed: 2.5ms preprocess, 901.9ms inference, 1.9ms postprocess per image at shape (1, 3, 640, 640)\n",
            "\n",
            "0: 640x640 2 persons, 2 umbrellas, 10 bottles, 561.6ms\n",
            "Speed: 3.8ms preprocess, 561.6ms inference, 1.4ms postprocess per image at shape (1, 3, 640, 640)\n",
            "\n",
            "0: 640x640 2 persons, 3 umbrellas, 8 bottles, 1 refrigerator, 578.2ms\n",
            "Speed: 2.8ms preprocess, 578.2ms inference, 1.3ms postprocess per image at shape (1, 3, 640, 640)\n",
            "\n",
            "0: 640x640 2 persons, 3 umbrellas, 7 bottles, 1 refrigerator, 580.2ms\n",
            "Speed: 3.0ms preprocess, 580.2ms inference, 2.3ms postprocess per image at shape (1, 3, 640, 640)\n",
            "\n",
            "0: 640x640 3 persons, 3 umbrellas, 7 bottles, 1 refrigerator, 584.2ms\n",
            "Speed: 3.1ms preprocess, 584.2ms inference, 1.3ms postprocess per image at shape (1, 3, 640, 640)\n",
            "\n",
            "0: 640x640 2 persons, 3 umbrellas, 7 bottles, 1 refrigerator, 564.7ms\n",
            "Speed: 2.8ms preprocess, 564.7ms inference, 1.2ms postprocess per image at shape (1, 3, 640, 640)\n",
            "\n",
            "0: 640x640 2 persons, 3 umbrellas, 1 handbag, 7 bottles, 1 refrigerator, 567.9ms\n",
            "Speed: 2.8ms preprocess, 567.9ms inference, 1.5ms postprocess per image at shape (1, 3, 640, 640)\n",
            "\n",
            "0: 640x640 2 persons, 3 umbrellas, 7 bottles, 1 refrigerator, 575.9ms\n",
            "Speed: 4.2ms preprocess, 575.9ms inference, 1.5ms postprocess per image at shape (1, 3, 640, 640)\n",
            "\n",
            "0: 640x640 2 persons, 3 umbrellas, 7 bottles, 1 refrigerator, 579.1ms\n",
            "Speed: 2.9ms preprocess, 579.1ms inference, 1.4ms postprocess per image at shape (1, 3, 640, 640)\n",
            "\n",
            "0: 640x640 2 persons, 3 umbrellas, 7 bottles, 1 refrigerator, 888.5ms\n",
            "Speed: 2.9ms preprocess, 888.5ms inference, 1.6ms postprocess per image at shape (1, 3, 640, 640)\n",
            "\n",
            "0: 640x640 2 persons, 3 umbrellas, 8 bottles, 1 refrigerator, 912.6ms\n",
            "Speed: 8.6ms preprocess, 912.6ms inference, 1.7ms postprocess per image at shape (1, 3, 640, 640)\n",
            "\n",
            "0: 640x640 2 persons, 3 umbrellas, 8 bottles, 1 refrigerator, 861.9ms\n",
            "Speed: 2.3ms preprocess, 861.9ms inference, 1.7ms postprocess per image at shape (1, 3, 640, 640)\n",
            "\n",
            "0: 640x640 2 persons, 3 umbrellas, 8 bottles, 1 refrigerator, 568.2ms\n",
            "Speed: 2.8ms preprocess, 568.2ms inference, 1.2ms postprocess per image at shape (1, 3, 640, 640)\n",
            "\n",
            "0: 640x640 2 persons, 3 umbrellas, 8 bottles, 1 refrigerator, 569.2ms\n",
            "Speed: 4.1ms preprocess, 569.2ms inference, 1.4ms postprocess per image at shape (1, 3, 640, 640)\n",
            "\n",
            "0: 640x640 2 persons, 1 car, 3 bottles, 596.7ms\n",
            "Speed: 2.8ms preprocess, 596.7ms inference, 1.3ms postprocess per image at shape (1, 3, 640, 640)\n",
            "\n",
            "0: 640x640 2 persons, 1 car, 1 bottle, 607.1ms\n",
            "Speed: 2.4ms preprocess, 607.1ms inference, 1.4ms postprocess per image at shape (1, 3, 640, 640)\n",
            "\n",
            "0: 640x640 2 persons, 1 car, 1 bottle, 542.1ms\n",
            "Speed: 2.8ms preprocess, 542.1ms inference, 1.1ms postprocess per image at shape (1, 3, 640, 640)\n",
            "\n",
            "0: 640x640 2 persons, 1 car, 1 bottle, 564.4ms\n",
            "Speed: 2.6ms preprocess, 564.4ms inference, 1.2ms postprocess per image at shape (1, 3, 640, 640)\n",
            "\n",
            "0: 640x640 2 persons, 1 car, 1 bottle, 590.5ms\n",
            "Speed: 2.7ms preprocess, 590.5ms inference, 1.2ms postprocess per image at shape (1, 3, 640, 640)\n",
            "\n",
            "0: 640x640 2 persons, 1 car, 1 bottle, 581.1ms\n",
            "Speed: 4.1ms preprocess, 581.1ms inference, 1.2ms postprocess per image at shape (1, 3, 640, 640)\n",
            "\n",
            "0: 640x640 2 persons, 1 car, 1 handbag, 4 bottles, 567.4ms\n",
            "Speed: 2.8ms preprocess, 567.4ms inference, 1.2ms postprocess per image at shape (1, 3, 640, 640)\n",
            "\n",
            "0: 640x640 2 persons, 1 car, 5 bottles, 579.4ms\n",
            "Speed: 2.5ms preprocess, 579.4ms inference, 1.6ms postprocess per image at shape (1, 3, 640, 640)\n",
            "\n",
            "0: 640x640 2 persons, 1 car, 5 bottles, 895.2ms\n",
            "Speed: 7.5ms preprocess, 895.2ms inference, 1.5ms postprocess per image at shape (1, 3, 640, 640)\n",
            "\n",
            "0: 640x640 2 persons, 1 car, 5 bottles, 865.1ms\n",
            "Speed: 6.6ms preprocess, 865.1ms inference, 1.8ms postprocess per image at shape (1, 3, 640, 640)\n",
            "\n",
            "0: 640x640 2 persons, 1 car, 7 bottles, 915.4ms\n",
            "Speed: 6.3ms preprocess, 915.4ms inference, 1.7ms postprocess per image at shape (1, 3, 640, 640)\n",
            "\n",
            "0: 640x640 2 persons, 1 car, 7 bottles, 883.5ms\n",
            "Speed: 2.6ms preprocess, 883.5ms inference, 2.3ms postprocess per image at shape (1, 3, 640, 640)\n",
            "\n",
            "0: 640x640 2 persons, 1 car, 7 bottles, 565.5ms\n",
            "Speed: 2.7ms preprocess, 565.5ms inference, 1.2ms postprocess per image at shape (1, 3, 640, 640)\n",
            "\n",
            "0: 640x640 2 persons, 1 car, 1 handbag, 7 bottles, 544.4ms\n",
            "Speed: 4.8ms preprocess, 544.4ms inference, 1.2ms postprocess per image at shape (1, 3, 640, 640)\n",
            "\n",
            "0: 640x640 2 persons, 1 car, 7 bottles, 550.7ms\n",
            "Speed: 2.7ms preprocess, 550.7ms inference, 1.3ms postprocess per image at shape (1, 3, 640, 640)\n",
            "\n",
            "0: 640x640 2 persons, 1 car, 7 bottles, 569.3ms\n",
            "Speed: 3.5ms preprocess, 569.3ms inference, 1.7ms postprocess per image at shape (1, 3, 640, 640)\n",
            "\n",
            "0: 640x640 2 persons, 1 car, 7 bottles, 569.3ms\n",
            "Speed: 3.0ms preprocess, 569.3ms inference, 1.2ms postprocess per image at shape (1, 3, 640, 640)\n",
            "\n",
            "0: 640x640 2 persons, 1 car, 7 bottles, 573.4ms\n",
            "Speed: 3.5ms preprocess, 573.4ms inference, 1.7ms postprocess per image at shape (1, 3, 640, 640)\n",
            "\n",
            "0: 640x640 2 persons, 1 car, 7 bottles, 565.8ms\n",
            "Speed: 2.6ms preprocess, 565.8ms inference, 1.3ms postprocess per image at shape (1, 3, 640, 640)\n",
            "\n",
            "0: 640x640 2 persons, 1 car, 7 bottles, 568.7ms\n",
            "Speed: 2.5ms preprocess, 568.7ms inference, 1.4ms postprocess per image at shape (1, 3, 640, 640)\n",
            "\n",
            "0: 640x640 2 persons, 1 car, 7 bottles, 576.4ms\n",
            "Speed: 4.1ms preprocess, 576.4ms inference, 1.2ms postprocess per image at shape (1, 3, 640, 640)\n",
            "\n",
            "0: 640x640 2 persons, 1 car, 7 bottles, 782.3ms\n",
            "Speed: 5.6ms preprocess, 782.3ms inference, 1.7ms postprocess per image at shape (1, 3, 640, 640)\n",
            "\n",
            "0: 640x640 2 persons, 1 car, 7 bottles, 865.7ms\n",
            "Speed: 3.1ms preprocess, 865.7ms inference, 1.8ms postprocess per image at shape (1, 3, 640, 640)\n",
            "\n",
            "0: 640x640 2 persons, 1 car, 7 bottles, 864.3ms\n",
            "Speed: 2.6ms preprocess, 864.3ms inference, 2.0ms postprocess per image at shape (1, 3, 640, 640)\n",
            "\n",
            "0: 640x640 2 persons, 1 car, 7 bottles, 890.7ms\n",
            "Speed: 4.2ms preprocess, 890.7ms inference, 1.5ms postprocess per image at shape (1, 3, 640, 640)\n",
            "\n",
            "0: 640x640 2 persons, 1 car, 7 bottles, 544.9ms\n",
            "Speed: 4.9ms preprocess, 544.9ms inference, 1.2ms postprocess per image at shape (1, 3, 640, 640)\n",
            "\n",
            "0: 640x640 2 persons, 1 car, 7 bottles, 574.8ms\n",
            "Speed: 2.8ms preprocess, 574.8ms inference, 1.2ms postprocess per image at shape (1, 3, 640, 640)\n",
            "\n",
            "0: 640x640 2 persons, 1 car, 7 bottles, 569.8ms\n",
            "Speed: 2.6ms preprocess, 569.8ms inference, 1.2ms postprocess per image at shape (1, 3, 640, 640)\n",
            "\n",
            "0: 640x640 2 persons, 1 car, 7 bottles, 571.7ms\n",
            "Speed: 4.7ms preprocess, 571.7ms inference, 1.1ms postprocess per image at shape (1, 3, 640, 640)\n",
            "\n",
            "0: 640x640 2 persons, 1 car, 7 bottles, 573.9ms\n",
            "Speed: 2.6ms preprocess, 573.9ms inference, 1.2ms postprocess per image at shape (1, 3, 640, 640)\n",
            "\n",
            "0: 640x640 2 persons, 1 car, 7 bottles, 580.9ms\n",
            "Speed: 3.1ms preprocess, 580.9ms inference, 1.2ms postprocess per image at shape (1, 3, 640, 640)\n",
            "\n",
            "0: 640x640 2 persons, 1 car, 7 bottles, 576.1ms\n",
            "Speed: 3.6ms preprocess, 576.1ms inference, 1.2ms postprocess per image at shape (1, 3, 640, 640)\n",
            "\n",
            "0: 640x640 2 persons, 1 car, 7 bottles, 577.0ms\n",
            "Speed: 4.1ms preprocess, 577.0ms inference, 1.2ms postprocess per image at shape (1, 3, 640, 640)\n",
            "\n",
            "0: 640x640 2 persons, 1 car, 7 bottles, 588.0ms\n",
            "Speed: 2.3ms preprocess, 588.0ms inference, 1.4ms postprocess per image at shape (1, 3, 640, 640)\n",
            "\n",
            "0: 640x640 2 persons, 1 car, 7 bottles, 577.9ms\n",
            "Speed: 3.1ms preprocess, 577.9ms inference, 1.4ms postprocess per image at shape (1, 3, 640, 640)\n",
            "\n",
            "0: 640x640 2 persons, 1 car, 7 bottles, 993.0ms\n",
            "Speed: 2.5ms preprocess, 993.0ms inference, 1.8ms postprocess per image at shape (1, 3, 640, 640)\n",
            "\n",
            "0: 640x640 1 person, 2 umbrellas, 1 bottle, 8 books, 890.4ms\n",
            "Speed: 2.9ms preprocess, 890.4ms inference, 1.6ms postprocess per image at shape (1, 3, 640, 640)\n",
            "\n",
            "0: 640x640 1 person, 2 handbags, 1 bottle, 8 books, 919.6ms\n",
            "Speed: 3.3ms preprocess, 919.6ms inference, 1.8ms postprocess per image at shape (1, 3, 640, 640)\n",
            "\n",
            "0: 640x640 1 person, 2 umbrellas, 2 bottles, 7 books, 577.1ms\n",
            "Speed: 5.4ms preprocess, 577.1ms inference, 1.2ms postprocess per image at shape (1, 3, 640, 640)\n",
            "\n",
            "0: 640x640 1 person, 3 bottles, 10 books, 579.9ms\n",
            "Speed: 3.2ms preprocess, 579.9ms inference, 1.3ms postprocess per image at shape (1, 3, 640, 640)\n",
            "\n",
            "0: 640x640 1 person, 1 umbrella, 1 bottle, 8 books, 561.6ms\n",
            "Speed: 2.7ms preprocess, 561.6ms inference, 1.4ms postprocess per image at shape (1, 3, 640, 640)\n",
            "\n",
            "0: 640x640 1 person, 1 umbrella, 1 bottle, 10 books, 558.8ms\n",
            "Speed: 2.2ms preprocess, 558.8ms inference, 1.3ms postprocess per image at shape (1, 3, 640, 640)\n",
            "\n",
            "0: 640x640 1 person, 2 bottles, 9 books, 573.1ms\n",
            "Speed: 2.9ms preprocess, 573.1ms inference, 1.3ms postprocess per image at shape (1, 3, 640, 640)\n",
            "\n",
            "0: 640x640 1 person, 1 umbrella, 1 handbag, 3 bottles, 8 books, 569.7ms\n",
            "Speed: 6.5ms preprocess, 569.7ms inference, 1.2ms postprocess per image at shape (1, 3, 640, 640)\n",
            "\n",
            "0: 640x640 1 person, 1 handbag, 4 bottles, 8 books, 562.7ms\n",
            "Speed: 2.9ms preprocess, 562.7ms inference, 1.2ms postprocess per image at shape (1, 3, 640, 640)\n",
            "\n",
            "0: 640x640 1 person, 2 handbags, 3 bottles, 8 books, 577.0ms\n",
            "Speed: 2.8ms preprocess, 577.0ms inference, 1.3ms postprocess per image at shape (1, 3, 640, 640)\n",
            "\n",
            "0: 640x640 1 person, 2 handbags, 3 bottles, 9 books, 587.3ms\n",
            "Speed: 2.4ms preprocess, 587.3ms inference, 1.5ms postprocess per image at shape (1, 3, 640, 640)\n",
            "\n",
            "0: 640x640 1 person, 2 handbags, 2 bottles, 11 books, 882.0ms\n",
            "Speed: 2.8ms preprocess, 882.0ms inference, 1.7ms postprocess per image at shape (1, 3, 640, 640)\n",
            "\n",
            "0: 640x640 1 person, 2 handbags, 1 bottle, 10 books, 885.5ms\n",
            "Speed: 2.4ms preprocess, 885.5ms inference, 1.7ms postprocess per image at shape (1, 3, 640, 640)\n",
            "\n",
            "0: 640x640 1 person, 1 bottle, 9 books, 884.2ms\n",
            "Speed: 3.2ms preprocess, 884.2ms inference, 1.6ms postprocess per image at shape (1, 3, 640, 640)\n",
            "\n",
            "0: 640x640 1 person, 2 bottles, 6 books, 762.4ms\n",
            "Speed: 3.1ms preprocess, 762.4ms inference, 1.2ms postprocess per image at shape (1, 3, 640, 640)\n",
            "\n",
            "0: 640x640 1 person, 2 bottles, 5 books, 552.0ms\n",
            "Speed: 2.9ms preprocess, 552.0ms inference, 1.4ms postprocess per image at shape (1, 3, 640, 640)\n",
            "\n",
            "0: 640x640 1 person, 3 bottles, 4 books, 572.2ms\n",
            "Speed: 3.2ms preprocess, 572.2ms inference, 1.3ms postprocess per image at shape (1, 3, 640, 640)\n",
            "\n",
            "0: 640x640 1 person, 2 bottles, 4 books, 574.7ms\n",
            "Speed: 2.6ms preprocess, 574.7ms inference, 1.5ms postprocess per image at shape (1, 3, 640, 640)\n",
            "\n",
            "0: 640x640 1 person, 2 bottles, 4 books, 583.7ms\n",
            "Speed: 3.6ms preprocess, 583.7ms inference, 1.2ms postprocess per image at shape (1, 3, 640, 640)\n",
            "\n",
            "0: 640x640 1 person, 2 bottles, 5 books, 572.3ms\n",
            "Speed: 4.0ms preprocess, 572.3ms inference, 1.2ms postprocess per image at shape (1, 3, 640, 640)\n",
            "\n",
            "0: 640x640 1 person, 2 bottles, 4 books, 561.9ms\n",
            "Speed: 2.6ms preprocess, 561.9ms inference, 2.0ms postprocess per image at shape (1, 3, 640, 640)\n",
            "\n",
            "0: 640x640 1 person, 2 bottles, 4 books, 558.3ms\n",
            "Speed: 2.2ms preprocess, 558.3ms inference, 1.2ms postprocess per image at shape (1, 3, 640, 640)\n",
            "\n",
            "0: 640x640 1 person, 2 bottles, 5 books, 557.3ms\n",
            "Speed: 2.4ms preprocess, 557.3ms inference, 1.4ms postprocess per image at shape (1, 3, 640, 640)\n",
            "\n",
            "0: 640x640 1 person, 1 bottle, 4 books, 572.8ms\n",
            "Speed: 4.2ms preprocess, 572.8ms inference, 1.3ms postprocess per image at shape (1, 3, 640, 640)\n",
            "\n",
            "0: 640x640 1 person, 2 bottles, 3 books, 579.5ms\n",
            "Speed: 2.5ms preprocess, 579.5ms inference, 1.3ms postprocess per image at shape (1, 3, 640, 640)\n",
            "\n",
            "0: 640x640 1 person, 2 bottles, 4 books, 573.9ms\n",
            "Speed: 3.3ms preprocess, 573.9ms inference, 1.2ms postprocess per image at shape (1, 3, 640, 640)\n",
            "\n",
            "0: 640x640 1 person, 2 bottles, 3 books, 887.0ms\n",
            "Speed: 5.6ms preprocess, 887.0ms inference, 1.6ms postprocess per image at shape (1, 3, 640, 640)\n",
            "\n",
            "0: 640x640 1 person, 3 bottles, 4 books, 879.5ms\n",
            "Speed: 2.5ms preprocess, 879.5ms inference, 1.8ms postprocess per image at shape (1, 3, 640, 640)\n",
            "\n",
            "0: 640x640 1 person, 3 bottles, 4 books, 903.7ms\n",
            "Speed: 2.6ms preprocess, 903.7ms inference, 1.5ms postprocess per image at shape (1, 3, 640, 640)\n",
            "\n",
            "0: 640x640 1 person, 3 bottles, 5 books, 841.4ms\n",
            "Speed: 2.6ms preprocess, 841.4ms inference, 1.9ms postprocess per image at shape (1, 3, 640, 640)\n",
            "\n",
            "0: 640x640 1 person, 3 bottles, 4 books, 757.6ms\n",
            "Speed: 2.4ms preprocess, 757.6ms inference, 1.7ms postprocess per image at shape (1, 3, 640, 640)\n",
            "\n",
            "0: 640x640 1 person, 2 bottles, 5 books, 575.4ms\n",
            "Speed: 7.6ms preprocess, 575.4ms inference, 1.4ms postprocess per image at shape (1, 3, 640, 640)\n",
            "\n",
            "0: 640x640 1 person, 2 bottles, 4 books, 579.3ms\n",
            "Speed: 3.0ms preprocess, 579.3ms inference, 1.8ms postprocess per image at shape (1, 3, 640, 640)\n",
            "\n",
            "0: 640x640 1 person, 2 bottles, 4 books, 575.5ms\n",
            "Speed: 2.5ms preprocess, 575.5ms inference, 1.2ms postprocess per image at shape (1, 3, 640, 640)\n",
            "\n",
            "0: 640x640 1 person, 2 bottles, 6 books, 562.1ms\n",
            "Speed: 4.2ms preprocess, 562.1ms inference, 1.2ms postprocess per image at shape (1, 3, 640, 640)\n",
            "\n",
            "0: 640x640 1 person, 2 bottles, 4 books, 558.9ms\n",
            "Speed: 2.7ms preprocess, 558.9ms inference, 1.9ms postprocess per image at shape (1, 3, 640, 640)\n",
            "\n",
            "0: 640x640 3 persons, 2 bottles, 1 cell phone, 591.7ms\n",
            "Speed: 2.8ms preprocess, 591.7ms inference, 1.1ms postprocess per image at shape (1, 3, 640, 640)\n",
            "\n",
            "0: 640x640 3 persons, 2 bottles, 568.3ms\n",
            "Speed: 2.8ms preprocess, 568.3ms inference, 1.9ms postprocess per image at shape (1, 3, 640, 640)\n",
            "\n",
            "0: 640x640 3 persons, 1 bottle, 1 cell phone, 568.1ms\n",
            "Speed: 5.2ms preprocess, 568.1ms inference, 1.4ms postprocess per image at shape (1, 3, 640, 640)\n",
            "\n",
            "0: 640x640 3 persons, 1 bottle, 565.5ms\n",
            "Speed: 3.3ms preprocess, 565.5ms inference, 1.4ms postprocess per image at shape (1, 3, 640, 640)\n",
            "\n",
            "0: 640x640 3 persons, 1 bottle, 1 cell phone, 568.1ms\n",
            "Speed: 2.8ms preprocess, 568.1ms inference, 1.3ms postprocess per image at shape (1, 3, 640, 640)\n",
            "\n",
            "0: 640x640 3 persons, 1 bottle, 1 cell phone, 598.5ms\n",
            "Speed: 3.2ms preprocess, 598.5ms inference, 1.7ms postprocess per image at shape (1, 3, 640, 640)\n",
            "\n",
            "0: 640x640 3 persons, 2 bottles, 1 cell phone, 944.2ms\n",
            "Speed: 6.2ms preprocess, 944.2ms inference, 1.7ms postprocess per image at shape (1, 3, 640, 640)\n",
            "\n",
            "0: 640x640 3 persons, 2 bottles, 1 cell phone, 856.2ms\n",
            "Speed: 8.6ms preprocess, 856.2ms inference, 1.7ms postprocess per image at shape (1, 3, 640, 640)\n",
            "\n",
            "0: 640x640 3 persons, 2 bottles, 1 cell phone, 877.6ms\n",
            "Speed: 7.7ms preprocess, 877.6ms inference, 1.8ms postprocess per image at shape (1, 3, 640, 640)\n",
            "\n",
            "0: 640x640 3 persons, 1 bottle, 1 cell phone, 870.0ms\n",
            "Speed: 6.6ms preprocess, 870.0ms inference, 1.7ms postprocess per image at shape (1, 3, 640, 640)\n",
            "\n",
            "0: 640x640 3 persons, 1 bottle, 1 cell phone, 567.8ms\n",
            "Speed: 3.0ms preprocess, 567.8ms inference, 1.2ms postprocess per image at shape (1, 3, 640, 640)\n",
            "\n",
            "0: 640x640 3 persons, 1 bottle, 1 cell phone, 591.7ms\n",
            "Speed: 3.4ms preprocess, 591.7ms inference, 1.3ms postprocess per image at shape (1, 3, 640, 640)\n",
            "\n",
            "0: 640x640 3 persons, 1 bottle, 1 cell phone, 573.1ms\n",
            "Speed: 5.0ms preprocess, 573.1ms inference, 1.2ms postprocess per image at shape (1, 3, 640, 640)\n",
            "\n",
            "0: 640x640 3 persons, 1 bottle, 1 cell phone, 567.1ms\n",
            "Speed: 4.6ms preprocess, 567.1ms inference, 1.3ms postprocess per image at shape (1, 3, 640, 640)\n",
            "\n",
            "0: 640x640 3 persons, 1 cat, 1 bottle, 1 book, 557.4ms\n",
            "Speed: 2.7ms preprocess, 557.4ms inference, 1.4ms postprocess per image at shape (1, 3, 640, 640)\n",
            "\n",
            "0: 640x640 2 persons, 1 bottle, 1 cell phone, 1 book, 548.3ms\n",
            "Speed: 2.8ms preprocess, 548.3ms inference, 1.2ms postprocess per image at shape (1, 3, 640, 640)\n",
            "\n",
            "0: 640x640 3 persons, 1 bottle, 1 cell phone, 1 book, 568.7ms\n",
            "Speed: 2.6ms preprocess, 568.7ms inference, 1.2ms postprocess per image at shape (1, 3, 640, 640)\n",
            "\n",
            "0: 640x640 3 persons, 1 bottle, 1 cell phone, 576.0ms\n",
            "Speed: 2.7ms preprocess, 576.0ms inference, 1.2ms postprocess per image at shape (1, 3, 640, 640)\n",
            "\n",
            "0: 640x640 3 persons, 1 bottle, 568.2ms\n",
            "Speed: 3.0ms preprocess, 568.2ms inference, 1.3ms postprocess per image at shape (1, 3, 640, 640)\n",
            "\n",
            "0: 640x640 3 persons, 1 bottle, 575.5ms\n",
            "Speed: 2.7ms preprocess, 575.5ms inference, 1.3ms postprocess per image at shape (1, 3, 640, 640)\n",
            "\n",
            "0: 640x640 3 persons, 1 bottle, 624.4ms\n",
            "Speed: 3.0ms preprocess, 624.4ms inference, 1.2ms postprocess per image at shape (1, 3, 640, 640)\n",
            "\n",
            "0: 640x640 2 persons, 1 bottle, 886.5ms\n",
            "Speed: 3.1ms preprocess, 886.5ms inference, 1.7ms postprocess per image at shape (1, 3, 640, 640)\n",
            "\n",
            "0: 640x640 3 persons, 1 bottle, 880.0ms\n",
            "Speed: 2.7ms preprocess, 880.0ms inference, 1.6ms postprocess per image at shape (1, 3, 640, 640)\n",
            "\n",
            "0: 640x640 2 persons, 1 bottle, 895.2ms\n",
            "Speed: 7.1ms preprocess, 895.2ms inference, 1.7ms postprocess per image at shape (1, 3, 640, 640)\n",
            "\n",
            "0: 640x640 3 persons, 1 handbag, 2 bottles, 882.7ms\n",
            "Speed: 2.6ms preprocess, 882.7ms inference, 1.6ms postprocess per image at shape (1, 3, 640, 640)\n",
            "\n",
            "0: 640x640 3 persons, 1 handbag, 2 bottles, 722.4ms\n",
            "Speed: 3.1ms preprocess, 722.4ms inference, 1.2ms postprocess per image at shape (1, 3, 640, 640)\n",
            "\n",
            "0: 640x640 2 persons, 2 bottles, 557.0ms\n",
            "Speed: 2.8ms preprocess, 557.0ms inference, 1.2ms postprocess per image at shape (1, 3, 640, 640)\n",
            "\n",
            "0: 640x640 3 persons, 1 handbag, 2 bottles, 1 refrigerator, 578.4ms\n",
            "Speed: 2.9ms preprocess, 578.4ms inference, 1.3ms postprocess per image at shape (1, 3, 640, 640)\n",
            "\n",
            "0: 640x640 2 persons, 1 handbag, 2 bottles, 560.9ms\n",
            "Speed: 3.5ms preprocess, 560.9ms inference, 1.2ms postprocess per image at shape (1, 3, 640, 640)\n",
            "\n",
            "0: 640x640 3 persons, 2 bottles, 584.9ms\n",
            "Speed: 2.8ms preprocess, 584.9ms inference, 1.3ms postprocess per image at shape (1, 3, 640, 640)\n",
            "\n",
            "0: 640x640 3 persons, 1 handbag, 1 bottle, 553.0ms\n",
            "Speed: 2.4ms preprocess, 553.0ms inference, 1.2ms postprocess per image at shape (1, 3, 640, 640)\n",
            "\n",
            "0: 640x640 3 persons, 2 bottles, 561.7ms\n",
            "Speed: 3.6ms preprocess, 561.7ms inference, 1.2ms postprocess per image at shape (1, 3, 640, 640)\n",
            "\n",
            "0: 640x640 4 persons, 1 bottle, 562.9ms\n",
            "Speed: 3.3ms preprocess, 562.9ms inference, 1.2ms postprocess per image at shape (1, 3, 640, 640)\n",
            "\n",
            "0: 640x640 2 persons, 1 bottle, 574.7ms\n",
            "Speed: 4.8ms preprocess, 574.7ms inference, 1.3ms postprocess per image at shape (1, 3, 640, 640)\n",
            "\n",
            "0: 640x640 3 persons, 1 bottle, 573.8ms\n",
            "Speed: 2.5ms preprocess, 573.8ms inference, 1.2ms postprocess per image at shape (1, 3, 640, 640)\n",
            "\n",
            "0: 640x640 3 persons, 2 bottles, 578.6ms\n",
            "Speed: 2.8ms preprocess, 578.6ms inference, 1.4ms postprocess per image at shape (1, 3, 640, 640)\n",
            "\n",
            "0: 640x640 1 person, 7 bottles, 606.3ms\n",
            "Speed: 3.0ms preprocess, 606.3ms inference, 2.2ms postprocess per image at shape (1, 3, 640, 640)\n",
            "\n",
            "0: 640x640 1 person, 7 bottles, 868.3ms\n",
            "Speed: 3.7ms preprocess, 868.3ms inference, 1.8ms postprocess per image at shape (1, 3, 640, 640)\n",
            "\n",
            "0: 640x640 1 person, 7 bottles, 879.5ms\n",
            "Speed: 13.1ms preprocess, 879.5ms inference, 1.4ms postprocess per image at shape (1, 3, 640, 640)\n",
            "\n",
            "0: 640x640 1 person, 5 bottles, 869.1ms\n",
            "Speed: 9.9ms preprocess, 869.1ms inference, 1.9ms postprocess per image at shape (1, 3, 640, 640)\n",
            "\n",
            "0: 640x640 1 person, 5 bottles, 580.6ms\n",
            "Speed: 3.4ms preprocess, 580.6ms inference, 1.2ms postprocess per image at shape (1, 3, 640, 640)\n",
            "\n",
            "0: 640x640 1 person, 5 bottles, 580.0ms\n",
            "Speed: 3.5ms preprocess, 580.0ms inference, 1.4ms postprocess per image at shape (1, 3, 640, 640)\n",
            "\n",
            "0: 640x640 1 person, 5 bottles, 583.9ms\n",
            "Speed: 2.9ms preprocess, 583.9ms inference, 1.4ms postprocess per image at shape (1, 3, 640, 640)\n",
            "\n",
            "0: 640x640 1 person, 7 bottles, 580.7ms\n",
            "Speed: 3.5ms preprocess, 580.7ms inference, 1.4ms postprocess per image at shape (1, 3, 640, 640)\n",
            "\n",
            "0: 640x640 1 person, 6 bottles, 563.1ms\n",
            "Speed: 3.2ms preprocess, 563.1ms inference, 1.4ms postprocess per image at shape (1, 3, 640, 640)\n",
            "\n",
            "0: 640x640 1 person, 6 bottles, 567.8ms\n",
            "Speed: 3.2ms preprocess, 567.8ms inference, 1.4ms postprocess per image at shape (1, 3, 640, 640)\n",
            "\n",
            "0: 640x640 1 person, 7 bottles, 583.0ms\n",
            "Speed: 4.4ms preprocess, 583.0ms inference, 1.2ms postprocess per image at shape (1, 3, 640, 640)\n",
            "\n",
            "0: 640x640 1 person, 6 bottles, 566.6ms\n",
            "Speed: 9.2ms preprocess, 566.6ms inference, 1.4ms postprocess per image at shape (1, 3, 640, 640)\n",
            "\n",
            "0: 640x640 1 person, 6 bottles, 567.9ms\n",
            "Speed: 2.4ms preprocess, 567.9ms inference, 1.3ms postprocess per image at shape (1, 3, 640, 640)\n",
            "\n",
            "0: 640x640 6 bottles, 582.4ms\n",
            "Speed: 2.5ms preprocess, 582.4ms inference, 1.4ms postprocess per image at shape (1, 3, 640, 640)\n",
            "\n",
            "0: 640x640 1 person, 6 bottles, 865.7ms\n",
            "Speed: 7.7ms preprocess, 865.7ms inference, 2.0ms postprocess per image at shape (1, 3, 640, 640)\n",
            "\n",
            "0: 640x640 1 person, 7 bottles, 866.0ms\n",
            "Speed: 5.5ms preprocess, 866.0ms inference, 1.8ms postprocess per image at shape (1, 3, 640, 640)\n",
            "\n",
            "0: 640x640 1 person, 6 bottles, 875.8ms\n",
            "Speed: 2.2ms preprocess, 875.8ms inference, 1.8ms postprocess per image at shape (1, 3, 640, 640)\n",
            "\n",
            "0: 640x640 1 person, 6 bottles, 731.9ms\n",
            "Speed: 2.7ms preprocess, 731.9ms inference, 1.4ms postprocess per image at shape (1, 3, 640, 640)\n",
            "\n",
            "0: 640x640 1 person, 5 bottles, 562.9ms\n",
            "Speed: 2.4ms preprocess, 562.9ms inference, 1.4ms postprocess per image at shape (1, 3, 640, 640)\n",
            "\n",
            "0: 640x640 1 person, 6 bottles, 580.5ms\n",
            "Speed: 4.2ms preprocess, 580.5ms inference, 1.4ms postprocess per image at shape (1, 3, 640, 640)\n",
            "\n",
            "0: 640x640 1 person, 5 bottles, 568.2ms\n",
            "Speed: 2.4ms preprocess, 568.2ms inference, 1.4ms postprocess per image at shape (1, 3, 640, 640)\n",
            "\n",
            "0: 640x640 1 person, 5 bottles, 564.3ms\n",
            "Speed: 2.8ms preprocess, 564.3ms inference, 1.4ms postprocess per image at shape (1, 3, 640, 640)\n",
            "\n",
            "0: 640x640 1 person, 6 bottles, 577.5ms\n",
            "Speed: 3.1ms preprocess, 577.5ms inference, 1.4ms postprocess per image at shape (1, 3, 640, 640)\n",
            "\n",
            "0: 640x640 1 person, 5 bottles, 553.9ms\n",
            "Speed: 5.4ms preprocess, 553.9ms inference, 1.4ms postprocess per image at shape (1, 3, 640, 640)\n",
            "\n",
            "0: 640x640 1 person, 5 bottles, 549.8ms\n",
            "Speed: 2.4ms preprocess, 549.8ms inference, 1.1ms postprocess per image at shape (1, 3, 640, 640)\n",
            "\n",
            "0: 640x640 1 person, 6 bottles, 557.1ms\n",
            "Speed: 2.6ms preprocess, 557.1ms inference, 1.4ms postprocess per image at shape (1, 3, 640, 640)\n",
            "\n",
            "0: 640x640 1 person, 1 handbag, 6 bottles, 559.6ms\n",
            "Speed: 6.5ms preprocess, 559.6ms inference, 1.4ms postprocess per image at shape (1, 3, 640, 640)\n",
            "\n",
            "0: 640x640 1 person, 1 handbag, 6 bottles, 874.8ms\n",
            "Speed: 7.8ms preprocess, 874.8ms inference, 1.8ms postprocess per image at shape (1, 3, 640, 640)\n",
            "\n",
            "0: 640x640 1 person, 1 handbag, 6 bottles, 886.0ms\n",
            "Speed: 2.3ms preprocess, 886.0ms inference, 1.8ms postprocess per image at shape (1, 3, 640, 640)\n",
            "\n",
            "0: 640x640 1 person, 7 bottles, 874.5ms\n",
            "Speed: 2.2ms preprocess, 874.5ms inference, 1.8ms postprocess per image at shape (1, 3, 640, 640)\n",
            "\n",
            "0: 640x640 1 person, 7 bottles, 874.3ms\n",
            "Speed: 2.5ms preprocess, 874.3ms inference, 1.4ms postprocess per image at shape (1, 3, 640, 640)\n",
            "\n",
            "0: 640x640 1 person, 8 bottles, 566.4ms\n",
            "Speed: 3.9ms preprocess, 566.4ms inference, 1.4ms postprocess per image at shape (1, 3, 640, 640)\n",
            "\n",
            "0: 640x640 1 person, 8 bottles, 570.8ms\n",
            "Speed: 2.6ms preprocess, 570.8ms inference, 1.3ms postprocess per image at shape (1, 3, 640, 640)\n",
            "\n",
            "0: 640x640 1 person, 8 bottles, 567.7ms\n",
            "Speed: 3.2ms preprocess, 567.7ms inference, 1.3ms postprocess per image at shape (1, 3, 640, 640)\n",
            "\n",
            "0: 640x640 1 person, 8 bottles, 569.1ms\n",
            "Speed: 3.4ms preprocess, 569.1ms inference, 1.4ms postprocess per image at shape (1, 3, 640, 640)\n",
            "\n",
            "0: 640x640 1 person, 8 bottles, 564.7ms\n",
            "Speed: 2.9ms preprocess, 564.7ms inference, 1.2ms postprocess per image at shape (1, 3, 640, 640)\n",
            "\n",
            "0: 640x640 2 persons, 1 umbrella, 2 bottles, 2 cell phones, 555.6ms\n",
            "Speed: 3.3ms preprocess, 555.6ms inference, 1.4ms postprocess per image at shape (1, 3, 640, 640)\n",
            "\n",
            "0: 640x640 2 persons, 1 umbrella, 2 bottles, 2 cell phones, 630.3ms\n",
            "Speed: 4.0ms preprocess, 630.3ms inference, 1.4ms postprocess per image at shape (1, 3, 640, 640)\n",
            "\n",
            "0: 640x640 2 persons, 1 umbrella, 2 bottles, 2 cell phones, 571.5ms\n",
            "Speed: 5.3ms preprocess, 571.5ms inference, 1.3ms postprocess per image at shape (1, 3, 640, 640)\n",
            "\n",
            "0: 640x640 2 persons, 1 umbrella, 2 bottles, 1 cell phone, 623.0ms\n",
            "Speed: 3.1ms preprocess, 623.0ms inference, 1.8ms postprocess per image at shape (1, 3, 640, 640)\n",
            "\n",
            "0: 640x640 2 persons, 1 umbrella, 2 bottles, 1 book, 884.8ms\n",
            "Speed: 2.7ms preprocess, 884.8ms inference, 1.8ms postprocess per image at shape (1, 3, 640, 640)\n",
            "\n",
            "0: 640x640 2 persons, 1 umbrella, 2 bottles, 862.5ms\n",
            "Speed: 6.4ms preprocess, 862.5ms inference, 1.8ms postprocess per image at shape (1, 3, 640, 640)\n",
            "\n",
            "0: 640x640 2 persons, 1 umbrella, 2 bottles, 870.8ms\n",
            "Speed: 2.5ms preprocess, 870.8ms inference, 1.8ms postprocess per image at shape (1, 3, 640, 640)\n",
            "\n",
            "0: 640x640 2 persons, 1 umbrella, 2 bottles, 1 book, 978.8ms\n",
            "Speed: 2.2ms preprocess, 978.8ms inference, 2.0ms postprocess per image at shape (1, 3, 640, 640)\n",
            "\n",
            "0: 640x640 2 persons, 1 umbrella, 2 bottles, 1 book, 885.5ms\n",
            "Speed: 2.7ms preprocess, 885.5ms inference, 1.8ms postprocess per image at shape (1, 3, 640, 640)\n",
            "\n",
            "0: 640x640 2 persons, 1 umbrella, 2 bottles, 1 book, 884.4ms\n",
            "Speed: 2.9ms preprocess, 884.4ms inference, 3.5ms postprocess per image at shape (1, 3, 640, 640)\n",
            "\n",
            "0: 640x640 2 persons, 1 umbrella, 2 bottles, 1 book, 911.3ms\n",
            "Speed: 6.4ms preprocess, 911.3ms inference, 1.8ms postprocess per image at shape (1, 3, 640, 640)\n",
            "\n",
            "0: 640x640 2 persons, 1 umbrella, 2 bottles, 1 refrigerator, 888.4ms\n",
            "Speed: 3.0ms preprocess, 888.4ms inference, 1.8ms postprocess per image at shape (1, 3, 640, 640)\n",
            "\n",
            "0: 640x640 2 persons, 1 umbrella, 2 bottles, 1 refrigerator, 806.4ms\n",
            "Speed: 2.6ms preprocess, 806.4ms inference, 1.6ms postprocess per image at shape (1, 3, 640, 640)\n",
            "\n",
            "0: 640x640 2 persons, 1 umbrella, 3 bottles, 1 refrigerator, 562.5ms\n",
            "Speed: 2.8ms preprocess, 562.5ms inference, 1.4ms postprocess per image at shape (1, 3, 640, 640)\n",
            "\n",
            "0: 640x640 2 persons, 1 umbrella, 3 bottles, 1 book, 562.0ms\n",
            "Speed: 2.7ms preprocess, 562.0ms inference, 1.4ms postprocess per image at shape (1, 3, 640, 640)\n",
            "\n",
            "0: 640x640 2 persons, 1 umbrella, 2 bottles, 1 book, 558.1ms\n",
            "Speed: 4.6ms preprocess, 558.1ms inference, 1.4ms postprocess per image at shape (1, 3, 640, 640)\n",
            "\n",
            "0: 640x640 2 persons, 1 umbrella, 2 bottles, 1 book, 567.1ms\n",
            "Speed: 2.9ms preprocess, 567.1ms inference, 1.4ms postprocess per image at shape (1, 3, 640, 640)\n",
            "\n",
            "0: 640x640 2 persons, 1 umbrella, 2 bottles, 1 cell phone, 1 book, 861.3ms\n",
            "Speed: 2.7ms preprocess, 861.3ms inference, 1.9ms postprocess per image at shape (1, 3, 640, 640)\n",
            "\n",
            "0: 640x640 2 persons, 1 umbrella, 2 bottles, 1 cell phone, 1 book, 877.8ms\n",
            "Speed: 3.4ms preprocess, 877.8ms inference, 1.8ms postprocess per image at shape (1, 3, 640, 640)\n",
            "\n",
            "0: 640x640 2 persons, 1 umbrella, 2 bottles, 1 cell phone, 883.2ms\n",
            "Speed: 2.4ms preprocess, 883.2ms inference, 2.0ms postprocess per image at shape (1, 3, 640, 640)\n",
            "\n",
            "0: 640x640 2 persons, 1 umbrella, 2 bottles, 1 cell phone, 782.7ms\n",
            "Speed: 5.8ms preprocess, 782.7ms inference, 1.8ms postprocess per image at shape (1, 3, 640, 640)\n",
            "\n",
            "0: 640x640 2 persons, 1 umbrella, 2 bottles, 1 cell phone, 1 book, 562.3ms\n",
            "Speed: 2.5ms preprocess, 562.3ms inference, 1.4ms postprocess per image at shape (1, 3, 640, 640)\n",
            "\n",
            "0: 640x640 2 persons, 1 umbrella, 1 handbag, 2 bottles, 1 cell phone, 1 book, 561.7ms\n",
            "Speed: 2.4ms preprocess, 561.7ms inference, 1.3ms postprocess per image at shape (1, 3, 640, 640)\n",
            "\n",
            "0: 640x640 2 persons, 1 umbrella, 3 bottles, 2 cell phones, 1 book, 561.2ms\n",
            "Speed: 4.3ms preprocess, 561.2ms inference, 1.4ms postprocess per image at shape (1, 3, 640, 640)\n",
            "\n",
            "0: 640x640 2 persons, 1 umbrella, 1 handbag, 6 bottles, 1 cell phone, 1 book, 552.8ms\n",
            "Speed: 8.7ms preprocess, 552.8ms inference, 1.4ms postprocess per image at shape (1, 3, 640, 640)\n",
            "\n",
            "0: 640x640 2 persons, 1 umbrella, 5 bottles, 2 cell phones, 1 book, 569.9ms\n",
            "Speed: 4.5ms preprocess, 569.9ms inference, 1.5ms postprocess per image at shape (1, 3, 640, 640)\n",
            "\n",
            "0: 640x640 2 persons, 1 umbrella, 1 handbag, 3 bottles, 2 cell phones, 1 book, 585.7ms\n",
            "Speed: 2.7ms preprocess, 585.7ms inference, 1.4ms postprocess per image at shape (1, 3, 640, 640)\n",
            "\n",
            "0: 640x640 2 persons, 1 umbrella, 1 handbag, 3 bottles, 2 cell phones, 1 book, 581.8ms\n",
            "Speed: 5.5ms preprocess, 581.8ms inference, 1.3ms postprocess per image at shape (1, 3, 640, 640)\n",
            "\n",
            "0: 640x640 2 persons, 1 umbrella, 1 handbag, 3 bottles, 2 cell phones, 1 book, 575.2ms\n",
            "Speed: 2.8ms preprocess, 575.2ms inference, 1.4ms postprocess per image at shape (1, 3, 640, 640)\n",
            "\n",
            "0: 640x640 3 persons, 1 umbrella, 3 bottles, 2 cell phones, 1 book, 568.5ms\n",
            "Speed: 5.7ms preprocess, 568.5ms inference, 1.4ms postprocess per image at shape (1, 3, 640, 640)\n",
            "\n",
            "0: 640x640 2 persons, 1 umbrella, 3 bottles, 2 cell phones, 854.6ms\n",
            "Speed: 2.6ms preprocess, 854.6ms inference, 1.8ms postprocess per image at shape (1, 3, 640, 640)\n",
            "\n",
            "0: 640x640 2 persons, 1 umbrella, 3 bottles, 2 cell phones, 888.7ms\n",
            "Speed: 3.0ms preprocess, 888.7ms inference, 2.3ms postprocess per image at shape (1, 3, 640, 640)\n",
            "\n",
            "0: 640x640 2 persons, 1 umbrella, 3 bottles, 2 cell phones, 901.4ms\n",
            "Speed: 3.3ms preprocess, 901.4ms inference, 1.8ms postprocess per image at shape (1, 3, 640, 640)\n",
            "\n",
            "0: 640x640 2 persons, 1 umbrella, 2 bottles, 2 cell phones, 1 refrigerator, 680.1ms\n",
            "Speed: 2.3ms preprocess, 680.1ms inference, 1.5ms postprocess per image at shape (1, 3, 640, 640)\n",
            "\n",
            "0: 640x640 2 persons, 1 umbrella, 2 bottles, 1 cell phone, 581.6ms\n",
            "Speed: 3.7ms preprocess, 581.6ms inference, 1.4ms postprocess per image at shape (1, 3, 640, 640)\n",
            "\n",
            "0: 640x640 2 persons, 1 umbrella, 3 bottles, 2 cell phones, 576.4ms\n",
            "Speed: 3.8ms preprocess, 576.4ms inference, 1.5ms postprocess per image at shape (1, 3, 640, 640)\n",
            "\n",
            "0: 640x640 1 person, 4 bottles, 1 cup, 1 tv, 1 sink, 1 book, 571.1ms\n",
            "Speed: 3.6ms preprocess, 571.1ms inference, 1.3ms postprocess per image at shape (1, 3, 640, 640)\n",
            "\n",
            "0: 640x640 1 person, 4 bottles, 1 cup, 1 tv, 574.1ms\n",
            "Speed: 2.6ms preprocess, 574.1ms inference, 1.4ms postprocess per image at shape (1, 3, 640, 640)\n",
            "\n",
            "0: 640x640 1 person, 4 bottles, 1 cup, 1 tv, 593.9ms\n",
            "Speed: 3.7ms preprocess, 593.9ms inference, 1.4ms postprocess per image at shape (1, 3, 640, 640)\n",
            "\n",
            "0: 640x640 1 person, 4 bottles, 1 cup, 1 tv, 1 sink, 556.1ms\n",
            "Speed: 4.1ms preprocess, 556.1ms inference, 1.3ms postprocess per image at shape (1, 3, 640, 640)\n",
            "\n",
            "0: 640x640 1 person, 3 bottles, 1 tv, 562.7ms\n",
            "Speed: 2.3ms preprocess, 562.7ms inference, 1.3ms postprocess per image at shape (1, 3, 640, 640)\n",
            "\n",
            "0: 640x640 1 person, 3 bottles, 1 cup, 1 tv, 572.2ms\n",
            "Speed: 2.7ms preprocess, 572.2ms inference, 1.3ms postprocess per image at shape (1, 3, 640, 640)\n",
            "\n",
            "0: 640x640 1 person, 3 bottles, 1 cup, 1 tv, 561.0ms\n",
            "Speed: 3.5ms preprocess, 561.0ms inference, 1.4ms postprocess per image at shape (1, 3, 640, 640)\n",
            "\n",
            "0: 640x640 1 person, 5 bottles, 1 cup, 1 tv, 569.0ms\n",
            "Speed: 2.9ms preprocess, 569.0ms inference, 1.3ms postprocess per image at shape (1, 3, 640, 640)\n",
            "\n",
            "0: 640x640 1 person, 4 bottles, 1 cup, 1 tv, 568.4ms\n",
            "Speed: 3.8ms preprocess, 568.4ms inference, 1.4ms postprocess per image at shape (1, 3, 640, 640)\n",
            "\n",
            "0: 640x640 1 person, 4 bottles, 1 cup, 1 tv, 1 sink, 1 book, 873.9ms\n",
            "Speed: 2.5ms preprocess, 873.9ms inference, 1.6ms postprocess per image at shape (1, 3, 640, 640)\n",
            "\n",
            "0: 640x640 1 person, 4 bottles, 1 cup, 1 tv, 1 sink, 3 books, 903.9ms\n",
            "Speed: 7.7ms preprocess, 903.9ms inference, 1.7ms postprocess per image at shape (1, 3, 640, 640)\n",
            "\n",
            "0: 640x640 1 person, 4 bottles, 1 cup, 1 tv, 1 book, 879.0ms\n",
            "Speed: 2.4ms preprocess, 879.0ms inference, 1.8ms postprocess per image at shape (1, 3, 640, 640)\n",
            "\n",
            "0: 640x640 1 person, 4 bottles, 1 cup, 1 tv, 1 book, 862.4ms\n",
            "Speed: 5.2ms preprocess, 862.4ms inference, 2.0ms postprocess per image at shape (1, 3, 640, 640)\n",
            "\n",
            "0: 640x640 1 person, 5 bottles, 1 cup, 1 tv, 1 book, 666.0ms\n",
            "Speed: 2.4ms preprocess, 666.0ms inference, 1.4ms postprocess per image at shape (1, 3, 640, 640)\n",
            "\n",
            "0: 640x640 1 person, 5 bottles, 1 cup, 1 tv, 1 book, 554.6ms\n",
            "Speed: 4.8ms preprocess, 554.6ms inference, 1.4ms postprocess per image at shape (1, 3, 640, 640)\n",
            "\n",
            "0: 640x640 1 person, 4 bottles, 1 cup, 1 tv, 1 book, 562.3ms\n",
            "Speed: 5.8ms preprocess, 562.3ms inference, 1.4ms postprocess per image at shape (1, 3, 640, 640)\n",
            "\n",
            "0: 640x640 1 person, 3 bottles, 1 cup, 1 tv, 562.8ms\n",
            "Speed: 2.6ms preprocess, 562.8ms inference, 1.3ms postprocess per image at shape (1, 3, 640, 640)\n",
            "\n",
            "0: 640x640 1 person, 4 bottles, 1 cup, 1 tv, 1 sink, 1 book, 571.2ms\n",
            "Speed: 2.4ms preprocess, 571.2ms inference, 1.3ms postprocess per image at shape (1, 3, 640, 640)\n",
            "\n",
            "0: 640x640 1 person, 5 bottles, 1 cup, 1 tv, 1 book, 567.3ms\n",
            "Speed: 3.0ms preprocess, 567.3ms inference, 1.2ms postprocess per image at shape (1, 3, 640, 640)\n",
            "\n",
            "0: 640x640 1 person, 6 bottles, 1 cup, 1 tv, 624.7ms\n",
            "Speed: 4.7ms preprocess, 624.7ms inference, 1.7ms postprocess per image at shape (1, 3, 640, 640)\n",
            "\n",
            "0: 640x640 1 person, 6 bottles, 1 cup, 1 tv, 563.5ms\n",
            "Speed: 3.1ms preprocess, 563.5ms inference, 1.4ms postprocess per image at shape (1, 3, 640, 640)\n",
            "\n",
            "0: 640x640 1 person, 5 bottles, 1 cup, 1 tv, 559.0ms\n",
            "Speed: 2.6ms preprocess, 559.0ms inference, 1.4ms postprocess per image at shape (1, 3, 640, 640)\n",
            "\n",
            "0: 640x640 1 person, 6 bottles, 1 cup, 1 tv, 573.6ms\n",
            "Speed: 2.6ms preprocess, 573.6ms inference, 1.5ms postprocess per image at shape (1, 3, 640, 640)\n",
            "\n",
            "0: 640x640 1 person, 5 bottles, 1 cup, 1 tv, 575.9ms\n",
            "Speed: 2.5ms preprocess, 575.9ms inference, 1.2ms postprocess per image at shape (1, 3, 640, 640)\n",
            "\n",
            "0: 640x640 1 person, 5 bottles, 1 cup, 1 tv, 557.1ms\n",
            "Speed: 2.7ms preprocess, 557.1ms inference, 2.1ms postprocess per image at shape (1, 3, 640, 640)\n",
            "\n",
            "0: 640x640 1 person, 4 bottles, 1 cup, 1 tv, 686.7ms\n",
            "Speed: 3.2ms preprocess, 686.7ms inference, 1.8ms postprocess per image at shape (1, 3, 640, 640)\n",
            "\n",
            "0: 640x640 1 person, 3 bottles, 1 cup, 1 tv, 1 sink, 889.4ms\n",
            "Speed: 2.6ms preprocess, 889.4ms inference, 1.9ms postprocess per image at shape (1, 3, 640, 640)\n",
            "\n",
            "0: 640x640 1 person, 4 bottles, 1 cup, 1 tv, 1 book, 886.2ms\n",
            "Speed: 2.7ms preprocess, 886.2ms inference, 1.6ms postprocess per image at shape (1, 3, 640, 640)\n",
            "\n",
            "0: 640x640 1 person, 4 bottles, 1 cup, 1 tv, 1 book, 876.4ms\n",
            "Speed: 2.6ms preprocess, 876.4ms inference, 1.8ms postprocess per image at shape (1, 3, 640, 640)\n",
            "\n",
            "0: 640x640 1 person, 4 bottles, 1 cup, 1 tv, 1 book, 869.9ms\n",
            "Speed: 2.7ms preprocess, 869.9ms inference, 1.4ms postprocess per image at shape (1, 3, 640, 640)\n",
            "\n",
            "0: 640x640 1 person, 4 bottles, 1 cup, 1 tv, 564.9ms\n",
            "Speed: 2.7ms preprocess, 564.9ms inference, 1.2ms postprocess per image at shape (1, 3, 640, 640)\n",
            "\n",
            "0: 640x640 1 person, 5 bottles, 1 cup, 1 tv, 570.3ms\n",
            "Speed: 3.3ms preprocess, 570.3ms inference, 1.5ms postprocess per image at shape (1, 3, 640, 640)\n",
            "\n",
            "0: 640x640 1 person, 6 bottles, 1 cup, 1 tv, 573.2ms\n",
            "Speed: 2.5ms preprocess, 573.2ms inference, 1.2ms postprocess per image at shape (1, 3, 640, 640)\n",
            "\n",
            "0: 640x640 1 person, 4 bottles, 1 cup, 1 tv, 563.8ms\n",
            "Speed: 2.7ms preprocess, 563.8ms inference, 1.2ms postprocess per image at shape (1, 3, 640, 640)\n",
            "\n",
            "0: 640x640 1 person, 4 bottles, 1 cup, 1 tv, 550.5ms\n",
            "Speed: 3.7ms preprocess, 550.5ms inference, 1.9ms postprocess per image at shape (1, 3, 640, 640)\n",
            "\n",
            "0: 640x640 1 person, 5 bottles, 1 cup, 1 tv, 563.6ms\n",
            "Speed: 3.6ms preprocess, 563.6ms inference, 1.4ms postprocess per image at shape (1, 3, 640, 640)\n",
            "\n",
            "0: 640x640 2 persons, 5 bottles, 570.0ms\n",
            "Speed: 3.4ms preprocess, 570.0ms inference, 1.2ms postprocess per image at shape (1, 3, 640, 640)\n",
            "\n",
            "0: 640x640 2 persons, 6 bottles, 579.8ms\n",
            "Speed: 2.5ms preprocess, 579.8ms inference, 1.2ms postprocess per image at shape (1, 3, 640, 640)\n",
            "\n",
            "0: 640x640 2 persons, 6 bottles, 583.8ms\n",
            "Speed: 2.5ms preprocess, 583.8ms inference, 1.3ms postprocess per image at shape (1, 3, 640, 640)\n",
            "\n",
            "0: 640x640 2 persons, 7 bottles, 573.4ms\n",
            "Speed: 3.8ms preprocess, 573.4ms inference, 1.3ms postprocess per image at shape (1, 3, 640, 640)\n",
            "\n",
            "0: 640x640 2 persons, 7 bottles, 559.9ms\n",
            "Speed: 2.8ms preprocess, 559.9ms inference, 2.2ms postprocess per image at shape (1, 3, 640, 640)\n",
            "\n",
            "0: 640x640 2 persons, 6 bottles, 686.9ms\n",
            "Speed: 2.7ms preprocess, 686.9ms inference, 1.9ms postprocess per image at shape (1, 3, 640, 640)\n",
            "\n",
            "0: 640x640 2 persons, 6 bottles, 875.0ms\n",
            "Speed: 2.5ms preprocess, 875.0ms inference, 1.6ms postprocess per image at shape (1, 3, 640, 640)\n",
            "\n",
            "0: 640x640 2 persons, 7 bottles, 872.9ms\n",
            "Speed: 4.8ms preprocess, 872.9ms inference, 1.8ms postprocess per image at shape (1, 3, 640, 640)\n",
            "\n",
            "0: 640x640 2 persons, 7 bottles, 874.8ms\n",
            "Speed: 2.4ms preprocess, 874.8ms inference, 1.8ms postprocess per image at shape (1, 3, 640, 640)\n",
            "\n",
            "0: 640x640 2 persons, 6 bottles, 883.1ms\n",
            "Speed: 2.4ms preprocess, 883.1ms inference, 1.5ms postprocess per image at shape (1, 3, 640, 640)\n",
            "\n",
            "0: 640x640 3 persons, 6 bottles, 580.2ms\n",
            "Speed: 3.4ms preprocess, 580.2ms inference, 1.2ms postprocess per image at shape (1, 3, 640, 640)\n",
            "\n",
            "0: 640x640 3 persons, 6 bottles, 580.9ms\n",
            "Speed: 3.8ms preprocess, 580.9ms inference, 1.2ms postprocess per image at shape (1, 3, 640, 640)\n",
            "\n",
            "0: 640x640 2 persons, 7 bottles, 585.9ms\n",
            "Speed: 2.4ms preprocess, 585.9ms inference, 1.4ms postprocess per image at shape (1, 3, 640, 640)\n",
            "\n",
            "0: 640x640 2 persons, 7 bottles, 573.3ms\n",
            "Speed: 3.3ms preprocess, 573.3ms inference, 1.3ms postprocess per image at shape (1, 3, 640, 640)\n",
            "\n",
            "0: 640x640 2 persons, 7 bottles, 575.3ms\n",
            "Speed: 3.5ms preprocess, 575.3ms inference, 1.2ms postprocess per image at shape (1, 3, 640, 640)\n",
            "\n",
            "0: 640x640 2 persons, 7 bottles, 567.3ms\n",
            "Speed: 4.6ms preprocess, 567.3ms inference, 1.2ms postprocess per image at shape (1, 3, 640, 640)\n",
            "\n",
            "0: 640x640 2 persons, 7 bottles, 607.4ms\n",
            "Speed: 3.3ms preprocess, 607.4ms inference, 1.9ms postprocess per image at shape (1, 3, 640, 640)\n",
            "\n",
            "0: 640x640 2 persons, 7 bottles, 583.2ms\n",
            "Speed: 3.5ms preprocess, 583.2ms inference, 1.4ms postprocess per image at shape (1, 3, 640, 640)\n",
            "\n",
            "0: 640x640 2 persons, 7 bottles, 571.0ms\n",
            "Speed: 2.9ms preprocess, 571.0ms inference, 1.2ms postprocess per image at shape (1, 3, 640, 640)\n",
            "\n",
            "0: 640x640 2 persons, 7 bottles, 564.4ms\n",
            "Speed: 3.6ms preprocess, 564.4ms inference, 1.2ms postprocess per image at shape (1, 3, 640, 640)\n",
            "\n",
            "0: 640x640 2 persons, 7 bottles, 673.8ms\n",
            "Speed: 5.8ms preprocess, 673.8ms inference, 2.8ms postprocess per image at shape (1, 3, 640, 640)\n",
            "\n",
            "0: 640x640 2 persons, 6 bottles, 872.1ms\n",
            "Speed: 3.1ms preprocess, 872.1ms inference, 4.7ms postprocess per image at shape (1, 3, 640, 640)\n",
            "\n",
            "0: 640x640 2 persons, 7 bottles, 873.1ms\n",
            "Speed: 2.5ms preprocess, 873.1ms inference, 1.6ms postprocess per image at shape (1, 3, 640, 640)\n",
            "\n",
            "0: 640x640 2 persons, 7 bottles, 873.6ms\n",
            "Speed: 2.7ms preprocess, 873.6ms inference, 1.6ms postprocess per image at shape (1, 3, 640, 640)\n",
            "\n",
            "0: 640x640 2 persons, 8 bottles, 653.3ms\n",
            "Speed: 3.1ms preprocess, 653.3ms inference, 1.2ms postprocess per image at shape (1, 3, 640, 640)\n",
            "\n",
            "0: 640x640 2 persons, 8 bottles, 588.3ms\n",
            "Speed: 2.5ms preprocess, 588.3ms inference, 1.2ms postprocess per image at shape (1, 3, 640, 640)\n",
            "\n",
            "0: 640x640 2 persons, 7 bottles, 582.7ms\n",
            "Speed: 2.1ms preprocess, 582.7ms inference, 1.4ms postprocess per image at shape (1, 3, 640, 640)\n",
            "\n",
            "0: 640x640 2 persons, 7 bottles, 574.9ms\n",
            "Speed: 5.9ms preprocess, 574.9ms inference, 1.2ms postprocess per image at shape (1, 3, 640, 640)\n",
            "\n",
            "0: 640x640 2 persons, 5 bottles, 574.6ms\n",
            "Speed: 2.5ms preprocess, 574.6ms inference, 1.2ms postprocess per image at shape (1, 3, 640, 640)\n",
            "\n",
            "0: 640x640 2 persons, 6 bottles, 571.4ms\n",
            "Speed: 6.2ms preprocess, 571.4ms inference, 1.3ms postprocess per image at shape (1, 3, 640, 640)\n",
            "\n",
            "0: 640x640 2 persons, 7 bottles, 573.5ms\n",
            "Speed: 2.4ms preprocess, 573.5ms inference, 1.3ms postprocess per image at shape (1, 3, 640, 640)\n",
            "\n",
            "0: 640x640 2 persons, 7 bottles, 569.8ms\n",
            "Speed: 2.8ms preprocess, 569.8ms inference, 1.4ms postprocess per image at shape (1, 3, 640, 640)\n",
            "\n",
            "0: 640x640 2 persons, 7 bottles, 574.5ms\n",
            "Speed: 2.4ms preprocess, 574.5ms inference, 1.7ms postprocess per image at shape (1, 3, 640, 640)\n",
            "\n",
            "0: 640x640 2 persons, 6 bottles, 556.7ms\n",
            "Speed: 2.3ms preprocess, 556.7ms inference, 1.1ms postprocess per image at shape (1, 3, 640, 640)\n",
            "\n",
            "0: 640x640 2 persons, 7 bottles, 558.7ms\n",
            "Speed: 3.7ms preprocess, 558.7ms inference, 1.2ms postprocess per image at shape (1, 3, 640, 640)\n",
            "\n",
            "0: 640x640 2 persons, 5 bottles, 724.5ms\n",
            "Speed: 2.8ms preprocess, 724.5ms inference, 1.5ms postprocess per image at shape (1, 3, 640, 640)\n",
            "\n",
            "0: 640x640 1 person, 2 ties, 1 microwave, 1 sink, 1 book, 866.0ms\n",
            "Speed: 2.6ms preprocess, 866.0ms inference, 2.0ms postprocess per image at shape (1, 3, 640, 640)\n",
            "\n",
            "0: 640x640 1 person, 1 microwave, 1 sink, 1 book, 876.0ms\n",
            "Speed: 2.7ms preprocess, 876.0ms inference, 1.7ms postprocess per image at shape (1, 3, 640, 640)\n",
            "\n",
            "0: 640x640 1 person, 1 microwave, 1 sink, 1 book, 884.4ms\n",
            "Speed: 2.7ms preprocess, 884.4ms inference, 1.7ms postprocess per image at shape (1, 3, 640, 640)\n",
            "\n",
            "0: 640x640 1 person, 1 chair, 1 microwave, 1 sink, 1 book, 811.7ms\n",
            "Speed: 3.3ms preprocess, 811.7ms inference, 1.3ms postprocess per image at shape (1, 3, 640, 640)\n",
            "\n",
            "0: 640x640 1 person, 1 chair, 1 microwave, 1 sink, 1 book, 559.1ms\n",
            "Speed: 2.7ms preprocess, 559.1ms inference, 1.4ms postprocess per image at shape (1, 3, 640, 640)\n",
            "\n",
            "0: 640x640 1 person, 1 chair, 1 microwave, 1 sink, 1 book, 571.5ms\n",
            "Speed: 5.2ms preprocess, 571.5ms inference, 1.3ms postprocess per image at shape (1, 3, 640, 640)\n",
            "\n",
            "0: 640x640 1 person, 1 chair, 1 toilet, 1 microwave, 1 sink, 1 book, 574.1ms\n",
            "Speed: 2.7ms preprocess, 574.1ms inference, 1.3ms postprocess per image at shape (1, 3, 640, 640)\n",
            "\n",
            "0: 640x640 1 person, 1 chair, 1 microwave, 1 sink, 1 book, 607.6ms\n",
            "Speed: 3.6ms preprocess, 607.6ms inference, 1.3ms postprocess per image at shape (1, 3, 640, 640)\n",
            "\n",
            "0: 640x640 1 person, 1 toilet, 1 microwave, 1 sink, 1 book, 547.2ms\n",
            "Speed: 9.7ms preprocess, 547.2ms inference, 1.3ms postprocess per image at shape (1, 3, 640, 640)\n",
            "\n",
            "0: 640x640 1 person, 1 chair, 1 microwave, 1 sink, 1 book, 575.2ms\n",
            "Speed: 2.7ms preprocess, 575.2ms inference, 1.2ms postprocess per image at shape (1, 3, 640, 640)\n",
            "\n",
            "0: 640x640 1 person, 1 chair, 1 microwave, 1 sink, 1 book, 566.1ms\n",
            "Speed: 2.6ms preprocess, 566.1ms inference, 1.3ms postprocess per image at shape (1, 3, 640, 640)\n",
            "\n",
            "0: 640x640 1 person, 1 bottle, 2 chairs, 1 toilet, 1 microwave, 1 sink, 1 book, 568.4ms\n",
            "Speed: 2.6ms preprocess, 568.4ms inference, 2.1ms postprocess per image at shape (1, 3, 640, 640)\n",
            "\n",
            "0: 640x640 1 person, 3 chairs, 1 microwave, 1 sink, 1 book, 551.6ms\n",
            "Speed: 2.8ms preprocess, 551.6ms inference, 1.4ms postprocess per image at shape (1, 3, 640, 640)\n",
            "\n",
            "0: 640x640 1 person, 1 toilet, 1 microwave, 1 sink, 1 book, 564.5ms\n",
            "Speed: 3.6ms preprocess, 564.5ms inference, 1.2ms postprocess per image at shape (1, 3, 640, 640)\n",
            "\n",
            "0: 640x640 1 person, 1 toilet, 1 microwave, 1 sink, 1 book, 562.1ms\n",
            "Speed: 3.5ms preprocess, 562.1ms inference, 1.3ms postprocess per image at shape (1, 3, 640, 640)\n",
            "\n",
            "0: 640x640 1 person, 1 microwave, 1 sink, 1 book, 572.7ms\n",
            "Speed: 3.2ms preprocess, 572.7ms inference, 1.2ms postprocess per image at shape (1, 3, 640, 640)\n",
            "\n",
            "0: 640x640 1 person, 1 microwave, 1 sink, 1 book, 820.7ms\n",
            "Speed: 4.0ms preprocess, 820.7ms inference, 1.9ms postprocess per image at shape (1, 3, 640, 640)\n",
            "\n",
            "0: 640x640 1 person, 1 handbag, 1 sink, 1 book, 861.0ms\n",
            "Speed: 2.5ms preprocess, 861.0ms inference, 1.7ms postprocess per image at shape (1, 3, 640, 640)\n",
            "\n",
            "0: 640x640 1 person, 1 sink, 1 book, 882.0ms\n",
            "Speed: 2.6ms preprocess, 882.0ms inference, 1.7ms postprocess per image at shape (1, 3, 640, 640)\n",
            "\n",
            "0: 640x640 1 person, 1 chair, 1 microwave, 1 sink, 1 book, 879.4ms\n",
            "Speed: 3.0ms preprocess, 879.4ms inference, 1.8ms postprocess per image at shape (1, 3, 640, 640)\n",
            "\n",
            "0: 640x640 1 person, 1 sink, 1 book, 855.7ms\n",
            "Speed: 5.0ms preprocess, 855.7ms inference, 1.7ms postprocess per image at shape (1, 3, 640, 640)\n",
            "\n",
            "0: 640x640 1 person, 1 chair, 1 microwave, 1 sink, 1 book, 560.4ms\n",
            "Speed: 2.7ms preprocess, 560.4ms inference, 1.3ms postprocess per image at shape (1, 3, 640, 640)\n",
            "\n",
            "0: 640x640 1 person, 1 handbag, 1 microwave, 1 sink, 1 book, 552.9ms\n",
            "Speed: 7.7ms preprocess, 552.9ms inference, 1.3ms postprocess per image at shape (1, 3, 640, 640)\n",
            "\n",
            "0: 640x640 1 person, 1 handbag, 1 suitcase, 1 microwave, 1 sink, 1 book, 570.3ms\n",
            "Speed: 2.9ms preprocess, 570.3ms inference, 1.3ms postprocess per image at shape (1, 3, 640, 640)\n",
            "\n",
            "0: 640x640 1 person, 1 handbag, 1 microwave, 1 sink, 1 book, 585.2ms\n",
            "Speed: 3.0ms preprocess, 585.2ms inference, 1.2ms postprocess per image at shape (1, 3, 640, 640)\n",
            "\n",
            "0: 640x640 1 person, 1 handbag, 1 microwave, 1 sink, 1 book, 564.4ms\n",
            "Speed: 3.5ms preprocess, 564.4ms inference, 1.3ms postprocess per image at shape (1, 3, 640, 640)\n",
            "\n",
            "0: 640x640 1 person, 1 handbag, 1 microwave, 1 sink, 1 book, 565.2ms\n",
            "Speed: 3.7ms preprocess, 565.2ms inference, 1.4ms postprocess per image at shape (1, 3, 640, 640)\n",
            "\n",
            "0: 640x640 1 person, 1 handbag, 1 suitcase, 1 microwave, 1 sink, 1 book, 545.9ms\n",
            "Speed: 4.6ms preprocess, 545.9ms inference, 1.3ms postprocess per image at shape (1, 3, 640, 640)\n",
            "\n",
            "0: 640x640 1 person, 1 handbag, 1 microwave, 1 sink, 1 book, 561.3ms\n",
            "Speed: 2.6ms preprocess, 561.3ms inference, 1.7ms postprocess per image at shape (1, 3, 640, 640)\n",
            "\n",
            "0: 640x640 1 person, 1 microwave, 1 sink, 1 book, 553.1ms\n",
            "Speed: 2.8ms preprocess, 553.1ms inference, 1.2ms postprocess per image at shape (1, 3, 640, 640)\n",
            "\n",
            "0: 640x640 1 person, 1 chair, 1 microwave, 1 sink, 1 book, 567.6ms\n",
            "Speed: 2.5ms preprocess, 567.6ms inference, 1.2ms postprocess per image at shape (1, 3, 640, 640)\n",
            "\n",
            "0: 640x640 1 person, 1 surfboard, 1 chair, 1 microwave, 1 sink, 1 book, 570.2ms\n",
            "Speed: 5.8ms preprocess, 570.2ms inference, 1.4ms postprocess per image at shape (1, 3, 640, 640)\n",
            "\n",
            "0: 640x640 1 person, 1 surfboard, 1 microwave, 1 sink, 1 book, 570.7ms\n",
            "Speed: 2.6ms preprocess, 570.7ms inference, 2.0ms postprocess per image at shape (1, 3, 640, 640)\n",
            "\n",
            "0: 640x640 1 person, 1 surfboard, 1 microwave, 1 sink, 1 book, 867.8ms\n",
            "Speed: 2.9ms preprocess, 867.8ms inference, 1.8ms postprocess per image at shape (1, 3, 640, 640)\n",
            "\n",
            "0: 640x640 1 person, 1 surfboard, 1 chair, 1 microwave, 1 sink, 1 book, 867.3ms\n",
            "Speed: 2.7ms preprocess, 867.3ms inference, 1.6ms postprocess per image at shape (1, 3, 640, 640)\n",
            "\n",
            "0: 640x640 1 person, 1 chair, 1 microwave, 1 sink, 1 book, 868.4ms\n",
            "Speed: 2.5ms preprocess, 868.4ms inference, 1.6ms postprocess per image at shape (1, 3, 640, 640)\n",
            "\n",
            "0: 640x640 1 person, 1 snowboard, 1 bottle, 1 book, 861.0ms\n",
            "Speed: 2.4ms preprocess, 861.0ms inference, 1.7ms postprocess per image at shape (1, 3, 640, 640)\n",
            "\n",
            "0: 640x640 1 person, 2 snowboards, 1 bottle, 1 book, 598.8ms\n",
            "Speed: 7.8ms preprocess, 598.8ms inference, 2.1ms postprocess per image at shape (1, 3, 640, 640)\n",
            "\n",
            "0: 640x640 1 person, 2 snowboards, 1 book, 558.0ms\n",
            "Speed: 3.0ms preprocess, 558.0ms inference, 1.3ms postprocess per image at shape (1, 3, 640, 640)\n",
            "\n",
            "0: 640x640 1 person, 2 snowboards, 1 book, 570.8ms\n",
            "Speed: 2.6ms preprocess, 570.8ms inference, 1.2ms postprocess per image at shape (1, 3, 640, 640)\n",
            "\n",
            "0: 640x640 1 person, 2 snowboards, 1 book, 574.7ms\n",
            "Speed: 2.7ms preprocess, 574.7ms inference, 1.3ms postprocess per image at shape (1, 3, 640, 640)\n",
            "\n",
            "0: 640x640 1 person, 2 snowboards, 1 kite, 1 book, 558.5ms\n",
            "Speed: 2.7ms preprocess, 558.5ms inference, 1.2ms postprocess per image at shape (1, 3, 640, 640)\n",
            "\n",
            "0: 640x640 1 person, 1 snowboard, 1 cake, 1 book, 575.9ms\n",
            "Speed: 2.7ms preprocess, 575.9ms inference, 1.2ms postprocess per image at shape (1, 3, 640, 640)\n",
            "\n",
            "0: 640x640 1 person, 1 snowboard, 1 cake, 1 book, 599.3ms\n",
            "Speed: 3.5ms preprocess, 599.3ms inference, 1.3ms postprocess per image at shape (1, 3, 640, 640)\n",
            "\n",
            "0: 640x640 1 person, 1 snowboard, 1 cake, 1 book, 578.2ms\n",
            "Speed: 4.0ms preprocess, 578.2ms inference, 1.2ms postprocess per image at shape (1, 3, 640, 640)\n",
            "\n",
            "0: 640x640 1 person, 2 snowboards, 1 cake, 1 book, 564.7ms\n",
            "Speed: 3.9ms preprocess, 564.7ms inference, 1.3ms postprocess per image at shape (1, 3, 640, 640)\n",
            "\n",
            "0: 640x640 1 person, 2 snowboards, 1 bottle, 1 book, 557.1ms\n",
            "Speed: 2.6ms preprocess, 557.1ms inference, 1.3ms postprocess per image at shape (1, 3, 640, 640)\n",
            "\n",
            "0: 640x640 1 person, 1 handbag, 2 snowboards, 1 cake, 1 book, 571.2ms\n",
            "Speed: 2.6ms preprocess, 571.2ms inference, 1.4ms postprocess per image at shape (1, 3, 640, 640)\n",
            "\n",
            "0: 640x640 1 person, 2 snowboards, 1 cup, 1 book, 575.9ms\n",
            "Speed: 3.1ms preprocess, 575.9ms inference, 1.2ms postprocess per image at shape (1, 3, 640, 640)\n",
            "\n",
            "0: 640x640 1 person, 1 umbrella, 2 snowboards, 1 bottle, 553.9ms\n",
            "Speed: 3.8ms preprocess, 553.9ms inference, 1.3ms postprocess per image at shape (1, 3, 640, 640)\n",
            "\n",
            "0: 640x640 1 person, 1 umbrella, 1 snowboard, 2 kites, 2 bottles, 722.2ms\n",
            "Speed: 3.8ms preprocess, 722.2ms inference, 1.9ms postprocess per image at shape (1, 3, 640, 640)\n",
            "\n",
            "0: 640x640 1 person, 1 umbrella, 2 snowboards, 1 kite, 867.9ms\n",
            "Speed: 4.7ms preprocess, 867.9ms inference, 1.8ms postprocess per image at shape (1, 3, 640, 640)\n",
            "\n",
            "0: 640x640 1 person, 1 umbrella, 2 snowboards, 1 kite, 3 bottles, 858.8ms\n",
            "Speed: 2.6ms preprocess, 858.8ms inference, 1.6ms postprocess per image at shape (1, 3, 640, 640)\n",
            "\n",
            "0: 640x640 1 person, 1 umbrella, 1 snowboard, 3 bottles, 855.4ms\n",
            "Speed: 2.5ms preprocess, 855.4ms inference, 1.6ms postprocess per image at shape (1, 3, 640, 640)\n",
            "\n",
            "0: 640x640 1 person, 1 umbrella, 1 snowboard, 3 bottles, 863.5ms\n",
            "Speed: 2.6ms preprocess, 863.5ms inference, 1.7ms postprocess per image at shape (1, 3, 640, 640)\n",
            "\n",
            "0: 640x640 1 person, 1 umbrella, 1 snowboard, 3 bottles, 585.9ms\n",
            "Speed: 5.4ms preprocess, 585.9ms inference, 1.4ms postprocess per image at shape (1, 3, 640, 640)\n",
            "\n",
            "0: 640x640 1 person, 1 umbrella, 2 snowboards, 1 kite, 3 bottles, 576.8ms\n",
            "Speed: 2.7ms preprocess, 576.8ms inference, 1.3ms postprocess per image at shape (1, 3, 640, 640)\n",
            "\n",
            "0: 640x640 1 person, 1 umbrella, 2 snowboards, 1 kite, 4 bottles, 580.6ms\n",
            "Speed: 2.6ms preprocess, 580.6ms inference, 1.2ms postprocess per image at shape (1, 3, 640, 640)\n",
            "\n",
            "0: 640x640 1 person, 1 umbrella, 2 snowboards, 1 kite, 2 bottles, 566.4ms\n",
            "Speed: 2.6ms preprocess, 566.4ms inference, 1.4ms postprocess per image at shape (1, 3, 640, 640)\n",
            "\n",
            "0: 640x640 1 person, 1 umbrella, 2 snowboards, 1 kite, 3 bottles, 557.2ms\n",
            "Speed: 4.6ms preprocess, 557.2ms inference, 1.3ms postprocess per image at shape (1, 3, 640, 640)\n",
            "\n",
            "0: 640x640 1 person, 1 umbrella, 2 snowboards, 1 kite, 3 bottles, 553.2ms\n",
            "Speed: 2.9ms preprocess, 553.2ms inference, 1.3ms postprocess per image at shape (1, 3, 640, 640)\n",
            "\n",
            "0: 640x640 1 person, 1 umbrella, 2 snowboards, 1 kite, 4 bottles, 552.6ms\n",
            "Speed: 3.0ms preprocess, 552.6ms inference, 1.3ms postprocess per image at shape (1, 3, 640, 640)\n",
            "\n",
            "0: 640x640 1 person, 1 umbrella, 2 snowboards, 1 kite, 2 bottles, 560.8ms\n",
            "Speed: 3.6ms preprocess, 560.8ms inference, 1.2ms postprocess per image at shape (1, 3, 640, 640)\n",
            "\n",
            "0: 640x640 1 person, 1 umbrella, 2 snowboards, 1 kite, 4 bottles, 558.5ms\n",
            "Speed: 3.6ms preprocess, 558.5ms inference, 1.4ms postprocess per image at shape (1, 3, 640, 640)\n",
            "\n",
            "0: 640x640 1 person, 1 umbrella, 2 snowboards, 1 kite, 2 bottles, 552.2ms\n",
            "Speed: 2.8ms preprocess, 552.2ms inference, 1.2ms postprocess per image at shape (1, 3, 640, 640)\n",
            "\n",
            "0: 640x640 1 person, 1 umbrella, 2 snowboards, 1 kite, 3 bottles, 556.2ms\n",
            "Speed: 2.5ms preprocess, 556.2ms inference, 1.2ms postprocess per image at shape (1, 3, 640, 640)\n",
            "\n",
            "0: 640x640 1 person, 1 umbrella, 2 snowboards, 1 kite, 4 bottles, 554.7ms\n",
            "Speed: 3.0ms preprocess, 554.7ms inference, 1.3ms postprocess per image at shape (1, 3, 640, 640)\n",
            "\n",
            "0: 640x640 1 person, 1 umbrella, 1 snowboard, 1 kite, 2 bottles, 760.7ms\n",
            "Speed: 2.7ms preprocess, 760.7ms inference, 1.6ms postprocess per image at shape (1, 3, 640, 640)\n",
            "\n",
            "0: 640x640 1 person, 1 umbrella, 2 snowboards, 1 kite, 2 bottles, 859.9ms\n",
            "Speed: 2.6ms preprocess, 859.9ms inference, 1.8ms postprocess per image at shape (1, 3, 640, 640)\n",
            "\n",
            "0: 640x640 1 person, 1 umbrella, 2 snowboards, 1 kite, 2 bottles, 875.5ms\n",
            "Speed: 2.6ms preprocess, 875.5ms inference, 1.9ms postprocess per image at shape (1, 3, 640, 640)\n",
            "\n",
            "0: 640x640 1 person, 1 umbrella, 2 snowboards, 1 kite, 2 bottles, 852.6ms\n",
            "Speed: 2.6ms preprocess, 852.6ms inference, 1.5ms postprocess per image at shape (1, 3, 640, 640)\n",
            "\n",
            "0: 640x640 1 person, 1 umbrella, 2 snowboards, 1 kite, 2 bottles, 1 cup, 864.0ms\n",
            "Speed: 2.5ms preprocess, 864.0ms inference, 1.6ms postprocess per image at shape (1, 3, 640, 640)\n",
            "\n",
            "0: 640x640 2 persons, 4 bottles, 1 cell phone, 1 book, 560.9ms\n",
            "Speed: 3.7ms preprocess, 560.9ms inference, 1.4ms postprocess per image at shape (1, 3, 640, 640)\n",
            "\n",
            "0: 640x640 2 persons, 5 bottles, 1 book, 632.8ms\n",
            "Speed: 2.9ms preprocess, 632.8ms inference, 1.3ms postprocess per image at shape (1, 3, 640, 640)\n",
            "\n",
            "0: 640x640 2 persons, 4 bottles, 1 book, 575.6ms\n",
            "Speed: 3.1ms preprocess, 575.6ms inference, 1.4ms postprocess per image at shape (1, 3, 640, 640)\n",
            "\n",
            "0: 640x640 2 persons, 3 bottles, 1 cell phone, 1 book, 557.3ms\n",
            "Speed: 3.2ms preprocess, 557.3ms inference, 1.4ms postprocess per image at shape (1, 3, 640, 640)\n",
            "\n",
            "0: 640x640 2 persons, 4 bottles, 1 cell phone, 562.4ms\n",
            "Speed: 4.8ms preprocess, 562.4ms inference, 1.3ms postprocess per image at shape (1, 3, 640, 640)\n",
            "\n",
            "0: 640x640 2 persons, 3 bottles, 1 cell phone, 563.0ms\n",
            "Speed: 2.8ms preprocess, 563.0ms inference, 1.2ms postprocess per image at shape (1, 3, 640, 640)\n",
            "\n",
            "0: 640x640 2 persons, 3 bottles, 1 cell phone, 576.8ms\n",
            "Speed: 4.1ms preprocess, 576.8ms inference, 1.2ms postprocess per image at shape (1, 3, 640, 640)\n",
            "\n",
            "0: 640x640 2 persons, 3 bottles, 1 cell phone, 575.7ms\n",
            "Speed: 2.6ms preprocess, 575.7ms inference, 1.2ms postprocess per image at shape (1, 3, 640, 640)\n",
            "\n",
            "0: 640x640 2 persons, 3 bottles, 1 cell phone, 552.6ms\n",
            "Speed: 2.5ms preprocess, 552.6ms inference, 1.3ms postprocess per image at shape (1, 3, 640, 640)\n",
            "\n",
            "0: 640x640 2 persons, 4 bottles, 1 cell phone, 551.5ms\n",
            "Speed: 2.7ms preprocess, 551.5ms inference, 1.3ms postprocess per image at shape (1, 3, 640, 640)\n",
            "\n",
            "0: 640x640 2 persons, 3 bottles, 1 cell phone, 1 book, 873.0ms\n",
            "Speed: 2.5ms preprocess, 873.0ms inference, 1.8ms postprocess per image at shape (1, 3, 640, 640)\n",
            "\n",
            "0: 640x640 2 persons, 4 bottles, 1 cell phone, 865.6ms\n",
            "Speed: 7.6ms preprocess, 865.6ms inference, 2.0ms postprocess per image at shape (1, 3, 640, 640)\n",
            "\n",
            "0: 640x640 2 persons, 6 bottles, 1 cell phone, 881.7ms\n",
            "Speed: 2.5ms preprocess, 881.7ms inference, 2.0ms postprocess per image at shape (1, 3, 640, 640)\n",
            "\n",
            "0: 640x640 2 persons, 6 bottles, 1 book, 876.8ms\n",
            "Speed: 5.6ms preprocess, 876.8ms inference, 1.3ms postprocess per image at shape (1, 3, 640, 640)\n",
            "\n",
            "0: 640x640 2 persons, 5 bottles, 1 book, 577.6ms\n",
            "Speed: 2.7ms preprocess, 577.6ms inference, 1.2ms postprocess per image at shape (1, 3, 640, 640)\n",
            "\n",
            "0: 640x640 2 persons, 6 bottles, 1 book, 565.5ms\n",
            "Speed: 2.5ms preprocess, 565.5ms inference, 1.3ms postprocess per image at shape (1, 3, 640, 640)\n",
            "\n",
            "0: 640x640 2 persons, 4 bottles, 1 book, 560.7ms\n",
            "Speed: 3.6ms preprocess, 560.7ms inference, 1.2ms postprocess per image at shape (1, 3, 640, 640)\n",
            "\n",
            "0: 640x640 2 persons, 4 bottles, 1 book, 552.8ms\n",
            "Speed: 2.3ms preprocess, 552.8ms inference, 1.3ms postprocess per image at shape (1, 3, 640, 640)\n",
            "\n",
            "0: 640x640 2 persons, 4 bottles, 1 book, 562.0ms\n",
            "Speed: 2.5ms preprocess, 562.0ms inference, 1.5ms postprocess per image at shape (1, 3, 640, 640)\n",
            "\n",
            "0: 640x640 2 persons, 3 bottles, 1 book, 566.8ms\n",
            "Speed: 2.6ms preprocess, 566.8ms inference, 1.3ms postprocess per image at shape (1, 3, 640, 640)\n",
            "\n",
            "0: 640x640 2 persons, 3 bottles, 1 book, 576.7ms\n",
            "Speed: 2.7ms preprocess, 576.7ms inference, 1.4ms postprocess per image at shape (1, 3, 640, 640)\n",
            "\n",
            "0: 640x640 2 persons, 4 bottles, 1 book, 581.1ms\n",
            "Speed: 2.8ms preprocess, 581.1ms inference, 1.4ms postprocess per image at shape (1, 3, 640, 640)\n",
            "\n",
            "0: 640x640 2 persons, 4 bottles, 1 book, 581.5ms\n",
            "Speed: 3.2ms preprocess, 581.5ms inference, 1.2ms postprocess per image at shape (1, 3, 640, 640)\n",
            "\n",
            "0: 640x640 2 persons, 3 bottles, 1 book, 570.5ms\n",
            "Speed: 2.5ms preprocess, 570.5ms inference, 1.2ms postprocess per image at shape (1, 3, 640, 640)\n",
            "\n",
            "0: 640x640 2 persons, 3 bottles, 1 book, 634.3ms\n",
            "Speed: 2.5ms preprocess, 634.3ms inference, 1.6ms postprocess per image at shape (1, 3, 640, 640)\n",
            "\n",
            "0: 640x640 2 persons, 3 bottles, 1 book, 892.7ms\n",
            "Speed: 2.3ms preprocess, 892.7ms inference, 1.7ms postprocess per image at shape (1, 3, 640, 640)\n",
            "\n",
            "0: 640x640 2 persons, 4 bottles, 1 book, 891.8ms\n",
            "Speed: 2.6ms preprocess, 891.8ms inference, 1.6ms postprocess per image at shape (1, 3, 640, 640)\n",
            "\n",
            "0: 640x640 2 persons, 4 bottles, 1 book, 891.3ms\n",
            "Speed: 5.0ms preprocess, 891.3ms inference, 1.6ms postprocess per image at shape (1, 3, 640, 640)\n",
            "\n",
            "0: 640x640 2 persons, 4 bottles, 1 book, 793.3ms\n",
            "Speed: 2.8ms preprocess, 793.3ms inference, 1.2ms postprocess per image at shape (1, 3, 640, 640)\n",
            "\n",
            "0: 640x640 2 persons, 4 bottles, 1 book, 570.0ms\n",
            "Speed: 2.8ms preprocess, 570.0ms inference, 1.4ms postprocess per image at shape (1, 3, 640, 640)\n",
            "\n",
            "0: 640x640 2 persons, 4 bottles, 1 book, 592.2ms\n",
            "Speed: 2.7ms preprocess, 592.2ms inference, 1.9ms postprocess per image at shape (1, 3, 640, 640)\n",
            "\n",
            "0: 640x640 2 persons, 4 bottles, 1 book, 616.8ms\n",
            "Speed: 2.7ms preprocess, 616.8ms inference, 1.3ms postprocess per image at shape (1, 3, 640, 640)\n",
            "\n",
            "0: 640x640 2 persons, 5 bottles, 1 book, 571.2ms\n",
            "Speed: 2.4ms preprocess, 571.2ms inference, 1.5ms postprocess per image at shape (1, 3, 640, 640)\n",
            "\n",
            "0: 640x640 2 persons, 5 bottles, 1 book, 577.7ms\n",
            "Speed: 2.9ms preprocess, 577.7ms inference, 1.3ms postprocess per image at shape (1, 3, 640, 640)\n",
            "\n",
            "0: 640x640 2 persons, 4 bottles, 1 book, 572.4ms\n",
            "Speed: 3.1ms preprocess, 572.4ms inference, 1.2ms postprocess per image at shape (1, 3, 640, 640)\n",
            "\n",
            "0: 640x640 2 persons, 5 bottles, 1 book, 555.8ms\n",
            "Speed: 3.9ms preprocess, 555.8ms inference, 1.2ms postprocess per image at shape (1, 3, 640, 640)\n",
            "\n",
            "0: 640x640 1 person, 1 skateboard, 7 bottles, 561.5ms\n",
            "Speed: 2.7ms preprocess, 561.5ms inference, 1.4ms postprocess per image at shape (1, 3, 640, 640)\n",
            "\n",
            "0: 640x640 1 person, 6 bottles, 1 tv, 571.0ms\n",
            "Speed: 2.2ms preprocess, 571.0ms inference, 1.2ms postprocess per image at shape (1, 3, 640, 640)\n",
            "\n",
            "0: 640x640 1 person, 4 bottles, 1 tv, 563.6ms\n",
            "Speed: 2.2ms preprocess, 563.6ms inference, 1.2ms postprocess per image at shape (1, 3, 640, 640)\n",
            "\n",
            "0: 640x640 1 person, 5 bottles, 1 tv, 876.1ms\n",
            "Speed: 2.4ms preprocess, 876.1ms inference, 1.7ms postprocess per image at shape (1, 3, 640, 640)\n",
            "\n",
            "0: 640x640 1 person, 6 bottles, 1 tv, 861.4ms\n",
            "Speed: 2.5ms preprocess, 861.4ms inference, 2.1ms postprocess per image at shape (1, 3, 640, 640)\n",
            "\n",
            "0: 640x640 1 person, 6 bottles, 1 tv, 846.8ms\n",
            "Speed: 2.5ms preprocess, 846.8ms inference, 1.7ms postprocess per image at shape (1, 3, 640, 640)\n",
            "\n",
            "0: 640x640 1 person, 4 bottles, 1 tv, 885.6ms\n",
            "Speed: 2.4ms preprocess, 885.6ms inference, 2.0ms postprocess per image at shape (1, 3, 640, 640)\n",
            "\n",
            "0: 640x640 1 person, 4 bottles, 1 tv, 710.3ms\n",
            "Speed: 8.6ms preprocess, 710.3ms inference, 1.4ms postprocess per image at shape (1, 3, 640, 640)\n",
            "\n",
            "0: 640x640 1 person, 4 bottles, 1 tv, 569.1ms\n",
            "Speed: 2.4ms preprocess, 569.1ms inference, 1.8ms postprocess per image at shape (1, 3, 640, 640)\n",
            "\n",
            "0: 640x640 1 person, 1 backpack, 1 handbag, 4 bottles, 1 tv, 557.6ms\n",
            "Speed: 3.3ms preprocess, 557.6ms inference, 1.4ms postprocess per image at shape (1, 3, 640, 640)\n",
            "\n",
            "0: 640x640 1 person, 1 handbag, 5 bottles, 1 tv, 551.9ms\n",
            "Speed: 3.2ms preprocess, 551.9ms inference, 1.5ms postprocess per image at shape (1, 3, 640, 640)\n",
            "\n",
            "0: 640x640 1 person, 1 handbag, 7 bottles, 1 tv, 552.0ms\n",
            "Speed: 3.3ms preprocess, 552.0ms inference, 1.5ms postprocess per image at shape (1, 3, 640, 640)\n",
            "\n",
            "0: 640x640 1 person, 3 bottles, 551.9ms\n",
            "Speed: 3.4ms preprocess, 551.9ms inference, 1.3ms postprocess per image at shape (1, 3, 640, 640)\n",
            "\n",
            "0: 640x640 1 person, 5 bottles, 585.3ms\n",
            "Speed: 2.5ms preprocess, 585.3ms inference, 1.2ms postprocess per image at shape (1, 3, 640, 640)\n",
            "\n",
            "0: 640x640 1 person, 4 bottles, 570.7ms\n",
            "Speed: 2.7ms preprocess, 570.7ms inference, 1.2ms postprocess per image at shape (1, 3, 640, 640)\n",
            "\n",
            "0: 640x640 1 person, 1 handbag, 5 bottles, 1 tv, 563.7ms\n",
            "Speed: 7.4ms preprocess, 563.7ms inference, 1.2ms postprocess per image at shape (1, 3, 640, 640)\n",
            "\n",
            "0: 640x640 1 person, 1 backpack, 6 bottles, 1 tv, 566.0ms\n",
            "Speed: 3.2ms preprocess, 566.0ms inference, 1.4ms postprocess per image at shape (1, 3, 640, 640)\n",
            "\n",
            "0: 640x640 1 person, 1 backpack, 7 bottles, 1 tv, 568.1ms\n",
            "Speed: 2.8ms preprocess, 568.1ms inference, 1.4ms postprocess per image at shape (1, 3, 640, 640)\n",
            "\n",
            "0: 640x640 1 person, 3 bottles, 1 tv, 569.7ms\n",
            "Speed: 2.6ms preprocess, 569.7ms inference, 1.5ms postprocess per image at shape (1, 3, 640, 640)\n",
            "\n",
            "0: 640x640 1 person, 4 bottles, 1 tv, 558.2ms\n",
            "Speed: 2.8ms preprocess, 558.2ms inference, 1.5ms postprocess per image at shape (1, 3, 640, 640)\n",
            "\n",
            "0: 640x640 1 person, 8 bottles, 1 tv, 871.2ms\n",
            "Speed: 2.7ms preprocess, 871.2ms inference, 1.8ms postprocess per image at shape (1, 3, 640, 640)\n",
            "\n",
            "0: 640x640 1 person, 8 bottles, 1 tv, 864.7ms\n",
            "Speed: 2.6ms preprocess, 864.7ms inference, 1.7ms postprocess per image at shape (1, 3, 640, 640)\n",
            "\n",
            "0: 640x640 1 person, 6 bottles, 1 tv, 862.6ms\n",
            "Speed: 2.3ms preprocess, 862.6ms inference, 2.3ms postprocess per image at shape (1, 3, 640, 640)\n",
            "\n",
            "0: 640x640 1 person, 5 bottles, 1 tv, 881.1ms\n",
            "Speed: 2.4ms preprocess, 881.1ms inference, 1.9ms postprocess per image at shape (1, 3, 640, 640)\n",
            "\n",
            "0: 640x640 1 person, 6 bottles, 1 tv, 717.5ms\n",
            "Speed: 7.3ms preprocess, 717.5ms inference, 1.4ms postprocess per image at shape (1, 3, 640, 640)\n",
            "\n",
            "0: 640x640 1 person, 8 bottles, 1 tv, 568.8ms\n",
            "Speed: 2.5ms preprocess, 568.8ms inference, 1.4ms postprocess per image at shape (1, 3, 640, 640)\n",
            "\n",
            "0: 640x640 1 person, 5 bottles, 1 tv, 570.5ms\n",
            "Speed: 2.6ms preprocess, 570.5ms inference, 1.4ms postprocess per image at shape (1, 3, 640, 640)\n",
            "\n",
            "0: 640x640 1 person, 7 bottles, 1 tv, 566.4ms\n",
            "Speed: 13.5ms preprocess, 566.4ms inference, 1.4ms postprocess per image at shape (1, 3, 640, 640)\n",
            "\n",
            "0: 640x640 1 person, 8 bottles, 1 tv, 548.0ms\n",
            "Speed: 2.6ms preprocess, 548.0ms inference, 1.4ms postprocess per image at shape (1, 3, 640, 640)\n",
            "\n",
            "0: 640x640 1 person, 3 bottles, 1 tv, 558.2ms\n",
            "Speed: 3.3ms preprocess, 558.2ms inference, 1.3ms postprocess per image at shape (1, 3, 640, 640)\n",
            "\n",
            "0: 640x640 1 person, 3 bottles, 1 tv, 569.5ms\n",
            "Speed: 2.6ms preprocess, 569.5ms inference, 1.3ms postprocess per image at shape (1, 3, 640, 640)\n",
            "\n",
            "0: 640x640 1 person, 4 bottles, 1 tv, 574.9ms\n",
            "Speed: 2.4ms preprocess, 574.9ms inference, 1.4ms postprocess per image at shape (1, 3, 640, 640)\n",
            "\n",
            "0: 640x640 1 person, 4 bottles, 1 tv, 573.6ms\n",
            "Speed: 3.2ms preprocess, 573.6ms inference, 2.1ms postprocess per image at shape (1, 3, 640, 640)\n",
            "\n",
            "0: 640x640 1 person, 1 handbag, 5 bottles, 1 tv, 554.6ms\n",
            "Speed: 3.0ms preprocess, 554.6ms inference, 1.4ms postprocess per image at shape (1, 3, 640, 640)\n",
            "\n",
            "0: 640x640 1 person, 1 handbag, 4 bottles, 1 tv, 570.7ms\n",
            "Speed: 2.9ms preprocess, 570.7ms inference, 1.3ms postprocess per image at shape (1, 3, 640, 640)\n",
            "\n",
            "0: 640x640 1 person, 5 bottles, 1 tv, 565.1ms\n",
            "Speed: 3.3ms preprocess, 565.1ms inference, 1.4ms postprocess per image at shape (1, 3, 640, 640)\n",
            "\n",
            "0: 640x640 2 persons, 1 skateboard, 5 bottles, 869.5ms\n",
            "Speed: 2.3ms preprocess, 869.5ms inference, 1.7ms postprocess per image at shape (1, 3, 640, 640)\n",
            "\n",
            "0: 640x640 2 persons, 4 bottles, 1 book, 883.6ms\n",
            "Speed: 2.6ms preprocess, 883.6ms inference, 1.5ms postprocess per image at shape (1, 3, 640, 640)\n",
            "\n",
            "0: 640x640 2 persons, 4 bottles, 874.3ms\n",
            "Speed: 2.3ms preprocess, 874.3ms inference, 1.7ms postprocess per image at shape (1, 3, 640, 640)\n",
            "\n",
            "0: 640x640 2 persons, 4 bottles, 796.1ms\n",
            "Speed: 2.4ms preprocess, 796.1ms inference, 1.3ms postprocess per image at shape (1, 3, 640, 640)\n",
            "\n",
            "0: 640x640 2 persons, 4 bottles, 584.7ms\n",
            "Speed: 2.5ms preprocess, 584.7ms inference, 1.4ms postprocess per image at shape (1, 3, 640, 640)\n",
            "\n",
            "0: 640x640 2 persons, 4 bottles, 582.0ms\n",
            "Speed: 7.0ms preprocess, 582.0ms inference, 1.2ms postprocess per image at shape (1, 3, 640, 640)\n",
            "\n",
            "0: 640x640 2 persons, 4 bottles, 579.2ms\n",
            "Speed: 2.4ms preprocess, 579.2ms inference, 1.3ms postprocess per image at shape (1, 3, 640, 640)\n",
            "\n",
            "0: 640x640 2 persons, 4 bottles, 580.6ms\n",
            "Speed: 2.6ms preprocess, 580.6ms inference, 1.2ms postprocess per image at shape (1, 3, 640, 640)\n",
            "\n",
            "0: 640x640 2 persons, 4 bottles, 569.0ms\n",
            "Speed: 2.3ms preprocess, 569.0ms inference, 1.3ms postprocess per image at shape (1, 3, 640, 640)\n",
            "\n",
            "0: 640x640 2 persons, 4 bottles, 1 book, 565.1ms\n",
            "Speed: 2.4ms preprocess, 565.1ms inference, 1.4ms postprocess per image at shape (1, 3, 640, 640)\n",
            "\n",
            "0: 640x640 2 persons, 4 bottles, 574.9ms\n",
            "Speed: 3.0ms preprocess, 574.9ms inference, 1.3ms postprocess per image at shape (1, 3, 640, 640)\n",
            "\n",
            "0: 640x640 2 persons, 4 bottles, 574.6ms\n",
            "Speed: 4.1ms preprocess, 574.6ms inference, 1.3ms postprocess per image at shape (1, 3, 640, 640)\n",
            "\n",
            "0: 640x640 2 persons, 4 bottles, 563.3ms\n",
            "Speed: 3.1ms preprocess, 563.3ms inference, 1.3ms postprocess per image at shape (1, 3, 640, 640)\n",
            "\n",
            "0: 640x640 2 persons, 4 bottles, 635.3ms\n",
            "Speed: 2.2ms preprocess, 635.3ms inference, 2.1ms postprocess per image at shape (1, 3, 640, 640)\n",
            "\n",
            "0: 640x640 2 persons, 4 bottles, 877.7ms\n",
            "Speed: 2.4ms preprocess, 877.7ms inference, 1.6ms postprocess per image at shape (1, 3, 640, 640)\n",
            "\n",
            "0: 640x640 2 persons, 4 bottles, 876.5ms\n",
            "Speed: 2.6ms preprocess, 876.5ms inference, 3.9ms postprocess per image at shape (1, 3, 640, 640)\n",
            "\n",
            "0: 640x640 2 persons, 4 bottles, 874.9ms\n",
            "Speed: 2.5ms preprocess, 874.9ms inference, 1.6ms postprocess per image at shape (1, 3, 640, 640)\n",
            "\n",
            "0: 640x640 2 persons, 4 bottles, 782.6ms\n",
            "Speed: 2.5ms preprocess, 782.6ms inference, 1.4ms postprocess per image at shape (1, 3, 640, 640)\n",
            "\n",
            "0: 640x640 2 persons, 4 bottles, 600.0ms\n",
            "Speed: 2.5ms preprocess, 600.0ms inference, 1.4ms postprocess per image at shape (1, 3, 640, 640)\n",
            "\n",
            "0: 640x640 2 persons, 4 bottles, 570.9ms\n",
            "Speed: 3.7ms preprocess, 570.9ms inference, 1.4ms postprocess per image at shape (1, 3, 640, 640)\n",
            "\n",
            "0: 640x640 2 persons, 4 bottles, 572.4ms\n",
            "Speed: 2.7ms preprocess, 572.4ms inference, 1.3ms postprocess per image at shape (1, 3, 640, 640)\n",
            "\n",
            "0: 640x640 2 persons, 4 bottles, 568.4ms\n",
            "Speed: 2.6ms preprocess, 568.4ms inference, 1.3ms postprocess per image at shape (1, 3, 640, 640)\n",
            "\n",
            "0: 640x640 2 persons, 4 bottles, 560.8ms\n",
            "Speed: 2.6ms preprocess, 560.8ms inference, 2.0ms postprocess per image at shape (1, 3, 640, 640)\n",
            "\n",
            "0: 640x640 2 persons, 4 bottles, 563.8ms\n",
            "Speed: 2.8ms preprocess, 563.8ms inference, 1.3ms postprocess per image at shape (1, 3, 640, 640)\n",
            "\n",
            "0: 640x640 2 persons, 4 bottles, 560.0ms\n",
            "Speed: 2.5ms preprocess, 560.0ms inference, 1.4ms postprocess per image at shape (1, 3, 640, 640)\n",
            "\n",
            "0: 640x640 2 persons, 4 bottles, 565.5ms\n",
            "Speed: 2.7ms preprocess, 565.5ms inference, 1.4ms postprocess per image at shape (1, 3, 640, 640)\n",
            "\n",
            "0: 640x640 2 persons, 4 bottles, 558.2ms\n",
            "Speed: 2.3ms preprocess, 558.2ms inference, 1.3ms postprocess per image at shape (1, 3, 640, 640)\n",
            "\n",
            "0: 640x640 2 persons, 4 bottles, 554.3ms\n",
            "Speed: 8.2ms preprocess, 554.3ms inference, 1.2ms postprocess per image at shape (1, 3, 640, 640)\n",
            "\n",
            "0: 640x640 1 person, 4 bottles, 1 refrigerator, 851.6ms\n",
            "Speed: 3.2ms preprocess, 851.6ms inference, 1.9ms postprocess per image at shape (1, 3, 640, 640)\n",
            "\n",
            "0: 640x640 2 persons, 4 bottles, 869.1ms\n",
            "Speed: 2.4ms preprocess, 869.1ms inference, 1.5ms postprocess per image at shape (1, 3, 640, 640)\n",
            "\n",
            "0: 640x640 3 persons, 4 bottles, 883.5ms\n",
            "Speed: 5.7ms preprocess, 883.5ms inference, 1.6ms postprocess per image at shape (1, 3, 640, 640)\n",
            "\n",
            "0: 640x640 2 persons, 4 bottles, 1 book, 849.9ms\n",
            "Speed: 2.3ms preprocess, 849.9ms inference, 1.3ms postprocess per image at shape (1, 3, 640, 640)\n",
            "\n",
            "0: 640x640 2 persons, 4 bottles, 580.5ms\n",
            "Speed: 5.4ms preprocess, 580.5ms inference, 1.2ms postprocess per image at shape (1, 3, 640, 640)\n",
            "\n",
            "0: 640x640 2 persons, 1 handbag, 4 bottles, 1 book, 560.4ms\n",
            "Speed: 2.9ms preprocess, 560.4ms inference, 1.4ms postprocess per image at shape (1, 3, 640, 640)\n",
            "\n",
            "0: 640x640 2 persons, 1 handbag, 4 bottles, 564.0ms\n",
            "Speed: 3.0ms preprocess, 564.0ms inference, 1.4ms postprocess per image at shape (1, 3, 640, 640)\n",
            "\n",
            "0: 640x640 5 persons, 4 bottles, 569.1ms\n",
            "Speed: 2.7ms preprocess, 569.1ms inference, 1.2ms postprocess per image at shape (1, 3, 640, 640)\n",
            "\n",
            "0: 640x640 1 person, 6 bottles, 584.9ms\n",
            "Speed: 2.9ms preprocess, 584.9ms inference, 1.7ms postprocess per image at shape (1, 3, 640, 640)\n",
            "\n",
            "0: 640x640 1 person, 6 bottles, 575.8ms\n",
            "Speed: 3.4ms preprocess, 575.8ms inference, 1.4ms postprocess per image at shape (1, 3, 640, 640)\n",
            "\n",
            "0: 640x640 1 person, 5 bottles, 568.1ms\n",
            "Speed: 2.5ms preprocess, 568.1ms inference, 1.4ms postprocess per image at shape (1, 3, 640, 640)\n",
            "\n",
            "0: 640x640 1 person, 5 bottles, 575.9ms\n",
            "Speed: 3.4ms preprocess, 575.9ms inference, 1.4ms postprocess per image at shape (1, 3, 640, 640)\n",
            "\n",
            "0: 640x640 1 person, 4 bottles, 567.8ms\n",
            "Speed: 4.2ms preprocess, 567.8ms inference, 1.2ms postprocess per image at shape (1, 3, 640, 640)\n",
            "\n",
            "0: 640x640 1 person, 1 skateboard, 4 bottles, 821.7ms\n",
            "Speed: 3.5ms preprocess, 821.7ms inference, 1.6ms postprocess per image at shape (1, 3, 640, 640)\n",
            "\n",
            "0: 640x640 1 person, 5 bottles, 897.2ms\n",
            "Speed: 2.6ms preprocess, 897.2ms inference, 1.8ms postprocess per image at shape (1, 3, 640, 640)\n",
            "\n",
            "0: 640x640 1 person, 6 bottles, 881.9ms\n",
            "Speed: 3.3ms preprocess, 881.9ms inference, 1.7ms postprocess per image at shape (1, 3, 640, 640)\n",
            "\n",
            "0: 640x640 1 person, 7 bottles, 1005.1ms\n",
            "Speed: 2.8ms preprocess, 1005.1ms inference, 1.8ms postprocess per image at shape (1, 3, 640, 640)\n",
            "\n",
            "0: 640x640 1 person, 7 bottles, 569.3ms\n",
            "Speed: 2.4ms preprocess, 569.3ms inference, 1.4ms postprocess per image at shape (1, 3, 640, 640)\n",
            "\n",
            "0: 640x640 1 person, 7 bottles, 557.5ms\n",
            "Speed: 3.2ms preprocess, 557.5ms inference, 1.4ms postprocess per image at shape (1, 3, 640, 640)\n",
            "\n",
            "0: 640x640 1 person, 7 bottles, 565.7ms\n",
            "Speed: 3.0ms preprocess, 565.7ms inference, 1.4ms postprocess per image at shape (1, 3, 640, 640)\n",
            "\n",
            "0: 640x640 1 person, 6 bottles, 559.4ms\n",
            "Speed: 2.6ms preprocess, 559.4ms inference, 1.4ms postprocess per image at shape (1, 3, 640, 640)\n",
            "\n",
            "0: 640x640 1 person, 6 bottles, 556.6ms\n",
            "Speed: 3.0ms preprocess, 556.6ms inference, 1.4ms postprocess per image at shape (1, 3, 640, 640)\n",
            "\n",
            "0: 640x640 1 person, 7 bottles, 578.8ms\n",
            "Speed: 2.6ms preprocess, 578.8ms inference, 1.4ms postprocess per image at shape (1, 3, 640, 640)\n",
            "\n",
            "0: 640x640 1 person, 7 bottles, 558.3ms\n",
            "Speed: 2.6ms preprocess, 558.3ms inference, 1.4ms postprocess per image at shape (1, 3, 640, 640)\n",
            "\n",
            "0: 640x640 1 person, 7 bottles, 584.0ms\n",
            "Speed: 2.8ms preprocess, 584.0ms inference, 1.4ms postprocess per image at shape (1, 3, 640, 640)\n",
            "\n",
            "0: 640x640 1 person, 7 bottles, 581.9ms\n",
            "Speed: 4.4ms preprocess, 581.9ms inference, 1.2ms postprocess per image at shape (1, 3, 640, 640)\n",
            "\n",
            "0: 640x640 1 person, 6 bottles, 886.2ms\n",
            "Speed: 7.1ms preprocess, 886.2ms inference, 1.7ms postprocess per image at shape (1, 3, 640, 640)\n",
            "\n",
            "0: 640x640 1 person, 6 bottles, 867.9ms\n",
            "Speed: 2.5ms preprocess, 867.9ms inference, 1.9ms postprocess per image at shape (1, 3, 640, 640)\n",
            "\n",
            "0: 640x640 1 person, 6 bottles, 880.2ms\n",
            "Speed: 2.9ms preprocess, 880.2ms inference, 1.9ms postprocess per image at shape (1, 3, 640, 640)\n",
            "\n",
            "0: 640x640 1 person, 6 bottles, 852.1ms\n",
            "Speed: 3.6ms preprocess, 852.1ms inference, 1.4ms postprocess per image at shape (1, 3, 640, 640)\n",
            "\n",
            "0: 640x640 1 person, 6 bottles, 565.2ms\n",
            "Speed: 2.3ms preprocess, 565.2ms inference, 1.4ms postprocess per image at shape (1, 3, 640, 640)\n",
            "\n",
            "0: 640x640 1 person, 6 bottles, 563.0ms\n",
            "Speed: 4.7ms preprocess, 563.0ms inference, 1.4ms postprocess per image at shape (1, 3, 640, 640)\n",
            "\n",
            "0: 640x640 1 person, 6 bottles, 565.1ms\n",
            "Speed: 2.5ms preprocess, 565.1ms inference, 1.3ms postprocess per image at shape (1, 3, 640, 640)\n",
            "\n",
            "0: 640x640 1 person, 7 bottles, 565.2ms\n",
            "Speed: 2.4ms preprocess, 565.2ms inference, 1.2ms postprocess per image at shape (1, 3, 640, 640)\n",
            "\n",
            "0: 640x640 1 person, 7 bottles, 565.9ms\n",
            "Speed: 3.5ms preprocess, 565.9ms inference, 1.2ms postprocess per image at shape (1, 3, 640, 640)\n",
            "\n",
            "0: 640x640 1 person, 6 bottles, 564.2ms\n",
            "Speed: 2.3ms preprocess, 564.2ms inference, 1.4ms postprocess per image at shape (1, 3, 640, 640)\n",
            "\n",
            "0: 640x640 1 person, 6 bottles, 562.9ms\n",
            "Speed: 2.6ms preprocess, 562.9ms inference, 1.2ms postprocess per image at shape (1, 3, 640, 640)\n",
            "\n",
            "0: 640x640 1 person, 7 bottles, 557.3ms\n",
            "Speed: 2.5ms preprocess, 557.3ms inference, 1.4ms postprocess per image at shape (1, 3, 640, 640)\n",
            "\n",
            "0: 640x640 1 person, 5 bottles, 555.1ms\n",
            "Speed: 2.4ms preprocess, 555.1ms inference, 1.4ms postprocess per image at shape (1, 3, 640, 640)\n",
            "\n",
            "0: 640x640 1 person, 6 bottles, 759.7ms\n",
            "Speed: 2.3ms preprocess, 759.7ms inference, 1.8ms postprocess per image at shape (1, 3, 640, 640)\n",
            "\n",
            "0: 640x640 1 person, 1 handbag, 6 bottles, 892.4ms\n",
            "Speed: 2.3ms preprocess, 892.4ms inference, 1.7ms postprocess per image at shape (1, 3, 640, 640)\n",
            "\n",
            "0: 640x640 1 person, 1 handbag, 6 bottles, 850.3ms\n",
            "Speed: 2.8ms preprocess, 850.3ms inference, 1.7ms postprocess per image at shape (1, 3, 640, 640)\n",
            "\n",
            "0: 640x640 1 person, 1 handbag, 6 bottles, 889.9ms\n",
            "Speed: 2.2ms preprocess, 889.9ms inference, 1.7ms postprocess per image at shape (1, 3, 640, 640)\n",
            "\n",
            "0: 640x640 1 person, 7 bottles, 563.7ms\n",
            "Speed: 2.6ms preprocess, 563.7ms inference, 1.5ms postprocess per image at shape (1, 3, 640, 640)\n",
            "\n",
            "0: 640x640 1 person, 8 bottles, 557.8ms\n",
            "Speed: 3.8ms preprocess, 557.8ms inference, 1.3ms postprocess per image at shape (1, 3, 640, 640)\n",
            "\n",
            "0: 640x640 1 person, 7 bottles, 1 tv, 560.7ms\n",
            "Speed: 9.7ms preprocess, 560.7ms inference, 1.4ms postprocess per image at shape (1, 3, 640, 640)\n",
            "\n",
            "0: 640x640 1 person, 10 bottles, 1 tv, 567.5ms\n",
            "Speed: 2.7ms preprocess, 567.5ms inference, 1.4ms postprocess per image at shape (1, 3, 640, 640)\n",
            "\n",
            "0: 640x640 1 person, 7 bottles, 1 tv, 566.2ms\n",
            "Speed: 3.6ms preprocess, 566.2ms inference, 1.4ms postprocess per image at shape (1, 3, 640, 640)\n",
            "\n",
            "0: 640x640 1 person, 5 bottles, 1 tv, 558.9ms\n",
            "Speed: 4.8ms preprocess, 558.9ms inference, 1.4ms postprocess per image at shape (1, 3, 640, 640)\n",
            "\n",
            "0: 640x640 1 person, 5 bottles, 1 tv, 578.5ms\n",
            "Speed: 2.4ms preprocess, 578.5ms inference, 1.4ms postprocess per image at shape (1, 3, 640, 640)\n",
            "\n",
            "0: 640x640 1 person, 8 bottles, 576.8ms\n",
            "Speed: 2.4ms preprocess, 576.8ms inference, 1.3ms postprocess per image at shape (1, 3, 640, 640)\n",
            "\n",
            "0: 640x640 1 person, 8 bottles, 1 tv, 570.8ms\n",
            "Speed: 3.0ms preprocess, 570.8ms inference, 1.2ms postprocess per image at shape (1, 3, 640, 640)\n",
            "\n",
            "0: 640x640 1 person, 9 bottles, 1 tv, 587.8ms\n",
            "Speed: 2.8ms preprocess, 587.8ms inference, 1.5ms postprocess per image at shape (1, 3, 640, 640)\n",
            "\n",
            "0: 640x640 1 person, 9 bottles, 886.6ms\n",
            "Speed: 2.7ms preprocess, 886.6ms inference, 1.8ms postprocess per image at shape (1, 3, 640, 640)\n",
            "\n",
            "0: 640x640 1 person, 7 bottles, 876.0ms\n",
            "Speed: 2.4ms preprocess, 876.0ms inference, 1.7ms postprocess per image at shape (1, 3, 640, 640)\n",
            "\n",
            "0: 640x640 1 person, 8 bottles, 883.1ms\n",
            "Speed: 2.4ms preprocess, 883.1ms inference, 1.9ms postprocess per image at shape (1, 3, 640, 640)\n",
            "\n",
            "0: 640x640 1 person, 7 bottles, 1 tv, 867.3ms\n",
            "Speed: 7.3ms preprocess, 867.3ms inference, 1.9ms postprocess per image at shape (1, 3, 640, 640)\n",
            "\n",
            "0: 640x640 1 person, 8 bottles, 1 tv, 1 refrigerator, 548.4ms\n",
            "Speed: 4.8ms preprocess, 548.4ms inference, 1.4ms postprocess per image at shape (1, 3, 640, 640)\n",
            "\n",
            "0: 640x640 1 person, 9 bottles, 1 refrigerator, 568.6ms\n",
            "Speed: 3.9ms preprocess, 568.6ms inference, 1.4ms postprocess per image at shape (1, 3, 640, 640)\n",
            "\n",
            "0: 640x640 1 person, 9 bottles, 1 tv, 1 refrigerator, 563.3ms\n",
            "Speed: 2.7ms preprocess, 563.3ms inference, 1.4ms postprocess per image at shape (1, 3, 640, 640)\n",
            "\n",
            "0: 640x640 1 person, 9 bottles, 1 tv, 557.7ms\n",
            "Speed: 3.2ms preprocess, 557.7ms inference, 1.2ms postprocess per image at shape (1, 3, 640, 640)\n",
            "\n",
            "0: 640x640 1 person, 7 bottles, 1 tv, 560.1ms\n",
            "Speed: 3.2ms preprocess, 560.1ms inference, 1.2ms postprocess per image at shape (1, 3, 640, 640)\n",
            "\n",
            "0: 640x640 1 person, 7 bottles, 1 tv, 556.5ms\n",
            "Speed: 5.8ms preprocess, 556.5ms inference, 1.4ms postprocess per image at shape (1, 3, 640, 640)\n",
            "\n",
            "0: 640x640 1 person, 8 bottles, 555.6ms\n",
            "Speed: 3.9ms preprocess, 555.6ms inference, 1.4ms postprocess per image at shape (1, 3, 640, 640)\n",
            "\n",
            "0: 640x640 1 person, 7 bottles, 567.6ms\n",
            "Speed: 2.2ms preprocess, 567.6ms inference, 1.4ms postprocess per image at shape (1, 3, 640, 640)\n",
            "\n",
            "0: 640x640 1 person, 5 bottles, 1 tv, 571.2ms\n",
            "Speed: 2.5ms preprocess, 571.2ms inference, 1.3ms postprocess per image at shape (1, 3, 640, 640)\n",
            "\n",
            "0: 640x640 1 person, 5 bottles, 1 tv, 647.2ms\n",
            "Speed: 2.5ms preprocess, 647.2ms inference, 2.4ms postprocess per image at shape (1, 3, 640, 640)\n",
            "\n",
            "0: 640x640 1 person, 6 bottles, 882.0ms\n",
            "Speed: 2.8ms preprocess, 882.0ms inference, 1.8ms postprocess per image at shape (1, 3, 640, 640)\n",
            "\n",
            "0: 640x640 1 person, 5 bottles, 1 tv, 968.4ms\n",
            "Speed: 2.7ms preprocess, 968.4ms inference, 2.0ms postprocess per image at shape (1, 3, 640, 640)\n",
            "\n",
            "0: 640x640 1 person, 5 bottles, 898.7ms\n",
            "Speed: 11.5ms preprocess, 898.7ms inference, 1.6ms postprocess per image at shape (1, 3, 640, 640)\n",
            "\n",
            "0: 640x640 1 person, 5 bottles, 782.5ms\n",
            "Speed: 2.5ms preprocess, 782.5ms inference, 2.8ms postprocess per image at shape (1, 3, 640, 640)\n",
            "\n",
            "0: 640x640 1 person, 5 bottles, 587.3ms\n",
            "Speed: 2.6ms preprocess, 587.3ms inference, 2.1ms postprocess per image at shape (1, 3, 640, 640)\n",
            "\n",
            "0: 640x640 1 person, 5 bottles, 1 refrigerator, 553.1ms\n",
            "Speed: 2.4ms preprocess, 553.1ms inference, 1.4ms postprocess per image at shape (1, 3, 640, 640)\n",
            "\n",
            "0: 640x640 1 person, 5 bottles, 1 tv, 1 refrigerator, 581.6ms\n",
            "Speed: 3.3ms preprocess, 581.6ms inference, 1.4ms postprocess per image at shape (1, 3, 640, 640)\n",
            "\n",
            "0: 640x640 1 person, 5 bottles, 1 tv, 1 refrigerator, 566.8ms\n",
            "Speed: 2.3ms preprocess, 566.8ms inference, 1.4ms postprocess per image at shape (1, 3, 640, 640)\n",
            "\n",
            "0: 640x640 1 person, 5 bottles, 1 tv, 548.0ms\n",
            "Speed: 4.2ms preprocess, 548.0ms inference, 1.4ms postprocess per image at shape (1, 3, 640, 640)\n",
            "\n",
            "0: 640x640 1 person, 6 bottles, 571.5ms\n",
            "Speed: 3.1ms preprocess, 571.5ms inference, 1.4ms postprocess per image at shape (1, 3, 640, 640)\n",
            "\n",
            "0: 640x640 1 person, 7 bottles, 1 tv, 581.6ms\n",
            "Speed: 2.7ms preprocess, 581.6ms inference, 1.4ms postprocess per image at shape (1, 3, 640, 640)\n",
            "\n",
            "0: 640x640 1 person, 6 bottles, 562.3ms\n",
            "Speed: 3.0ms preprocess, 562.3ms inference, 1.4ms postprocess per image at shape (1, 3, 640, 640)\n",
            "\n",
            "0: 640x640 1 person, 6 bottles, 566.1ms\n",
            "Speed: 3.7ms preprocess, 566.1ms inference, 1.4ms postprocess per image at shape (1, 3, 640, 640)\n",
            "\n",
            "0: 640x640 1 person, 8 bottles, 1 book, 1 scissors, 607.2ms\n",
            "Speed: 4.1ms preprocess, 607.2ms inference, 1.8ms postprocess per image at shape (1, 3, 640, 640)\n",
            "\n",
            "0: 640x640 1 person, 8 bottles, 1 book, 1 scissors, 883.1ms\n",
            "Speed: 2.7ms preprocess, 883.1ms inference, 1.8ms postprocess per image at shape (1, 3, 640, 640)\n",
            "\n",
            "0: 640x640 1 person, 7 bottles, 1 scissors, 882.5ms\n",
            "Speed: 5.2ms preprocess, 882.5ms inference, 1.9ms postprocess per image at shape (1, 3, 640, 640)\n",
            "\n",
            "0: 640x640 1 person, 7 bottles, 859.8ms\n",
            "Speed: 11.9ms preprocess, 859.8ms inference, 1.8ms postprocess per image at shape (1, 3, 640, 640)\n",
            "\n",
            "0: 640x640 1 person, 7 bottles, 1 scissors, 745.6ms\n",
            "Speed: 3.2ms preprocess, 745.6ms inference, 2.0ms postprocess per image at shape (1, 3, 640, 640)\n",
            "\n",
            "0: 640x640 1 person, 7 bottles, 1 scissors, 567.1ms\n",
            "Speed: 2.9ms preprocess, 567.1ms inference, 2.0ms postprocess per image at shape (1, 3, 640, 640)\n",
            "\n",
            "0: 640x640 1 person, 8 bottles, 1 scissors, 556.3ms\n",
            "Speed: 2.8ms preprocess, 556.3ms inference, 1.7ms postprocess per image at shape (1, 3, 640, 640)\n",
            "\n",
            "0: 640x640 1 person, 1 handbag, 9 bottles, 1 scissors, 553.1ms\n",
            "Speed: 2.5ms preprocess, 553.1ms inference, 1.4ms postprocess per image at shape (1, 3, 640, 640)\n",
            "\n",
            "0: 640x640 1 person, 9 bottles, 1 scissors, 557.4ms\n",
            "Speed: 2.6ms preprocess, 557.4ms inference, 1.2ms postprocess per image at shape (1, 3, 640, 640)\n",
            "\n",
            "0: 640x640 1 person, 9 bottles, 1 scissors, 549.6ms\n",
            "Speed: 4.0ms preprocess, 549.6ms inference, 1.4ms postprocess per image at shape (1, 3, 640, 640)\n",
            "\n",
            "0: 640x640 1 person, 8 bottles, 1 scissors, 558.1ms\n",
            "Speed: 8.6ms preprocess, 558.1ms inference, 1.4ms postprocess per image at shape (1, 3, 640, 640)\n",
            "\n",
            "0: 640x640 1 person, 8 bottles, 1 scissors, 563.2ms\n",
            "Speed: 3.1ms preprocess, 563.2ms inference, 1.4ms postprocess per image at shape (1, 3, 640, 640)\n",
            "\n",
            "0: 640x640 1 person, 8 bottles, 552.6ms\n",
            "Speed: 2.6ms preprocess, 552.6ms inference, 1.4ms postprocess per image at shape (1, 3, 640, 640)\n",
            "\n",
            "0: 640x640 1 person, 8 bottles, 1 scissors, 573.4ms\n",
            "Speed: 2.5ms preprocess, 573.4ms inference, 1.3ms postprocess per image at shape (1, 3, 640, 640)\n",
            "\n",
            "0: 640x640 1 person, 8 bottles, 1 scissors, 883.1ms\n",
            "Speed: 5.9ms preprocess, 883.1ms inference, 1.8ms postprocess per image at shape (1, 3, 640, 640)\n",
            "\n",
            "0: 640x640 1 person, 8 bottles, 1 scissors, 867.2ms\n",
            "Speed: 10.2ms preprocess, 867.2ms inference, 4.9ms postprocess per image at shape (1, 3, 640, 640)\n",
            "\n",
            "0: 640x640 1 person, 8 bottles, 1 scissors, 890.0ms\n",
            "Speed: 2.6ms preprocess, 890.0ms inference, 1.8ms postprocess per image at shape (1, 3, 640, 640)\n",
            "\n",
            "0: 640x640 1 person, 8 bottles, 1 scissors, 865.7ms\n",
            "Speed: 2.7ms preprocess, 865.7ms inference, 1.9ms postprocess per image at shape (1, 3, 640, 640)\n",
            "\n",
            "0: 640x640 1 person, 8 bottles, 1 scissors, 559.5ms\n",
            "Speed: 2.9ms preprocess, 559.5ms inference, 1.7ms postprocess per image at shape (1, 3, 640, 640)\n",
            "\n",
            "0: 640x640 1 person, 8 bottles, 1 scissors, 561.7ms\n",
            "Speed: 4.4ms preprocess, 561.7ms inference, 1.3ms postprocess per image at shape (1, 3, 640, 640)\n",
            "\n",
            "0: 640x640 1 person, 8 bottles, 1 scissors, 561.4ms\n",
            "Speed: 2.8ms preprocess, 561.4ms inference, 1.6ms postprocess per image at shape (1, 3, 640, 640)\n",
            "\n",
            "0: 640x640 1 person, 8 bottles, 1 scissors, 563.4ms\n",
            "Speed: 2.7ms preprocess, 563.4ms inference, 1.4ms postprocess per image at shape (1, 3, 640, 640)\n",
            "\n",
            "0: 640x640 1 person, 8 bottles, 1 scissors, 561.7ms\n",
            "Speed: 2.6ms preprocess, 561.7ms inference, 1.4ms postprocess per image at shape (1, 3, 640, 640)\n",
            "\n",
            "0: 640x640 1 person, 8 bottles, 1 scissors, 574.5ms\n",
            "Speed: 2.7ms preprocess, 574.5ms inference, 1.4ms postprocess per image at shape (1, 3, 640, 640)\n",
            "\n",
            "0: 640x640 1 person, 8 bottles, 1 scissors, 559.3ms\n",
            "Speed: 2.6ms preprocess, 559.3ms inference, 1.4ms postprocess per image at shape (1, 3, 640, 640)\n",
            "\n",
            "0: 640x640 1 person, 9 bottles, 1 scissors, 559.7ms\n",
            "Speed: 3.0ms preprocess, 559.7ms inference, 1.4ms postprocess per image at shape (1, 3, 640, 640)\n",
            "\n",
            "0: 640x640 1 person, 9 bottles, 1 scissors, 552.9ms\n",
            "Speed: 2.8ms preprocess, 552.9ms inference, 1.4ms postprocess per image at shape (1, 3, 640, 640)\n",
            "\n",
            "0: 640x640 1 person, 8 bottles, 1 scissors, 555.8ms\n",
            "Speed: 2.6ms preprocess, 555.8ms inference, 1.3ms postprocess per image at shape (1, 3, 640, 640)\n",
            "\n",
            "0: 640x640 1 person, 8 bottles, 1 scissors, 791.8ms\n",
            "Speed: 3.4ms preprocess, 791.8ms inference, 1.8ms postprocess per image at shape (1, 3, 640, 640)\n",
            "\n",
            "0: 640x640 1 person, 8 bottles, 1 scissors, 859.9ms\n",
            "Speed: 2.7ms preprocess, 859.9ms inference, 1.8ms postprocess per image at shape (1, 3, 640, 640)\n",
            "\n",
            "0: 640x640 1 person, 8 bottles, 846.9ms\n",
            "Speed: 3.9ms preprocess, 846.9ms inference, 1.8ms postprocess per image at shape (1, 3, 640, 640)\n",
            "\n",
            "0: 640x640 1 person, 8 bottles, 1 scissors, 869.6ms\n",
            "Speed: 2.6ms preprocess, 869.6ms inference, 1.7ms postprocess per image at shape (1, 3, 640, 640)\n",
            "\n",
            "0: 640x640 1 person, 1 handbag, 8 bottles, 1 scissors, 577.6ms\n",
            "Speed: 2.6ms preprocess, 577.6ms inference, 1.4ms postprocess per image at shape (1, 3, 640, 640)\n",
            "\n",
            "0: 640x640 1 person, 1 handbag, 9 bottles, 1 scissors, 566.4ms\n",
            "Speed: 2.6ms preprocess, 566.4ms inference, 1.4ms postprocess per image at shape (1, 3, 640, 640)\n",
            "\n",
            "0: 640x640 1 person, 1 handbag, 8 bottles, 1 scissors, 562.3ms\n",
            "Speed: 4.2ms preprocess, 562.3ms inference, 1.3ms postprocess per image at shape (1, 3, 640, 640)\n",
            "\n",
            "0: 640x640 1 person, 8 bottles, 1 scissors, 566.8ms\n",
            "Speed: 2.5ms preprocess, 566.8ms inference, 1.3ms postprocess per image at shape (1, 3, 640, 640)\n",
            "\n",
            "0: 640x640 2 persons, 4 bottles, 1 book, 560.7ms\n",
            "Speed: 2.9ms preprocess, 560.7ms inference, 1.5ms postprocess per image at shape (1, 3, 640, 640)\n",
            "\n",
            "0: 640x640 2 persons, 2 bottles, 1 book, 559.0ms\n",
            "Speed: 3.3ms preprocess, 559.0ms inference, 1.2ms postprocess per image at shape (1, 3, 640, 640)\n",
            "\n",
            "0: 640x640 2 persons, 2 bottles, 1 book, 551.1ms\n",
            "Speed: 2.5ms preprocess, 551.1ms inference, 1.2ms postprocess per image at shape (1, 3, 640, 640)\n",
            "\n",
            "0: 640x640 2 persons, 2 bottles, 1 book, 568.6ms\n",
            "Speed: 8.8ms preprocess, 568.6ms inference, 1.4ms postprocess per image at shape (1, 3, 640, 640)\n",
            "\n",
            "0: 640x640 2 persons, 3 bottles, 1 book, 576.1ms\n",
            "Speed: 3.3ms preprocess, 576.1ms inference, 1.2ms postprocess per image at shape (1, 3, 640, 640)\n",
            "\n",
            "0: 640x640 2 persons, 4 bottles, 1 book, 569.3ms\n",
            "Speed: 2.5ms preprocess, 569.3ms inference, 1.3ms postprocess per image at shape (1, 3, 640, 640)\n",
            "\n",
            "0: 640x640 2 persons, 2 bottles, 1 book, 947.1ms\n",
            "Speed: 2.7ms preprocess, 947.1ms inference, 1.7ms postprocess per image at shape (1, 3, 640, 640)\n",
            "\n",
            "0: 640x640 2 persons, 2 bottles, 1 book, 858.8ms\n",
            "Speed: 4.1ms preprocess, 858.8ms inference, 2.0ms postprocess per image at shape (1, 3, 640, 640)\n",
            "\n",
            "0: 640x640 2 persons, 3 bottles, 1 book, 854.1ms\n",
            "Speed: 2.5ms preprocess, 854.1ms inference, 1.6ms postprocess per image at shape (1, 3, 640, 640)\n",
            "\n",
            "0: 640x640 2 persons, 3 bottles, 1 book, 850.5ms\n",
            "Speed: 2.7ms preprocess, 850.5ms inference, 1.8ms postprocess per image at shape (1, 3, 640, 640)\n",
            "\n",
            "0: 640x640 2 persons, 2 bottles, 1 book, 626.3ms\n",
            "Speed: 11.2ms preprocess, 626.3ms inference, 2.1ms postprocess per image at shape (1, 3, 640, 640)\n",
            "\n",
            "0: 640x640 2 persons, 2 bottles, 1 book, 568.2ms\n",
            "Speed: 2.5ms preprocess, 568.2ms inference, 1.3ms postprocess per image at shape (1, 3, 640, 640)\n",
            "\n",
            "0: 640x640 2 persons, 2 bottles, 1 book, 560.4ms\n",
            "Speed: 2.9ms preprocess, 560.4ms inference, 1.3ms postprocess per image at shape (1, 3, 640, 640)\n",
            "\n",
            "0: 640x640 2 persons, 2 bottles, 1 book, 556.6ms\n",
            "Speed: 3.4ms preprocess, 556.6ms inference, 1.3ms postprocess per image at shape (1, 3, 640, 640)\n",
            "\n",
            "0: 640x640 2 persons, 3 bottles, 550.5ms\n",
            "Speed: 4.2ms preprocess, 550.5ms inference, 1.1ms postprocess per image at shape (1, 3, 640, 640)\n",
            "\n",
            "0: 640x640 2 persons, 3 bottles, 569.1ms\n",
            "Speed: 10.3ms preprocess, 569.1ms inference, 1.2ms postprocess per image at shape (1, 3, 640, 640)\n",
            "\n",
            "0: 640x640 2 persons, 3 bottles, 1 book, 568.5ms\n",
            "Speed: 9.0ms preprocess, 568.5ms inference, 1.2ms postprocess per image at shape (1, 3, 640, 640)\n",
            "\n",
            "0: 640x640 2 persons, 2 bottles, 1 book, 562.3ms\n",
            "Speed: 2.6ms preprocess, 562.3ms inference, 1.1ms postprocess per image at shape (1, 3, 640, 640)\n",
            "\n",
            "0: 640x640 2 persons, 3 bottles, 1 book, 580.8ms\n",
            "Speed: 6.1ms preprocess, 580.8ms inference, 1.4ms postprocess per image at shape (1, 3, 640, 640)\n",
            "\n",
            "0: 640x640 2 persons, 3 bottles, 1 book, 558.7ms\n",
            "Speed: 4.1ms preprocess, 558.7ms inference, 1.2ms postprocess per image at shape (1, 3, 640, 640)\n",
            "\n",
            "0: 640x640 2 persons, 4 bottles, 1 book, 556.6ms\n",
            "Speed: 3.4ms preprocess, 556.6ms inference, 1.2ms postprocess per image at shape (1, 3, 640, 640)\n",
            "\n",
            "0: 640x640 2 persons, 5 bottles, 1 book, 786.3ms\n",
            "Speed: 3.1ms preprocess, 786.3ms inference, 1.5ms postprocess per image at shape (1, 3, 640, 640)\n",
            "\n",
            "0: 640x640 2 persons, 6 bottles, 1 tv, 2 books, 878.0ms\n",
            "Speed: 2.3ms preprocess, 878.0ms inference, 1.6ms postprocess per image at shape (1, 3, 640, 640)\n",
            "\n",
            "0: 640x640 2 persons, 6 bottles, 1 tv, 2 books, 854.4ms\n",
            "Speed: 2.6ms preprocess, 854.4ms inference, 1.6ms postprocess per image at shape (1, 3, 640, 640)\n",
            "\n",
            "0: 640x640 2 persons, 6 bottles, 2 books, 868.5ms\n",
            "Speed: 2.5ms preprocess, 868.5ms inference, 2.0ms postprocess per image at shape (1, 3, 640, 640)\n",
            "\n",
            "0: 640x640 2 persons, 6 bottles, 2 books, 565.0ms\n",
            "Speed: 2.6ms preprocess, 565.0ms inference, 1.2ms postprocess per image at shape (1, 3, 640, 640)\n",
            "\n",
            "0: 640x640 2 persons, 3 bottles, 1 book, 578.2ms\n",
            "Speed: 2.6ms preprocess, 578.2ms inference, 1.7ms postprocess per image at shape (1, 3, 640, 640)\n",
            "\n",
            "0: 640x640 2 persons, 3 bottles, 1 book, 560.8ms\n",
            "Speed: 6.2ms preprocess, 560.8ms inference, 1.3ms postprocess per image at shape (1, 3, 640, 640)\n",
            "\n",
            "0: 640x640 2 persons, 3 bottles, 1 book, 570.3ms\n",
            "Speed: 2.5ms preprocess, 570.3ms inference, 1.3ms postprocess per image at shape (1, 3, 640, 640)\n",
            "\n",
            "0: 640x640 2 persons, 3 bottles, 1 book, 562.2ms\n",
            "Speed: 3.3ms preprocess, 562.2ms inference, 1.3ms postprocess per image at shape (1, 3, 640, 640)\n",
            "\n",
            "0: 640x640 2 persons, 3 bottles, 1 book, 572.6ms\n",
            "Speed: 2.7ms preprocess, 572.6ms inference, 1.3ms postprocess per image at shape (1, 3, 640, 640)\n",
            "\n",
            "0: 640x640 2 persons, 2 bottles, 1 book, 550.4ms\n",
            "Speed: 3.4ms preprocess, 550.4ms inference, 1.1ms postprocess per image at shape (1, 3, 640, 640)\n",
            "\n",
            "0: 640x640 2 persons, 3 bottles, 1 book, 568.4ms\n",
            "Speed: 2.5ms preprocess, 568.4ms inference, 1.4ms postprocess per image at shape (1, 3, 640, 640)\n",
            "\n",
            "0: 640x640 2 persons, 3 bottles, 1 book, 552.8ms\n",
            "Speed: 2.4ms preprocess, 552.8ms inference, 1.2ms postprocess per image at shape (1, 3, 640, 640)\n",
            "\n",
            "0: 640x640 2 persons, 3 bottles, 1 book, 559.0ms\n",
            "Speed: 2.6ms preprocess, 559.0ms inference, 1.8ms postprocess per image at shape (1, 3, 640, 640)\n",
            "\n",
            "0: 640x640 2 persons, 3 bottles, 1 book, 569.0ms\n",
            "Speed: 4.4ms preprocess, 569.0ms inference, 1.2ms postprocess per image at shape (1, 3, 640, 640)\n",
            "\n",
            "0: 640x640 2 persons, 1 kite, 7 bottles, 910.5ms\n",
            "Speed: 2.3ms preprocess, 910.5ms inference, 1.7ms postprocess per image at shape (1, 3, 640, 640)\n",
            "\n",
            "0: 640x640 2 persons, 1 dog, 1 kite, 6 bottles, 898.2ms\n",
            "Speed: 8.6ms preprocess, 898.2ms inference, 1.5ms postprocess per image at shape (1, 3, 640, 640)\n",
            "\n",
            "0: 640x640 2 persons, 1 kite, 6 bottles, 878.4ms\n",
            "Speed: 3.0ms preprocess, 878.4ms inference, 1.7ms postprocess per image at shape (1, 3, 640, 640)\n",
            "\n",
            "0: 640x640 2 persons, 1 kite, 6 bottles, 718.6ms\n",
            "Speed: 2.3ms preprocess, 718.6ms inference, 1.4ms postprocess per image at shape (1, 3, 640, 640)\n",
            "\n",
            "0: 640x640 2 persons, 1 kite, 6 bottles, 562.4ms\n",
            "Speed: 2.2ms preprocess, 562.4ms inference, 1.4ms postprocess per image at shape (1, 3, 640, 640)\n",
            "\n",
            "0: 640x640 2 persons, 1 kite, 5 bottles, 576.6ms\n",
            "Speed: 3.1ms preprocess, 576.6ms inference, 1.3ms postprocess per image at shape (1, 3, 640, 640)\n",
            "\n",
            "0: 640x640 2 persons, 1 kite, 7 bottles, 543.5ms\n",
            "Speed: 2.5ms preprocess, 543.5ms inference, 1.3ms postprocess per image at shape (1, 3, 640, 640)\n",
            "\n",
            "0: 640x640 2 persons, 7 bottles, 574.1ms\n",
            "Speed: 2.6ms preprocess, 574.1ms inference, 1.5ms postprocess per image at shape (1, 3, 640, 640)\n",
            "\n",
            "0: 640x640 2 persons, 1 kite, 5 bottles, 574.5ms\n",
            "Speed: 5.6ms preprocess, 574.5ms inference, 1.5ms postprocess per image at shape (1, 3, 640, 640)\n",
            "\n",
            "0: 640x640 2 persons, 5 bottles, 578.7ms\n",
            "Speed: 2.6ms preprocess, 578.7ms inference, 1.4ms postprocess per image at shape (1, 3, 640, 640)\n",
            "\n",
            "0: 640x640 2 persons, 1 kite, 3 bottles, 592.2ms\n",
            "Speed: 4.0ms preprocess, 592.2ms inference, 1.4ms postprocess per image at shape (1, 3, 640, 640)\n",
            "\n",
            "0: 640x640 2 persons, 8 bottles, 564.8ms\n",
            "Speed: 3.3ms preprocess, 564.8ms inference, 1.9ms postprocess per image at shape (1, 3, 640, 640)\n",
            "\n",
            "0: 640x640 2 persons, 6 bottles, 575.4ms\n",
            "Speed: 2.9ms preprocess, 575.4ms inference, 1.2ms postprocess per image at shape (1, 3, 640, 640)\n",
            "\n",
            "0: 640x640 2 persons, 7 bottles, 566.0ms\n",
            "Speed: 2.3ms preprocess, 566.0ms inference, 1.4ms postprocess per image at shape (1, 3, 640, 640)\n",
            "\n",
            "0: 640x640 2 persons, 7 bottles, 683.6ms\n",
            "Speed: 2.3ms preprocess, 683.6ms inference, 1.6ms postprocess per image at shape (1, 3, 640, 640)\n",
            "\n",
            "0: 640x640 2 persons, 6 bottles, 879.6ms\n",
            "Speed: 4.9ms preprocess, 879.6ms inference, 1.7ms postprocess per image at shape (1, 3, 640, 640)\n",
            "\n",
            "0: 640x640 2 persons, 7 bottles, 911.0ms\n",
            "Speed: 2.6ms preprocess, 911.0ms inference, 1.6ms postprocess per image at shape (1, 3, 640, 640)\n",
            "\n",
            "0: 640x640 2 persons, 1 kite, 6 bottles, 882.9ms\n",
            "Speed: 3.2ms preprocess, 882.9ms inference, 1.6ms postprocess per image at shape (1, 3, 640, 640)\n",
            "\n",
            "0: 640x640 2 persons, 1 kite, 5 bottles, 733.8ms\n",
            "Speed: 2.4ms preprocess, 733.8ms inference, 1.2ms postprocess per image at shape (1, 3, 640, 640)\n",
            "\n",
            "0: 640x640 2 persons, 1 kite, 4 bottles, 561.3ms\n",
            "Speed: 6.1ms preprocess, 561.3ms inference, 1.4ms postprocess per image at shape (1, 3, 640, 640)\n",
            "\n",
            "0: 640x640 2 persons, 1 kite, 4 bottles, 573.3ms\n",
            "Speed: 2.2ms preprocess, 573.3ms inference, 1.3ms postprocess per image at shape (1, 3, 640, 640)\n",
            "\n",
            "0: 640x640 2 persons, 1 kite, 5 bottles, 569.1ms\n",
            "Speed: 2.6ms preprocess, 569.1ms inference, 1.9ms postprocess per image at shape (1, 3, 640, 640)\n",
            "\n",
            "0: 640x640 2 persons, 1 kite, 5 bottles, 579.3ms\n",
            "Speed: 2.5ms preprocess, 579.3ms inference, 1.3ms postprocess per image at shape (1, 3, 640, 640)\n",
            "\n",
            "0: 640x640 2 persons, 1 kite, 6 bottles, 638.4ms\n",
            "Speed: 5.5ms preprocess, 638.4ms inference, 1.6ms postprocess per image at shape (1, 3, 640, 640)\n",
            "\n",
            "0: 640x640 2 persons, 1 kite, 6 bottles, 573.8ms\n",
            "Speed: 2.6ms preprocess, 573.8ms inference, 1.2ms postprocess per image at shape (1, 3, 640, 640)\n",
            "\n",
            "0: 640x640 2 persons, 1 kite, 5 bottles, 575.6ms\n",
            "Speed: 2.7ms preprocess, 575.6ms inference, 1.2ms postprocess per image at shape (1, 3, 640, 640)\n",
            "\n",
            "0: 640x640 2 persons, 1 kite, 6 bottles, 570.7ms\n",
            "Speed: 2.7ms preprocess, 570.7ms inference, 1.8ms postprocess per image at shape (1, 3, 640, 640)\n",
            "\n",
            "0: 640x640 2 persons, 5 bottles, 1 refrigerator, 611.7ms\n",
            "Speed: 3.7ms preprocess, 611.7ms inference, 1.3ms postprocess per image at shape (1, 3, 640, 640)\n",
            "\n",
            "0: 640x640 2 persons, 1 skis, 6 bottles, 1 refrigerator, 575.8ms\n",
            "Speed: 2.3ms preprocess, 575.8ms inference, 1.2ms postprocess per image at shape (1, 3, 640, 640)\n",
            "\n",
            "0: 640x640 2 persons, 6 bottles, 1 refrigerator, 815.1ms\n",
            "Speed: 4.6ms preprocess, 815.1ms inference, 1.6ms postprocess per image at shape (1, 3, 640, 640)\n",
            "\n",
            "0: 640x640 2 persons, 6 bottles, 874.4ms\n",
            "Speed: 2.6ms preprocess, 874.4ms inference, 1.7ms postprocess per image at shape (1, 3, 640, 640)\n",
            "\n",
            "0: 640x640 1 person, 1 cat, 6 bottles, 875.8ms\n",
            "Speed: 2.5ms preprocess, 875.8ms inference, 1.6ms postprocess per image at shape (1, 3, 640, 640)\n",
            "\n",
            "0: 640x640 1 person, 6 bottles, 879.1ms\n",
            "Speed: 4.7ms preprocess, 879.1ms inference, 1.6ms postprocess per image at shape (1, 3, 640, 640)\n",
            "\n",
            "0: 640x640 2 persons, 1 kite, 6 bottles, 664.2ms\n",
            "Speed: 2.5ms preprocess, 664.2ms inference, 1.2ms postprocess per image at shape (1, 3, 640, 640)\n",
            "\n",
            "0: 640x640 1 person, 1 kite, 5 bottles, 563.9ms\n",
            "Speed: 2.3ms preprocess, 563.9ms inference, 1.4ms postprocess per image at shape (1, 3, 640, 640)\n",
            "\n",
            "0: 640x640 1 person, 1 kite, 4 bottles, 575.0ms\n",
            "Speed: 4.0ms preprocess, 575.0ms inference, 1.2ms postprocess per image at shape (1, 3, 640, 640)\n",
            "\n",
            "0: 640x640 1 person, 2 bottles, 557.5ms\n",
            "Speed: 4.8ms preprocess, 557.5ms inference, 1.1ms postprocess per image at shape (1, 3, 640, 640)\n",
            "\n",
            "0: 640x640 1 person, 1 bottle, 568.1ms\n",
            "Speed: 2.6ms preprocess, 568.1ms inference, 1.4ms postprocess per image at shape (1, 3, 640, 640)\n",
            "\n",
            "0: 640x640 1 person, 579.0ms\n",
            "Speed: 3.0ms preprocess, 579.0ms inference, 1.3ms postprocess per image at shape (1, 3, 640, 640)\n",
            "\n",
            "0: 640x640 1 person, 1 bottle, 579.6ms\n",
            "Speed: 3.4ms preprocess, 579.6ms inference, 1.3ms postprocess per image at shape (1, 3, 640, 640)\n",
            "\n",
            "0: 640x640 1 person, 6 bottles, 573.2ms\n",
            "Speed: 3.9ms preprocess, 573.2ms inference, 1.2ms postprocess per image at shape (1, 3, 640, 640)\n",
            "\n",
            "0: 640x640 1 person, 2 bottles, 580.4ms\n",
            "Speed: 5.7ms preprocess, 580.4ms inference, 1.3ms postprocess per image at shape (1, 3, 640, 640)\n",
            "\n",
            "0: 640x640 1 person, 1 bottle, 553.3ms\n",
            "Speed: 7.3ms preprocess, 553.3ms inference, 1.2ms postprocess per image at shape (1, 3, 640, 640)\n",
            "\n",
            "0: 640x640 1 person, 1 bottle, 574.6ms\n",
            "Speed: 2.3ms preprocess, 574.6ms inference, 1.4ms postprocess per image at shape (1, 3, 640, 640)\n",
            "\n",
            "0: 640x640 1 person, 2 bottles, 575.4ms\n",
            "Speed: 2.4ms preprocess, 575.4ms inference, 1.2ms postprocess per image at shape (1, 3, 640, 640)\n",
            "\n",
            "0: 640x640 1 person, 1 handbag, 2 bottles, 562.0ms\n",
            "Speed: 2.9ms preprocess, 562.0ms inference, 1.3ms postprocess per image at shape (1, 3, 640, 640)\n",
            "\n",
            "0: 640x640 1 person, 2 bottles, 1 banana, 820.7ms\n",
            "Speed: 2.8ms preprocess, 820.7ms inference, 1.6ms postprocess per image at shape (1, 3, 640, 640)\n",
            "\n",
            "0: 640x640 1 person, 1 bottle, 877.0ms\n",
            "Speed: 2.6ms preprocess, 877.0ms inference, 3.5ms postprocess per image at shape (1, 3, 640, 640)\n",
            "\n",
            "0: 640x640 1 person, 4 bottles, 918.8ms\n",
            "Speed: 2.8ms preprocess, 918.8ms inference, 1.5ms postprocess per image at shape (1, 3, 640, 640)\n",
            "\n",
            "0: 640x640 1 person, 7 bottles, 904.8ms\n",
            "Speed: 2.4ms preprocess, 904.8ms inference, 1.8ms postprocess per image at shape (1, 3, 640, 640)\n",
            "\n",
            "0: 640x640 1 person, 6 bottles, 889.3ms\n",
            "Speed: 2.3ms preprocess, 889.3ms inference, 1.7ms postprocess per image at shape (1, 3, 640, 640)\n",
            "\n",
            "0: 640x640 1 person, 5 bottles, 1 banana, 561.1ms\n",
            "Speed: 2.8ms preprocess, 561.1ms inference, 1.3ms postprocess per image at shape (1, 3, 640, 640)\n",
            "\n",
            "0: 640x640 1 person, 6 bottles, 1 banana, 1 vase, 561.7ms\n",
            "Speed: 2.8ms preprocess, 561.7ms inference, 1.6ms postprocess per image at shape (1, 3, 640, 640)\n",
            "\n",
            "0: 640x640 1 person, 3 bottles, 1 banana, 559.9ms\n",
            "Speed: 3.0ms preprocess, 559.9ms inference, 1.5ms postprocess per image at shape (1, 3, 640, 640)\n",
            "\n",
            "0: 640x640 1 person, 3 bottles, 1 banana, 584.5ms\n",
            "Speed: 3.0ms preprocess, 584.5ms inference, 1.2ms postprocess per image at shape (1, 3, 640, 640)\n",
            "\n",
            "0: 640x640 1 person, 5 bottles, 1 banana, 583.5ms\n",
            "Speed: 2.7ms preprocess, 583.5ms inference, 1.3ms postprocess per image at shape (1, 3, 640, 640)\n",
            "\n",
            "0: 640x640 1 person, 1 bottle, 1 banana, 1 vase, 569.4ms\n",
            "Speed: 2.4ms preprocess, 569.4ms inference, 1.3ms postprocess per image at shape (1, 3, 640, 640)\n",
            "\n",
            "0: 640x640 1 person, 1 bottle, 1 banana, 574.5ms\n",
            "Speed: 2.7ms preprocess, 574.5ms inference, 1.2ms postprocess per image at shape (1, 3, 640, 640)\n",
            "\n",
            "0: 640x640 1 person, 2 bottles, 1 vase, 586.5ms\n",
            "Speed: 4.9ms preprocess, 586.5ms inference, 1.4ms postprocess per image at shape (1, 3, 640, 640)\n",
            "\n",
            "0: 640x640 1 person, 1 bottle, 1 vase, 577.6ms\n",
            "Speed: 3.6ms preprocess, 577.6ms inference, 1.3ms postprocess per image at shape (1, 3, 640, 640)\n",
            "\n",
            "0: 640x640 1 person, 1 bottle, 574.3ms\n",
            "Speed: 2.6ms preprocess, 574.3ms inference, 1.5ms postprocess per image at shape (1, 3, 640, 640)\n",
            "\n",
            "0: 640x640 1 person, 1 bottle, 582.7ms\n",
            "Speed: 2.6ms preprocess, 582.7ms inference, 1.3ms postprocess per image at shape (1, 3, 640, 640)\n",
            "\n",
            "0: 640x640 1 person, 2 bottles, 1 vase, 598.4ms\n",
            "Speed: 2.6ms preprocess, 598.4ms inference, 1.2ms postprocess per image at shape (1, 3, 640, 640)\n",
            "\n",
            "0: 640x640 1 person, 578.3ms\n",
            "Speed: 2.8ms preprocess, 578.3ms inference, 1.8ms postprocess per image at shape (1, 3, 640, 640)\n",
            "\n",
            "0: 640x640 1 person, 882.7ms\n",
            "Speed: 3.0ms preprocess, 882.7ms inference, 1.5ms postprocess per image at shape (1, 3, 640, 640)\n",
            "\n",
            "0: 640x640 1 person, 1 bottle, 854.0ms\n",
            "Speed: 3.2ms preprocess, 854.0ms inference, 1.7ms postprocess per image at shape (1, 3, 640, 640)\n",
            "\n",
            "0: 640x640 1 person, 3 bottles, 881.7ms\n",
            "Speed: 7.5ms preprocess, 881.7ms inference, 1.6ms postprocess per image at shape (1, 3, 640, 640)\n",
            "\n",
            "0: 640x640 1 person, 2 bottles, 1 toothbrush, 841.2ms\n",
            "Speed: 7.3ms preprocess, 841.2ms inference, 1.8ms postprocess per image at shape (1, 3, 640, 640)\n",
            "\n",
            "0: 640x640 1 person, 2 bottles, 866.4ms\n",
            "Speed: 2.7ms preprocess, 866.4ms inference, 1.6ms postprocess per image at shape (1, 3, 640, 640)\n",
            "\n",
            "0: 640x640 1 person, 1 kite, 1 bottle, 616.4ms\n",
            "Speed: 2.4ms preprocess, 616.4ms inference, 1.4ms postprocess per image at shape (1, 3, 640, 640)\n",
            "\n",
            "0: 640x640 1 person, 1 bottle, 573.5ms\n",
            "Speed: 2.4ms preprocess, 573.5ms inference, 1.4ms postprocess per image at shape (1, 3, 640, 640)\n",
            "\n",
            "0: 640x640 1 person, 1 bottle, 1 banana, 578.7ms\n",
            "Speed: 2.3ms preprocess, 578.7ms inference, 1.4ms postprocess per image at shape (1, 3, 640, 640)\n",
            "\n",
            "0: 640x640 1 person, 1 umbrella, 7 bottles, 1 refrigerator, 571.3ms\n",
            "Speed: 2.9ms preprocess, 571.3ms inference, 1.4ms postprocess per image at shape (1, 3, 640, 640)\n",
            "\n",
            "0: 640x640 1 person, 1 umbrella, 7 bottles, 1 refrigerator, 567.0ms\n",
            "Speed: 2.9ms preprocess, 567.0ms inference, 1.2ms postprocess per image at shape (1, 3, 640, 640)\n",
            "\n",
            "0: 640x640 1 person, 1 umbrella, 7 bottles, 1 refrigerator, 580.0ms\n",
            "Speed: 3.4ms preprocess, 580.0ms inference, 1.2ms postprocess per image at shape (1, 3, 640, 640)\n",
            "\n",
            "0: 640x640 1 person, 1 umbrella, 7 bottles, 1 refrigerator, 566.7ms\n",
            "Speed: 8.5ms preprocess, 566.7ms inference, 1.4ms postprocess per image at shape (1, 3, 640, 640)\n",
            "\n",
            "0: 640x640 1 person, 1 umbrella, 6 bottles, 1 refrigerator, 580.7ms\n",
            "Speed: 3.0ms preprocess, 580.7ms inference, 1.2ms postprocess per image at shape (1, 3, 640, 640)\n",
            "\n",
            "0: 640x640 2 persons, 1 umbrella, 5 bottles, 1 refrigerator, 565.4ms\n",
            "Speed: 4.5ms preprocess, 565.4ms inference, 1.9ms postprocess per image at shape (1, 3, 640, 640)\n",
            "\n",
            "0: 640x640 2 persons, 1 umbrella, 5 bottles, 1 refrigerator, 568.2ms\n",
            "Speed: 2.7ms preprocess, 568.2ms inference, 1.3ms postprocess per image at shape (1, 3, 640, 640)\n",
            "\n",
            "0: 640x640 2 persons, 1 umbrella, 7 bottles, 902.9ms\n",
            "Speed: 9.0ms preprocess, 902.9ms inference, 1.7ms postprocess per image at shape (1, 3, 640, 640)\n",
            "\n",
            "0: 640x640 2 persons, 1 umbrella, 1 kite, 6 bottles, 1 refrigerator, 887.6ms\n",
            "Speed: 2.7ms preprocess, 887.6ms inference, 1.7ms postprocess per image at shape (1, 3, 640, 640)\n",
            "\n",
            "0: 640x640 2 persons, 1 umbrella, 1 handbag, 6 bottles, 888.8ms\n",
            "Speed: 3.5ms preprocess, 888.8ms inference, 1.8ms postprocess per image at shape (1, 3, 640, 640)\n",
            "\n",
            "0: 640x640 2 persons, 1 umbrella, 6 bottles, 768.8ms\n",
            "Speed: 5.5ms preprocess, 768.8ms inference, 1.2ms postprocess per image at shape (1, 3, 640, 640)\n",
            "\n",
            "0: 640x640 2 persons, 2 umbrellas, 7 bottles, 582.6ms\n",
            "Speed: 3.6ms preprocess, 582.6ms inference, 1.2ms postprocess per image at shape (1, 3, 640, 640)\n",
            "\n",
            "0: 640x640 2 persons, 2 umbrellas, 7 bottles, 578.7ms\n",
            "Speed: 3.4ms preprocess, 578.7ms inference, 1.3ms postprocess per image at shape (1, 3, 640, 640)\n",
            "\n",
            "0: 640x640 2 persons, 1 umbrella, 7 bottles, 569.8ms\n",
            "Speed: 2.8ms preprocess, 569.8ms inference, 1.4ms postprocess per image at shape (1, 3, 640, 640)\n",
            "\n",
            "0: 640x640 2 persons, 1 umbrella, 7 bottles, 570.9ms\n",
            "Speed: 6.4ms preprocess, 570.9ms inference, 1.8ms postprocess per image at shape (1, 3, 640, 640)\n",
            "\n",
            "0: 640x640 2 persons, 1 umbrella, 7 bottles, 574.2ms\n",
            "Speed: 3.1ms preprocess, 574.2ms inference, 1.2ms postprocess per image at shape (1, 3, 640, 640)\n",
            "\n",
            "0: 640x640 2 persons, 1 umbrella, 7 bottles, 1 refrigerator, 610.5ms\n",
            "Speed: 2.7ms preprocess, 610.5ms inference, 1.2ms postprocess per image at shape (1, 3, 640, 640)\n",
            "\n",
            "0: 640x640 2 persons, 1 umbrella, 7 bottles, 1 refrigerator, 560.6ms\n",
            "Speed: 2.7ms preprocess, 560.6ms inference, 1.2ms postprocess per image at shape (1, 3, 640, 640)\n",
            "\n",
            "0: 640x640 2 persons, 1 umbrella, 7 bottles, 536.6ms\n",
            "Speed: 8.8ms preprocess, 536.6ms inference, 1.3ms postprocess per image at shape (1, 3, 640, 640)\n",
            "\n",
            "0: 640x640 2 persons, 1 umbrella, 7 bottles, 570.2ms\n",
            "Speed: 2.6ms preprocess, 570.2ms inference, 2.3ms postprocess per image at shape (1, 3, 640, 640)\n",
            "\n",
            "0: 640x640 2 persons, 1 umbrella, 7 bottles, 872.7ms\n",
            "Speed: 8.7ms preprocess, 872.7ms inference, 1.7ms postprocess per image at shape (1, 3, 640, 640)\n",
            "\n",
            "0: 640x640 2 persons, 1 umbrella, 7 bottles, 1 refrigerator, 874.1ms\n",
            "Speed: 5.3ms preprocess, 874.1ms inference, 1.7ms postprocess per image at shape (1, 3, 640, 640)\n",
            "\n",
            "0: 640x640 2 persons, 1 umbrella, 7 bottles, 1 refrigerator, 866.2ms\n",
            "Speed: 7.9ms preprocess, 866.2ms inference, 2.0ms postprocess per image at shape (1, 3, 640, 640)\n",
            "\n",
            "0: 640x640 2 persons, 1 umbrella, 7 bottles, 610.0ms\n",
            "Speed: 2.8ms preprocess, 610.0ms inference, 1.3ms postprocess per image at shape (1, 3, 640, 640)\n",
            "\n",
            "0: 640x640 1 person, 1 umbrella, 7 bottles, 2 refrigerators, 563.4ms\n",
            "Speed: 2.8ms preprocess, 563.4ms inference, 1.2ms postprocess per image at shape (1, 3, 640, 640)\n",
            "\n",
            "0: 640x640 1 person, 1 umbrella, 7 bottles, 1 refrigerator, 561.6ms\n",
            "Speed: 2.9ms preprocess, 561.6ms inference, 1.2ms postprocess per image at shape (1, 3, 640, 640)\n",
            "\n",
            "0: 640x640 1 person, 1 umbrella, 7 bottles, 578.1ms\n",
            "Speed: 2.6ms preprocess, 578.1ms inference, 1.2ms postprocess per image at shape (1, 3, 640, 640)\n",
            "\n",
            "0: 640x640 1 person, 1 umbrella, 7 bottles, 561.6ms\n",
            "Speed: 2.8ms preprocess, 561.6ms inference, 1.4ms postprocess per image at shape (1, 3, 640, 640)\n",
            "\n",
            "0: 640x640 1 person, 1 umbrella, 7 bottles, 1 refrigerator, 564.6ms\n",
            "Speed: 3.6ms preprocess, 564.6ms inference, 1.3ms postprocess per image at shape (1, 3, 640, 640)\n",
            "\n",
            "0: 640x640 2 persons, 1 umbrella, 7 bottles, 1 refrigerator, 562.3ms\n",
            "Speed: 2.5ms preprocess, 562.3ms inference, 1.1ms postprocess per image at shape (1, 3, 640, 640)\n",
            "\n",
            "0: 640x640 2 persons, 1 umbrella, 7 bottles, 1 refrigerator, 556.9ms\n",
            "Speed: 6.0ms preprocess, 556.9ms inference, 1.2ms postprocess per image at shape (1, 3, 640, 640)\n",
            "\n",
            "0: 640x640 2 persons, 1 umbrella, 7 bottles, 566.8ms\n",
            "Speed: 6.1ms preprocess, 566.8ms inference, 1.8ms postprocess per image at shape (1, 3, 640, 640)\n",
            "\n",
            "0: 640x640 2 persons, 1 umbrella, 7 bottles, 694.1ms\n",
            "Speed: 4.6ms preprocess, 694.1ms inference, 1.7ms postprocess per image at shape (1, 3, 640, 640)\n",
            "\n",
            "0: 640x640 2 persons, 1 umbrella, 7 bottles, 883.4ms\n",
            "Speed: 2.7ms preprocess, 883.4ms inference, 1.7ms postprocess per image at shape (1, 3, 640, 640)\n",
            "\n",
            "0: 640x640 2 persons, 1 umbrella, 7 bottles, 879.0ms\n",
            "Speed: 2.9ms preprocess, 879.0ms inference, 1.7ms postprocess per image at shape (1, 3, 640, 640)\n",
            "\n",
            "0: 640x640 2 persons, 1 umbrella, 7 bottles, 860.6ms\n",
            "Speed: 2.7ms preprocess, 860.6ms inference, 1.9ms postprocess per image at shape (1, 3, 640, 640)\n",
            "\n",
            "0: 640x640 2 persons, 1 car, 4 bottles, 585.6ms\n",
            "Speed: 4.4ms preprocess, 585.6ms inference, 1.3ms postprocess per image at shape (1, 3, 640, 640)\n",
            "\n",
            "0: 640x640 2 persons, 1 car, 1 bottle, 585.3ms\n",
            "Speed: 3.5ms preprocess, 585.3ms inference, 1.2ms postprocess per image at shape (1, 3, 640, 640)\n",
            "\n",
            "0: 640x640 2 persons, 1 car, 1 bottle, 580.7ms\n",
            "Speed: 3.0ms preprocess, 580.7ms inference, 1.2ms postprocess per image at shape (1, 3, 640, 640)\n",
            "\n",
            "0: 640x640 2 persons, 1 car, 1 bottle, 559.0ms\n",
            "Speed: 3.4ms preprocess, 559.0ms inference, 1.2ms postprocess per image at shape (1, 3, 640, 640)\n",
            "\n",
            "0: 640x640 2 persons, 1 car, 4 bottles, 564.1ms\n",
            "Speed: 8.1ms preprocess, 564.1ms inference, 1.2ms postprocess per image at shape (1, 3, 640, 640)\n",
            "\n",
            "0: 640x640 2 persons, 1 car, 2 bottles, 562.9ms\n",
            "Speed: 2.8ms preprocess, 562.9ms inference, 1.3ms postprocess per image at shape (1, 3, 640, 640)\n",
            "\n",
            "0: 640x640 2 persons, 1 car, 1 bottle, 566.8ms\n",
            "Speed: 4.8ms preprocess, 566.8ms inference, 1.2ms postprocess per image at shape (1, 3, 640, 640)\n",
            "\n",
            "0: 640x640 2 persons, 1 car, 1 bottle, 589.9ms\n",
            "Speed: 3.4ms preprocess, 589.9ms inference, 1.3ms postprocess per image at shape (1, 3, 640, 640)\n",
            "\n",
            "0: 640x640 2 persons, 1 car, 1 bottle, 587.9ms\n",
            "Speed: 3.3ms preprocess, 587.9ms inference, 1.2ms postprocess per image at shape (1, 3, 640, 640)\n",
            "\n",
            "0: 640x640 2 persons, 1 car, 1 bottle, 587.5ms\n",
            "Speed: 9.5ms preprocess, 587.5ms inference, 1.7ms postprocess per image at shape (1, 3, 640, 640)\n",
            "\n",
            "0: 640x640 2 persons, 1 car, 1 bottle, 939.5ms\n",
            "Speed: 2.7ms preprocess, 939.5ms inference, 1.6ms postprocess per image at shape (1, 3, 640, 640)\n",
            "\n",
            "0: 640x640 3 persons, 1 car, 2 bottles, 911.1ms\n",
            "Speed: 8.0ms preprocess, 911.1ms inference, 1.6ms postprocess per image at shape (1, 3, 640, 640)\n",
            "\n",
            "0: 640x640 2 persons, 1 car, 1 bottle, 971.9ms\n",
            "Speed: 5.9ms preprocess, 971.9ms inference, 1.7ms postprocess per image at shape (1, 3, 640, 640)\n",
            "\n",
            "0: 640x640 3 persons, 1 car, 1 bottle, 947.6ms\n",
            "Speed: 2.8ms preprocess, 947.6ms inference, 1.6ms postprocess per image at shape (1, 3, 640, 640)\n",
            "\n",
            "0: 640x640 2 persons, 1 car, 2 bottles, 989.7ms\n",
            "Speed: 6.7ms preprocess, 989.7ms inference, 1.5ms postprocess per image at shape (1, 3, 640, 640)\n",
            "\n",
            "0: 640x640 4 persons, 1 car, 1 bottle, 925.0ms\n",
            "Speed: 3.3ms preprocess, 925.0ms inference, 1.6ms postprocess per image at shape (1, 3, 640, 640)\n",
            "\n",
            "0: 640x640 4 persons, 1 car, 2 bottles, 897.7ms\n",
            "Speed: 2.6ms preprocess, 897.7ms inference, 1.8ms postprocess per image at shape (1, 3, 640, 640)\n",
            "\n",
            "0: 640x640 3 persons, 1 car, 1 bottle, 566.7ms\n",
            "Speed: 4.3ms preprocess, 566.7ms inference, 1.3ms postprocess per image at shape (1, 3, 640, 640)\n",
            "\n",
            "0: 640x640 3 persons, 1 car, 1 bottle, 569.8ms\n",
            "Speed: 2.7ms preprocess, 569.8ms inference, 1.2ms postprocess per image at shape (1, 3, 640, 640)\n",
            "\n",
            "0: 640x640 4 persons, 1 car, 1 bottle, 567.5ms\n",
            "Speed: 4.6ms preprocess, 567.5ms inference, 1.4ms postprocess per image at shape (1, 3, 640, 640)\n",
            "\n",
            "0: 640x640 3 persons, 1 car, 2 bottles, 575.4ms\n",
            "Speed: 3.8ms preprocess, 575.4ms inference, 1.2ms postprocess per image at shape (1, 3, 640, 640)\n",
            "\n",
            "0: 640x640 3 persons, 1 car, 2 bottles, 575.4ms\n",
            "Speed: 2.7ms preprocess, 575.4ms inference, 1.4ms postprocess per image at shape (1, 3, 640, 640)\n",
            "\n",
            "0: 640x640 4 persons, 1 car, 3 bottles, 586.0ms\n",
            "Speed: 2.8ms preprocess, 586.0ms inference, 1.3ms postprocess per image at shape (1, 3, 640, 640)\n",
            "\n",
            "0: 640x640 3 persons, 1 car, 3 bottles, 573.4ms\n",
            "Speed: 2.7ms preprocess, 573.4ms inference, 1.2ms postprocess per image at shape (1, 3, 640, 640)\n",
            "\n",
            "0: 640x640 2 persons, 1 car, 4 bottles, 557.0ms\n",
            "Speed: 2.7ms preprocess, 557.0ms inference, 1.2ms postprocess per image at shape (1, 3, 640, 640)\n",
            "\n",
            "0: 640x640 2 persons, 1 car, 2 bottles, 566.0ms\n",
            "Speed: 8.7ms preprocess, 566.0ms inference, 1.3ms postprocess per image at shape (1, 3, 640, 640)\n",
            "\n",
            "0: 640x640 2 persons, 1 car, 2 bottles, 552.6ms\n",
            "Speed: 2.8ms preprocess, 552.6ms inference, 1.3ms postprocess per image at shape (1, 3, 640, 640)\n",
            "\n",
            "0: 640x640 2 persons, 1 car, 2 bottles, 572.9ms\n",
            "Speed: 2.6ms preprocess, 572.9ms inference, 1.2ms postprocess per image at shape (1, 3, 640, 640)\n",
            "\n",
            "0: 640x640 2 persons, 1 car, 1 bottle, 720.3ms\n",
            "Speed: 2.9ms preprocess, 720.3ms inference, 1.6ms postprocess per image at shape (1, 3, 640, 640)\n",
            "\n",
            "0: 640x640 2 persons, 1 car, 1 bottle, 878.3ms\n",
            "Speed: 3.9ms preprocess, 878.3ms inference, 2.0ms postprocess per image at shape (1, 3, 640, 640)\n",
            "\n",
            "0: 640x640 2 persons, 1 car, 1 bottle, 878.5ms\n",
            "Speed: 2.7ms preprocess, 878.5ms inference, 1.6ms postprocess per image at shape (1, 3, 640, 640)\n",
            "\n",
            "0: 640x640 2 persons, 1 car, 1 bottle, 890.7ms\n",
            "Speed: 2.5ms preprocess, 890.7ms inference, 1.5ms postprocess per image at shape (1, 3, 640, 640)\n",
            "\n",
            "0: 640x640 2 persons, 1 car, 1 bottle, 870.2ms\n",
            "Speed: 4.3ms preprocess, 870.2ms inference, 2.0ms postprocess per image at shape (1, 3, 640, 640)\n",
            "\n",
            "0: 640x640 2 persons, 1 car, 1 bottle, 628.0ms\n",
            "Speed: 3.7ms preprocess, 628.0ms inference, 1.8ms postprocess per image at shape (1, 3, 640, 640)\n",
            "\n",
            "0: 640x640 2 persons, 1 car, 1 bottle, 566.6ms\n",
            "Speed: 4.3ms preprocess, 566.6ms inference, 1.5ms postprocess per image at shape (1, 3, 640, 640)\n",
            "\n",
            "0: 640x640 2 persons, 1 car, 1 bottle, 545.7ms\n",
            "Speed: 8.0ms preprocess, 545.7ms inference, 1.2ms postprocess per image at shape (1, 3, 640, 640)\n",
            "\n",
            "0: 640x640 1 person, 4 bottles, 1 bowl, 3 books, 569.3ms\n",
            "Speed: 2.9ms preprocess, 569.3ms inference, 1.2ms postprocess per image at shape (1, 3, 640, 640)\n",
            "\n",
            "0: 640x640 1 person, 2 bottles, 4 books, 572.3ms\n",
            "Speed: 3.0ms preprocess, 572.3ms inference, 1.4ms postprocess per image at shape (1, 3, 640, 640)\n",
            "\n",
            "0: 640x640 1 person, 1 umbrella, 2 bottles, 5 books, 582.7ms\n",
            "Speed: 2.7ms preprocess, 582.7ms inference, 1.4ms postprocess per image at shape (1, 3, 640, 640)\n",
            "\n",
            "0: 640x640 1 person, 1 umbrella, 2 bottles, 8 books, 593.8ms\n",
            "Speed: 2.8ms preprocess, 593.8ms inference, 1.2ms postprocess per image at shape (1, 3, 640, 640)\n",
            "\n",
            "0: 640x640 1 person, 2 bottles, 10 books, 588.1ms\n",
            "Speed: 2.6ms preprocess, 588.1ms inference, 1.4ms postprocess per image at shape (1, 3, 640, 640)\n",
            "\n",
            "0: 640x640 1 person, 1 umbrella, 2 bottles, 11 books, 591.6ms\n",
            "Speed: 2.9ms preprocess, 591.6ms inference, 1.5ms postprocess per image at shape (1, 3, 640, 640)\n",
            "\n",
            "0: 640x640 1 person, 3 bottles, 9 books, 558.0ms\n",
            "Speed: 2.6ms preprocess, 558.0ms inference, 2.0ms postprocess per image at shape (1, 3, 640, 640)\n",
            "\n",
            "0: 640x640 1 person, 1 umbrella, 1 handbag, 2 bottles, 10 books, 890.6ms\n",
            "Speed: 2.6ms preprocess, 890.6ms inference, 1.7ms postprocess per image at shape (1, 3, 640, 640)\n",
            "\n",
            "0: 640x640 1 person, 1 handbag, 3 bottles, 10 books, 898.4ms\n",
            "Speed: 2.3ms preprocess, 898.4ms inference, 2.0ms postprocess per image at shape (1, 3, 640, 640)\n",
            "\n",
            "0: 640x640 1 person, 2 bottles, 6 books, 893.0ms\n",
            "Speed: 2.6ms preprocess, 893.0ms inference, 1.7ms postprocess per image at shape (1, 3, 640, 640)\n",
            "\n",
            "0: 640x640 1 person, 2 bottles, 6 books, 710.0ms\n",
            "Speed: 2.3ms preprocess, 710.0ms inference, 1.4ms postprocess per image at shape (1, 3, 640, 640)\n",
            "\n",
            "0: 640x640 1 person, 1 bottle, 9 books, 575.4ms\n",
            "Speed: 2.4ms preprocess, 575.4ms inference, 1.5ms postprocess per image at shape (1, 3, 640, 640)\n",
            "\n",
            "0: 640x640 1 person, 1 orange, 7 books, 556.7ms\n",
            "Speed: 2.6ms preprocess, 556.7ms inference, 1.4ms postprocess per image at shape (1, 3, 640, 640)\n",
            "\n",
            "0: 640x640 1 person, 3 bottles, 7 books, 580.8ms\n",
            "Speed: 3.1ms preprocess, 580.8ms inference, 1.8ms postprocess per image at shape (1, 3, 640, 640)\n",
            "\n",
            "0: 640x640 1 person, 4 bottles, 7 books, 588.4ms\n",
            "Speed: 6.4ms preprocess, 588.4ms inference, 1.4ms postprocess per image at shape (1, 3, 640, 640)\n",
            "\n",
            "0: 640x640 1 person, 1 bottle, 6 books, 574.4ms\n",
            "Speed: 3.4ms preprocess, 574.4ms inference, 1.4ms postprocess per image at shape (1, 3, 640, 640)\n",
            "\n",
            "0: 640x640 1 person, 1 bottle, 1 orange, 7 books, 575.4ms\n",
            "Speed: 2.5ms preprocess, 575.4ms inference, 1.5ms postprocess per image at shape (1, 3, 640, 640)\n",
            "\n",
            "0: 640x640 1 person, 2 bottles, 9 books, 596.0ms\n",
            "Speed: 3.0ms preprocess, 596.0ms inference, 1.4ms postprocess per image at shape (1, 3, 640, 640)\n",
            "\n",
            "0: 640x640 1 person, 3 bottles, 11 books, 576.8ms\n",
            "Speed: 2.8ms preprocess, 576.8ms inference, 1.6ms postprocess per image at shape (1, 3, 640, 640)\n",
            "\n",
            "0: 640x640 1 person, 2 bottles, 10 books, 582.5ms\n",
            "Speed: 3.8ms preprocess, 582.5ms inference, 1.4ms postprocess per image at shape (1, 3, 640, 640)\n",
            "\n",
            "0: 640x640 1 person, 1 umbrella, 3 bottles, 8 books, 616.0ms\n",
            "Speed: 2.2ms preprocess, 616.0ms inference, 2.3ms postprocess per image at shape (1, 3, 640, 640)\n",
            "\n",
            "0: 640x640 1 person, 3 bottles, 8 books, 888.5ms\n",
            "Speed: 6.2ms preprocess, 888.5ms inference, 1.8ms postprocess per image at shape (1, 3, 640, 640)\n",
            "\n",
            "0: 640x640 1 person, 2 bottles, 10 books, 887.2ms\n",
            "Speed: 2.8ms preprocess, 887.2ms inference, 2.0ms postprocess per image at shape (1, 3, 640, 640)\n",
            "\n",
            "0: 640x640 1 person, 2 bottles, 12 books, 879.1ms\n",
            "Speed: 9.7ms preprocess, 879.1ms inference, 1.8ms postprocess per image at shape (1, 3, 640, 640)\n",
            "\n",
            "0: 640x640 1 person, 2 bottles, 13 books, 597.6ms\n",
            "Speed: 3.2ms preprocess, 597.6ms inference, 1.3ms postprocess per image at shape (1, 3, 640, 640)\n",
            "\n",
            "0: 640x640 1 person, 1 umbrella, 2 bottles, 12 books, 574.9ms\n",
            "Speed: 5.0ms preprocess, 574.9ms inference, 1.4ms postprocess per image at shape (1, 3, 640, 640)\n",
            "\n",
            "0: 640x640 1 person, 2 bottles, 12 books, 590.6ms\n",
            "Speed: 9.4ms preprocess, 590.6ms inference, 1.3ms postprocess per image at shape (1, 3, 640, 640)\n",
            "\n",
            "0: 640x640 1 person, 2 bottles, 12 books, 560.6ms\n",
            "Speed: 6.1ms preprocess, 560.6ms inference, 1.3ms postprocess per image at shape (1, 3, 640, 640)\n",
            "\n",
            "0: 640x640 1 person, 1 umbrella, 2 bottles, 12 books, 561.8ms\n",
            "Speed: 2.5ms preprocess, 561.8ms inference, 1.2ms postprocess per image at shape (1, 3, 640, 640)\n",
            "\n",
            "0: 640x640 1 person, 1 umbrella, 2 bottles, 12 books, 560.7ms\n",
            "Speed: 2.6ms preprocess, 560.7ms inference, 1.5ms postprocess per image at shape (1, 3, 640, 640)\n",
            "\n",
            "0: 640x640 1 person, 3 bottles, 11 books, 578.8ms\n",
            "Speed: 3.0ms preprocess, 578.8ms inference, 1.4ms postprocess per image at shape (1, 3, 640, 640)\n",
            "\n",
            "0: 640x640 1 person, 3 bottles, 8 books, 585.7ms\n",
            "Speed: 2.6ms preprocess, 585.7ms inference, 1.4ms postprocess per image at shape (1, 3, 640, 640)\n",
            "\n",
            "0: 640x640 1 person, 3 bottles, 10 books, 605.1ms\n",
            "Speed: 3.3ms preprocess, 605.1ms inference, 2.0ms postprocess per image at shape (1, 3, 640, 640)\n",
            "\n",
            "0: 640x640 1 person, 3 bottles, 10 books, 887.7ms\n",
            "Speed: 4.7ms preprocess, 887.7ms inference, 1.7ms postprocess per image at shape (1, 3, 640, 640)\n",
            "\n",
            "0: 640x640 1 person, 1 umbrella, 3 bottles, 10 books, 888.7ms\n",
            "Speed: 2.4ms preprocess, 888.7ms inference, 1.8ms postprocess per image at shape (1, 3, 640, 640)\n",
            "\n",
            "0: 640x640 1 person, 4 bottles, 9 books, 858.7ms\n",
            "Speed: 2.5ms preprocess, 858.7ms inference, 2.0ms postprocess per image at shape (1, 3, 640, 640)\n",
            "\n",
            "0: 640x640 2 persons, 575.0ms\n",
            "Speed: 4.6ms preprocess, 575.0ms inference, 1.4ms postprocess per image at shape (1, 3, 640, 640)\n",
            "\n",
            "0: 640x640 3 persons, 1 bottle, 1 cell phone, 573.9ms\n",
            "Speed: 2.5ms preprocess, 573.9ms inference, 1.4ms postprocess per image at shape (1, 3, 640, 640)\n",
            "\n",
            "0: 640x640 3 persons, 1 bottle, 1 cell phone, 594.0ms\n",
            "Speed: 3.2ms preprocess, 594.0ms inference, 1.4ms postprocess per image at shape (1, 3, 640, 640)\n",
            "\n",
            "0: 640x640 3 persons, 1 bottle, 1 cell phone, 576.6ms\n",
            "Speed: 6.7ms preprocess, 576.6ms inference, 1.4ms postprocess per image at shape (1, 3, 640, 640)\n",
            "\n",
            "0: 640x640 3 persons, 550.9ms\n",
            "Speed: 2.5ms preprocess, 550.9ms inference, 1.4ms postprocess per image at shape (1, 3, 640, 640)\n",
            "\n",
            "0: 640x640 2 persons, 1 bottle, 571.4ms\n",
            "Speed: 2.7ms preprocess, 571.4ms inference, 1.4ms postprocess per image at shape (1, 3, 640, 640)\n",
            "\n",
            "0: 640x640 2 persons, 1 bottle, 570.9ms\n",
            "Speed: 2.5ms preprocess, 570.9ms inference, 1.4ms postprocess per image at shape (1, 3, 640, 640)\n",
            "\n",
            "0: 640x640 3 persons, 1 bottle, 560.5ms\n",
            "Speed: 2.4ms preprocess, 560.5ms inference, 1.3ms postprocess per image at shape (1, 3, 640, 640)\n",
            "\n",
            "0: 640x640 2 persons, 1 bottle, 566.5ms\n",
            "Speed: 2.5ms preprocess, 566.5ms inference, 1.3ms postprocess per image at shape (1, 3, 640, 640)\n",
            "\n",
            "0: 640x640 3 persons, 2 bottles, 572.6ms\n",
            "Speed: 3.0ms preprocess, 572.6ms inference, 1.4ms postprocess per image at shape (1, 3, 640, 640)\n",
            "\n",
            "0: 640x640 3 persons, 2 bottles, 575.7ms\n",
            "Speed: 3.0ms preprocess, 575.7ms inference, 1.3ms postprocess per image at shape (1, 3, 640, 640)\n",
            "\n",
            "0: 640x640 3 persons, 1 bottle, 709.5ms\n",
            "Speed: 9.3ms preprocess, 709.5ms inference, 1.7ms postprocess per image at shape (1, 3, 640, 640)\n",
            "\n",
            "0: 640x640 3 persons, 1 bottle, 884.3ms\n",
            "Speed: 2.6ms preprocess, 884.3ms inference, 1.9ms postprocess per image at shape (1, 3, 640, 640)\n",
            "\n",
            "0: 640x640 3 persons, 1 bottle, 893.6ms\n",
            "Speed: 2.6ms preprocess, 893.6ms inference, 1.9ms postprocess per image at shape (1, 3, 640, 640)\n",
            "\n",
            "0: 640x640 3 persons, 2 bottles, 878.6ms\n",
            "Speed: 2.6ms preprocess, 878.6ms inference, 1.7ms postprocess per image at shape (1, 3, 640, 640)\n",
            "\n",
            "0: 640x640 3 persons, 1 bottle, 1007.0ms\n",
            "Speed: 2.7ms preprocess, 1007.0ms inference, 1.2ms postprocess per image at shape (1, 3, 640, 640)\n",
            "\n",
            "0: 640x640 3 persons, 1 bottle, 1 cell phone, 575.5ms\n",
            "Speed: 2.8ms preprocess, 575.5ms inference, 1.4ms postprocess per image at shape (1, 3, 640, 640)\n",
            "\n",
            "0: 640x640 3 persons, 2 bottles, 1 cell phone, 586.7ms\n",
            "Speed: 2.5ms preprocess, 586.7ms inference, 1.3ms postprocess per image at shape (1, 3, 640, 640)\n",
            "\n",
            "0: 640x640 3 persons, 2 bottles, 569.5ms\n",
            "Speed: 2.6ms preprocess, 569.5ms inference, 1.3ms postprocess per image at shape (1, 3, 640, 640)\n",
            "\n",
            "0: 640x640 3 persons, 2 bottles, 1 cell phone, 553.9ms\n",
            "Speed: 3.3ms preprocess, 553.9ms inference, 1.2ms postprocess per image at shape (1, 3, 640, 640)\n",
            "\n",
            "0: 640x640 3 persons, 1 bottle, 563.5ms\n",
            "Speed: 5.0ms preprocess, 563.5ms inference, 1.2ms postprocess per image at shape (1, 3, 640, 640)\n",
            "\n",
            "0: 640x640 3 persons, 1 bottle, 574.3ms\n",
            "Speed: 2.8ms preprocess, 574.3ms inference, 1.7ms postprocess per image at shape (1, 3, 640, 640)\n",
            "\n",
            "0: 640x640 3 persons, 2 bottles, 577.6ms\n",
            "Speed: 2.7ms preprocess, 577.6ms inference, 1.4ms postprocess per image at shape (1, 3, 640, 640)\n",
            "\n",
            "0: 640x640 3 persons, 2 bottles, 568.4ms\n",
            "Speed: 3.9ms preprocess, 568.4ms inference, 1.3ms postprocess per image at shape (1, 3, 640, 640)\n",
            "\n",
            "0: 640x640 3 persons, 2 bottles, 560.8ms\n",
            "Speed: 2.5ms preprocess, 560.8ms inference, 1.4ms postprocess per image at shape (1, 3, 640, 640)\n",
            "\n",
            "0: 640x640 3 persons, 2 bottles, 1 cell phone, 566.4ms\n",
            "Speed: 3.1ms preprocess, 566.4ms inference, 1.3ms postprocess per image at shape (1, 3, 640, 640)\n",
            "\n",
            "0: 640x640 3 persons, 2 bottles, 560.8ms\n",
            "Speed: 2.9ms preprocess, 560.8ms inference, 1.6ms postprocess per image at shape (1, 3, 640, 640)\n",
            "\n",
            "0: 640x640 3 persons, 2 bottles, 848.0ms\n",
            "Speed: 6.7ms preprocess, 848.0ms inference, 1.8ms postprocess per image at shape (1, 3, 640, 640)\n",
            "\n",
            "0: 640x640 2 persons, 2 bottles, 877.2ms\n",
            "Speed: 2.5ms preprocess, 877.2ms inference, 2.0ms postprocess per image at shape (1, 3, 640, 640)\n",
            "\n",
            "0: 640x640 3 persons, 1 handbag, 2 bottles, 866.8ms\n",
            "Speed: 10.1ms preprocess, 866.8ms inference, 1.8ms postprocess per image at shape (1, 3, 640, 640)\n",
            "\n",
            "0: 640x640 3 persons, 1 handbag, 2 bottles, 1 cell phone, 866.3ms\n",
            "Speed: 7.6ms preprocess, 866.3ms inference, 1.7ms postprocess per image at shape (1, 3, 640, 640)\n",
            "\n",
            "0: 640x640 3 persons, 1 bottle, 620.4ms\n",
            "Speed: 6.5ms preprocess, 620.4ms inference, 1.3ms postprocess per image at shape (1, 3, 640, 640)\n",
            "\n",
            "0: 640x640 3 persons, 1 bottle, 564.9ms\n",
            "Speed: 2.6ms preprocess, 564.9ms inference, 1.5ms postprocess per image at shape (1, 3, 640, 640)\n",
            "\n",
            "0: 640x640 3 persons, 1 handbag, 1 bottle, 1 cell phone, 567.4ms\n",
            "Speed: 3.2ms preprocess, 567.4ms inference, 1.4ms postprocess per image at shape (1, 3, 640, 640)\n",
            "\n",
            "0: 640x640 3 persons, 1 handbag, 1 bottle, 1 cell phone, 563.8ms\n",
            "Speed: 2.2ms preprocess, 563.8ms inference, 1.2ms postprocess per image at shape (1, 3, 640, 640)\n",
            "\n",
            "0: 640x640 3 persons, 1 handbag, 1 bottle, 2 cell phones, 554.7ms\n",
            "Speed: 2.6ms preprocess, 554.7ms inference, 1.2ms postprocess per image at shape (1, 3, 640, 640)\n",
            "\n",
            "0: 640x640 1 person, 7 bottles, 569.7ms\n",
            "Speed: 2.8ms preprocess, 569.7ms inference, 1.4ms postprocess per image at shape (1, 3, 640, 640)\n",
            "\n",
            "0: 640x640 1 person, 6 bottles, 575.7ms\n",
            "Speed: 5.2ms preprocess, 575.7ms inference, 1.5ms postprocess per image at shape (1, 3, 640, 640)\n",
            "\n",
            "0: 640x640 1 person, 6 bottles, 593.9ms\n",
            "Speed: 2.4ms preprocess, 593.9ms inference, 1.3ms postprocess per image at shape (1, 3, 640, 640)\n",
            "\n",
            "0: 640x640 1 person, 6 bottles, 585.7ms\n",
            "Speed: 2.5ms preprocess, 585.7ms inference, 1.2ms postprocess per image at shape (1, 3, 640, 640)\n",
            "\n",
            "0: 640x640 1 person, 5 bottles, 572.4ms\n",
            "Speed: 2.6ms preprocess, 572.4ms inference, 1.2ms postprocess per image at shape (1, 3, 640, 640)\n",
            "\n",
            "0: 640x640 1 person, 7 bottles, 763.8ms\n",
            "Speed: 2.8ms preprocess, 763.8ms inference, 1.7ms postprocess per image at shape (1, 3, 640, 640)\n",
            "\n",
            "0: 640x640 1 person, 6 bottles, 906.1ms\n",
            "Speed: 2.5ms preprocess, 906.1ms inference, 1.7ms postprocess per image at shape (1, 3, 640, 640)\n",
            "\n",
            "0: 640x640 1 person, 6 bottles, 873.8ms\n",
            "Speed: 2.6ms preprocess, 873.8ms inference, 1.5ms postprocess per image at shape (1, 3, 640, 640)\n",
            "\n",
            "0: 640x640 1 person, 6 bottles, 874.9ms\n",
            "Speed: 4.7ms preprocess, 874.9ms inference, 1.6ms postprocess per image at shape (1, 3, 640, 640)\n",
            "\n",
            "0: 640x640 1 person, 6 bottles, 593.5ms\n",
            "Speed: 3.2ms preprocess, 593.5ms inference, 1.8ms postprocess per image at shape (1, 3, 640, 640)\n",
            "\n",
            "0: 640x640 1 person, 7 bottles, 566.0ms\n",
            "Speed: 8.3ms preprocess, 566.0ms inference, 1.9ms postprocess per image at shape (1, 3, 640, 640)\n",
            "\n",
            "0: 640x640 1 person, 5 bottles, 576.5ms\n",
            "Speed: 2.4ms preprocess, 576.5ms inference, 1.3ms postprocess per image at shape (1, 3, 640, 640)\n",
            "\n",
            "0: 640x640 1 person, 6 bottles, 579.2ms\n",
            "Speed: 3.3ms preprocess, 579.2ms inference, 1.5ms postprocess per image at shape (1, 3, 640, 640)\n",
            "\n",
            "0: 640x640 1 person, 6 bottles, 571.3ms\n",
            "Speed: 2.7ms preprocess, 571.3ms inference, 1.2ms postprocess per image at shape (1, 3, 640, 640)\n",
            "\n",
            "0: 640x640 1 person, 5 bottles, 580.9ms\n",
            "Speed: 2.5ms preprocess, 580.9ms inference, 2.2ms postprocess per image at shape (1, 3, 640, 640)\n",
            "\n",
            "0: 640x640 1 person, 6 bottles, 579.1ms\n",
            "Speed: 2.6ms preprocess, 579.1ms inference, 1.4ms postprocess per image at shape (1, 3, 640, 640)\n",
            "\n",
            "0: 640x640 1 person, 7 bottles, 578.6ms\n",
            "Speed: 2.8ms preprocess, 578.6ms inference, 1.4ms postprocess per image at shape (1, 3, 640, 640)\n",
            "\n",
            "0: 640x640 1 person, 6 bottles, 579.3ms\n",
            "Speed: 2.8ms preprocess, 579.3ms inference, 1.3ms postprocess per image at shape (1, 3, 640, 640)\n",
            "\n",
            "0: 640x640 1 person, 7 bottles, 672.3ms\n",
            "Speed: 2.5ms preprocess, 672.3ms inference, 1.7ms postprocess per image at shape (1, 3, 640, 640)\n",
            "\n",
            "0: 640x640 1 person, 7 bottles, 914.4ms\n",
            "Speed: 2.3ms preprocess, 914.4ms inference, 1.6ms postprocess per image at shape (1, 3, 640, 640)\n",
            "\n",
            "0: 640x640 1 person, 7 bottles, 892.4ms\n",
            "Speed: 2.8ms preprocess, 892.4ms inference, 1.6ms postprocess per image at shape (1, 3, 640, 640)\n",
            "\n",
            "0: 640x640 1 person, 7 bottles, 882.4ms\n",
            "Speed: 2.4ms preprocess, 882.4ms inference, 1.8ms postprocess per image at shape (1, 3, 640, 640)\n",
            "\n",
            "0: 640x640 1 person, 7 bottles, 592.2ms\n",
            "Speed: 8.3ms preprocess, 592.2ms inference, 1.5ms postprocess per image at shape (1, 3, 640, 640)\n",
            "\n",
            "0: 640x640 1 person, 8 bottles, 562.0ms\n",
            "Speed: 7.4ms preprocess, 562.0ms inference, 1.3ms postprocess per image at shape (1, 3, 640, 640)\n",
            "\n",
            "0: 640x640 1 person, 6 bottles, 562.6ms\n",
            "Speed: 10.7ms preprocess, 562.6ms inference, 1.2ms postprocess per image at shape (1, 3, 640, 640)\n",
            "\n",
            "0: 640x640 1 person, 7 bottles, 561.1ms\n",
            "Speed: 2.5ms preprocess, 561.1ms inference, 1.4ms postprocess per image at shape (1, 3, 640, 640)\n",
            "\n",
            "0: 640x640 1 person, 7 bottles, 555.6ms\n",
            "Speed: 7.1ms preprocess, 555.6ms inference, 1.4ms postprocess per image at shape (1, 3, 640, 640)\n",
            "\n",
            "0: 640x640 1 person, 6 bottles, 564.6ms\n",
            "Speed: 6.8ms preprocess, 564.6ms inference, 1.2ms postprocess per image at shape (1, 3, 640, 640)\n",
            "\n",
            "0: 640x640 1 person, 6 bottles, 564.3ms\n",
            "Speed: 2.2ms preprocess, 564.3ms inference, 1.2ms postprocess per image at shape (1, 3, 640, 640)\n",
            "\n",
            "0: 640x640 1 person, 6 bottles, 567.1ms\n",
            "Speed: 2.3ms preprocess, 567.1ms inference, 1.3ms postprocess per image at shape (1, 3, 640, 640)\n",
            "\n",
            "0: 640x640 1 person, 6 bottles, 571.4ms\n",
            "Speed: 3.4ms preprocess, 571.4ms inference, 1.4ms postprocess per image at shape (1, 3, 640, 640)\n",
            "\n",
            "0: 640x640 1 person, 5 bottles, 623.2ms\n",
            "Speed: 2.7ms preprocess, 623.2ms inference, 2.1ms postprocess per image at shape (1, 3, 640, 640)\n",
            "\n",
            "0: 640x640 1 person, 6 bottles, 888.7ms\n",
            "Speed: 2.5ms preprocess, 888.7ms inference, 1.6ms postprocess per image at shape (1, 3, 640, 640)\n",
            "\n",
            "0: 640x640 1 person, 6 bottles, 866.8ms\n",
            "Speed: 2.3ms preprocess, 866.8ms inference, 1.6ms postprocess per image at shape (1, 3, 640, 640)\n",
            "\n",
            "0: 640x640 1 person, 6 bottles, 1013.1ms\n",
            "Speed: 6.4ms preprocess, 1013.1ms inference, 1.8ms postprocess per image at shape (1, 3, 640, 640)\n",
            "\n",
            "0: 640x640 1 person, 6 bottles, 719.9ms\n",
            "Speed: 2.5ms preprocess, 719.9ms inference, 1.3ms postprocess per image at shape (1, 3, 640, 640)\n",
            "\n",
            "0: 640x640 2 persons, 1 umbrella, 1 bottle, 1 book, 566.9ms\n",
            "Speed: 3.7ms preprocess, 566.9ms inference, 1.4ms postprocess per image at shape (1, 3, 640, 640)\n",
            "\n",
            "0: 640x640 2 persons, 1 umbrella, 1 bottle, 1 cell phone, 1 book, 580.1ms\n",
            "Speed: 5.1ms preprocess, 580.1ms inference, 1.3ms postprocess per image at shape (1, 3, 640, 640)\n",
            "\n",
            "0: 640x640 2 persons, 1 umbrella, 1 bottle, 1 cell phone, 1 book, 584.3ms\n",
            "Speed: 8.6ms preprocess, 584.3ms inference, 1.3ms postprocess per image at shape (1, 3, 640, 640)\n",
            "\n",
            "0: 640x640 2 persons, 1 umbrella, 1 bottle, 1 cell phone, 573.7ms\n",
            "Speed: 2.7ms preprocess, 573.7ms inference, 1.4ms postprocess per image at shape (1, 3, 640, 640)\n",
            "\n",
            "0: 640x640 2 persons, 1 umbrella, 1 bottle, 1 cell phone, 571.1ms\n",
            "Speed: 2.7ms preprocess, 571.1ms inference, 1.3ms postprocess per image at shape (1, 3, 640, 640)\n",
            "\n",
            "0: 640x640 2 persons, 1 umbrella, 2 bottles, 579.4ms\n",
            "Speed: 3.6ms preprocess, 579.4ms inference, 1.3ms postprocess per image at shape (1, 3, 640, 640)\n",
            "\n",
            "0: 640x640 2 persons, 1 umbrella, 1 bottle, 1 book, 575.1ms\n",
            "Speed: 3.2ms preprocess, 575.1ms inference, 1.3ms postprocess per image at shape (1, 3, 640, 640)\n",
            "\n",
            "0: 640x640 2 persons, 1 umbrella, 2 bottles, 1 cell phone, 3 books, 569.7ms\n",
            "Speed: 2.3ms preprocess, 569.7ms inference, 1.5ms postprocess per image at shape (1, 3, 640, 640)\n",
            "\n",
            "0: 640x640 2 persons, 1 umbrella, 2 bottles, 3 books, 574.1ms\n",
            "Speed: 2.6ms preprocess, 574.1ms inference, 1.4ms postprocess per image at shape (1, 3, 640, 640)\n",
            "\n",
            "0: 640x640 2 persons, 1 umbrella, 2 bottles, 1 book, 618.7ms\n",
            "Speed: 2.6ms preprocess, 618.7ms inference, 1.9ms postprocess per image at shape (1, 3, 640, 640)\n",
            "\n",
            "0: 640x640 2 persons, 1 umbrella, 2 bottles, 899.5ms\n",
            "Speed: 2.5ms preprocess, 899.5ms inference, 1.6ms postprocess per image at shape (1, 3, 640, 640)\n",
            "\n",
            "0: 640x640 2 persons, 1 umbrella, 3 bottles, 892.6ms\n",
            "Speed: 2.6ms preprocess, 892.6ms inference, 1.7ms postprocess per image at shape (1, 3, 640, 640)\n",
            "\n",
            "0: 640x640 2 persons, 1 umbrella, 3 bottles, 900.0ms\n",
            "Speed: 5.2ms preprocess, 900.0ms inference, 2.2ms postprocess per image at shape (1, 3, 640, 640)\n",
            "\n",
            "0: 640x640 2 persons, 1 umbrella, 3 bottles, 1 book, 771.2ms\n",
            "Speed: 2.8ms preprocess, 771.2ms inference, 1.3ms postprocess per image at shape (1, 3, 640, 640)\n",
            "\n",
            "0: 640x640 2 persons, 1 umbrella, 3 bottles, 587.1ms\n",
            "Speed: 2.9ms preprocess, 587.1ms inference, 1.3ms postprocess per image at shape (1, 3, 640, 640)\n",
            "\n",
            "0: 640x640 2 persons, 1 umbrella, 2 bottles, 1 book, 588.3ms\n",
            "Speed: 2.3ms preprocess, 588.3ms inference, 1.5ms postprocess per image at shape (1, 3, 640, 640)\n",
            "\n",
            "0: 640x640 2 persons, 1 umbrella, 2 bottles, 1 book, 582.2ms\n",
            "Speed: 3.2ms preprocess, 582.2ms inference, 1.2ms postprocess per image at shape (1, 3, 640, 640)\n",
            "\n",
            "0: 640x640 2 persons, 1 umbrella, 3 bottles, 1 book, 572.0ms\n",
            "Speed: 2.5ms preprocess, 572.0ms inference, 1.3ms postprocess per image at shape (1, 3, 640, 640)\n",
            "\n",
            "0: 640x640 2 persons, 1 umbrella, 3 bottles, 1 book, 573.4ms\n",
            "Speed: 2.6ms preprocess, 573.4ms inference, 1.3ms postprocess per image at shape (1, 3, 640, 640)\n",
            "\n",
            "0: 640x640 2 persons, 1 umbrella, 2 bottles, 1 book, 566.4ms\n",
            "Speed: 2.6ms preprocess, 566.4ms inference, 1.2ms postprocess per image at shape (1, 3, 640, 640)\n",
            "\n",
            "0: 640x640 2 persons, 1 umbrella, 3 bottles, 1 book, 562.1ms\n",
            "Speed: 2.8ms preprocess, 562.1ms inference, 1.3ms postprocess per image at shape (1, 3, 640, 640)\n",
            "\n",
            "0: 640x640 2 persons, 1 umbrella, 3 bottles, 1 book, 575.0ms\n",
            "Speed: 3.0ms preprocess, 575.0ms inference, 1.3ms postprocess per image at shape (1, 3, 640, 640)\n",
            "\n",
            "0: 640x640 2 persons, 1 umbrella, 3 bottles, 1 book, 576.2ms\n",
            "Speed: 2.5ms preprocess, 576.2ms inference, 1.3ms postprocess per image at shape (1, 3, 640, 640)\n",
            "\n",
            "0: 640x640 2 persons, 1 umbrella, 3 bottles, 1 book, 567.8ms\n",
            "Speed: 2.8ms preprocess, 567.8ms inference, 1.4ms postprocess per image at shape (1, 3, 640, 640)\n",
            "\n",
            "0: 640x640 2 persons, 1 umbrella, 3 bottles, 856.1ms\n",
            "Speed: 2.7ms preprocess, 856.1ms inference, 1.7ms postprocess per image at shape (1, 3, 640, 640)\n",
            "\n",
            "0: 640x640 2 persons, 1 umbrella, 3 bottles, 1 book, 891.0ms\n",
            "Speed: 8.1ms preprocess, 891.0ms inference, 1.6ms postprocess per image at shape (1, 3, 640, 640)\n",
            "\n",
            "0: 640x640 2 persons, 1 umbrella, 3 bottles, 1 book, 869.5ms\n",
            "Speed: 2.6ms preprocess, 869.5ms inference, 1.8ms postprocess per image at shape (1, 3, 640, 640)\n",
            "\n",
            "0: 640x640 1 person, 1 umbrella, 2 bottles, 1 refrigerator, 1 book, 875.6ms\n",
            "Speed: 2.5ms preprocess, 875.6ms inference, 1.6ms postprocess per image at shape (1, 3, 640, 640)\n",
            "\n",
            "0: 640x640 1 person, 1 umbrella, 3 bottles, 1 refrigerator, 1 book, 569.2ms\n",
            "Speed: 3.1ms preprocess, 569.2ms inference, 1.3ms postprocess per image at shape (1, 3, 640, 640)\n",
            "\n",
            "0: 640x640 2 persons, 1 umbrella, 3 bottles, 1 book, 557.4ms\n",
            "Speed: 2.7ms preprocess, 557.4ms inference, 1.3ms postprocess per image at shape (1, 3, 640, 640)\n",
            "\n",
            "0: 640x640 2 persons, 1 umbrella, 4 bottles, 1 book, 602.0ms\n",
            "Speed: 2.4ms preprocess, 602.0ms inference, 1.4ms postprocess per image at shape (1, 3, 640, 640)\n",
            "\n",
            "0: 640x640 2 persons, 1 umbrella, 3 bottles, 1 book, 591.0ms\n",
            "Speed: 2.7ms preprocess, 591.0ms inference, 1.3ms postprocess per image at shape (1, 3, 640, 640)\n",
            "\n",
            "0: 640x640 2 persons, 1 umbrella, 3 bottles, 1 book, 575.0ms\n",
            "Speed: 4.2ms preprocess, 575.0ms inference, 1.3ms postprocess per image at shape (1, 3, 640, 640)\n",
            "\n",
            "0: 640x640 2 persons, 1 umbrella, 3 bottles, 1 book, 581.1ms\n",
            "Speed: 3.2ms preprocess, 581.1ms inference, 1.2ms postprocess per image at shape (1, 3, 640, 640)\n",
            "\n",
            "0: 640x640 2 persons, 1 umbrella, 1 handbag, 3 bottles, 1 book, 576.3ms\n",
            "Speed: 4.0ms preprocess, 576.3ms inference, 1.3ms postprocess per image at shape (1, 3, 640, 640)\n",
            "\n",
            "0: 640x640 2 persons, 1 umbrella, 3 bottles, 2 books, 567.9ms\n",
            "Speed: 3.1ms preprocess, 567.9ms inference, 1.4ms postprocess per image at shape (1, 3, 640, 640)\n",
            "\n",
            "0: 640x640 1 person, 3 bottles, 1 cup, 1 tv, 581.7ms\n",
            "Speed: 4.1ms preprocess, 581.7ms inference, 1.4ms postprocess per image at shape (1, 3, 640, 640)\n",
            "\n",
            "0: 640x640 1 person, 3 bottles, 1 cup, 1 tv, 592.5ms\n",
            "Speed: 2.6ms preprocess, 592.5ms inference, 1.3ms postprocess per image at shape (1, 3, 640, 640)\n",
            "\n",
            "0: 640x640 1 person, 4 bottles, 1 cup, 1 tv, 821.5ms\n",
            "Speed: 2.6ms preprocess, 821.5ms inference, 1.9ms postprocess per image at shape (1, 3, 640, 640)\n",
            "\n",
            "0: 640x640 1 person, 4 bottles, 1 cup, 1 tv, 1 sink, 879.8ms\n",
            "Speed: 2.5ms preprocess, 879.8ms inference, 1.8ms postprocess per image at shape (1, 3, 640, 640)\n",
            "\n",
            "0: 640x640 1 person, 3 bottles, 1 cup, 1 tv, 2 books, 883.7ms\n",
            "Speed: 2.3ms preprocess, 883.7ms inference, 1.5ms postprocess per image at shape (1, 3, 640, 640)\n",
            "\n",
            "0: 640x640 1 person, 4 bottles, 1 cup, 1 tv, 1 book, 861.2ms\n",
            "Speed: 2.7ms preprocess, 861.2ms inference, 2.2ms postprocess per image at shape (1, 3, 640, 640)\n",
            "\n",
            "0: 640x640 1 person, 5 bottles, 1 cup, 1 tv, 882.8ms\n",
            "Speed: 4.6ms preprocess, 882.8ms inference, 1.5ms postprocess per image at shape (1, 3, 640, 640)\n",
            "\n",
            "0: 640x640 1 person, 4 bottles, 1 cup, 1 tv, 1 sink, 1 book, 570.3ms\n",
            "Speed: 8.2ms preprocess, 570.3ms inference, 1.3ms postprocess per image at shape (1, 3, 640, 640)\n",
            "\n",
            "0: 640x640 1 person, 5 bottles, 1 cup, 1 tv, 573.4ms\n",
            "Speed: 2.8ms preprocess, 573.4ms inference, 1.3ms postprocess per image at shape (1, 3, 640, 640)\n",
            "\n",
            "0: 640x640 1 person, 5 bottles, 1 cup, 1 tv, 571.0ms\n",
            "Speed: 2.7ms preprocess, 571.0ms inference, 1.2ms postprocess per image at shape (1, 3, 640, 640)\n",
            "\n",
            "0: 640x640 1 person, 3 bottles, 1 cup, 1 tv, 586.0ms\n",
            "Speed: 2.8ms preprocess, 586.0ms inference, 1.4ms postprocess per image at shape (1, 3, 640, 640)\n",
            "\n",
            "0: 640x640 1 person, 4 bottles, 1 cup, 1 tv, 568.3ms\n",
            "Speed: 3.0ms preprocess, 568.3ms inference, 1.3ms postprocess per image at shape (1, 3, 640, 640)\n",
            "\n",
            "0: 640x640 1 person, 1 bottle, 1 cup, 1 tv, 573.3ms\n",
            "Speed: 2.9ms preprocess, 573.3ms inference, 1.4ms postprocess per image at shape (1, 3, 640, 640)\n",
            "\n",
            "0: 640x640 1 person, 2 bottles, 1 cup, 1 tv, 1 sink, 576.7ms\n",
            "Speed: 2.6ms preprocess, 576.7ms inference, 1.4ms postprocess per image at shape (1, 3, 640, 640)\n",
            "\n",
            "0: 640x640 1 person, 3 bottles, 1 cup, 1 tv, 579.6ms\n",
            "Speed: 2.5ms preprocess, 579.6ms inference, 1.2ms postprocess per image at shape (1, 3, 640, 640)\n",
            "\n",
            "0: 640x640 3 bottles, 1 cup, 1 tv, 586.3ms\n",
            "Speed: 3.0ms preprocess, 586.3ms inference, 1.3ms postprocess per image at shape (1, 3, 640, 640)\n",
            "\n",
            "0: 640x640 2 bottles, 1 cup, 1 tv, 555.7ms\n",
            "Speed: 4.8ms preprocess, 555.7ms inference, 1.2ms postprocess per image at shape (1, 3, 640, 640)\n",
            "\n",
            "0: 640x640 1 bottle, 1 cup, 1 tv, 572.9ms\n",
            "Speed: 2.6ms preprocess, 572.9ms inference, 1.2ms postprocess per image at shape (1, 3, 640, 640)\n",
            "\n",
            "0: 640x640 1 person, 1 bottle, 1 cup, 1 tv, 579.0ms\n",
            "Speed: 3.7ms preprocess, 579.0ms inference, 1.4ms postprocess per image at shape (1, 3, 640, 640)\n",
            "\n",
            "0: 640x640 1 person, 1 bottle, 1 cup, 1 tv, 527.2ms\n",
            "Speed: 6.8ms preprocess, 527.2ms inference, 1.3ms postprocess per image at shape (1, 3, 640, 640)\n",
            "\n",
            "0: 640x640 2 persons, 2 bottles, 1 cup, 1 tv, 887.1ms\n",
            "Speed: 2.4ms preprocess, 887.1ms inference, 1.7ms postprocess per image at shape (1, 3, 640, 640)\n",
            "\n",
            "0: 640x640 1 person, 2 bottles, 1 cup, 1 tv, 1025.1ms\n",
            "Speed: 2.8ms preprocess, 1025.1ms inference, 1.8ms postprocess per image at shape (1, 3, 640, 640)\n",
            "\n",
            "0: 640x640 1 person, 1 bottle, 1 cup, 1 tv, 882.0ms\n",
            "Speed: 2.6ms preprocess, 882.0ms inference, 1.7ms postprocess per image at shape (1, 3, 640, 640)\n",
            "\n",
            "0: 640x640 1 person, 2 bottles, 1 cup, 1 tv, 911.7ms\n",
            "Speed: 2.4ms preprocess, 911.7ms inference, 1.7ms postprocess per image at shape (1, 3, 640, 640)\n",
            "\n",
            "0: 640x640 1 person, 4 bottles, 1 cup, 1 tv, 806.7ms\n",
            "Speed: 2.7ms preprocess, 806.7ms inference, 1.4ms postprocess per image at shape (1, 3, 640, 640)\n",
            "\n",
            "0: 640x640 1 person, 3 bottles, 1 cup, 1 tv, 560.9ms\n",
            "Speed: 6.7ms preprocess, 560.9ms inference, 1.3ms postprocess per image at shape (1, 3, 640, 640)\n",
            "\n",
            "0: 640x640 1 person, 4 bottles, 1 cup, 1 tv, 580.7ms\n",
            "Speed: 3.3ms preprocess, 580.7ms inference, 1.4ms postprocess per image at shape (1, 3, 640, 640)\n",
            "\n",
            "0: 640x640 1 person, 3 bottles, 1 cup, 1 tv, 569.1ms\n",
            "Speed: 3.4ms preprocess, 569.1ms inference, 1.4ms postprocess per image at shape (1, 3, 640, 640)\n",
            "\n",
            "0: 640x640 1 person, 3 bottles, 1 cup, 1 tv, 579.5ms\n",
            "Speed: 4.0ms preprocess, 579.5ms inference, 1.6ms postprocess per image at shape (1, 3, 640, 640)\n",
            "\n",
            "0: 640x640 1 person, 4 bottles, 1 cup, 1 tv, 582.1ms\n",
            "Speed: 3.3ms preprocess, 582.1ms inference, 1.5ms postprocess per image at shape (1, 3, 640, 640)\n",
            "\n",
            "0: 640x640 1 person, 4 bottles, 1 cup, 1 tv, 1 sink, 571.0ms\n",
            "Speed: 2.7ms preprocess, 571.0ms inference, 1.4ms postprocess per image at shape (1, 3, 640, 640)\n",
            "\n",
            "0: 640x640 1 person, 3 bottles, 1 cup, 1 tv, 1 sink, 572.5ms\n",
            "Speed: 2.6ms preprocess, 572.5ms inference, 2.2ms postprocess per image at shape (1, 3, 640, 640)\n",
            "\n",
            "0: 640x640 1 person, 3 bottles, 1 cup, 1 tv, 1 sink, 561.7ms\n",
            "Speed: 2.7ms preprocess, 561.7ms inference, 1.5ms postprocess per image at shape (1, 3, 640, 640)\n",
            "\n",
            "0: 640x640 1 person, 3 bottles, 1 cup, 1 tv, 564.8ms\n",
            "Speed: 2.6ms preprocess, 564.8ms inference, 1.4ms postprocess per image at shape (1, 3, 640, 640)\n",
            "\n",
            "0: 640x640 1 person, 3 bottles, 1 cup, 1 tv, 1 sink, 558.9ms\n",
            "Speed: 2.3ms preprocess, 558.9ms inference, 1.3ms postprocess per image at shape (1, 3, 640, 640)\n",
            "\n",
            "0: 640x640 1 person, 3 bottles, 1 cup, 1 tv, 581.6ms\n",
            "Speed: 2.9ms preprocess, 581.6ms inference, 1.4ms postprocess per image at shape (1, 3, 640, 640)\n",
            "\n",
            "0: 640x640 1 person, 5 bottles, 925.7ms\n",
            "Speed: 2.3ms preprocess, 925.7ms inference, 1.7ms postprocess per image at shape (1, 3, 640, 640)\n",
            "\n",
            "0: 640x640 1 person, 6 bottles, 935.7ms\n",
            "Speed: 2.9ms preprocess, 935.7ms inference, 1.6ms postprocess per image at shape (1, 3, 640, 640)\n",
            "\n",
            "0: 640x640 2 persons, 6 bottles, 933.6ms\n",
            "Speed: 2.5ms preprocess, 933.6ms inference, 1.6ms postprocess per image at shape (1, 3, 640, 640)\n",
            "\n",
            "0: 640x640 2 persons, 6 bottles, 906.0ms\n",
            "Speed: 2.9ms preprocess, 906.0ms inference, 2.1ms postprocess per image at shape (1, 3, 640, 640)\n",
            "\n",
            "0: 640x640 2 persons, 6 bottles, 674.3ms\n",
            "Speed: 4.8ms preprocess, 674.3ms inference, 1.2ms postprocess per image at shape (1, 3, 640, 640)\n",
            "\n",
            "0: 640x640 2 persons, 6 bottles, 572.1ms\n",
            "Speed: 2.8ms preprocess, 572.1ms inference, 1.2ms postprocess per image at shape (1, 3, 640, 640)\n",
            "\n",
            "0: 640x640 2 persons, 5 bottles, 584.1ms\n",
            "Speed: 2.4ms preprocess, 584.1ms inference, 1.2ms postprocess per image at shape (1, 3, 640, 640)\n",
            "\n",
            "0: 640x640 2 persons, 5 bottles, 563.1ms\n",
            "Speed: 2.8ms preprocess, 563.1ms inference, 1.2ms postprocess per image at shape (1, 3, 640, 640)\n",
            "\n",
            "0: 640x640 2 persons, 6 bottles, 569.1ms\n",
            "Speed: 6.7ms preprocess, 569.1ms inference, 1.2ms postprocess per image at shape (1, 3, 640, 640)\n",
            "\n",
            "0: 640x640 2 persons, 3 bottles, 591.1ms\n",
            "Speed: 7.3ms preprocess, 591.1ms inference, 1.2ms postprocess per image at shape (1, 3, 640, 640)\n",
            "\n",
            "0: 640x640 2 persons, 4 bottles, 564.7ms\n",
            "Speed: 2.8ms preprocess, 564.7ms inference, 1.4ms postprocess per image at shape (1, 3, 640, 640)\n",
            "\n",
            "0: 640x640 2 persons, 6 bottles, 541.3ms\n",
            "Speed: 2.9ms preprocess, 541.3ms inference, 1.2ms postprocess per image at shape (1, 3, 640, 640)\n",
            "\n",
            "0: 640x640 2 persons, 7 bottles, 595.4ms\n",
            "Speed: 2.5ms preprocess, 595.4ms inference, 1.3ms postprocess per image at shape (1, 3, 640, 640)\n",
            "\n",
            "0: 640x640 2 persons, 6 bottles, 581.9ms\n",
            "Speed: 3.5ms preprocess, 581.9ms inference, 1.4ms postprocess per image at shape (1, 3, 640, 640)\n",
            "\n",
            "0: 640x640 2 persons, 5 bottles, 599.9ms\n",
            "Speed: 2.7ms preprocess, 599.9ms inference, 1.5ms postprocess per image at shape (1, 3, 640, 640)\n",
            "\n",
            "0: 640x640 2 persons, 6 bottles, 581.0ms\n",
            "Speed: 2.7ms preprocess, 581.0ms inference, 1.2ms postprocess per image at shape (1, 3, 640, 640)\n",
            "\n",
            "0: 640x640 2 persons, 5 bottles, 554.3ms\n",
            "Speed: 2.5ms preprocess, 554.3ms inference, 2.0ms postprocess per image at shape (1, 3, 640, 640)\n",
            "\n",
            "0: 640x640 2 persons, 5 bottles, 887.5ms\n",
            "Speed: 2.3ms preprocess, 887.5ms inference, 1.6ms postprocess per image at shape (1, 3, 640, 640)\n",
            "\n",
            "0: 640x640 2 persons, 5 bottles, 937.5ms\n",
            "Speed: 6.0ms preprocess, 937.5ms inference, 2.0ms postprocess per image at shape (1, 3, 640, 640)\n",
            "\n",
            "0: 640x640 2 persons, 5 bottles, 915.1ms\n",
            "Speed: 3.2ms preprocess, 915.1ms inference, 1.9ms postprocess per image at shape (1, 3, 640, 640)\n",
            "\n",
            "0: 640x640 2 persons, 6 bottles, 863.3ms\n",
            "Speed: 3.4ms preprocess, 863.3ms inference, 1.5ms postprocess per image at shape (1, 3, 640, 640)\n",
            "\n",
            "0: 640x640 2 persons, 3 bottles, 720.5ms\n",
            "Speed: 10.5ms preprocess, 720.5ms inference, 1.4ms postprocess per image at shape (1, 3, 640, 640)\n",
            "\n",
            "0: 640x640 2 persons, 5 bottles, 527.5ms\n",
            "Speed: 11.5ms preprocess, 527.5ms inference, 1.3ms postprocess per image at shape (1, 3, 640, 640)\n",
            "\n",
            "0: 640x640 2 persons, 1 skis, 4 bottles, 588.2ms\n",
            "Speed: 2.4ms preprocess, 588.2ms inference, 1.4ms postprocess per image at shape (1, 3, 640, 640)\n",
            "\n",
            "0: 640x640 2 persons, 1 skis, 5 bottles, 574.7ms\n",
            "Speed: 2.5ms preprocess, 574.7ms inference, 1.4ms postprocess per image at shape (1, 3, 640, 640)\n",
            "\n",
            "0: 640x640 2 persons, 1 skis, 4 bottles, 592.8ms\n",
            "Speed: 5.5ms preprocess, 592.8ms inference, 1.2ms postprocess per image at shape (1, 3, 640, 640)\n",
            "\n",
            "0: 640x640 2 persons, 6 bottles, 598.5ms\n",
            "Speed: 12.1ms preprocess, 598.5ms inference, 1.3ms postprocess per image at shape (1, 3, 640, 640)\n",
            "\n",
            "0: 640x640 2 persons, 4 bottles, 577.8ms\n",
            "Speed: 7.8ms preprocess, 577.8ms inference, 1.3ms postprocess per image at shape (1, 3, 640, 640)\n",
            "\n",
            "0: 640x640 2 persons, 6 bottles, 578.0ms\n",
            "Speed: 2.6ms preprocess, 578.0ms inference, 1.4ms postprocess per image at shape (1, 3, 640, 640)\n",
            "\n",
            "0: 640x640 2 persons, 5 bottles, 573.6ms\n",
            "Speed: 11.8ms preprocess, 573.6ms inference, 1.3ms postprocess per image at shape (1, 3, 640, 640)\n",
            "\n",
            "0: 640x640 3 persons, 7 bottles, 597.5ms\n",
            "Speed: 6.8ms preprocess, 597.5ms inference, 1.2ms postprocess per image at shape (1, 3, 640, 640)\n",
            "\n",
            "0: 640x640 2 persons, 5 bottles, 590.1ms\n",
            "Speed: 2.4ms preprocess, 590.1ms inference, 1.4ms postprocess per image at shape (1, 3, 640, 640)\n",
            "\n",
            "0: 640x640 2 persons, 5 bottles, 593.1ms\n",
            "Speed: 2.9ms preprocess, 593.1ms inference, 1.2ms postprocess per image at shape (1, 3, 640, 640)\n",
            "\n",
            "0: 640x640 2 persons, 5 bottles, 864.4ms\n",
            "Speed: 3.5ms preprocess, 864.4ms inference, 1.7ms postprocess per image at shape (1, 3, 640, 640)\n",
            "\n",
            "0: 640x640 2 persons, 5 bottles, 898.5ms\n",
            "Speed: 2.6ms preprocess, 898.5ms inference, 1.7ms postprocess per image at shape (1, 3, 640, 640)\n",
            "\n",
            "0: 640x640 2 persons, 4 bottles, 899.7ms\n",
            "Speed: 2.6ms preprocess, 899.7ms inference, 1.5ms postprocess per image at shape (1, 3, 640, 640)\n",
            "\n",
            "0: 640x640 1 person, 1 chair, 1 microwave, 1 sink, 1 book, 901.1ms\n",
            "Speed: 2.6ms preprocess, 901.1ms inference, 1.7ms postprocess per image at shape (1, 3, 640, 640)\n",
            "\n",
            "0: 640x640 1 person, 1 chair, 1 microwave, 1 sink, 1 book, 637.7ms\n",
            "Speed: 14.0ms preprocess, 637.7ms inference, 1.2ms postprocess per image at shape (1, 3, 640, 640)\n",
            "\n",
            "0: 640x640 1 person, 1 suitcase, 1 chair, 1 tv, 1 microwave, 1 sink, 1 book, 601.5ms\n",
            "Speed: 3.3ms preprocess, 601.5ms inference, 1.2ms postprocess per image at shape (1, 3, 640, 640)\n",
            "\n",
            "0: 640x640 1 person, 2 suitcases, 1 chair, 1 microwave, 1 sink, 1 book, 564.1ms\n",
            "Speed: 2.8ms preprocess, 564.1ms inference, 1.4ms postprocess per image at shape (1, 3, 640, 640)\n",
            "\n",
            "0: 640x640 1 person, 1 suitcase, 1 chair, 1 microwave, 1 sink, 1 book, 593.0ms\n",
            "Speed: 5.2ms preprocess, 593.0ms inference, 1.4ms postprocess per image at shape (1, 3, 640, 640)\n",
            "\n",
            "0: 640x640 1 person, 1 chair, 1 microwave, 1 sink, 1 book, 573.2ms\n",
            "Speed: 3.1ms preprocess, 573.2ms inference, 1.4ms postprocess per image at shape (1, 3, 640, 640)\n",
            "\n",
            "0: 640x640 1 person, 1 chair, 1 microwave, 1 sink, 1 book, 594.6ms\n",
            "Speed: 3.0ms preprocess, 594.6ms inference, 1.3ms postprocess per image at shape (1, 3, 640, 640)\n",
            "\n",
            "0: 640x640 1 person, 1 chair, 1 microwave, 1 sink, 1 book, 565.0ms\n",
            "Speed: 6.4ms preprocess, 565.0ms inference, 1.4ms postprocess per image at shape (1, 3, 640, 640)\n",
            "\n",
            "0: 640x640 1 person, 1 microwave, 1 sink, 1 book, 596.1ms\n",
            "Speed: 2.4ms preprocess, 596.1ms inference, 2.0ms postprocess per image at shape (1, 3, 640, 640)\n",
            "\n",
            "0: 640x640 1 person, 1 suitcase, 1 chair, 1 microwave, 1 sink, 1 book, 586.0ms\n",
            "Speed: 2.9ms preprocess, 586.0ms inference, 1.4ms postprocess per image at shape (1, 3, 640, 640)\n",
            "\n",
            "0: 640x640 1 person, 1 suitcase, 1 chair, 1 microwave, 1 sink, 1 book, 587.4ms\n",
            "Speed: 4.3ms preprocess, 587.4ms inference, 1.5ms postprocess per image at shape (1, 3, 640, 640)\n",
            "\n",
            "0: 640x640 1 person, 1 microwave, 1 sink, 1 book, 576.5ms\n",
            "Speed: 7.2ms preprocess, 576.5ms inference, 1.2ms postprocess per image at shape (1, 3, 640, 640)\n",
            "\n",
            "0: 640x640 1 person, 1 surfboard, 1 microwave, 1 book, 594.5ms\n",
            "Speed: 4.0ms preprocess, 594.5ms inference, 1.4ms postprocess per image at shape (1, 3, 640, 640)\n",
            "\n",
            "0: 640x640 1 person, 1 surfboard, 1 chair, 1 microwave, 1 book, 796.7ms\n",
            "Speed: 3.9ms preprocess, 796.7ms inference, 1.8ms postprocess per image at shape (1, 3, 640, 640)\n",
            "\n",
            "0: 640x640 1 person, 1 chair, 1 microwave, 1 book, 881.0ms\n",
            "Speed: 5.7ms preprocess, 881.0ms inference, 1.5ms postprocess per image at shape (1, 3, 640, 640)\n",
            "\n",
            "0: 640x640 1 person, 2 chairs, 1 microwave, 1 sink, 1 book, 887.0ms\n",
            "Speed: 3.3ms preprocess, 887.0ms inference, 1.8ms postprocess per image at shape (1, 3, 640, 640)\n",
            "\n",
            "0: 640x640 1 person, 1 chair, 1 microwave, 1 sink, 1 book, 894.7ms\n",
            "Speed: 2.7ms preprocess, 894.7ms inference, 1.8ms postprocess per image at shape (1, 3, 640, 640)\n",
            "\n",
            "0: 640x640 1 person, 1 microwave, 1 sink, 1 book, 903.8ms\n",
            "Speed: 2.3ms preprocess, 903.8ms inference, 1.8ms postprocess per image at shape (1, 3, 640, 640)\n",
            "\n",
            "0: 640x640 1 person, 2 chairs, 1 microwave, 1 sink, 1 book, 683.0ms\n",
            "Speed: 2.4ms preprocess, 683.0ms inference, 1.4ms postprocess per image at shape (1, 3, 640, 640)\n",
            "\n",
            "0: 640x640 1 person, 1 chair, 1 microwave, 1 sink, 1 book, 596.9ms\n",
            "Speed: 3.6ms preprocess, 596.9ms inference, 1.2ms postprocess per image at shape (1, 3, 640, 640)\n",
            "\n",
            "0: 640x640 1 person, 1 backpack, 1 chair, 1 microwave, 1 sink, 1 book, 583.0ms\n",
            "Speed: 2.2ms preprocess, 583.0ms inference, 1.9ms postprocess per image at shape (1, 3, 640, 640)\n",
            "\n",
            "0: 640x640 1 person, 1 chair, 1 sink, 1 book, 585.7ms\n",
            "Speed: 2.4ms preprocess, 585.7ms inference, 1.4ms postprocess per image at shape (1, 3, 640, 640)\n",
            "\n",
            "0: 640x640 1 person, 1 backpack, 1 surfboard, 1 chair, 1 microwave, 1 sink, 1 book, 588.9ms\n",
            "Speed: 2.8ms preprocess, 588.9ms inference, 1.4ms postprocess per image at shape (1, 3, 640, 640)\n",
            "\n",
            "0: 640x640 1 person, 1 suitcase, 1 chair, 1 sink, 1 book, 594.5ms\n",
            "Speed: 5.8ms preprocess, 594.5ms inference, 1.4ms postprocess per image at shape (1, 3, 640, 640)\n",
            "\n",
            "0: 640x640 1 person, 1 chair, 1 microwave, 1 sink, 1 book, 597.1ms\n",
            "Speed: 2.3ms preprocess, 597.1ms inference, 1.1ms postprocess per image at shape (1, 3, 640, 640)\n",
            "\n",
            "0: 640x640 1 person, 1 chair, 1 sink, 1 book, 562.0ms\n",
            "Speed: 2.5ms preprocess, 562.0ms inference, 1.4ms postprocess per image at shape (1, 3, 640, 640)\n",
            "\n",
            "0: 640x640 1 person, 1 chair, 1 microwave, 1 sink, 1 book, 554.1ms\n",
            "Speed: 4.9ms preprocess, 554.1ms inference, 1.8ms postprocess per image at shape (1, 3, 640, 640)\n",
            "\n",
            "0: 640x640 1 person, 1 chair, 1 tv, 1 microwave, 1 sink, 1 book, 594.0ms\n",
            "Speed: 5.9ms preprocess, 594.0ms inference, 1.2ms postprocess per image at shape (1, 3, 640, 640)\n",
            "\n",
            "0: 640x640 1 person, 2 chairs, 1 tv, 1 microwave, 1 sink, 1 book, 584.9ms\n",
            "Speed: 2.4ms preprocess, 584.9ms inference, 1.4ms postprocess per image at shape (1, 3, 640, 640)\n",
            "\n",
            "0: 640x640 1 person, 1 chair, 1 microwave, 1 sink, 1 book, 588.2ms\n",
            "Speed: 2.5ms preprocess, 588.2ms inference, 1.4ms postprocess per image at shape (1, 3, 640, 640)\n",
            "\n",
            "0: 640x640 1 person, 2 chairs, 1 microwave, 1 sink, 1 book, 756.3ms\n",
            "Speed: 2.9ms preprocess, 756.3ms inference, 1.9ms postprocess per image at shape (1, 3, 640, 640)\n",
            "\n",
            "0: 640x640 1 person, 1 chair, 1 tv, 1 microwave, 1 sink, 1 book, 907.0ms\n",
            "Speed: 2.6ms preprocess, 907.0ms inference, 1.6ms postprocess per image at shape (1, 3, 640, 640)\n",
            "\n",
            "0: 640x640 1 person, 1 chair, 1 microwave, 1 sink, 1 book, 904.2ms\n",
            "Speed: 2.4ms preprocess, 904.2ms inference, 1.8ms postprocess per image at shape (1, 3, 640, 640)\n",
            "\n",
            "0: 640x640 1 person, 2 chairs, 1 microwave, 1 sink, 1 book, 918.0ms\n",
            "Speed: 2.3ms preprocess, 918.0ms inference, 1.8ms postprocess per image at shape (1, 3, 640, 640)\n",
            "\n",
            "0: 640x640 1 person, 1 chair, 1 microwave, 1 sink, 1 book, 893.7ms\n",
            "Speed: 2.6ms preprocess, 893.7ms inference, 1.8ms postprocess per image at shape (1, 3, 640, 640)\n",
            "\n",
            "0: 640x640 1 person, 2 chairs, 2 tvs, 1 sink, 1 book, 580.2ms\n",
            "Speed: 2.6ms preprocess, 580.2ms inference, 1.4ms postprocess per image at shape (1, 3, 640, 640)\n",
            "\n",
            "0: 640x640 1 person, 1 snowboard, 2 skateboards, 1 book, 569.3ms\n",
            "Speed: 2.4ms preprocess, 569.3ms inference, 1.2ms postprocess per image at shape (1, 3, 640, 640)\n",
            "\n",
            "0: 640x640 1 person, 1 umbrella, 1 skateboard, 1 book, 574.7ms\n",
            "Speed: 2.6ms preprocess, 574.7ms inference, 1.3ms postprocess per image at shape (1, 3, 640, 640)\n",
            "\n",
            "0: 640x640 1 person, 2 skateboards, 2 books, 572.4ms\n",
            "Speed: 2.5ms preprocess, 572.4ms inference, 1.2ms postprocess per image at shape (1, 3, 640, 640)\n",
            "\n",
            "0: 640x640 1 person, 3 skateboards, 2 cups, 1 book, 553.7ms\n",
            "Speed: 7.3ms preprocess, 553.7ms inference, 1.2ms postprocess per image at shape (1, 3, 640, 640)\n",
            "\n",
            "0: 640x640 1 person, 2 skateboards, 1 cup, 1 book, 566.8ms\n",
            "Speed: 5.1ms preprocess, 566.8ms inference, 1.3ms postprocess per image at shape (1, 3, 640, 640)\n",
            "\n",
            "0: 640x640 1 person, 1 snowboard, 1 skateboard, 3 cups, 587.4ms\n",
            "Speed: 2.4ms preprocess, 587.4ms inference, 1.2ms postprocess per image at shape (1, 3, 640, 640)\n",
            "\n",
            "0: 640x640 1 person, 1 snowboard, 4 bottles, 1 cup, 580.1ms\n",
            "Speed: 3.4ms preprocess, 580.1ms inference, 1.2ms postprocess per image at shape (1, 3, 640, 640)\n",
            "\n",
            "0: 640x640 1 person, 1 snowboard, 2 bottles, 2 cups, 579.4ms\n",
            "Speed: 2.1ms preprocess, 579.4ms inference, 1.2ms postprocess per image at shape (1, 3, 640, 640)\n",
            "\n",
            "0: 640x640 1 person, 1 snowboard, 1 bottle, 1 cup, 1 book, 555.9ms\n",
            "Speed: 2.5ms preprocess, 555.9ms inference, 1.8ms postprocess per image at shape (1, 3, 640, 640)\n",
            "\n",
            "0: 640x640 1 person, 1 handbag, 1 snowboard, 1 cup, 1 book, 590.9ms\n",
            "Speed: 2.2ms preprocess, 590.9ms inference, 1.3ms postprocess per image at shape (1, 3, 640, 640)\n",
            "\n",
            "0: 640x640 1 person, 1 handbag, 1 snowboard, 2 cups, 1 book, 585.2ms\n",
            "Speed: 9.1ms preprocess, 585.2ms inference, 1.3ms postprocess per image at shape (1, 3, 640, 640)\n",
            "\n",
            "0: 640x640 1 person, 1 snowboard, 3 cups, 1 book, 908.0ms\n",
            "Speed: 2.6ms preprocess, 908.0ms inference, 1.6ms postprocess per image at shape (1, 3, 640, 640)\n",
            "\n",
            "0: 640x640 1 person, 1 snowboard, 3 cups, 1 book, 881.6ms\n",
            "Speed: 3.1ms preprocess, 881.6ms inference, 1.9ms postprocess per image at shape (1, 3, 640, 640)\n",
            "\n",
            "0: 640x640 1 person, 1 snowboard, 1 bottle, 1 cup, 1 book, 874.9ms\n",
            "Speed: 2.2ms preprocess, 874.9ms inference, 1.6ms postprocess per image at shape (1, 3, 640, 640)\n",
            "\n",
            "0: 640x640 1 person, 1 snowboard, 3 cups, 1 book, 891.4ms\n",
            "Speed: 2.5ms preprocess, 891.4ms inference, 1.6ms postprocess per image at shape (1, 3, 640, 640)\n",
            "\n",
            "0: 640x640 1 person, 1 snowboard, 1 bottle, 2 cups, 892.5ms\n",
            "Speed: 2.7ms preprocess, 892.5ms inference, 1.7ms postprocess per image at shape (1, 3, 640, 640)\n",
            "\n",
            "0: 640x640 1 person, 1 snowboard, 1 bottle, 2 cups, 1 book, 576.1ms\n",
            "Speed: 2.5ms preprocess, 576.1ms inference, 1.2ms postprocess per image at shape (1, 3, 640, 640)\n",
            "\n",
            "0: 640x640 1 person, 1 snowboard, 2 bottles, 3 cups, 1 book, 572.2ms\n",
            "Speed: 2.7ms preprocess, 572.2ms inference, 1.2ms postprocess per image at shape (1, 3, 640, 640)\n",
            "\n",
            "0: 640x640 1 person, 1 snowboard, 1 bottle, 3 cups, 574.1ms\n",
            "Speed: 3.2ms preprocess, 574.1ms inference, 1.4ms postprocess per image at shape (1, 3, 640, 640)\n",
            "\n",
            "0: 640x640 1 person, 1 umbrella, 1 snowboard, 2 bottles, 3 cups, 560.1ms\n",
            "Speed: 2.2ms preprocess, 560.1ms inference, 1.2ms postprocess per image at shape (1, 3, 640, 640)\n",
            "\n",
            "0: 640x640 1 person, 1 umbrella, 1 snowboard, 5 bottles, 3 cups, 570.4ms\n",
            "Speed: 2.3ms preprocess, 570.4ms inference, 1.1ms postprocess per image at shape (1, 3, 640, 640)\n",
            "\n",
            "0: 640x640 1 person, 1 umbrella, 1 snowboard, 3 cups, 567.3ms\n",
            "Speed: 2.2ms preprocess, 567.3ms inference, 1.3ms postprocess per image at shape (1, 3, 640, 640)\n",
            "\n",
            "0: 640x640 1 person, 1 umbrella, 1 handbag, 1 snowboard, 572.2ms\n",
            "Speed: 3.0ms preprocess, 572.2ms inference, 1.9ms postprocess per image at shape (1, 3, 640, 640)\n",
            "\n",
            "0: 640x640 1 person, 1 snowboard, 1 bottle, 3 cups, 556.2ms\n",
            "Speed: 2.8ms preprocess, 556.2ms inference, 1.2ms postprocess per image at shape (1, 3, 640, 640)\n",
            "\n",
            "0: 640x640 1 person, 1 snowboard, 2 cups, 1 book, 564.4ms\n",
            "Speed: 6.9ms preprocess, 564.4ms inference, 1.2ms postprocess per image at shape (1, 3, 640, 640)\n",
            "\n",
            "0: 640x640 1 person, 1 umbrella, 1 snowboard, 2 bottles, 2 cups, 571.5ms\n",
            "Speed: 2.7ms preprocess, 571.5ms inference, 1.2ms postprocess per image at shape (1, 3, 640, 640)\n",
            "\n",
            "0: 640x640 1 person, 1 umbrella, 1 snowboard, 2 bottles, 2 cups, 567.7ms\n",
            "Speed: 2.6ms preprocess, 567.7ms inference, 1.2ms postprocess per image at shape (1, 3, 640, 640)\n",
            "\n",
            "0: 640x640 1 person, 1 umbrella, 1 snowboard, 1 bottle, 3 cups, 576.5ms\n",
            "Speed: 3.4ms preprocess, 576.5ms inference, 1.2ms postprocess per image at shape (1, 3, 640, 640)\n",
            "\n",
            "0: 640x640 1 person, 1 umbrella, 1 snowboard, 1 bottle, 3 cups, 579.8ms\n",
            "Speed: 2.6ms preprocess, 579.8ms inference, 1.2ms postprocess per image at shape (1, 3, 640, 640)\n",
            "\n",
            "0: 640x640 1 person, 1 umbrella, 1 snowboard, 1 book, 884.3ms\n",
            "Speed: 2.7ms preprocess, 884.3ms inference, 1.5ms postprocess per image at shape (1, 3, 640, 640)\n",
            "\n",
            "0: 640x640 1 person, 1 umbrella, 1 snowboard, 2 bottles, 3 cups, 885.1ms\n",
            "Speed: 2.5ms preprocess, 885.1ms inference, 3.9ms postprocess per image at shape (1, 3, 640, 640)\n",
            "\n",
            "0: 640x640 1 person, 2 skateboards, 2 bottles, 3 cups, 877.4ms\n",
            "Speed: 4.7ms preprocess, 877.4ms inference, 1.5ms postprocess per image at shape (1, 3, 640, 640)\n",
            "\n",
            "0: 640x640 1 person, 1 umbrella, 2 skateboards, 1 cup, 1 book, 886.1ms\n",
            "Speed: 2.6ms preprocess, 886.1ms inference, 1.5ms postprocess per image at shape (1, 3, 640, 640)\n",
            "\n",
            "0: 640x640 1 person, 1 umbrella, 1 skateboard, 1 book, 840.3ms\n",
            "Speed: 2.8ms preprocess, 840.3ms inference, 1.3ms postprocess per image at shape (1, 3, 640, 640)\n",
            "\n",
            "0: 640x640 1 person, 1 skateboard, 2 bottles, 3 cups, 550.7ms\n",
            "Speed: 3.8ms preprocess, 550.7ms inference, 1.2ms postprocess per image at shape (1, 3, 640, 640)\n",
            "\n",
            "0: 640x640 1 person, 1 snowboard, 2 bottles, 4 cups, 566.1ms\n",
            "Speed: 3.5ms preprocess, 566.1ms inference, 1.1ms postprocess per image at shape (1, 3, 640, 640)\n",
            "\n",
            "0: 640x640 2 persons, 2 bottles, 1 laptop, 1 refrigerator, 554.5ms\n",
            "Speed: 2.7ms preprocess, 554.5ms inference, 1.3ms postprocess per image at shape (1, 3, 640, 640)\n",
            "\n",
            "0: 640x640 2 persons, 3 bottles, 1 refrigerator, 589.0ms\n",
            "Speed: 7.0ms preprocess, 589.0ms inference, 1.2ms postprocess per image at shape (1, 3, 640, 640)\n",
            "\n",
            "0: 640x640 2 persons, 3 bottles, 583.8ms\n",
            "Speed: 3.1ms preprocess, 583.8ms inference, 1.3ms postprocess per image at shape (1, 3, 640, 640)\n",
            "\n",
            "0: 640x640 2 persons, 3 bottles, 579.8ms\n",
            "Speed: 2.5ms preprocess, 579.8ms inference, 1.2ms postprocess per image at shape (1, 3, 640, 640)\n",
            "\n",
            "0: 640x640 2 persons, 3 bottles, 579.1ms\n",
            "Speed: 2.4ms preprocess, 579.1ms inference, 1.2ms postprocess per image at shape (1, 3, 640, 640)\n",
            "\n",
            "0: 640x640 2 persons, 3 bottles, 1 bed, 1 laptop, 559.1ms\n",
            "Speed: 2.7ms preprocess, 559.1ms inference, 1.2ms postprocess per image at shape (1, 3, 640, 640)\n",
            "\n",
            "0: 640x640 2 persons, 3 bottles, 1 bed, 1 laptop, 618.9ms\n",
            "Speed: 2.6ms preprocess, 618.9ms inference, 1.5ms postprocess per image at shape (1, 3, 640, 640)\n",
            "\n",
            "0: 640x640 2 persons, 3 bottles, 583.3ms\n",
            "Speed: 2.8ms preprocess, 583.3ms inference, 1.4ms postprocess per image at shape (1, 3, 640, 640)\n",
            "\n",
            "0: 640x640 2 persons, 5 bottles, 789.2ms\n",
            "Speed: 2.8ms preprocess, 789.2ms inference, 1.6ms postprocess per image at shape (1, 3, 640, 640)\n",
            "\n",
            "0: 640x640 2 persons, 4 bottles, 1 bed, 1 laptop, 871.1ms\n",
            "Speed: 2.5ms preprocess, 871.1ms inference, 1.6ms postprocess per image at shape (1, 3, 640, 640)\n",
            "\n",
            "0: 640x640 2 persons, 3 bottles, 899.1ms\n",
            "Speed: 2.6ms preprocess, 899.1ms inference, 1.7ms postprocess per image at shape (1, 3, 640, 640)\n",
            "\n",
            "0: 640x640 2 persons, 5 bottles, 907.5ms\n",
            "Speed: 2.5ms preprocess, 907.5ms inference, 2.0ms postprocess per image at shape (1, 3, 640, 640)\n",
            "\n",
            "0: 640x640 2 persons, 3 bottles, 1 book, 650.6ms\n",
            "Speed: 7.6ms preprocess, 650.6ms inference, 1.4ms postprocess per image at shape (1, 3, 640, 640)\n",
            "\n",
            "0: 640x640 2 persons, 4 bottles, 1 cell phone, 1 book, 572.7ms\n",
            "Speed: 3.5ms preprocess, 572.7ms inference, 1.5ms postprocess per image at shape (1, 3, 640, 640)\n",
            "\n",
            "0: 640x640 2 persons, 3 bottles, 1 book, 593.6ms\n",
            "Speed: 2.7ms preprocess, 593.6ms inference, 1.3ms postprocess per image at shape (1, 3, 640, 640)\n",
            "\n",
            "0: 640x640 2 persons, 4 bottles, 1 book, 566.9ms\n",
            "Speed: 2.7ms preprocess, 566.9ms inference, 1.2ms postprocess per image at shape (1, 3, 640, 640)\n",
            "\n",
            "0: 640x640 2 persons, 3 bottles, 2 books, 560.4ms\n",
            "Speed: 2.4ms preprocess, 560.4ms inference, 1.4ms postprocess per image at shape (1, 3, 640, 640)\n",
            "\n",
            "0: 640x640 2 persons, 3 bottles, 1 book, 573.3ms\n",
            "Speed: 3.1ms preprocess, 573.3ms inference, 1.4ms postprocess per image at shape (1, 3, 640, 640)\n",
            "\n",
            "0: 640x640 2 persons, 4 bottles, 1 book, 584.6ms\n",
            "Speed: 2.6ms preprocess, 584.6ms inference, 1.8ms postprocess per image at shape (1, 3, 640, 640)\n",
            "\n",
            "0: 640x640 2 persons, 3 bottles, 1 book, 588.1ms\n",
            "Speed: 2.7ms preprocess, 588.1ms inference, 1.4ms postprocess per image at shape (1, 3, 640, 640)\n",
            "\n",
            "0: 640x640 2 persons, 3 bottles, 2 books, 583.8ms\n",
            "Speed: 3.7ms preprocess, 583.8ms inference, 1.3ms postprocess per image at shape (1, 3, 640, 640)\n",
            "\n",
            "0: 640x640 2 persons, 3 bottles, 1 book, 590.0ms\n",
            "Speed: 2.6ms preprocess, 590.0ms inference, 1.4ms postprocess per image at shape (1, 3, 640, 640)\n",
            "\n",
            "0: 640x640 2 persons, 3 bottles, 680.7ms\n",
            "Speed: 2.9ms preprocess, 680.7ms inference, 2.4ms postprocess per image at shape (1, 3, 640, 640)\n",
            "\n",
            "0: 640x640 2 persons, 3 bottles, 1 book, 905.9ms\n",
            "Speed: 6.8ms preprocess, 905.9ms inference, 2.1ms postprocess per image at shape (1, 3, 640, 640)\n",
            "\n",
            "0: 640x640 2 persons, 3 bottles, 1 book, 948.5ms\n",
            "Speed: 2.8ms preprocess, 948.5ms inference, 2.1ms postprocess per image at shape (1, 3, 640, 640)\n",
            "\n",
            "0: 640x640 2 persons, 3 bottles, 1 book, 898.7ms\n",
            "Speed: 2.7ms preprocess, 898.7ms inference, 1.8ms postprocess per image at shape (1, 3, 640, 640)\n",
            "\n",
            "0: 640x640 2 persons, 4 bottles, 1 book, 984.0ms\n",
            "Speed: 2.6ms preprocess, 984.0ms inference, 2.1ms postprocess per image at shape (1, 3, 640, 640)\n",
            "\n",
            "0: 640x640 2 persons, 4 bottles, 1 cell phone, 2 books, 593.6ms\n",
            "Speed: 2.8ms preprocess, 593.6ms inference, 1.5ms postprocess per image at shape (1, 3, 640, 640)\n",
            "\n",
            "0: 640x640 2 persons, 3 bottles, 1 book, 582.8ms\n",
            "Speed: 8.5ms preprocess, 582.8ms inference, 1.3ms postprocess per image at shape (1, 3, 640, 640)\n",
            "\n",
            "0: 640x640 2 persons, 3 bottles, 1 book, 588.2ms\n",
            "Speed: 3.1ms preprocess, 588.2ms inference, 1.2ms postprocess per image at shape (1, 3, 640, 640)\n",
            "\n",
            "0: 640x640 2 persons, 3 bottles, 1 book, 580.9ms\n",
            "Speed: 2.6ms preprocess, 580.9ms inference, 1.5ms postprocess per image at shape (1, 3, 640, 640)\n",
            "\n",
            "0: 640x640 2 persons, 3 bottles, 1 book, 571.8ms\n",
            "Speed: 4.2ms preprocess, 571.8ms inference, 1.2ms postprocess per image at shape (1, 3, 640, 640)\n",
            "\n",
            "0: 640x640 2 persons, 4 bottles, 1 book, 573.4ms\n",
            "Speed: 2.6ms preprocess, 573.4ms inference, 1.4ms postprocess per image at shape (1, 3, 640, 640)\n",
            "\n",
            "0: 640x640 2 persons, 4 bottles, 1 book, 587.2ms\n",
            "Speed: 3.6ms preprocess, 587.2ms inference, 1.4ms postprocess per image at shape (1, 3, 640, 640)\n",
            "\n",
            "0: 640x640 2 persons, 3 bottles, 1 book, 613.1ms\n",
            "Speed: 3.8ms preprocess, 613.1ms inference, 1.5ms postprocess per image at shape (1, 3, 640, 640)\n",
            "\n",
            "0: 640x640 2 persons, 4 bottles, 1 book, 591.0ms\n",
            "Speed: 4.7ms preprocess, 591.0ms inference, 1.2ms postprocess per image at shape (1, 3, 640, 640)\n",
            "\n",
            "0: 640x640 1 person, 2 bottles, 1 banana, 756.0ms\n",
            "Speed: 2.8ms preprocess, 756.0ms inference, 2.0ms postprocess per image at shape (1, 3, 640, 640)\n",
            "\n",
            "0: 640x640 1 person, 1 bottle, 1 banana, 892.1ms\n",
            "Speed: 5.1ms preprocess, 892.1ms inference, 2.0ms postprocess per image at shape (1, 3, 640, 640)\n",
            "\n",
            "0: 640x640 1 person, 1 banana, 1 vase, 916.8ms\n",
            "Speed: 4.3ms preprocess, 916.8ms inference, 1.8ms postprocess per image at shape (1, 3, 640, 640)\n",
            "\n",
            "0: 640x640 1 person, 1 bottle, 1 banana, 1 vase, 889.9ms\n",
            "Speed: 3.0ms preprocess, 889.9ms inference, 1.7ms postprocess per image at shape (1, 3, 640, 640)\n",
            "\n",
            "0: 640x640 1 person, 1 bottle, 1 banana, 881.8ms\n",
            "Speed: 2.9ms preprocess, 881.8ms inference, 2.3ms postprocess per image at shape (1, 3, 640, 640)\n",
            "\n",
            "0: 640x640 1 person, 1 kite, 1 bottle, 1 banana, 1 vase, 765.2ms\n",
            "Speed: 2.9ms preprocess, 765.2ms inference, 1.4ms postprocess per image at shape (1, 3, 640, 640)\n",
            "\n",
            "0: 640x640 1 person, 2 bottles, 1 banana, 1 vase, 578.2ms\n",
            "Speed: 2.9ms preprocess, 578.2ms inference, 1.4ms postprocess per image at shape (1, 3, 640, 640)\n",
            "\n",
            "0: 640x640 1 person, 1 bottle, 1 banana, 588.4ms\n",
            "Speed: 6.7ms preprocess, 588.4ms inference, 1.3ms postprocess per image at shape (1, 3, 640, 640)\n",
            "\n",
            "0: 640x640 1 person, 1 bottle, 1 banana, 588.8ms\n",
            "Speed: 3.0ms preprocess, 588.8ms inference, 1.3ms postprocess per image at shape (1, 3, 640, 640)\n",
            "\n",
            "0: 640x640 1 person, 1 bottle, 1 banana, 576.3ms\n",
            "Speed: 2.8ms preprocess, 576.3ms inference, 1.3ms postprocess per image at shape (1, 3, 640, 640)\n",
            "\n",
            "0: 640x640 1 person, 1 bottle, 1 banana, 595.3ms\n",
            "Speed: 2.8ms preprocess, 595.3ms inference, 1.3ms postprocess per image at shape (1, 3, 640, 640)\n",
            "\n",
            "0: 640x640 1 person, 1 bottle, 1 banana, 609.8ms\n",
            "Speed: 2.8ms preprocess, 609.8ms inference, 1.5ms postprocess per image at shape (1, 3, 640, 640)\n",
            "\n",
            "0: 640x640 1 person, 1 bottle, 1 banana, 581.9ms\n",
            "Speed: 3.0ms preprocess, 581.9ms inference, 1.3ms postprocess per image at shape (1, 3, 640, 640)\n",
            "\n",
            "0: 640x640 1 person, 1 bottle, 1 banana, 555.7ms\n",
            "Speed: 3.4ms preprocess, 555.7ms inference, 1.4ms postprocess per image at shape (1, 3, 640, 640)\n",
            "\n",
            "0: 640x640 1 person, 1 bottle, 1 banana, 592.0ms\n",
            "Speed: 9.4ms preprocess, 592.0ms inference, 1.3ms postprocess per image at shape (1, 3, 640, 640)\n",
            "\n",
            "0: 640x640 1 person, 5 bottles, 1 banana, 619.6ms\n",
            "Speed: 5.6ms preprocess, 619.6ms inference, 2.1ms postprocess per image at shape (1, 3, 640, 640)\n",
            "\n",
            "0: 640x640 1 person, 3 bottles, 1 banana, 596.5ms\n",
            "Speed: 2.9ms preprocess, 596.5ms inference, 1.4ms postprocess per image at shape (1, 3, 640, 640)\n",
            "\n",
            "0: 640x640 1 person, 6 bottles, 1 banana, 581.0ms\n",
            "Speed: 3.1ms preprocess, 581.0ms inference, 1.5ms postprocess per image at shape (1, 3, 640, 640)\n",
            "\n",
            "0: 640x640 1 person, 3 bottles, 1 banana, 637.6ms\n",
            "Speed: 2.9ms preprocess, 637.6ms inference, 1.9ms postprocess per image at shape (1, 3, 640, 640)\n",
            "\n",
            "0: 640x640 1 person, 4 bottles, 1 banana, 922.3ms\n",
            "Speed: 2.8ms preprocess, 922.3ms inference, 1.8ms postprocess per image at shape (1, 3, 640, 640)\n",
            "\n",
            "0: 640x640 1 person, 7 bottles, 1 banana, 1 vase, 897.1ms\n",
            "Speed: 3.5ms preprocess, 897.1ms inference, 1.9ms postprocess per image at shape (1, 3, 640, 640)\n",
            "\n",
            "0: 640x640 1 person, 2 bottles, 1 banana, 897.0ms\n",
            "Speed: 8.2ms preprocess, 897.0ms inference, 2.0ms postprocess per image at shape (1, 3, 640, 640)\n",
            "\n",
            "0: 640x640 1 person, 3 bottles, 1 banana, 1 vase, 978.4ms\n",
            "Speed: 8.4ms preprocess, 978.4ms inference, 2.6ms postprocess per image at shape (1, 3, 640, 640)\n",
            "\n",
            "0: 640x640 1 person, 2 bottles, 1 banana, 1 vase, 825.0ms\n",
            "Speed: 2.8ms preprocess, 825.0ms inference, 1.5ms postprocess per image at shape (1, 3, 640, 640)\n",
            "\n",
            "0: 640x640 1 person, 1 banana, 1 vase, 637.4ms\n",
            "Speed: 3.0ms preprocess, 637.4ms inference, 1.4ms postprocess per image at shape (1, 3, 640, 640)\n",
            "\n",
            "0: 640x640 1 person, 1 bottle, 1 banana, 1 vase, 635.6ms\n",
            "Speed: 3.4ms preprocess, 635.6ms inference, 1.5ms postprocess per image at shape (1, 3, 640, 640)\n",
            "\n",
            "0: 640x640 1 person, 1 bottle, 1 banana, 1 vase, 611.9ms\n",
            "Speed: 3.6ms preprocess, 611.9ms inference, 1.5ms postprocess per image at shape (1, 3, 640, 640)\n",
            "\n",
            "0: 640x640 1 person, 1 bottle, 1 banana, 648.9ms\n",
            "Speed: 4.1ms preprocess, 648.9ms inference, 1.5ms postprocess per image at shape (1, 3, 640, 640)\n",
            "\n",
            "0: 640x640 1 person, 1 bottle, 1 banana, 1 vase, 628.7ms\n",
            "Speed: 3.4ms preprocess, 628.7ms inference, 1.6ms postprocess per image at shape (1, 3, 640, 640)\n",
            "\n",
            "0: 640x640 1 person, 2 bottles, 1 banana, 661.4ms\n",
            "Speed: 2.8ms preprocess, 661.4ms inference, 1.9ms postprocess per image at shape (1, 3, 640, 640)\n",
            "\n",
            "0: 640x640 1 person, 1 bottle, 1 banana, 1 vase, 726.3ms\n",
            "Speed: 3.3ms preprocess, 726.3ms inference, 1.7ms postprocess per image at shape (1, 3, 640, 640)\n",
            "\n",
            "0: 640x640 1 person, 2 bottles, 1 banana, 1 vase, 665.5ms\n",
            "Speed: 9.9ms preprocess, 665.5ms inference, 2.4ms postprocess per image at shape (1, 3, 640, 640)\n",
            "\n",
            "0: 640x640 1 person, 2 bottles, 1 banana, 1 vase, 625.7ms\n",
            "Speed: 3.1ms preprocess, 625.7ms inference, 1.8ms postprocess per image at shape (1, 3, 640, 640)\n",
            "\n",
            "0: 640x640 1 person, 1 bottle, 1 banana, 1 vase, 646.1ms\n",
            "Speed: 4.6ms preprocess, 646.1ms inference, 1.9ms postprocess per image at shape (1, 3, 640, 640)\n",
            "\n",
            "0: 640x640 1 person, 1 bottle, 1 banana, 652.4ms\n",
            "Speed: 2.8ms preprocess, 652.4ms inference, 1.4ms postprocess per image at shape (1, 3, 640, 640)\n",
            "\n",
            "0: 640x640 1 person, 1 banana, 903.0ms\n",
            "Speed: 3.2ms preprocess, 903.0ms inference, 1.8ms postprocess per image at shape (1, 3, 640, 640)\n"
          ]
        }
      ]
    },
    {
      "cell_type": "code",
      "source": [
        "# 길이\n",
        "nd = 0\n",
        "ad = 0\n",
        "for i in range(len(raw_data)):\n",
        "    if raw_data[i]['key'] == 0:\n",
        "        nd += 1\n",
        "    else:\n",
        "        ad += 1\n",
        "print('normal data:', nd, '| abnormal data:', ad)"
      ],
      "metadata": {
        "id": "yySQ_CGQ7rZ5",
        "colab": {
          "base_uri": "https://localhost:8080/"
        },
        "outputId": "2f31e59a-eb74-45d5-f6ec-65a6656627d3"
      },
      "execution_count": 14,
      "outputs": [
        {
          "output_type": "stream",
          "name": "stdout",
          "text": [
            "normal data: 40 | abnormal data: 40\n"
          ]
        }
      ]
    },
    {
      "cell_type": "code",
      "source": [
        "device = torch.device('cuda' if torch.cuda.is_available() else 'cpu')\n",
        "device"
      ],
      "metadata": {
        "id": "VM17qWMn7rcF",
        "colab": {
          "base_uri": "https://localhost:8080/"
        },
        "outputId": "aec29ed5-bd14-462c-e9ba-2fb01ab90854"
      },
      "execution_count": 15,
      "outputs": [
        {
          "output_type": "execute_result",
          "data": {
            "text/plain": [
              "device(type='cpu')"
            ]
          },
          "metadata": {},
          "execution_count": 15
        }
      ]
    },
    {
      "cell_type": "markdown",
      "source": [
        "# 모델 구조"
      ],
      "metadata": {
        "id": "uo9uzCrC691t"
      }
    },
    {
      "cell_type": "code",
      "source": [
        "class MyDataset(Dataset):\n",
        "    def __init__(self, seq_list):\n",
        "        self.X = []\n",
        "        self.y = []\n",
        "        for dic in seq_list :\n",
        "            self.y.append(dic['key'])\n",
        "            self.X.append(dic['value'])\n",
        "\n",
        "    def __getitem__(self, index):\n",
        "        data = self.X[index]\n",
        "        label = self.y[index]\n",
        "        return torch.Tensor(np.array(data)), torch.tensor(np.array(int(label)))\n",
        "\n",
        "    def __len__(self):\n",
        "        return len(self.X)"
      ],
      "metadata": {
        "id": "yeiE-hCh7rd6"
      },
      "execution_count": 16,
      "outputs": []
    },
    {
      "cell_type": "code",
      "source": [
        "split_ratio = [0.8, 0.1, 0.1]\n",
        "train_len = int(len(raw_data) * split_ratio[0])\n",
        "val_len = int(len(raw_data) * split_ratio[1])\n",
        "test_len = len(raw_data) - train_len - val_len\n",
        "\n",
        "print('{}, {}, {}'.format(train_len, val_len, test_len))"
      ],
      "metadata": {
        "id": "AHhv1R0C7rf5",
        "colab": {
          "base_uri": "https://localhost:8080/"
        },
        "outputId": "b4345a80-3c60-427d-f265-d7e3ef1fbeb4"
      },
      "execution_count": 17,
      "outputs": [
        {
          "output_type": "stream",
          "name": "stdout",
          "text": [
            "64, 8, 8\n"
          ]
        }
      ]
    },
    {
      "cell_type": "code",
      "source": [
        "train_dataset = MyDataset(raw_data)\n",
        "train_data, valid_data, test_data = random_split(train_dataset, [train_len, val_len, test_len])\n",
        "\n",
        "train_loader = DataLoader(train_data, batch_size=BATCH_SIZE)\n",
        "val_loader = DataLoader(valid_data, batch_size=BATCH_SIZE)\n",
        "test_loader = DataLoader(test_data, batch_size=BATCH_SIZE)"
      ],
      "metadata": {
        "id": "X0cb8LEi7rh4"
      },
      "execution_count": 24,
      "outputs": []
    },
    {
      "cell_type": "code",
      "source": [
        "# LSTM\n",
        "class skeleton_LSTM(nn.Module):\n",
        "    def __init__(self):\n",
        "        super(skeleton_LSTM, self).__init__()\n",
        "        self.lstm1 = nn.LSTM(input_size=len(attention_dot) * 2, hidden_size=128, num_layers=NUM_LAYERS, batch_first=True)\n",
        "        self.lstm2 = nn.LSTM(input_size=128, hidden_size=256, num_layers=NUM_LAYERS, batch_first=True)\n",
        "        self.lstm3 = nn.LSTM(input_size=256, hidden_size=512, num_layers=NUM_LAYERS, batch_first=True)\n",
        "        self.dropout1 = nn.Dropout(0.1)\n",
        "        self.lstm4 = nn.LSTM(input_size=512, hidden_size=256, num_layers=NUM_LAYERS, batch_first=True)\n",
        "        self.lstm5 = nn.LSTM(input_size=256, hidden_size=128, num_layers=NUM_LAYERS, batch_first=True)\n",
        "        self.lstm6 = nn.LSTM(input_size=128, hidden_size=64, num_layers=NUM_LAYERS, batch_first=True)\n",
        "        self.dropout2 = nn.Dropout(0.1)\n",
        "        self.lstm7 = nn.LSTM(input_size=64, hidden_size=32, num_layers=NUM_LAYERS, batch_first=True)\n",
        "        self.fc = nn.Linear(32,2)\n",
        "\n",
        "    def forward(self, x) :\n",
        "        x, _ = self.lstm1(x)\n",
        "        x, _ = self.lstm2(x)\n",
        "        x, _ = self.lstm3(x)\n",
        "        x = self.dropout1(x)\n",
        "        x, _ = self.lstm4(x)\n",
        "        x, _ = self.lstm5(x)\n",
        "        x, _ = self.lstm6(x)\n",
        "        x = self.dropout2(x)\n",
        "        x, _ = self.lstm7(x)\n",
        "        x = self.fc(x[:,-1,:]) # x[배치 크기, 시퀀스 길이, 은닉 상태 크기], [:, -1, :] -> 마지막 시간 단계만 선택\n",
        "\n",
        "        return x"
      ],
      "metadata": {
        "id": "m58b6JpK7rj4"
      },
      "execution_count": 25,
      "outputs": []
    },
    {
      "cell_type": "code",
      "source": [
        "# 모델 초기화\n",
        "\n",
        "def init_model():\n",
        "    global net, loss_fn, optim\n",
        "    plt.rc('font', size = 10)\n",
        "    net = skeleton_LSTM().to(device)\n",
        "    loss_fn = nn.CrossEntropyLoss()\n",
        "    optim = Adam(net.parameters(), lr=0.0001)\n",
        "\n",
        "# epoch 카운터 초기화\n",
        "def init_epoch():\n",
        "    global epoch_cnt\n",
        "    epoch_cnt = 0\n",
        "\n",
        "# 모든 Log를 초기화\n",
        "def init_log():\n",
        "    global log_stack, iter_log, tloss_log, tacc_log, vloss_log, vacc_log, time_log\n",
        "    plt.rc('font', size = 10)\n",
        "    iter_log, tloss_log, tacc_log, vloss_log, vacc_log = [], [], [], [], []\n",
        "    time_log, log_stack = [], []"
      ],
      "metadata": {
        "id": "ZdLg7XMI7rl4"
      },
      "execution_count": 26,
      "outputs": []
    },
    {
      "cell_type": "code",
      "source": [
        "def record_train_log(_tloss, _tacc, _time):\n",
        "    # Train Log 기록\n",
        "    time_log.append(_time)\n",
        "    tloss_log.append(_tloss)\n",
        "    tacc_log.append(_tacc)\n",
        "    iter_log.append(epoch_cnt)\n",
        "\n",
        "def record_valid_log(_vloss, _vacc):\n",
        "    # Validation Log 기록\n",
        "    vloss_log.append(_vloss)\n",
        "    vacc_log.append(_vacc)\n",
        "\n",
        "def last(log_list):\n",
        "    # last 안의 마지막 숫자를 반환(print_log 함수에서 사용)\n",
        "    if len(log_list) > 0:\n",
        "        return log_list[len(log_list) - 1]\n",
        "    else:\n",
        "        return -1\n",
        "\n",
        "def print_log():\n",
        "    # 학습 추이 출력 : 소숫점 3자리까지\n",
        "    train_loss = round(float(last(tloss_log)), 3)\n",
        "    train_acc = round(float(last(tacc_log)), 3)\n",
        "    val_loss = round(float(last(vloss_log)), 3)\n",
        "    val_acc = round(float(last(vacc_log)), 3)\n",
        "    time_spent = round(float(last(time_log)), 3)\n",
        "\n",
        "    log_str = 'Epoch: {:3} | T_Loss {:5} | T_Acc {:5} | V_Loss {:5} | V_Acc {:5} | {:5}'.format(last(iter_log), train_loss, train_acc, val_loss, val_acc, time_spent)\n",
        "\n",
        "    log_stack.append(log_str)\n",
        "\n",
        "    # 학습 추이 그래프 출력\n",
        "    hist_fig, loss_axis = plt.subplots(figsize=(10, 3), dpi=99)\n",
        "    hist_fig.patch.set_facecolor('white')\n",
        "\n",
        "    # Loss Line 구성\n",
        "    loss_t_line = plt.plot(iter_log, tloss_log, label='Train_Loss', color='red', marker='o')\n",
        "    loss_v_line = plt.plot(iter_log, vloss_log, label='Valid_Loss', color='blue', marker='s')\n",
        "    loss_axis.set_xlabel('epoch')\n",
        "    loss_axis.set_ylabel('loss')\n",
        "\n",
        "    # Acc, Line 구성\n",
        "    acc_axis = loss_axis.twinx()\n",
        "    acc_t_line = acc_axis.plot(iter_log, tacc_log, label='Train_Acc', color='red', marker='+')\n",
        "    acc_v_line = acc_axis.plot(iter_log, vacc_log, label='Valid_Acc', color='blue', marker='x')\n",
        "    acc_axis.set_ylabel('accuracy')\n",
        "\n",
        "    # 그래프 출력\n",
        "    hist_lines = loss_t_line + loss_v_line + acc_t_line + acc_v_line\n",
        "    loss_axis.legend(hist_lines, [l.get_label() for l in hist_lines])\n",
        "    loss_axis.grid()\n",
        "    plt.title('Learning history until epoch {}'.format(last(iter_log)))\n",
        "    plt.draw()\n",
        "\n",
        "    # 텍스트 로그 출력\n",
        "    clear_output(wait=True)\n",
        "    plt.show()\n",
        "    for idx in reversed(range(len(log_stack))):\n",
        "        print(log_stack[idx])"
      ],
      "metadata": {
        "id": "A49jV12E7roA"
      },
      "execution_count": 27,
      "outputs": []
    },
    {
      "cell_type": "code",
      "source": [
        "def clear_memory():\n",
        "    if device != 'cpu':\n",
        "        empty_cache()\n",
        "    gc.collect()\n",
        "\n",
        "# 학습 알고리즘\n",
        "def epoch(data_loader, mode = 'train'):\n",
        "    global epoch_cnt\n",
        "\n",
        "    # 사용되는 변수 초기화\n",
        "    iter_loss, iter_acc, last_grad_performed = [], [], False\n",
        "\n",
        "    # 1 iteration 학습 알고리즘(for문을 나오면 1 epoch 완료)\n",
        "    for _data, _label in data_loader:\n",
        "        data, label = _data.to(device), _label.type(torch.LongTensor).to(device)\n",
        "\n",
        "        # 1. Feed-forward\n",
        "        if mode == 'train':\n",
        "            net.train()\n",
        "        else:\n",
        "            # 학습때만 쓰이는 Dropout, Batch Mormalization을 미사용\n",
        "            net.eval()\n",
        "\n",
        "        result = net(data) # 1 Batch에 대한 결과가 모든 Class에 대한 확률값으로\n",
        "        _, out = torch.max(result, 1) # result에서 최대 확률값을 기준으로 예측 class 도출( _ : 값 부분은 필요 없음, out : index 중 가장 큰 하나의 데이터)\n",
        "\n",
        "        # 2. Loss 계산\n",
        "        loss = loss_fn(result, label) # GT 와 Label 비교하여 Loss 산정\n",
        "        iter_loss.append(loss.item()) # 학습 추이를 위하여 Loss를 기록\n",
        "\n",
        "        # 3. 역전파 학습 후 Gradient Descent\n",
        "        if mode == 'train':\n",
        "            optim.zero_grad() # 미분을 통해 얻은 기울기를 초기화 for 다음 epoch\n",
        "            loss.backward() # 역전파 학습\n",
        "            optim.step() # Gradient Descent 수행\n",
        "            last_grad_performed = True # for문을 나가면 epoch 카운터 += 1\n",
        "\n",
        "        # 4. 정확도 계산\n",
        "        acc_partial = (out == label).float().sum() # GT == Label 인 개수\n",
        "        acc_partial = acc_partial / len(label) # ( TP / (TP + TM)) 해서 정확도 산출\n",
        "        iter_acc.append(acc_partial.item()) # 학습 추이를 위하여 Acc. 기록\n",
        "\n",
        "    # 역전파 학습 후 Epoch 카운터 += 1\n",
        "    if last_grad_performed:\n",
        "        epoch_cnt += 1\n",
        "\n",
        "    clear_memory()\n",
        "\n",
        "    # loss와 acc의 평균값 for 학습추이 그래프, 모든 GT와 Label 값 for 컨퓨전 매트릭스\n",
        "    return np.average(iter_loss), np.average(iter_acc)\n",
        "\n",
        "def epoch_not_finished():\n",
        "    # 에폭이 끝남을 알림\n",
        "    return epoch_cnt < maximum_epoch"
      ],
      "metadata": {
        "id": "sK11_elv7rp4"
      },
      "execution_count": 28,
      "outputs": []
    },
    {
      "cell_type": "markdown",
      "source": [
        "# 모델 학습"
      ],
      "metadata": {
        "id": "fjQh6QdFBjK3"
      }
    },
    {
      "cell_type": "code",
      "source": [
        "init_model()\n",
        "init_epoch()\n",
        "init_log()\n",
        "maximum_epoch = EPOCH\n",
        "\n",
        "# Training iteration\n",
        "\n",
        "while epoch_not_finished():\n",
        "    start_time = time.time()\n",
        "\n",
        "    tloss, tacc = epoch(train_loader, mode = 'train')\n",
        "\n",
        "    end_time = time.time()\n",
        "    time_taken = end_time - start_time\n",
        "    record_train_log(tloss, tacc, time_taken)\n",
        "\n",
        "    with torch.no_grad():\n",
        "        vloss, vacc = epoch(val_loader, mode = 'val')\n",
        "        record_valid_log(vloss, vacc)\n",
        "\n",
        "    print_log()\n",
        "\n",
        "print('\\n Training completed!')"
      ],
      "metadata": {
        "id": "akDYfuG37rr4",
        "colab": {
          "base_uri": "https://localhost:8080/",
          "height": 1000
        },
        "outputId": "b2345a5a-bc69-49b1-c774-fb3d3ff3962a"
      },
      "execution_count": 29,
      "outputs": [
        {
          "output_type": "display_data",
          "data": {
            "text/plain": [
              "<Figure size 990x297 with 2 Axes>"
            ],
            "image/png": "[encoded data removed]"
          },
          "metadata": {}
        },
        {
          "output_type": "stream",
          "name": "stdout",
          "text": [
            "Epoch: 100 | T_Loss 0.453 | T_Acc  0.78 | V_Loss 1.503 | V_Acc 0.417 | 1.485\n",
            "Epoch:  99 | T_Loss 0.454 | T_Acc  0.78 | V_Loss 1.496 | V_Acc 0.417 | 2.183\n",
            "Epoch:  98 | T_Loss 0.454 | T_Acc  0.78 | V_Loss 1.489 | V_Acc 0.417 | 2.956\n",
            "Epoch:  97 | T_Loss 0.456 | T_Acc  0.78 | V_Loss 1.482 | V_Acc 0.417 | 2.048\n",
            "Epoch:  96 | T_Loss 0.456 | T_Acc  0.78 | V_Loss 1.475 | V_Acc 0.417 | 1.769\n",
            "Epoch:  95 | T_Loss 0.458 | T_Acc  0.78 | V_Loss 1.467 | V_Acc 0.417 |  1.49\n",
            "Epoch:  94 | T_Loss  0.46 | T_Acc  0.78 | V_Loss 1.459 | V_Acc 0.417 | 1.502\n",
            "Epoch:  93 | T_Loss 0.462 | T_Acc  0.78 | V_Loss 1.451 | V_Acc 0.417 | 1.455\n",
            "Epoch:  92 | T_Loss 0.466 | T_Acc  0.78 | V_Loss 1.443 | V_Acc 0.417 |  1.47\n",
            "Epoch:  91 | T_Loss 0.471 | T_Acc 0.765 | V_Loss 1.435 | V_Acc 0.417 | 2.041\n",
            "Epoch:  90 | T_Loss 0.494 | T_Acc  0.75 | V_Loss 1.429 | V_Acc 0.417 | 3.464\n",
            "Epoch:  89 | T_Loss 0.544 | T_Acc 0.705 | V_Loss 1.407 | V_Acc 0.417 | 1.926\n",
            "Epoch:  88 | T_Loss 0.544 | T_Acc 0.682 | V_Loss 1.392 | V_Acc 0.417 | 2.945\n",
            "Epoch:  87 | T_Loss 0.516 | T_Acc  0.72 | V_Loss 1.419 | V_Acc 0.417 | 1.989\n",
            "Epoch:  86 | T_Loss 0.542 | T_Acc 0.705 | V_Loss 1.399 | V_Acc 0.417 | 1.983\n",
            "Epoch:  85 | T_Loss 0.644 | T_Acc 0.591 | V_Loss 1.359 | V_Acc 0.417 | 1.962\n",
            "Epoch:  84 | T_Loss 0.555 | T_Acc 0.712 | V_Loss  1.36 | V_Acc 0.333 | 1.485\n",
            "Epoch:  83 | T_Loss  0.53 | T_Acc  0.75 | V_Loss  1.41 | V_Acc 0.417 | 1.486\n",
            "Epoch:  82 | T_Loss 0.549 | T_Acc 0.705 | V_Loss 1.389 | V_Acc 0.417 | 1.485\n",
            "Epoch:  81 | T_Loss 0.547 | T_Acc 0.682 | V_Loss 1.339 | V_Acc 0.417 | 2.052\n",
            "Epoch:  80 | T_Loss  0.55 | T_Acc 0.705 | V_Loss 1.407 | V_Acc 0.417 | 1.795\n",
            "Epoch:  79 | T_Loss 0.596 | T_Acc 0.621 | V_Loss 1.384 | V_Acc 0.417 | 1.477\n",
            "Epoch:  78 | T_Loss 0.626 | T_Acc 0.621 | V_Loss 1.413 | V_Acc 0.333 | 1.472\n",
            "Epoch:  77 | T_Loss 0.651 | T_Acc 0.591 | V_Loss 1.197 | V_Acc 0.333 | 1.514\n",
            "Epoch:  76 | T_Loss 0.558 | T_Acc 0.682 | V_Loss 1.005 | V_Acc 0.333 | 1.487\n",
            "Epoch:  75 | T_Loss 0.497 | T_Acc 0.727 | V_Loss 1.381 | V_Acc 0.417 | 1.992\n",
            "Epoch:  74 | T_Loss 0.503 | T_Acc  0.75 | V_Loss 1.352 | V_Acc 0.417 | 1.786\n",
            "Epoch:  73 | T_Loss 0.505 | T_Acc 0.735 | V_Loss 1.356 | V_Acc 0.417 | 1.467\n",
            "Epoch:  72 | T_Loss 0.546 | T_Acc  0.72 | V_Loss  1.35 | V_Acc 0.417 | 1.507\n",
            "Epoch:  71 | T_Loss 0.527 | T_Acc 0.705 | V_Loss 1.328 | V_Acc 0.417 | 1.514\n",
            "Epoch:  70 | T_Loss 0.521 | T_Acc 0.712 | V_Loss 1.255 | V_Acc 0.417 | 1.533\n",
            "Epoch:  69 | T_Loss 0.493 | T_Acc 0.758 | V_Loss 1.343 | V_Acc 0.417 | 2.009\n",
            "Epoch:  68 | T_Loss 0.515 | T_Acc  0.72 | V_Loss 1.314 | V_Acc 0.417 | 1.795\n",
            "Epoch:  67 | T_Loss  0.53 | T_Acc 0.727 | V_Loss 1.225 | V_Acc 0.417 | 1.511\n",
            "Epoch:  66 | T_Loss  0.52 | T_Acc 0.742 | V_Loss 1.297 | V_Acc 0.417 | 1.507\n",
            "Epoch:  65 | T_Loss 0.502 | T_Acc  0.75 | V_Loss 1.281 | V_Acc 0.417 | 1.499\n",
            "Epoch:  64 | T_Loss 0.516 | T_Acc  0.72 | V_Loss 1.278 | V_Acc 0.417 | 1.474\n",
            "Epoch:  63 | T_Loss 0.554 | T_Acc 0.705 | V_Loss 1.268 | V_Acc 0.417 | 2.061\n",
            "Epoch:  62 | T_Loss 0.533 | T_Acc 0.735 | V_Loss 1.234 | V_Acc 0.417 | 1.749\n",
            "Epoch:  61 | T_Loss 0.517 | T_Acc  0.72 | V_Loss 1.236 | V_Acc 0.417 |  1.49\n",
            "Epoch:  60 | T_Loss 0.537 | T_Acc  0.72 | V_Loss 1.218 | V_Acc 0.417 | 1.493\n",
            "Epoch:  59 | T_Loss 0.547 | T_Acc 0.697 | V_Loss 1.217 | V_Acc 0.417 | 1.496\n",
            "Epoch:  58 | T_Loss 0.545 | T_Acc 0.712 | V_Loss 1.123 | V_Acc 0.417 | 1.541\n",
            "Epoch:  57 | T_Loss 0.535 | T_Acc 0.735 | V_Loss 1.185 | V_Acc 0.417 | 2.011\n",
            "Epoch:  56 | T_Loss 0.541 | T_Acc 0.697 | V_Loss 1.154 | V_Acc 0.417 | 1.708\n",
            "Epoch:  55 | T_Loss 0.545 | T_Acc 0.735 | V_Loss 1.137 | V_Acc 0.417 |  1.49\n",
            "Epoch:  54 | T_Loss 0.548 | T_Acc 0.705 | V_Loss 1.122 | V_Acc 0.417 | 1.492\n",
            "Epoch:  53 | T_Loss 0.568 | T_Acc 0.689 | V_Loss 1.075 | V_Acc 0.417 | 1.485\n",
            "Epoch:  52 | T_Loss 0.577 | T_Acc 0.674 | V_Loss 1.078 | V_Acc 0.417 | 1.558\n",
            "Epoch:  51 | T_Loss 0.569 | T_Acc 0.697 | V_Loss 1.085 | V_Acc 0.417 | 2.108\n",
            "Epoch:  50 | T_Loss 0.581 | T_Acc 0.667 | V_Loss 1.044 | V_Acc 0.417 | 1.717\n",
            "Epoch:  49 | T_Loss 0.575 | T_Acc  0.72 | V_Loss 1.033 | V_Acc 0.417 | 1.517\n",
            "Epoch:  48 | T_Loss 0.585 | T_Acc 0.689 | V_Loss 1.021 | V_Acc 0.417 | 1.505\n",
            "Epoch:  47 | T_Loss   0.6 | T_Acc 0.659 | V_Loss 0.994 | V_Acc 0.417 |  1.51\n",
            "Epoch:  46 | T_Loss 0.588 | T_Acc 0.705 | V_Loss 0.998 | V_Acc 0.417 |  1.57\n",
            "Epoch:  45 | T_Loss  0.61 | T_Acc 0.689 | V_Loss 0.944 | V_Acc 0.417 | 2.079\n",
            "Epoch:  44 | T_Loss 0.605 | T_Acc 0.652 | V_Loss 0.878 | V_Acc 0.417 | 1.704\n",
            "Epoch:  43 | T_Loss  0.61 | T_Acc 0.689 | V_Loss 0.924 | V_Acc 0.417 | 1.503\n",
            "Epoch:  42 | T_Loss 0.628 | T_Acc 0.667 | V_Loss 0.873 | V_Acc 0.417 |  1.48\n",
            "Epoch:  41 | T_Loss 0.632 | T_Acc 0.652 | V_Loss 0.904 | V_Acc 0.417 | 1.498\n",
            "Epoch:  40 | T_Loss 0.647 | T_Acc 0.606 | V_Loss 0.823 | V_Acc 0.417 | 2.786\n",
            "Epoch:  39 | T_Loss 0.665 | T_Acc 0.674 | V_Loss 0.894 | V_Acc 0.167 | 2.041\n",
            "Epoch:  38 | T_Loss 0.658 | T_Acc 0.606 | V_Loss 0.752 | V_Acc 0.417 | 1.497\n",
            "Epoch:  37 | T_Loss 0.661 | T_Acc 0.568 | V_Loss 0.772 | V_Acc 0.417 | 1.504\n",
            "Epoch:  36 | T_Loss 0.665 | T_Acc 0.545 | V_Loss 0.725 | V_Acc 0.333 | 1.496\n",
            "Epoch:  35 | T_Loss 0.668 | T_Acc 0.538 | V_Loss 0.726 | V_Acc 0.417 | 1.483\n",
            "Epoch:  34 | T_Loss 0.675 | T_Acc 0.591 | V_Loss 0.702 | V_Acc 0.583 | 1.994\n",
            "Epoch:  33 | T_Loss 0.678 | T_Acc 0.545 | V_Loss 0.703 | V_Acc 0.333 | 1.971\n",
            "Epoch:  32 | T_Loss 0.682 | T_Acc  0.53 | V_Loss 0.689 | V_Acc 0.583 | 1.516\n",
            "Epoch:  31 | T_Loss 0.681 | T_Acc 0.545 | V_Loss 0.691 | V_Acc 0.583 | 1.497\n",
            "Epoch:  30 | T_Loss 0.689 | T_Acc 0.545 | V_Loss 0.688 | V_Acc 0.583 |  1.51\n",
            "Epoch:  29 | T_Loss 0.672 | T_Acc 0.591 | V_Loss 0.688 | V_Acc 0.583 | 1.486\n",
            "Epoch:  28 | T_Loss 0.664 | T_Acc 0.598 | V_Loss 0.803 | V_Acc 0.167 |  2.03\n",
            "Epoch:  27 | T_Loss 0.691 | T_Acc 0.515 | V_Loss 0.709 | V_Acc 0.333 | 1.926\n",
            "Epoch:  26 | T_Loss 0.677 | T_Acc 0.576 | V_Loss 0.694 | V_Acc 0.583 | 1.482\n",
            "Epoch:  25 | T_Loss 0.669 | T_Acc 0.644 | V_Loss 0.789 | V_Acc 0.083 | 1.497\n",
            "Epoch:  24 | T_Loss 0.676 | T_Acc 0.583 | V_Loss 0.724 | V_Acc 0.417 | 1.506\n",
            "Epoch:  23 | T_Loss  0.68 | T_Acc 0.583 | V_Loss 0.742 | V_Acc 0.417 | 1.516\n",
            "Epoch:  22 | T_Loss 0.683 | T_Acc  0.53 | V_Loss 0.724 | V_Acc 0.417 | 2.094\n",
            "Epoch:  21 | T_Loss 0.684 | T_Acc 0.576 | V_Loss 0.718 | V_Acc 0.417 | 1.937\n",
            "Epoch:  20 | T_Loss 0.686 | T_Acc 0.591 | V_Loss 0.705 | V_Acc 0.417 | 1.505\n",
            "Epoch:  19 | T_Loss 0.688 | T_Acc 0.553 | V_Loss 0.701 | V_Acc 0.417 | 1.486\n",
            "Epoch:  18 | T_Loss 0.688 | T_Acc 0.606 | V_Loss   0.7 | V_Acc 0.417 | 2.062\n",
            "Epoch:  17 | T_Loss 0.688 | T_Acc 0.583 | V_Loss 0.698 | V_Acc 0.417 |  1.93\n",
            "Epoch:  16 | T_Loss  0.69 | T_Acc 0.553 | V_Loss 0.696 | V_Acc 0.417 | 2.024\n",
            "Epoch:  15 | T_Loss 0.692 | T_Acc 0.492 | V_Loss 0.695 | V_Acc 0.417 | 1.537\n",
            "Epoch:  14 | T_Loss 0.691 | T_Acc 0.523 | V_Loss 0.694 | V_Acc 0.417 | 1.529\n",
            "Epoch:  13 | T_Loss 0.692 | T_Acc 0.538 | V_Loss 0.693 | V_Acc 0.667 | 1.531\n",
            "Epoch:  12 | T_Loss 0.693 | T_Acc 0.477 | V_Loss 0.692 | V_Acc 0.583 | 1.498\n",
            "Epoch:  11 | T_Loss 0.693 | T_Acc 0.447 | V_Loss 0.692 | V_Acc 0.667 | 2.019\n",
            "Epoch:  10 | T_Loss 0.693 | T_Acc  0.47 | V_Loss 0.692 | V_Acc 0.667 | 2.047\n",
            "Epoch:   9 | T_Loss 0.692 | T_Acc 0.561 | V_Loss 0.692 | V_Acc 0.667 | 1.946\n",
            "Epoch:   8 | T_Loss 0.693 | T_Acc 0.591 | V_Loss 0.693 | V_Acc 0.333 | 1.562\n",
            "Epoch:   7 | T_Loss 0.693 | T_Acc 0.492 | V_Loss 0.691 | V_Acc 0.583 | 1.486\n",
            "Epoch:   6 | T_Loss 0.695 | T_Acc   0.5 | V_Loss 0.685 | V_Acc 0.583 | 1.853\n",
            "Epoch:   5 | T_Loss 0.699 | T_Acc   0.5 | V_Loss 0.682 | V_Acc 0.583 | 2.107\n",
            "Epoch:   4 | T_Loss 0.701 | T_Acc   0.5 | V_Loss 0.681 | V_Acc 0.583 | 2.925\n",
            "Epoch:   3 | T_Loss 0.702 | T_Acc   0.5 | V_Loss  0.68 | V_Acc 0.583 | 1.814\n",
            "Epoch:   2 | T_Loss 0.703 | T_Acc   0.5 | V_Loss  0.68 | V_Acc 0.583 | 2.015\n",
            "Epoch:   1 | T_Loss 0.704 | T_Acc   0.5 | V_Loss 0.679 | V_Acc 0.583 | 1.997\n",
            "\n",
            " Training completed!\n"
          ]
        }
      ]
    },
    {
      "cell_type": "code",
      "source": [
        "# 정확도 검증\n",
        "with torch.no_grad():\n",
        "    test_loss, test_acc = epoch(test_loader, mode = 'test')\n",
        "    test_acc = round(test_acc, 4)\n",
        "    test_loss = round(test_loss, 4)\n",
        "    print('Test Acc.: {}'.format(test_acc))\n",
        "    print('Test Loss: {}'.format(test_loss))"
      ],
      "metadata": {
        "id": "hKETulIl7rt6",
        "colab": {
          "base_uri": "https://localhost:8080/"
        },
        "outputId": "42fd70fa-ebd6-4e8e-ac1e-97b957e27d57"
      },
      "execution_count": 30,
      "outputs": [
        {
          "output_type": "stream",
          "name": "stdout",
          "text": [
            "Test Acc.: 0.6667\n",
            "Test Loss: 1.0285\n"
          ]
        }
      ]
    },
    {
      "cell_type": "code",
      "source": [
        "# 영상 resize 및 추출\n",
        "test_video_name = 'C_3_12_42_BU_SMC_10-14_12-15-24_CC_RGB_DF2_F2'\n",
        "test_video_path = f'/content/drive/MyDrive/CCTV/Abnormal/Theft_Video/{test_video_name}.mp4'\n",
        "cv2.destroyAllWindows()\n",
        "cap = cv2.VideoCapture(test_video_path)\n",
        "img_list = []\n",
        "\n",
        "if cap.isOpened():\n",
        "\n",
        "    while True:\n",
        "        ret, img = cap.read()\n",
        "        if ret:\n",
        "            img = cv2.resize(img, (640, 640))\n",
        "            img_list.append(img)\n",
        "            # cv2_imshow(img)\n",
        "            # cv2.waitKey(1)\n",
        "        else:\n",
        "            break\n",
        "\n",
        "cap.release()\n",
        "cv2.destroyAllWindows()\n",
        "\n",
        "print('저장된 frame의 개수: {}'.format(len(img_list)))"
      ],
      "metadata": {
        "id": "iVGxuyGy7rwA",
        "colab": {
          "base_uri": "https://localhost:8080/"
        },
        "outputId": "b862f5a7-b8dd-45f2-f268-4baeb3001de4"
      },
      "execution_count": 32,
      "outputs": [
        {
          "output_type": "stream",
          "name": "stdout",
          "text": [
            "저장된 frame의 개수: 180\n"
          ]
        }
      ]
    },
    {
      "cell_type": "code",
      "source": [
        "def process_detections(res, img, xy_list_list):\n",
        "    img_height, img_width = img.shape[:2]\n",
        "    for box in res.boxes:\n",
        "        # 경계 상자 좌표 추출 및 검증\n",
        "        xyxy = box.xyxy.cpu().numpy()[0]  # 첫 번째 객체에 대한 좌표 추출\n",
        "        confidence = box.conf.cpu().numpy()[0]  # 첫 번째 객체에 대한 신뢰도 추출\n",
        "        xx1, yy1, xx2, yy2 = xyxy[:4]\n",
        "\n",
        "        if confidence > y_CONFIDENCE:\n",
        "            # 경계 상자 좌표 조정 및 Mediapipe 처리\n",
        "            xx1 = max(0, int(xx1) - 10)\n",
        "            yy1 = max(0, int(yy1) - 10)\n",
        "            xx2 = min(img_width - 1, int(xx2) + 10)\n",
        "            yy2 = min(img_height - 1, int(yy2) + 10)\n",
        "\n",
        "            c_img = img[yy1:yy2, xx1:xx2]\n",
        "            results = pose.process(cv2.cvtColor(c_img, cv2.COLOR_BGR2RGB))\n",
        "            if not results.pose_landmarks: continue\n",
        "\n",
        "            xy_list = [x_and_y.x for idx, x_and_y in enumerate(results.pose_landmarks.landmark) if idx in attention_dot] + \\\n",
        "                      [x_and_y.y for idx, x_and_y in enumerate(results.pose_landmarks.landmark) if idx in attention_dot]\n",
        "            xy_list_list.append(xy_list)\n",
        "\n",
        "\n",
        "# 신경망 모델 평가 모드 설정\n",
        "net.eval()\n",
        "length = 30  # frame 상태를 표시할 길이\n",
        "out_img_list = []\n",
        "status = 'None'\n",
        "print('시퀀스 데이터 분석 중...')\n",
        "\n",
        "# 이미지 리스트 처리\n",
        "xy_list_list = []\n",
        "for img in tqdm(img_list):\n",
        "    res = yolo_model(img)\n",
        "\n",
        "    # YOLO 모델 출력 처리\n",
        "    if isinstance(res, list):\n",
        "        # 여러 결과가 리스트로 반환될 경우, 각각 처리\n",
        "        for r in res:\n",
        "            process_detections(r, img, xy_list_list)\n",
        "    else:\n",
        "        # 단일 결과 처리\n",
        "        process_detections(res, img, xy_list_list)\n",
        "\n",
        "    # 지정된 길이의 데이터가 쌓이면 모델에 입력\n",
        "    if len(xy_list_list) == length:\n",
        "        data_tensor = torch.tensor([xy_list_list], dtype=torch.float32).to(device)\n",
        "        with torch.no_grad():\n",
        "            result = net(data_tensor)\n",
        "            _, out = torch.max(result, 1)\n",
        "            status = 'Normal' if out.item() == 0 else 'Abnormal'\n",
        "        xy_list_list = []  # 리스트 초기화\n",
        "\n",
        "    if status == 'Normal':\n",
        "        text_color = (0, 255, 0)  # 녹색\n",
        "        cv2.putText(img, status, (0, 50), cv2.FONT_HERSHEY_COMPLEX, 1.5, text_color, 2)\n",
        "    elif status == 'Abnormal':\n",
        "        text_color = (0, 0, 255)  # 빨간색\n",
        "        cv2.putText(img, status, (0, 50), cv2.FONT_HERSHEY_COMPLEX, 1.5, text_color, 2)\n",
        "\n",
        "        # 추가적인 경고 메시지 표시\n",
        "        cv2.putText(img, 'WARNING: Abnormal Activity Detected!', (50, img.shape[0] // 2), cv2.FONT_HERSHEY_COMPLEX, 1, text_color, 2)\n",
        "\n",
        "        # 화면 깜빡임 효과 추가 (예: 이미지의 경계에 빨간색 사각형 그리기)\n",
        "        cv2.rectangle(img, (0, 0), (img.shape[1], img.shape[0]), text_color, 10)\n",
        "\n",
        "    out_img_list.append(img)\n",
        "\n",
        "    # 결과 이미지에 상태 표시\n",
        "    cv2.putText(img, status, (0, 50), cv2.FONT_HERSHEY_COMPLEX, 1.5, (0, 0, 255), 2)\n",
        "    out_img_list.append(img)"
      ],
      "metadata": {
        "colab": {
          "base_uri": "https://localhost:8080/"
        },
        "id": "xcqaFddcCa6Y",
        "outputId": "0f59c8b6-0b6b-4704-85e3-a9dfefb2c2a4"
      },
      "execution_count": 37,
      "outputs": [
        {
          "output_type": "stream",
          "name": "stdout",
          "text": [
            "시퀀스 데이터 분석 중...\n"
          ]
        },
        {
          "output_type": "stream",
          "name": "stderr",
          "text": [
            "\r  0%|          | 0/180 [00:00<?, ?it/s]"
          ]
        },
        {
          "output_type": "stream",
          "name": "stdout",
          "text": [
            "\n",
            "0: 640x640 1 suitcase, 4 chairs, 1 potted plant, 1 tv, 911.5ms\n",
            "Speed: 4.7ms preprocess, 911.5ms inference, 1.7ms postprocess per image at shape (1, 3, 640, 640)\n"
          ]
        },
        {
          "output_type": "stream",
          "name": "stderr",
          "text": [
            "\r  1%|          | 1/180 [00:01<04:16,  1.43s/it]"
          ]
        },
        {
          "output_type": "stream",
          "name": "stdout",
          "text": [
            "\n",
            "0: 640x640 1 suitcase, 5 chairs, 1 potted plant, 1 tv, 906.2ms\n",
            "Speed: 4.4ms preprocess, 906.2ms inference, 1.8ms postprocess per image at shape (1, 3, 640, 640)\n"
          ]
        },
        {
          "output_type": "stream",
          "name": "stderr",
          "text": [
            "\r  1%|          | 2/180 [00:02<03:59,  1.34s/it]"
          ]
        },
        {
          "output_type": "stream",
          "name": "stdout",
          "text": [
            "\n",
            "0: 640x640 5 chairs, 1 potted plant, 1 tv, 867.5ms\n",
            "Speed: 4.3ms preprocess, 867.5ms inference, 1.8ms postprocess per image at shape (1, 3, 640, 640)\n"
          ]
        },
        {
          "output_type": "stream",
          "name": "stderr",
          "text": [
            "\r  2%|▏         | 3/180 [00:03<03:43,  1.26s/it]"
          ]
        },
        {
          "output_type": "stream",
          "name": "stdout",
          "text": [
            "\n",
            "0: 640x640 1 suitcase, 4 chairs, 1 potted plant, 2 tvs, 552.2ms\n",
            "Speed: 3.9ms preprocess, 552.2ms inference, 1.3ms postprocess per image at shape (1, 3, 640, 640)\n"
          ]
        },
        {
          "output_type": "stream",
          "name": "stderr",
          "text": [
            "\r  2%|▏         | 4/180 [00:04<03:07,  1.07s/it]"
          ]
        },
        {
          "output_type": "stream",
          "name": "stdout",
          "text": [
            "\n",
            "0: 640x640 1 suitcase, 5 chairs, 1 potted plant, 2 tvs, 565.0ms\n",
            "Speed: 3.5ms preprocess, 565.0ms inference, 1.2ms postprocess per image at shape (1, 3, 640, 640)\n"
          ]
        },
        {
          "output_type": "stream",
          "name": "stderr",
          "text": [
            "\r  3%|▎         | 5/180 [00:05<03:02,  1.04s/it]"
          ]
        },
        {
          "output_type": "stream",
          "name": "stdout",
          "text": [
            "\n",
            "0: 640x640 1 suitcase, 5 chairs, 1 potted plant, 1 tv, 559.2ms\n",
            "Speed: 3.5ms preprocess, 559.2ms inference, 1.3ms postprocess per image at shape (1, 3, 640, 640)\n"
          ]
        },
        {
          "output_type": "stream",
          "name": "stderr",
          "text": [
            "\r  3%|▎         | 6/180 [00:06<02:58,  1.02s/it]"
          ]
        },
        {
          "output_type": "stream",
          "name": "stdout",
          "text": [
            "\n",
            "0: 640x640 5 chairs, 2 tvs, 561.6ms\n",
            "Speed: 5.4ms preprocess, 561.6ms inference, 1.4ms postprocess per image at shape (1, 3, 640, 640)\n"
          ]
        },
        {
          "output_type": "stream",
          "name": "stderr",
          "text": [
            "\r  4%|▍         | 7/180 [00:07<02:47,  1.03it/s]"
          ]
        },
        {
          "output_type": "stream",
          "name": "stdout",
          "text": [
            "\n",
            "0: 640x640 5 chairs, 1 potted plant, 2 tvs, 542.6ms\n",
            "Speed: 4.2ms preprocess, 542.6ms inference, 1.2ms postprocess per image at shape (1, 3, 640, 640)\n"
          ]
        },
        {
          "output_type": "stream",
          "name": "stderr",
          "text": [
            "\r  4%|▍         | 8/180 [00:08<02:44,  1.05it/s]"
          ]
        },
        {
          "output_type": "stream",
          "name": "stdout",
          "text": [
            "\n",
            "0: 640x640 1 suitcase, 4 chairs, 1 potted plant, 2 tvs, 550.4ms\n",
            "Speed: 4.6ms preprocess, 550.4ms inference, 1.3ms postprocess per image at shape (1, 3, 640, 640)\n"
          ]
        },
        {
          "output_type": "stream",
          "name": "stderr",
          "text": [
            "\r  5%|▌         | 9/180 [00:09<02:37,  1.09it/s]"
          ]
        },
        {
          "output_type": "stream",
          "name": "stdout",
          "text": [
            "\n",
            "0: 640x640 1 suitcase, 5 chairs, 1 potted plant, 1 tv, 547.0ms\n",
            "Speed: 3.5ms preprocess, 547.0ms inference, 1.3ms postprocess per image at shape (1, 3, 640, 640)\n"
          ]
        },
        {
          "output_type": "stream",
          "name": "stderr",
          "text": [
            "\r  6%|▌         | 10/180 [00:10<02:28,  1.15it/s]"
          ]
        },
        {
          "output_type": "stream",
          "name": "stdout",
          "text": [
            "\n",
            "0: 640x640 5 chairs, 1 potted plant, 2 tvs, 558.9ms\n",
            "Speed: 3.1ms preprocess, 558.9ms inference, 1.4ms postprocess per image at shape (1, 3, 640, 640)\n"
          ]
        },
        {
          "output_type": "stream",
          "name": "stderr",
          "text": [
            "\r  6%|▌         | 11/180 [00:10<02:25,  1.16it/s]"
          ]
        },
        {
          "output_type": "stream",
          "name": "stdout",
          "text": [
            "\n",
            "0: 640x640 1 suitcase, 5 chairs, 1 potted plant, 1 tv, 564.6ms\n",
            "Speed: 3.4ms preprocess, 564.6ms inference, 2.3ms postprocess per image at shape (1, 3, 640, 640)\n"
          ]
        },
        {
          "output_type": "stream",
          "name": "stderr",
          "text": [
            "\r  7%|▋         | 12/180 [00:11<02:22,  1.18it/s]"
          ]
        },
        {
          "output_type": "stream",
          "name": "stdout",
          "text": [
            "\n",
            "0: 640x640 3 chairs, 1 potted plant, 2 tvs, 541.8ms\n",
            "Speed: 3.5ms preprocess, 541.8ms inference, 1.3ms postprocess per image at shape (1, 3, 640, 640)\n"
          ]
        },
        {
          "output_type": "stream",
          "name": "stderr",
          "text": [
            "\r  7%|▋         | 13/180 [00:12<02:17,  1.22it/s]"
          ]
        },
        {
          "output_type": "stream",
          "name": "stdout",
          "text": [
            "\n",
            "0: 640x640 3 chairs, 2 tvs, 554.0ms\n",
            "Speed: 4.1ms preprocess, 554.0ms inference, 1.2ms postprocess per image at shape (1, 3, 640, 640)\n"
          ]
        },
        {
          "output_type": "stream",
          "name": "stderr",
          "text": [
            "\r  8%|▊         | 14/180 [00:13<02:15,  1.22it/s]"
          ]
        },
        {
          "output_type": "stream",
          "name": "stdout",
          "text": [
            "\n",
            "0: 640x640 1 suitcase, 5 chairs, 1 potted plant, 2 tvs, 624.5ms\n",
            "Speed: 4.0ms preprocess, 624.5ms inference, 1.5ms postprocess per image at shape (1, 3, 640, 640)\n"
          ]
        },
        {
          "output_type": "stream",
          "name": "stderr",
          "text": [
            "\r  8%|▊         | 15/180 [00:14<02:28,  1.11it/s]"
          ]
        },
        {
          "output_type": "stream",
          "name": "stdout",
          "text": [
            "\n",
            "0: 640x640 1 suitcase, 4 chairs, 1 potted plant, 2 tvs, 859.0ms\n",
            "Speed: 4.0ms preprocess, 859.0ms inference, 1.7ms postprocess per image at shape (1, 3, 640, 640)\n"
          ]
        },
        {
          "output_type": "stream",
          "name": "stderr",
          "text": [
            "\r  9%|▉         | 16/180 [00:15<02:50,  1.04s/it]"
          ]
        },
        {
          "output_type": "stream",
          "name": "stdout",
          "text": [
            "\n",
            "0: 640x640 3 chairs, 1 potted plant, 2 tvs, 948.8ms\n",
            "Speed: 4.1ms preprocess, 948.8ms inference, 1.7ms postprocess per image at shape (1, 3, 640, 640)\n"
          ]
        },
        {
          "output_type": "stream",
          "name": "stderr",
          "text": [
            "\r  9%|▉         | 17/180 [00:17<03:06,  1.15s/it]"
          ]
        },
        {
          "output_type": "stream",
          "name": "stdout",
          "text": [
            "\n",
            "0: 640x640 5 chairs, 1 potted plant, 2 tvs, 878.7ms\n",
            "Speed: 5.9ms preprocess, 878.7ms inference, 1.3ms postprocess per image at shape (1, 3, 640, 640)\n"
          ]
        },
        {
          "output_type": "stream",
          "name": "stderr",
          "text": [
            "\r 10%|█         | 18/180 [00:18<03:18,  1.23s/it]"
          ]
        },
        {
          "output_type": "stream",
          "name": "stdout",
          "text": [
            "\n",
            "0: 640x640 6 chairs, 2 tvs, 956.5ms\n",
            "Speed: 4.4ms preprocess, 956.5ms inference, 1.3ms postprocess per image at shape (1, 3, 640, 640)\n"
          ]
        },
        {
          "output_type": "stream",
          "name": "stderr",
          "text": [
            "\r 11%|█         | 19/180 [00:19<03:19,  1.24s/it]"
          ]
        },
        {
          "output_type": "stream",
          "name": "stdout",
          "text": [
            "\n",
            "0: 640x640 4 chairs, 1 potted plant, 1 tv, 548.2ms\n",
            "Speed: 6.2ms preprocess, 548.2ms inference, 1.3ms postprocess per image at shape (1, 3, 640, 640)\n"
          ]
        },
        {
          "output_type": "stream",
          "name": "stderr",
          "text": [
            "\r 11%|█         | 20/180 [00:20<03:03,  1.15s/it]"
          ]
        },
        {
          "output_type": "stream",
          "name": "stdout",
          "text": [
            "\n",
            "0: 640x640 4 chairs, 1 potted plant, 2 tvs, 1174.5ms\n",
            "Speed: 5.2ms preprocess, 1174.5ms inference, 1.3ms postprocess per image at shape (1, 3, 640, 640)\n"
          ]
        },
        {
          "output_type": "stream",
          "name": "stderr",
          "text": [
            "\r 12%|█▏        | 21/180 [00:22<03:18,  1.25s/it]"
          ]
        },
        {
          "output_type": "stream",
          "name": "stdout",
          "text": [
            "\n",
            "0: 640x640 1 person, 4 chairs, 1 potted plant, 1 tv, 1537.0ms\n",
            "Speed: 4.4ms preprocess, 1537.0ms inference, 2.0ms postprocess per image at shape (1, 3, 640, 640)\n"
          ]
        },
        {
          "output_type": "stream",
          "name": "stderr",
          "text": [
            "\r 12%|█▏        | 22/180 [00:24<03:52,  1.47s/it]"
          ]
        },
        {
          "output_type": "stream",
          "name": "stdout",
          "text": [
            "\n",
            "0: 640x640 1 person, 4 chairs, 1 potted plant, 1 tv, 682.4ms\n",
            "Speed: 5.3ms preprocess, 682.4ms inference, 2.0ms postprocess per image at shape (1, 3, 640, 640)\n"
          ]
        },
        {
          "output_type": "stream",
          "name": "stderr",
          "text": [
            "\r 13%|█▎        | 23/180 [00:25<03:42,  1.41s/it]"
          ]
        },
        {
          "output_type": "stream",
          "name": "stdout",
          "text": [
            "\n",
            "0: 640x640 1 person, 1 suitcase, 5 chairs, 1 potted plant, 2 tvs, 820.9ms\n",
            "Speed: 8.7ms preprocess, 820.9ms inference, 1.9ms postprocess per image at shape (1, 3, 640, 640)\n"
          ]
        },
        {
          "output_type": "stream",
          "name": "stderr",
          "text": [
            "\r 13%|█▎        | 24/180 [00:26<03:44,  1.44s/it]"
          ]
        },
        {
          "output_type": "stream",
          "name": "stdout",
          "text": [
            "\n",
            "0: 640x640 1 person, 5 chairs, 1 potted plant, 2 tvs, 828.3ms\n",
            "Speed: 4.3ms preprocess, 828.3ms inference, 1.2ms postprocess per image at shape (1, 3, 640, 640)\n"
          ]
        },
        {
          "output_type": "stream",
          "name": "stderr",
          "text": [
            "\r 14%|█▍        | 25/180 [00:28<03:37,  1.40s/it]"
          ]
        },
        {
          "output_type": "stream",
          "name": "stdout",
          "text": [
            "\n",
            "0: 640x640 1 person, 1 umbrella, 4 chairs, 1 potted plant, 2 tvs, 741.3ms\n",
            "Speed: 4.5ms preprocess, 741.3ms inference, 1.2ms postprocess per image at shape (1, 3, 640, 640)\n"
          ]
        },
        {
          "output_type": "stream",
          "name": "stderr",
          "text": [
            "\r 14%|█▍        | 26/180 [00:29<03:25,  1.33s/it]"
          ]
        },
        {
          "output_type": "stream",
          "name": "stdout",
          "text": [
            "\n",
            "0: 640x640 1 person, 1 umbrella, 1 suitcase, 5 chairs, 1 potted plant, 2 tvs, 967.3ms\n",
            "Speed: 4.0ms preprocess, 967.3ms inference, 10.9ms postprocess per image at shape (1, 3, 640, 640)\n"
          ]
        },
        {
          "output_type": "stream",
          "name": "stderr",
          "text": [
            "\r 15%|█▌        | 27/180 [00:31<04:07,  1.62s/it]"
          ]
        },
        {
          "output_type": "stream",
          "name": "stdout",
          "text": [
            "\n",
            "0: 640x640 1 person, 1 suitcase, 5 chairs, 1 potted plant, 2 tvs, 2113.0ms\n",
            "Speed: 3.3ms preprocess, 2113.0ms inference, 1.7ms postprocess per image at shape (1, 3, 640, 640)\n"
          ]
        },
        {
          "output_type": "stream",
          "name": "stderr",
          "text": [
            "\r 16%|█▌        | 28/180 [00:34<05:15,  2.08s/it]"
          ]
        },
        {
          "output_type": "stream",
          "name": "stdout",
          "text": [
            "\n",
            "0: 640x640 1 person, 2 suitcases, 4 chairs, 1 potted plant, 2 tvs, 690.5ms\n",
            "Speed: 2.9ms preprocess, 690.5ms inference, 1.3ms postprocess per image at shape (1, 3, 640, 640)\n"
          ]
        },
        {
          "output_type": "stream",
          "name": "stderr",
          "text": [
            "\r 16%|█▌        | 29/180 [00:36<04:32,  1.80s/it]"
          ]
        },
        {
          "output_type": "stream",
          "name": "stdout",
          "text": [
            "\n",
            "0: 640x640 1 person, 1 suitcase, 4 chairs, 1 potted plant, 2 tvs, 552.1ms\n",
            "Speed: 2.8ms preprocess, 552.1ms inference, 1.2ms postprocess per image at shape (1, 3, 640, 640)\n"
          ]
        },
        {
          "output_type": "stream",
          "name": "stderr",
          "text": [
            "\r 17%|█▋        | 30/180 [00:37<03:57,  1.58s/it]"
          ]
        },
        {
          "output_type": "stream",
          "name": "stdout",
          "text": [
            "\n",
            "0: 640x640 1 person, 1 suitcase, 5 chairs, 1 potted plant, 1 tv, 559.9ms\n",
            "Speed: 4.5ms preprocess, 559.9ms inference, 1.3ms postprocess per image at shape (1, 3, 640, 640)\n"
          ]
        },
        {
          "output_type": "stream",
          "name": "stderr",
          "text": [
            "\r 17%|█▋        | 31/180 [00:38<03:25,  1.38s/it]"
          ]
        },
        {
          "output_type": "stream",
          "name": "stdout",
          "text": [
            "\n",
            "0: 640x640 1 person, 1 suitcase, 4 chairs, 1 potted plant, 2 tvs, 552.0ms\n",
            "Speed: 3.9ms preprocess, 552.0ms inference, 1.3ms postprocess per image at shape (1, 3, 640, 640)\n"
          ]
        },
        {
          "output_type": "stream",
          "name": "stderr",
          "text": [
            "\r 18%|█▊        | 32/180 [00:38<03:01,  1.23s/it]"
          ]
        },
        {
          "output_type": "stream",
          "name": "stdout",
          "text": [
            "\n",
            "0: 640x640 1 person, 1 suitcase, 1 bowl, 4 chairs, 1 potted plant, 2 tvs, 557.6ms\n",
            "Speed: 4.8ms preprocess, 557.6ms inference, 1.3ms postprocess per image at shape (1, 3, 640, 640)\n"
          ]
        },
        {
          "output_type": "stream",
          "name": "stderr",
          "text": [
            "\r 18%|█▊        | 33/180 [00:39<02:51,  1.16s/it]"
          ]
        },
        {
          "output_type": "stream",
          "name": "stdout",
          "text": [
            "\n",
            "0: 640x640 1 person, 1 suitcase, 4 chairs, 1 potted plant, 2 tvs, 556.9ms\n",
            "Speed: 5.0ms preprocess, 556.9ms inference, 1.3ms postprocess per image at shape (1, 3, 640, 640)\n"
          ]
        },
        {
          "output_type": "stream",
          "name": "stderr",
          "text": [
            "\r 19%|█▉        | 34/180 [00:40<02:42,  1.11s/it]"
          ]
        },
        {
          "output_type": "stream",
          "name": "stdout",
          "text": [
            "\n",
            "0: 640x640 4 chairs, 1 potted plant, 2 tvs, 543.2ms\n",
            "Speed: 4.5ms preprocess, 543.2ms inference, 1.9ms postprocess per image at shape (1, 3, 640, 640)\n"
          ]
        },
        {
          "output_type": "stream",
          "name": "stderr",
          "text": [
            "\r 19%|█▉        | 35/180 [00:41<02:27,  1.02s/it]"
          ]
        },
        {
          "output_type": "stream",
          "name": "stdout",
          "text": [
            "\n",
            "0: 640x640 2 chairs, 1 potted plant, 2 tvs, 548.9ms\n",
            "Speed: 3.0ms preprocess, 548.9ms inference, 1.2ms postprocess per image at shape (1, 3, 640, 640)\n"
          ]
        },
        {
          "output_type": "stream",
          "name": "stderr",
          "text": [
            "\r 20%|██        | 36/180 [00:42<02:13,  1.08it/s]"
          ]
        },
        {
          "output_type": "stream",
          "name": "stdout",
          "text": [
            "\n",
            "0: 640x640 3 chairs, 1 potted plant, 1 tv, 623.8ms\n",
            "Speed: 2.5ms preprocess, 623.8ms inference, 1.2ms postprocess per image at shape (1, 3, 640, 640)\n"
          ]
        },
        {
          "output_type": "stream",
          "name": "stderr",
          "text": [
            "\r 21%|██        | 37/180 [00:43<02:13,  1.07it/s]"
          ]
        },
        {
          "output_type": "stream",
          "name": "stdout",
          "text": [
            "\n",
            "0: 640x640 1 person, 4 chairs, 1 potted plant, 2 tvs, 578.2ms\n",
            "Speed: 3.7ms preprocess, 578.2ms inference, 1.2ms postprocess per image at shape (1, 3, 640, 640)\n"
          ]
        },
        {
          "output_type": "stream",
          "name": "stderr",
          "text": [
            "\r 21%|██        | 38/180 [00:44<02:14,  1.06it/s]"
          ]
        },
        {
          "output_type": "stream",
          "name": "stdout",
          "text": [
            "\n",
            "0: 640x640 1 person, 1 frisbee, 5 chairs, 1 potted plant, 2 tvs, 551.3ms\n",
            "Speed: 3.3ms preprocess, 551.3ms inference, 1.4ms postprocess per image at shape (1, 3, 640, 640)\n"
          ]
        },
        {
          "output_type": "stream",
          "name": "stderr",
          "text": [
            "\r 22%|██▏       | 39/180 [00:45<02:10,  1.08it/s]"
          ]
        },
        {
          "output_type": "stream",
          "name": "stdout",
          "text": [
            "\n",
            "0: 640x640 1 person, 1 suitcase, 4 chairs, 1 potted plant, 2 tvs, 815.1ms\n",
            "Speed: 3.6ms preprocess, 815.1ms inference, 1.6ms postprocess per image at shape (1, 3, 640, 640)\n"
          ]
        },
        {
          "output_type": "stream",
          "name": "stderr",
          "text": [
            "\r 22%|██▏       | 40/180 [00:46<02:24,  1.03s/it]"
          ]
        },
        {
          "output_type": "stream",
          "name": "stdout",
          "text": [
            "\n",
            "0: 640x640 1 person, 1 suitcase, 4 chairs, 1 potted plant, 2 tvs, 851.1ms\n",
            "Speed: 2.8ms preprocess, 851.1ms inference, 1.6ms postprocess per image at shape (1, 3, 640, 640)\n"
          ]
        },
        {
          "output_type": "stream",
          "name": "stderr",
          "text": [
            "\r 23%|██▎       | 41/180 [00:47<02:36,  1.12s/it]"
          ]
        },
        {
          "output_type": "stream",
          "name": "stdout",
          "text": [
            "\n",
            "0: 640x640 1 person, 1 handbag, 5 chairs, 1 potted plant, 1 tv, 837.9ms\n",
            "Speed: 3.1ms preprocess, 837.9ms inference, 1.7ms postprocess per image at shape (1, 3, 640, 640)\n"
          ]
        },
        {
          "output_type": "stream",
          "name": "stderr",
          "text": [
            "\r 23%|██▎       | 42/180 [00:49<02:43,  1.18s/it]"
          ]
        },
        {
          "output_type": "stream",
          "name": "stdout",
          "text": [
            "\n",
            "0: 640x640 1 person, 1 suitcase, 5 chairs, 1 potted plant, 2 tvs, 851.3ms\n",
            "Speed: 3.1ms preprocess, 851.3ms inference, 2.0ms postprocess per image at shape (1, 3, 640, 640)\n"
          ]
        },
        {
          "output_type": "stream",
          "name": "stderr",
          "text": [
            "\r 24%|██▍       | 43/180 [00:50<02:55,  1.28s/it]"
          ]
        },
        {
          "output_type": "stream",
          "name": "stdout",
          "text": [
            "\n",
            "0: 640x640 1 person, 1 suitcase, 6 chairs, 1 potted plant, 2 tvs, 611.8ms\n",
            "Speed: 2.7ms preprocess, 611.8ms inference, 1.3ms postprocess per image at shape (1, 3, 640, 640)\n"
          ]
        },
        {
          "output_type": "stream",
          "name": "stderr",
          "text": [
            "\r 24%|██▍       | 44/180 [00:51<02:48,  1.24s/it]"
          ]
        },
        {
          "output_type": "stream",
          "name": "stdout",
          "text": [
            "\n",
            "0: 640x640 1 person, 1 suitcase, 5 chairs, 1 potted plant, 2 tvs, 557.7ms\n",
            "Speed: 3.5ms preprocess, 557.7ms inference, 1.3ms postprocess per image at shape (1, 3, 640, 640)\n"
          ]
        },
        {
          "output_type": "stream",
          "name": "stderr",
          "text": [
            "\r 25%|██▌       | 45/180 [00:52<02:36,  1.16s/it]"
          ]
        },
        {
          "output_type": "stream",
          "name": "stdout",
          "text": [
            "\n",
            "0: 640x640 1 person, 4 chairs, 1 potted plant, 2 tvs, 578.7ms\n",
            "Speed: 4.3ms preprocess, 578.7ms inference, 1.2ms postprocess per image at shape (1, 3, 640, 640)\n"
          ]
        },
        {
          "output_type": "stream",
          "name": "stderr",
          "text": [
            "\r 26%|██▌       | 46/180 [00:53<02:25,  1.08s/it]"
          ]
        },
        {
          "output_type": "stream",
          "name": "stdout",
          "text": [
            "\n",
            "0: 640x640 1 person, 1 suitcase, 3 chairs, 1 potted plant, 2 tvs, 563.5ms\n",
            "Speed: 3.3ms preprocess, 563.5ms inference, 1.4ms postprocess per image at shape (1, 3, 640, 640)\n"
          ]
        },
        {
          "output_type": "stream",
          "name": "stderr",
          "text": [
            "\r 26%|██▌       | 47/180 [00:54<02:14,  1.01s/it]"
          ]
        },
        {
          "output_type": "stream",
          "name": "stdout",
          "text": [
            "\n",
            "0: 640x640 1 person, 1 suitcase, 5 chairs, 1 potted plant, 2 tvs, 556.0ms\n",
            "Speed: 4.7ms preprocess, 556.0ms inference, 1.4ms postprocess per image at shape (1, 3, 640, 640)\n"
          ]
        },
        {
          "output_type": "stream",
          "name": "stderr",
          "text": [
            "\r 27%|██▋       | 48/180 [00:55<02:10,  1.01it/s]"
          ]
        },
        {
          "output_type": "stream",
          "name": "stdout",
          "text": [
            "\n",
            "0: 640x640 1 person, 1 suitcase, 4 chairs, 1 potted plant, 2 tvs, 577.5ms\n",
            "Speed: 3.6ms preprocess, 577.5ms inference, 1.2ms postprocess per image at shape (1, 3, 640, 640)\n"
          ]
        },
        {
          "output_type": "stream",
          "name": "stderr",
          "text": [
            "\r 27%|██▋       | 49/180 [00:56<02:03,  1.06it/s]"
          ]
        },
        {
          "output_type": "stream",
          "name": "stdout",
          "text": [
            "\n",
            "0: 640x640 1 person, 1 suitcase, 5 chairs, 1 potted plant, 2 tvs, 550.4ms\n",
            "Speed: 6.4ms preprocess, 550.4ms inference, 1.3ms postprocess per image at shape (1, 3, 640, 640)\n"
          ]
        },
        {
          "output_type": "stream",
          "name": "stderr",
          "text": [
            "\r 28%|██▊       | 50/180 [00:57<02:09,  1.00it/s]"
          ]
        },
        {
          "output_type": "stream",
          "name": "stdout",
          "text": [
            "\n",
            "0: 640x640 1 person, 1 suitcase, 4 chairs, 1 potted plant, 2 tvs, 548.4ms\n",
            "Speed: 3.0ms preprocess, 548.4ms inference, 1.3ms postprocess per image at shape (1, 3, 640, 640)\n"
          ]
        },
        {
          "output_type": "stream",
          "name": "stderr",
          "text": [
            "\r 28%|██▊       | 51/180 [00:58<02:05,  1.03it/s]"
          ]
        },
        {
          "output_type": "stream",
          "name": "stdout",
          "text": [
            "\n",
            "0: 640x640 1 person, 1 suitcase, 4 chairs, 1 potted plant, 2 tvs, 551.3ms\n",
            "Speed: 3.8ms preprocess, 551.3ms inference, 1.3ms postprocess per image at shape (1, 3, 640, 640)\n"
          ]
        },
        {
          "output_type": "stream",
          "name": "stderr",
          "text": [
            "\r 29%|██▉       | 52/180 [00:59<02:04,  1.03it/s]"
          ]
        },
        {
          "output_type": "stream",
          "name": "stdout",
          "text": [
            "\n",
            "0: 640x640 1 person, 5 chairs, 1 potted plant, 1 tv, 1 book, 548.8ms\n",
            "Speed: 2.8ms preprocess, 548.8ms inference, 1.3ms postprocess per image at shape (1, 3, 640, 640)\n"
          ]
        },
        {
          "output_type": "stream",
          "name": "stderr",
          "text": [
            "\r 29%|██▉       | 53/180 [01:00<02:06,  1.00it/s]"
          ]
        },
        {
          "output_type": "stream",
          "name": "stdout",
          "text": [
            "\n",
            "0: 640x640 3 chairs, 1 potted plant, 2 tvs, 640.9ms\n",
            "Speed: 4.9ms preprocess, 640.9ms inference, 1.8ms postprocess per image at shape (1, 3, 640, 640)\n"
          ]
        },
        {
          "output_type": "stream",
          "name": "stderr",
          "text": [
            "\r 30%|███       | 54/180 [01:01<02:08,  1.02s/it]"
          ]
        },
        {
          "output_type": "stream",
          "name": "stdout",
          "text": [
            "\n",
            "0: 640x640 1 person, 1 suitcase, 3 chairs, 1 potted plant, 2 tvs, 861.3ms\n",
            "Speed: 4.1ms preprocess, 861.3ms inference, 1.5ms postprocess per image at shape (1, 3, 640, 640)\n"
          ]
        },
        {
          "output_type": "stream",
          "name": "stderr",
          "text": [
            "\r 31%|███       | 55/180 [01:02<02:15,  1.08s/it]"
          ]
        },
        {
          "output_type": "stream",
          "name": "stdout",
          "text": [
            "\n",
            "0: 640x640 1 person, 1 suitcase, 3 chairs, 1 potted plant, 2 tvs, 841.4ms\n",
            "Speed: 3.4ms preprocess, 841.4ms inference, 1.6ms postprocess per image at shape (1, 3, 640, 640)\n"
          ]
        },
        {
          "output_type": "stream",
          "name": "stderr",
          "text": [
            "\r 31%|███       | 56/180 [01:04<02:25,  1.17s/it]"
          ]
        },
        {
          "output_type": "stream",
          "name": "stdout",
          "text": [
            "\n",
            "0: 640x640 1 person, 1 suitcase, 5 chairs, 1 potted plant, 2 tvs, 846.8ms\n",
            "Speed: 3.1ms preprocess, 846.8ms inference, 1.7ms postprocess per image at shape (1, 3, 640, 640)\n"
          ]
        },
        {
          "output_type": "stream",
          "name": "stderr",
          "text": [
            "\r 32%|███▏      | 57/180 [01:05<02:36,  1.27s/it]"
          ]
        },
        {
          "output_type": "stream",
          "name": "stdout",
          "text": [
            "\n",
            "0: 640x640 1 person, 1 suitcase, 5 chairs, 1 potted plant, 1 tv, 812.4ms\n",
            "Speed: 3.6ms preprocess, 812.4ms inference, 1.9ms postprocess per image at shape (1, 3, 640, 640)\n"
          ]
        },
        {
          "output_type": "stream",
          "name": "stderr",
          "text": [
            "\r 32%|███▏      | 58/180 [01:06<02:32,  1.25s/it]"
          ]
        },
        {
          "output_type": "stream",
          "name": "stdout",
          "text": [
            "\n",
            "0: 640x640 1 person, 1 suitcase, 5 chairs, 1 potted plant, 2 tvs, 543.3ms\n",
            "Speed: 4.8ms preprocess, 543.3ms inference, 1.3ms postprocess per image at shape (1, 3, 640, 640)\n"
          ]
        },
        {
          "output_type": "stream",
          "name": "stderr",
          "text": [
            "\r 33%|███▎      | 59/180 [01:07<02:24,  1.19s/it]"
          ]
        },
        {
          "output_type": "stream",
          "name": "stdout",
          "text": [
            "\n",
            "0: 640x640 1 person, 1 handbag, 1 suitcase, 5 chairs, 1 potted plant, 2 tvs, 558.3ms\n",
            "Speed: 3.7ms preprocess, 558.3ms inference, 1.3ms postprocess per image at shape (1, 3, 640, 640)\n"
          ]
        },
        {
          "output_type": "stream",
          "name": "stderr",
          "text": [
            "\r 33%|███▎      | 60/180 [01:08<02:19,  1.16s/it]"
          ]
        },
        {
          "output_type": "stream",
          "name": "stdout",
          "text": [
            "\n",
            "0: 640x640 1 person, 1 suitcase, 6 chairs, 1 potted plant, 2 tvs, 541.6ms\n",
            "Speed: 3.1ms preprocess, 541.6ms inference, 1.3ms postprocess per image at shape (1, 3, 640, 640)\n"
          ]
        },
        {
          "output_type": "stream",
          "name": "stderr",
          "text": [
            "\r 34%|███▍      | 61/180 [01:09<02:10,  1.10s/it]"
          ]
        },
        {
          "output_type": "stream",
          "name": "stdout",
          "text": [
            "\n",
            "0: 640x640 1 person, 1 suitcase, 6 chairs, 1 potted plant, 2 tvs, 540.5ms\n",
            "Speed: 4.1ms preprocess, 540.5ms inference, 1.4ms postprocess per image at shape (1, 3, 640, 640)\n"
          ]
        },
        {
          "output_type": "stream",
          "name": "stderr",
          "text": [
            "\r 34%|███▍      | 62/180 [01:10<02:03,  1.05s/it]"
          ]
        },
        {
          "output_type": "stream",
          "name": "stdout",
          "text": [
            "\n",
            "0: 640x640 1 person, 6 chairs, 1 potted plant, 2 tvs, 544.4ms\n",
            "Speed: 3.3ms preprocess, 544.4ms inference, 1.3ms postprocess per image at shape (1, 3, 640, 640)\n"
          ]
        },
        {
          "output_type": "stream",
          "name": "stderr",
          "text": [
            "\r 35%|███▌      | 63/180 [01:11<02:02,  1.04s/it]"
          ]
        },
        {
          "output_type": "stream",
          "name": "stdout",
          "text": [
            "\n",
            "0: 640x640 1 person, 1 suitcase, 7 chairs, 1 potted plant, 1 tv, 553.8ms\n",
            "Speed: 2.8ms preprocess, 553.8ms inference, 1.2ms postprocess per image at shape (1, 3, 640, 640)\n"
          ]
        },
        {
          "output_type": "stream",
          "name": "stderr",
          "text": [
            "\r 36%|███▌      | 64/180 [01:12<02:01,  1.04s/it]"
          ]
        },
        {
          "output_type": "stream",
          "name": "stdout",
          "text": [
            "\n",
            "0: 640x640 1 person, 1 suitcase, 5 chairs, 1 potted plant, 2 tvs, 551.1ms\n",
            "Speed: 2.9ms preprocess, 551.1ms inference, 1.3ms postprocess per image at shape (1, 3, 640, 640)\n"
          ]
        },
        {
          "output_type": "stream",
          "name": "stderr",
          "text": [
            "\r 36%|███▌      | 65/180 [01:13<01:54,  1.01it/s]"
          ]
        },
        {
          "output_type": "stream",
          "name": "stdout",
          "text": [
            "\n",
            "0: 640x640 1 person, 1 handbag, 1 suitcase, 6 chairs, 1 potted plant, 2 tvs, 578.0ms\n",
            "Speed: 4.1ms preprocess, 578.0ms inference, 1.3ms postprocess per image at shape (1, 3, 640, 640)\n"
          ]
        },
        {
          "output_type": "stream",
          "name": "stderr",
          "text": [
            "\r 37%|███▋      | 66/180 [01:14<02:00,  1.06s/it]"
          ]
        },
        {
          "output_type": "stream",
          "name": "stdout",
          "text": [
            "\n",
            "0: 640x640 1 person, 1 handbag, 1 suitcase, 5 chairs, 1 potted plant, 2 tvs, 547.9ms\n",
            "Speed: 3.0ms preprocess, 547.9ms inference, 1.4ms postprocess per image at shape (1, 3, 640, 640)\n"
          ]
        },
        {
          "output_type": "stream",
          "name": "stderr",
          "text": [
            "\r 37%|███▋      | 67/180 [01:15<01:58,  1.05s/it]"
          ]
        },
        {
          "output_type": "stream",
          "name": "stdout",
          "text": [
            "\n",
            "0: 640x640 1 person, 1 suitcase, 4 chairs, 1 potted plant, 2 tvs, 776.3ms\n",
            "Speed: 5.8ms preprocess, 776.3ms inference, 1.8ms postprocess per image at shape (1, 3, 640, 640)\n"
          ]
        },
        {
          "output_type": "stream",
          "name": "stderr",
          "text": [
            "\r 38%|███▊      | 68/180 [01:17<02:13,  1.20s/it]"
          ]
        },
        {
          "output_type": "stream",
          "name": "stdout",
          "text": [
            "\n",
            "0: 640x640 1 person, 1 suitcase, 5 chairs, 1 potted plant, 2 tvs, 845.0ms\n",
            "Speed: 2.9ms preprocess, 845.0ms inference, 1.6ms postprocess per image at shape (1, 3, 640, 640)\n"
          ]
        },
        {
          "output_type": "stream",
          "name": "stderr",
          "text": [
            "\r 38%|███▊      | 69/180 [01:18<02:21,  1.28s/it]"
          ]
        },
        {
          "output_type": "stream",
          "name": "stdout",
          "text": [
            "\n",
            "0: 640x640 1 person, 1 handbag, 1 suitcase, 3 chairs, 1 tv, 841.0ms\n",
            "Speed: 4.1ms preprocess, 841.0ms inference, 1.6ms postprocess per image at shape (1, 3, 640, 640)\n"
          ]
        },
        {
          "output_type": "stream",
          "name": "stderr",
          "text": [
            "\r 39%|███▉      | 70/180 [01:20<02:20,  1.28s/it]"
          ]
        },
        {
          "output_type": "stream",
          "name": "stdout",
          "text": [
            "\n",
            "0: 640x640 1 person, 1 suitcase, 6 chairs, 1 tv, 856.7ms\n",
            "Speed: 2.9ms preprocess, 856.7ms inference, 1.5ms postprocess per image at shape (1, 3, 640, 640)\n"
          ]
        },
        {
          "output_type": "stream",
          "name": "stderr",
          "text": [
            "\r 39%|███▉      | 71/180 [01:21<02:25,  1.33s/it]"
          ]
        },
        {
          "output_type": "stream",
          "name": "stdout",
          "text": [
            "\n",
            "0: 640x640 1 person, 1 suitcase, 6 chairs, 1 tv, 605.1ms\n",
            "Speed: 2.9ms preprocess, 605.1ms inference, 1.3ms postprocess per image at shape (1, 3, 640, 640)\n"
          ]
        },
        {
          "output_type": "stream",
          "name": "stderr",
          "text": [
            "\r 40%|████      | 72/180 [01:22<02:12,  1.23s/it]"
          ]
        },
        {
          "output_type": "stream",
          "name": "stdout",
          "text": [
            "\n",
            "0: 640x640 1 person, 1 suitcase, 4 chairs, 1 tv, 565.0ms\n",
            "Speed: 2.8ms preprocess, 565.0ms inference, 1.3ms postprocess per image at shape (1, 3, 640, 640)\n"
          ]
        },
        {
          "output_type": "stream",
          "name": "stderr",
          "text": [
            "\r 41%|████      | 73/180 [01:23<02:03,  1.16s/it]"
          ]
        },
        {
          "output_type": "stream",
          "name": "stdout",
          "text": [
            "\n",
            "0: 640x640 1 person, 1 suitcase, 5 chairs, 1 tv, 576.6ms\n",
            "Speed: 4.5ms preprocess, 576.6ms inference, 1.2ms postprocess per image at shape (1, 3, 640, 640)\n"
          ]
        },
        {
          "output_type": "stream",
          "name": "stderr",
          "text": [
            "\r 41%|████      | 74/180 [01:24<01:57,  1.11s/it]"
          ]
        },
        {
          "output_type": "stream",
          "name": "stdout",
          "text": [
            "\n",
            "0: 640x640 1 person, 1 suitcase, 6 chairs, 1 tv, 561.7ms\n",
            "Speed: 3.3ms preprocess, 561.7ms inference, 1.5ms postprocess per image at shape (1, 3, 640, 640)\n"
          ]
        },
        {
          "output_type": "stream",
          "name": "stderr",
          "text": [
            "\r 42%|████▏     | 75/180 [01:25<01:51,  1.06s/it]"
          ]
        },
        {
          "output_type": "stream",
          "name": "stdout",
          "text": [
            "\n",
            "0: 640x640 1 person, 5 chairs, 1 tv, 570.7ms\n",
            "Speed: 4.3ms preprocess, 570.7ms inference, 1.4ms postprocess per image at shape (1, 3, 640, 640)\n"
          ]
        },
        {
          "output_type": "stream",
          "name": "stderr",
          "text": [
            "\r 42%|████▏     | 76/180 [01:26<01:41,  1.03it/s]"
          ]
        },
        {
          "output_type": "stream",
          "name": "stdout",
          "text": [
            "\n",
            "0: 640x640 1 person, 4 chairs, 2 tvs, 547.7ms\n",
            "Speed: 4.1ms preprocess, 547.7ms inference, 1.2ms postprocess per image at shape (1, 3, 640, 640)\n"
          ]
        },
        {
          "output_type": "stream",
          "name": "stderr",
          "text": [
            "\r 43%|████▎     | 77/180 [01:27<01:37,  1.06it/s]"
          ]
        },
        {
          "output_type": "stream",
          "name": "stdout",
          "text": [
            "\n",
            "0: 640x640 1 person, 6 chairs, 1 tv, 554.5ms\n",
            "Speed: 3.6ms preprocess, 554.5ms inference, 1.3ms postprocess per image at shape (1, 3, 640, 640)\n"
          ]
        },
        {
          "output_type": "stream",
          "name": "stderr",
          "text": [
            "\r 43%|████▎     | 78/180 [01:28<01:37,  1.05it/s]"
          ]
        },
        {
          "output_type": "stream",
          "name": "stdout",
          "text": [
            "\n",
            "0: 640x640 1 person, 5 chairs, 1 tv, 548.0ms\n",
            "Speed: 4.1ms preprocess, 548.0ms inference, 1.2ms postprocess per image at shape (1, 3, 640, 640)\n"
          ]
        },
        {
          "output_type": "stream",
          "name": "stderr",
          "text": [
            "\r 44%|████▍     | 79/180 [01:29<01:35,  1.06it/s]"
          ]
        },
        {
          "output_type": "stream",
          "name": "stdout",
          "text": [
            "\n",
            "0: 640x640 1 person, 1 suitcase, 4 chairs, 1 tv, 540.4ms\n",
            "Speed: 3.1ms preprocess, 540.4ms inference, 1.6ms postprocess per image at shape (1, 3, 640, 640)\n"
          ]
        },
        {
          "output_type": "stream",
          "name": "stderr",
          "text": [
            "\r 44%|████▍     | 80/180 [01:30<01:31,  1.09it/s]"
          ]
        },
        {
          "output_type": "stream",
          "name": "stdout",
          "text": [
            "\n",
            "0: 640x640 1 person, 1 suitcase, 5 chairs, 1 tv, 556.4ms\n",
            "Speed: 4.4ms preprocess, 556.4ms inference, 1.2ms postprocess per image at shape (1, 3, 640, 640)\n"
          ]
        },
        {
          "output_type": "stream",
          "name": "stderr",
          "text": [
            "\r 45%|████▌     | 81/180 [01:30<01:30,  1.10it/s]"
          ]
        },
        {
          "output_type": "stream",
          "name": "stdout",
          "text": [
            "\n",
            "0: 640x640 1 person, 1 handbag, 1 suitcase, 4 chairs, 1 tv, 556.8ms\n",
            "Speed: 3.3ms preprocess, 556.8ms inference, 1.3ms postprocess per image at shape (1, 3, 640, 640)\n"
          ]
        },
        {
          "output_type": "stream",
          "name": "stderr",
          "text": [
            "\r 46%|████▌     | 82/180 [01:31<01:27,  1.12it/s]"
          ]
        },
        {
          "output_type": "stream",
          "name": "stdout",
          "text": [
            "\n",
            "0: 640x640 1 person, 1 suitcase, 6 chairs, 1 tv, 835.2ms\n",
            "Speed: 4.0ms preprocess, 835.2ms inference, 1.6ms postprocess per image at shape (1, 3, 640, 640)\n"
          ]
        },
        {
          "output_type": "stream",
          "name": "stderr",
          "text": [
            "\r 46%|████▌     | 83/180 [01:33<01:41,  1.04s/it]"
          ]
        },
        {
          "output_type": "stream",
          "name": "stdout",
          "text": [
            "\n",
            "0: 640x640 1 person, 1 suitcase, 5 chairs, 1 tv, 863.9ms\n",
            "Speed: 10.1ms preprocess, 863.9ms inference, 1.7ms postprocess per image at shape (1, 3, 640, 640)\n"
          ]
        },
        {
          "output_type": "stream",
          "name": "stderr",
          "text": [
            "\r 47%|████▋     | 84/180 [01:34<01:50,  1.15s/it]"
          ]
        },
        {
          "output_type": "stream",
          "name": "stdout",
          "text": [
            "\n",
            "0: 640x640 1 person, 1 suitcase, 6 chairs, 1 tv, 834.5ms\n",
            "Speed: 3.1ms preprocess, 834.5ms inference, 1.8ms postprocess per image at shape (1, 3, 640, 640)\n"
          ]
        },
        {
          "output_type": "stream",
          "name": "stderr",
          "text": [
            "\r 47%|████▋     | 85/180 [01:35<01:55,  1.22s/it]"
          ]
        },
        {
          "output_type": "stream",
          "name": "stdout",
          "text": [
            "\n",
            "0: 640x640 1 person, 1 suitcase, 5 chairs, 1 tv, 843.2ms\n",
            "Speed: 4.1ms preprocess, 843.2ms inference, 1.9ms postprocess per image at shape (1, 3, 640, 640)\n"
          ]
        },
        {
          "output_type": "stream",
          "name": "stderr",
          "text": [
            "\r 48%|████▊     | 86/180 [01:37<01:58,  1.26s/it]"
          ]
        },
        {
          "output_type": "stream",
          "name": "stdout",
          "text": [
            "\n",
            "0: 640x640 1 person, 1 handbag, 1 suitcase, 5 chairs, 1 tv, 564.1ms\n",
            "Speed: 4.3ms preprocess, 564.1ms inference, 1.3ms postprocess per image at shape (1, 3, 640, 640)\n"
          ]
        },
        {
          "output_type": "stream",
          "name": "stderr",
          "text": [
            "\r 48%|████▊     | 87/180 [01:38<01:47,  1.15s/it]"
          ]
        },
        {
          "output_type": "stream",
          "name": "stdout",
          "text": [
            "\n",
            "0: 640x640 1 person, 1 handbag, 1 suitcase, 5 chairs, 1 tv, 567.4ms\n",
            "Speed: 2.7ms preprocess, 567.4ms inference, 1.3ms postprocess per image at shape (1, 3, 640, 640)\n"
          ]
        },
        {
          "output_type": "stream",
          "name": "stderr",
          "text": [
            "\r 49%|████▉     | 88/180 [01:39<01:40,  1.09s/it]"
          ]
        },
        {
          "output_type": "stream",
          "name": "stdout",
          "text": [
            "\n",
            "0: 640x640 1 person, 1 handbag, 6 chairs, 2 tvs, 558.5ms\n",
            "Speed: 4.4ms preprocess, 558.5ms inference, 1.3ms postprocess per image at shape (1, 3, 640, 640)\n"
          ]
        },
        {
          "output_type": "stream",
          "name": "stderr",
          "text": [
            "\r 49%|████▉     | 89/180 [01:40<01:38,  1.08s/it]"
          ]
        },
        {
          "output_type": "stream",
          "name": "stdout",
          "text": [
            "\n",
            "0: 640x640 1 person, 1 handbag, 4 chairs, 1 potted plant, 1 tv, 562.9ms\n",
            "Speed: 2.6ms preprocess, 562.9ms inference, 2.7ms postprocess per image at shape (1, 3, 640, 640)\n"
          ]
        },
        {
          "output_type": "stream",
          "name": "stderr",
          "text": [
            "\r 50%|█████     | 90/180 [01:41<01:32,  1.03s/it]"
          ]
        },
        {
          "output_type": "stream",
          "name": "stdout",
          "text": [
            "\n",
            "0: 640x640 1 person, 1 handbag, 4 chairs, 2 tvs, 555.5ms\n",
            "Speed: 3.1ms preprocess, 555.5ms inference, 1.3ms postprocess per image at shape (1, 3, 640, 640)\n"
          ]
        },
        {
          "output_type": "stream",
          "name": "stderr",
          "text": [
            "\r 51%|█████     | 91/180 [01:42<01:29,  1.01s/it]"
          ]
        },
        {
          "output_type": "stream",
          "name": "stdout",
          "text": [
            "\n",
            "0: 640x640 1 person, 1 handbag, 4 chairs, 1 tv, 544.8ms\n",
            "Speed: 3.4ms preprocess, 544.8ms inference, 1.2ms postprocess per image at shape (1, 3, 640, 640)\n"
          ]
        },
        {
          "output_type": "stream",
          "name": "stderr",
          "text": [
            "\r 51%|█████     | 92/180 [01:42<01:25,  1.03it/s]"
          ]
        },
        {
          "output_type": "stream",
          "name": "stdout",
          "text": [
            "\n",
            "0: 640x640 1 person, 1 handbag, 4 chairs, 1 tv, 546.8ms\n",
            "Speed: 3.3ms preprocess, 546.8ms inference, 1.3ms postprocess per image at shape (1, 3, 640, 640)\n"
          ]
        },
        {
          "output_type": "stream",
          "name": "stderr",
          "text": [
            "\r 52%|█████▏    | 93/180 [01:43<01:22,  1.05it/s]"
          ]
        },
        {
          "output_type": "stream",
          "name": "stdout",
          "text": [
            "\n",
            "0: 640x640 1 person, 1 handbag, 1 suitcase, 5 chairs, 1 tv, 554.6ms\n",
            "Speed: 3.6ms preprocess, 554.6ms inference, 1.2ms postprocess per image at shape (1, 3, 640, 640)\n"
          ]
        },
        {
          "output_type": "stream",
          "name": "stderr",
          "text": [
            "\r 52%|█████▏    | 94/180 [01:44<01:21,  1.05it/s]"
          ]
        },
        {
          "output_type": "stream",
          "name": "stdout",
          "text": [
            "\n",
            "0: 640x640 1 person, 1 handbag, 1 suitcase, 5 chairs, 1 tv, 548.5ms\n",
            "Speed: 2.8ms preprocess, 548.5ms inference, 1.2ms postprocess per image at shape (1, 3, 640, 640)\n"
          ]
        },
        {
          "output_type": "stream",
          "name": "stderr",
          "text": [
            "\r 53%|█████▎    | 95/180 [01:45<01:23,  1.02it/s]"
          ]
        },
        {
          "output_type": "stream",
          "name": "stdout",
          "text": [
            "\n",
            "0: 640x640 1 person, 1 suitcase, 6 chairs, 2 tvs, 550.2ms\n",
            "Speed: 3.1ms preprocess, 550.2ms inference, 1.3ms postprocess per image at shape (1, 3, 640, 640)\n"
          ]
        },
        {
          "output_type": "stream",
          "name": "stderr",
          "text": [
            "\r 53%|█████▎    | 96/180 [01:47<01:26,  1.03s/it]"
          ]
        },
        {
          "output_type": "stream",
          "name": "stdout",
          "text": [
            "\n",
            "0: 640x640 1 person, 4 chairs, 1 tv, 729.4ms\n",
            "Speed: 3.7ms preprocess, 729.4ms inference, 1.8ms postprocess per image at shape (1, 3, 640, 640)\n"
          ]
        },
        {
          "output_type": "stream",
          "name": "stderr",
          "text": [
            "\r 54%|█████▍    | 97/180 [01:48<01:27,  1.05s/it]"
          ]
        },
        {
          "output_type": "stream",
          "name": "stdout",
          "text": [
            "\n",
            "0: 640x640 1 person, 1 suitcase, 4 chairs, 1 tv, 861.9ms\n",
            "Speed: 3.1ms preprocess, 861.9ms inference, 1.5ms postprocess per image at shape (1, 3, 640, 640)\n"
          ]
        },
        {
          "output_type": "stream",
          "name": "stderr",
          "text": [
            "\r 54%|█████▍    | 98/180 [01:49<01:33,  1.14s/it]"
          ]
        },
        {
          "output_type": "stream",
          "name": "stdout",
          "text": [
            "\n",
            "0: 640x640 1 person, 1 suitcase, 5 chairs, 1 tv, 860.3ms\n",
            "Speed: 5.1ms preprocess, 860.3ms inference, 1.7ms postprocess per image at shape (1, 3, 640, 640)\n"
          ]
        },
        {
          "output_type": "stream",
          "name": "stderr",
          "text": [
            "\r 55%|█████▌    | 99/180 [01:50<01:35,  1.18s/it]"
          ]
        },
        {
          "output_type": "stream",
          "name": "stdout",
          "text": [
            "\n",
            "0: 640x640 1 person, 1 handbag, 1 suitcase, 5 chairs, 1 tv, 864.3ms\n",
            "Speed: 4.2ms preprocess, 864.3ms inference, 1.7ms postprocess per image at shape (1, 3, 640, 640)\n"
          ]
        },
        {
          "output_type": "stream",
          "name": "stderr",
          "text": [
            "\r 56%|█████▌    | 100/180 [01:52<01:40,  1.26s/it]"
          ]
        },
        {
          "output_type": "stream",
          "name": "stdout",
          "text": [
            "\n",
            "0: 640x640 1 person, 1 handbag, 1 suitcase, 5 chairs, 1 tv, 766.2ms\n",
            "Speed: 9.2ms preprocess, 766.2ms inference, 1.3ms postprocess per image at shape (1, 3, 640, 640)\n"
          ]
        },
        {
          "output_type": "stream",
          "name": "stderr",
          "text": [
            "\r 56%|█████▌    | 101/180 [01:53<01:39,  1.25s/it]"
          ]
        },
        {
          "output_type": "stream",
          "name": "stdout",
          "text": [
            "\n",
            "0: 640x640 1 person, 5 chairs, 2 tvs, 549.2ms\n",
            "Speed: 2.9ms preprocess, 549.2ms inference, 1.3ms postprocess per image at shape (1, 3, 640, 640)\n"
          ]
        },
        {
          "output_type": "stream",
          "name": "stderr",
          "text": [
            "\r 57%|█████▋    | 102/180 [01:54<01:28,  1.14s/it]"
          ]
        },
        {
          "output_type": "stream",
          "name": "stdout",
          "text": [
            "\n",
            "0: 640x640 1 person, 1 suitcase, 5 chairs, 1 tv, 551.3ms\n",
            "Speed: 2.9ms preprocess, 551.3ms inference, 1.3ms postprocess per image at shape (1, 3, 640, 640)\n"
          ]
        },
        {
          "output_type": "stream",
          "name": "stderr",
          "text": [
            "\r 57%|█████▋    | 103/180 [01:55<01:21,  1.06s/it]"
          ]
        },
        {
          "output_type": "stream",
          "name": "stdout",
          "text": [
            "\n",
            "0: 640x640 1 person, 1 suitcase, 5 chairs, 1 potted plant, 1 tv, 562.8ms\n",
            "Speed: 3.7ms preprocess, 562.8ms inference, 1.6ms postprocess per image at shape (1, 3, 640, 640)\n"
          ]
        },
        {
          "output_type": "stream",
          "name": "stderr",
          "text": [
            "\r 58%|█████▊    | 104/180 [01:55<01:14,  1.01it/s]"
          ]
        },
        {
          "output_type": "stream",
          "name": "stdout",
          "text": [
            "\n",
            "0: 640x640 1 person, 1 handbag, 5 chairs, 1 tv, 1 remote, 564.5ms\n",
            "Speed: 3.0ms preprocess, 564.5ms inference, 1.3ms postprocess per image at shape (1, 3, 640, 640)\n"
          ]
        },
        {
          "output_type": "stream",
          "name": "stderr",
          "text": [
            "\r 58%|█████▊    | 105/180 [01:56<01:13,  1.03it/s]"
          ]
        },
        {
          "output_type": "stream",
          "name": "stdout",
          "text": [
            "\n",
            "0: 640x640 1 person, 5 chairs, 1 tv, 553.4ms\n",
            "Speed: 2.7ms preprocess, 553.4ms inference, 1.3ms postprocess per image at shape (1, 3, 640, 640)\n"
          ]
        },
        {
          "output_type": "stream",
          "name": "stderr",
          "text": [
            "\r 59%|█████▉    | 106/180 [01:57<01:10,  1.05it/s]"
          ]
        },
        {
          "output_type": "stream",
          "name": "stdout",
          "text": [
            "\n",
            "0: 640x640 1 person, 1 handbag, 1 suitcase, 5 chairs, 1 tv, 567.4ms\n",
            "Speed: 3.3ms preprocess, 567.4ms inference, 1.3ms postprocess per image at shape (1, 3, 640, 640)\n"
          ]
        },
        {
          "output_type": "stream",
          "name": "stderr",
          "text": [
            "\r 59%|█████▉    | 107/180 [01:58<01:10,  1.04it/s]"
          ]
        },
        {
          "output_type": "stream",
          "name": "stdout",
          "text": [
            "\n",
            "0: 640x640 1 person, 1 suitcase, 5 chairs, 1 tv, 560.4ms\n",
            "Speed: 2.9ms preprocess, 560.4ms inference, 1.2ms postprocess per image at shape (1, 3, 640, 640)\n"
          ]
        },
        {
          "output_type": "stream",
          "name": "stderr",
          "text": [
            "\r 60%|██████    | 108/180 [01:59<01:08,  1.05it/s]"
          ]
        },
        {
          "output_type": "stream",
          "name": "stdout",
          "text": [
            "\n",
            "0: 640x640 1 person, 1 suitcase, 5 chairs, 1 tv, 550.4ms\n",
            "Speed: 2.7ms preprocess, 550.4ms inference, 1.3ms postprocess per image at shape (1, 3, 640, 640)\n"
          ]
        },
        {
          "output_type": "stream",
          "name": "stderr",
          "text": [
            "\r 61%|██████    | 109/180 [02:00<01:07,  1.06it/s]"
          ]
        },
        {
          "output_type": "stream",
          "name": "stdout",
          "text": [
            "\n",
            "0: 640x640 1 person, 1 suitcase, 5 chairs, 1 potted plant, 1 tv, 551.7ms\n",
            "Speed: 3.4ms preprocess, 551.7ms inference, 1.3ms postprocess per image at shape (1, 3, 640, 640)\n"
          ]
        },
        {
          "output_type": "stream",
          "name": "stderr",
          "text": [
            "\r 61%|██████    | 110/180 [02:01<01:07,  1.04it/s]"
          ]
        },
        {
          "output_type": "stream",
          "name": "stdout",
          "text": [
            "\n",
            "0: 640x640 1 person, 5 chairs, 1 tv, 555.9ms\n",
            "Speed: 3.0ms preprocess, 555.9ms inference, 1.4ms postprocess per image at shape (1, 3, 640, 640)\n"
          ]
        },
        {
          "output_type": "stream",
          "name": "stderr",
          "text": [
            "\r 62%|██████▏   | 111/180 [02:02<01:03,  1.08it/s]"
          ]
        },
        {
          "output_type": "stream",
          "name": "stdout",
          "text": [
            "\n",
            "0: 640x640 1 person, 1 handbag, 4 chairs, 1 tv, 699.5ms\n",
            "Speed: 3.1ms preprocess, 699.5ms inference, 3.1ms postprocess per image at shape (1, 3, 640, 640)\n"
          ]
        },
        {
          "output_type": "stream",
          "name": "stderr",
          "text": [
            "\r 62%|██████▏   | 112/180 [02:03<01:07,  1.01it/s]"
          ]
        },
        {
          "output_type": "stream",
          "name": "stdout",
          "text": [
            "\n",
            "0: 640x640 1 person, 1 handbag, 1 suitcase, 4 chairs, 1 tv, 861.2ms\n",
            "Speed: 2.9ms preprocess, 861.2ms inference, 1.7ms postprocess per image at shape (1, 3, 640, 640)\n"
          ]
        },
        {
          "output_type": "stream",
          "name": "stderr",
          "text": [
            "\r 63%|██████▎   | 113/180 [02:05<01:14,  1.11s/it]"
          ]
        },
        {
          "output_type": "stream",
          "name": "stdout",
          "text": [
            "\n",
            "0: 640x640 1 person, 4 chairs, 1 potted plant, 2 tvs, 883.0ms\n",
            "Speed: 6.8ms preprocess, 883.0ms inference, 1.7ms postprocess per image at shape (1, 3, 640, 640)\n"
          ]
        },
        {
          "output_type": "stream",
          "name": "stderr",
          "text": [
            "\r 63%|██████▎   | 114/180 [02:06<01:14,  1.13s/it]"
          ]
        },
        {
          "output_type": "stream",
          "name": "stdout",
          "text": [
            "\n",
            "0: 640x640 1 person, 1 handbag, 4 chairs, 2 tvs, 854.2ms\n",
            "Speed: 2.7ms preprocess, 854.2ms inference, 1.6ms postprocess per image at shape (1, 3, 640, 640)\n"
          ]
        },
        {
          "output_type": "stream",
          "name": "stderr",
          "text": [
            "\r 64%|██████▍   | 115/180 [02:08<01:34,  1.46s/it]"
          ]
        },
        {
          "output_type": "stream",
          "name": "stdout",
          "text": [
            "\n",
            "0: 640x640 1 person, 1 handbag, 4 chairs, 1 tv, 560.7ms\n",
            "Speed: 2.9ms preprocess, 560.7ms inference, 1.2ms postprocess per image at shape (1, 3, 640, 640)\n"
          ]
        },
        {
          "output_type": "stream",
          "name": "stderr",
          "text": [
            "\r 64%|██████▍   | 116/180 [02:09<01:23,  1.30s/it]"
          ]
        },
        {
          "output_type": "stream",
          "name": "stdout",
          "text": [
            "\n",
            "0: 640x640 1 person, 1 handbag, 1 bottle, 6 chairs, 1 tv, 569.1ms\n",
            "Speed: 2.8ms preprocess, 569.1ms inference, 1.3ms postprocess per image at shape (1, 3, 640, 640)\n"
          ]
        },
        {
          "output_type": "stream",
          "name": "stderr",
          "text": [
            "\r 65%|██████▌   | 117/180 [02:10<01:15,  1.20s/it]"
          ]
        },
        {
          "output_type": "stream",
          "name": "stdout",
          "text": [
            "\n",
            "0: 640x640 1 person, 1 handbag, 1 suitcase, 5 chairs, 1 tv, 571.9ms\n",
            "Speed: 4.9ms preprocess, 571.9ms inference, 1.2ms postprocess per image at shape (1, 3, 640, 640)\n"
          ]
        },
        {
          "output_type": "stream",
          "name": "stderr",
          "text": [
            "\r 66%|██████▌   | 118/180 [02:11<01:08,  1.10s/it]"
          ]
        },
        {
          "output_type": "stream",
          "name": "stdout",
          "text": [
            "\n",
            "0: 640x640 1 person, 1 handbag, 1 suitcase, 4 chairs, 1 tv, 548.9ms\n",
            "Speed: 3.7ms preprocess, 548.9ms inference, 1.2ms postprocess per image at shape (1, 3, 640, 640)\n"
          ]
        },
        {
          "output_type": "stream",
          "name": "stderr",
          "text": [
            "\r 66%|██████▌   | 119/180 [02:12<01:03,  1.05s/it]"
          ]
        },
        {
          "output_type": "stream",
          "name": "stdout",
          "text": [
            "\n",
            "0: 640x640 1 person, 1 suitcase, 4 chairs, 1 tv, 555.1ms\n",
            "Speed: 5.1ms preprocess, 555.1ms inference, 1.2ms postprocess per image at shape (1, 3, 640, 640)\n"
          ]
        },
        {
          "output_type": "stream",
          "name": "stderr",
          "text": [
            "\r 67%|██████▋   | 120/180 [02:13<00:59,  1.01it/s]"
          ]
        },
        {
          "output_type": "stream",
          "name": "stdout",
          "text": [
            "\n",
            "0: 640x640 1 person, 1 suitcase, 3 chairs, 1 tv, 554.1ms\n",
            "Speed: 4.4ms preprocess, 554.1ms inference, 1.3ms postprocess per image at shape (1, 3, 640, 640)\n"
          ]
        },
        {
          "output_type": "stream",
          "name": "stderr",
          "text": [
            "\r 67%|██████▋   | 121/180 [02:13<00:57,  1.02it/s]"
          ]
        },
        {
          "output_type": "stream",
          "name": "stdout",
          "text": [
            "\n",
            "0: 640x640 1 person, 1 suitcase, 5 chairs, 1 tv, 556.1ms\n",
            "Speed: 3.8ms preprocess, 556.1ms inference, 1.3ms postprocess per image at shape (1, 3, 640, 640)\n"
          ]
        },
        {
          "output_type": "stream",
          "name": "stderr",
          "text": [
            "\r 68%|██████▊   | 122/180 [02:14<00:56,  1.03it/s]"
          ]
        },
        {
          "output_type": "stream",
          "name": "stdout",
          "text": [
            "\n",
            "0: 640x640 1 person, 1 suitcase, 4 chairs, 1 tv, 558.1ms\n",
            "Speed: 2.9ms preprocess, 558.1ms inference, 1.2ms postprocess per image at shape (1, 3, 640, 640)\n"
          ]
        },
        {
          "output_type": "stream",
          "name": "stderr",
          "text": [
            "\r 68%|██████▊   | 123/180 [02:15<00:55,  1.04it/s]"
          ]
        },
        {
          "output_type": "stream",
          "name": "stdout",
          "text": [
            "\n",
            "0: 640x640 1 person, 1 backpack, 1 handbag, 1 suitcase, 4 chairs, 1 tv, 554.0ms\n",
            "Speed: 3.2ms preprocess, 554.0ms inference, 1.3ms postprocess per image at shape (1, 3, 640, 640)\n"
          ]
        },
        {
          "output_type": "stream",
          "name": "stderr",
          "text": [
            "\r 69%|██████▉   | 124/180 [02:16<00:55,  1.01it/s]"
          ]
        },
        {
          "output_type": "stream",
          "name": "stdout",
          "text": [
            "\n",
            "0: 640x640 1 person, 1 backpack, 1 handbag, 5 chairs, 1 tv, 618.0ms\n",
            "Speed: 4.1ms preprocess, 618.0ms inference, 1.4ms postprocess per image at shape (1, 3, 640, 640)\n"
          ]
        },
        {
          "output_type": "stream",
          "name": "stderr",
          "text": [
            "\r 69%|██████▉   | 125/180 [02:17<00:54,  1.01it/s]"
          ]
        },
        {
          "output_type": "stream",
          "name": "stdout",
          "text": [
            "\n",
            "0: 640x640 1 person, 1 handbag, 5 chairs, 2 tvs, 592.6ms\n",
            "Speed: 2.9ms preprocess, 592.6ms inference, 1.7ms postprocess per image at shape (1, 3, 640, 640)\n"
          ]
        },
        {
          "output_type": "stream",
          "name": "stderr",
          "text": [
            "\r 70%|███████   | 126/180 [02:19<00:57,  1.07s/it]"
          ]
        },
        {
          "output_type": "stream",
          "name": "stdout",
          "text": [
            "\n",
            "0: 640x640 1 person, 1 handbag, 1 bottle, 6 chairs, 1 tv, 846.6ms\n",
            "Speed: 2.8ms preprocess, 846.6ms inference, 1.5ms postprocess per image at shape (1, 3, 640, 640)\n"
          ]
        },
        {
          "output_type": "stream",
          "name": "stderr",
          "text": [
            "\r 71%|███████   | 127/180 [02:20<00:58,  1.11s/it]"
          ]
        },
        {
          "output_type": "stream",
          "name": "stdout",
          "text": [
            "\n",
            "0: 640x640 1 person, 1 handbag, 6 chairs, 1 tv, 860.7ms\n",
            "Speed: 2.6ms preprocess, 860.7ms inference, 1.6ms postprocess per image at shape (1, 3, 640, 640)\n"
          ]
        },
        {
          "output_type": "stream",
          "name": "stderr",
          "text": [
            "\r 71%|███████   | 128/180 [02:21<01:03,  1.21s/it]"
          ]
        },
        {
          "output_type": "stream",
          "name": "stdout",
          "text": [
            "\n",
            "0: 640x640 1 person, 1 suitcase, 5 chairs, 1 tv, 851.2ms\n",
            "Speed: 7.7ms preprocess, 851.2ms inference, 1.6ms postprocess per image at shape (1, 3, 640, 640)\n"
          ]
        },
        {
          "output_type": "stream",
          "name": "stderr",
          "text": [
            "\r 72%|███████▏  | 129/180 [02:23<01:03,  1.25s/it]"
          ]
        },
        {
          "output_type": "stream",
          "name": "stdout",
          "text": [
            "\n",
            "0: 640x640 1 person, 1 handbag, 6 chairs, 1 tv, 829.3ms\n",
            "Speed: 10.8ms preprocess, 829.3ms inference, 1.3ms postprocess per image at shape (1, 3, 640, 640)\n"
          ]
        },
        {
          "output_type": "stream",
          "name": "stderr",
          "text": [
            "\r 72%|███████▏  | 130/180 [02:24<01:02,  1.26s/it]"
          ]
        },
        {
          "output_type": "stream",
          "name": "stdout",
          "text": [
            "\n",
            "0: 640x640 1 person, 1 suitcase, 1 bowl, 6 chairs, 1 tv, 550.7ms\n",
            "Speed: 3.5ms preprocess, 550.7ms inference, 1.6ms postprocess per image at shape (1, 3, 640, 640)\n"
          ]
        },
        {
          "output_type": "stream",
          "name": "stderr",
          "text": [
            "\r 73%|███████▎  | 131/180 [02:25<00:58,  1.19s/it]"
          ]
        },
        {
          "output_type": "stream",
          "name": "stdout",
          "text": [
            "\n",
            "0: 640x640 1 person, 1 handbag, 1 suitcase, 6 chairs, 1 tv, 556.7ms\n",
            "Speed: 4.1ms preprocess, 556.7ms inference, 1.3ms postprocess per image at shape (1, 3, 640, 640)\n"
          ]
        },
        {
          "output_type": "stream",
          "name": "stderr",
          "text": [
            "\r 73%|███████▎  | 132/180 [02:26<00:55,  1.16s/it]"
          ]
        },
        {
          "output_type": "stream",
          "name": "stdout",
          "text": [
            "\n",
            "0: 640x640 1 person, 1 suitcase, 5 chairs, 1 tv, 559.7ms\n",
            "Speed: 3.9ms preprocess, 559.7ms inference, 1.7ms postprocess per image at shape (1, 3, 640, 640)\n"
          ]
        },
        {
          "output_type": "stream",
          "name": "stderr",
          "text": [
            "\r 74%|███████▍  | 133/180 [02:27<00:53,  1.13s/it]"
          ]
        },
        {
          "output_type": "stream",
          "name": "stdout",
          "text": [
            "\n",
            "0: 640x640 1 person, 1 suitcase, 4 chairs, 1 potted plant, 1 tv, 554.0ms\n",
            "Speed: 3.6ms preprocess, 554.0ms inference, 1.3ms postprocess per image at shape (1, 3, 640, 640)\n"
          ]
        },
        {
          "output_type": "stream",
          "name": "stderr",
          "text": [
            "\r 74%|███████▍  | 134/180 [02:28<00:49,  1.08s/it]"
          ]
        },
        {
          "output_type": "stream",
          "name": "stdout",
          "text": [
            "\n",
            "0: 640x640 1 person, 1 suitcase, 6 chairs, 1 potted plant, 1 tv, 555.6ms\n",
            "Speed: 3.4ms preprocess, 555.6ms inference, 1.3ms postprocess per image at shape (1, 3, 640, 640)\n"
          ]
        },
        {
          "output_type": "stream",
          "name": "stderr",
          "text": [
            "\r 75%|███████▌  | 135/180 [02:29<00:49,  1.11s/it]"
          ]
        },
        {
          "output_type": "stream",
          "name": "stdout",
          "text": [
            "\n",
            "0: 640x640 1 person, 1 handbag, 1 suitcase, 5 chairs, 1 potted plant, 1 tv, 553.9ms\n",
            "Speed: 3.6ms preprocess, 553.9ms inference, 1.2ms postprocess per image at shape (1, 3, 640, 640)\n"
          ]
        },
        {
          "output_type": "stream",
          "name": "stderr",
          "text": [
            "\r 76%|███████▌  | 136/180 [02:30<00:47,  1.08s/it]"
          ]
        },
        {
          "output_type": "stream",
          "name": "stdout",
          "text": [
            "\n",
            "0: 640x640 1 person, 1 handbag, 1 suitcase, 6 chairs, 1 potted plant, 1 tv, 537.2ms\n",
            "Speed: 4.0ms preprocess, 537.2ms inference, 1.2ms postprocess per image at shape (1, 3, 640, 640)\n"
          ]
        },
        {
          "output_type": "stream",
          "name": "stderr",
          "text": [
            "\r 76%|███████▌  | 137/180 [02:31<00:46,  1.09s/it]"
          ]
        },
        {
          "output_type": "stream",
          "name": "stdout",
          "text": [
            "\n",
            "0: 640x640 1 person, 1 handbag, 1 suitcase, 5 chairs, 1 potted plant, 1 tv, 554.3ms\n",
            "Speed: 5.4ms preprocess, 554.3ms inference, 1.3ms postprocess per image at shape (1, 3, 640, 640)\n"
          ]
        },
        {
          "output_type": "stream",
          "name": "stderr",
          "text": [
            "\r 77%|███████▋  | 138/180 [02:33<00:46,  1.10s/it]"
          ]
        },
        {
          "output_type": "stream",
          "name": "stdout",
          "text": [
            "\n",
            "0: 640x640 1 person, 1 handbag, 1 suitcase, 5 chairs, 1 tv, 549.2ms\n",
            "Speed: 4.7ms preprocess, 549.2ms inference, 1.3ms postprocess per image at shape (1, 3, 640, 640)\n"
          ]
        },
        {
          "output_type": "stream",
          "name": "stderr",
          "text": [
            "\r 77%|███████▋  | 139/180 [02:34<00:44,  1.09s/it]"
          ]
        },
        {
          "output_type": "stream",
          "name": "stdout",
          "text": [
            "\n",
            "0: 640x640 1 person, 1 handbag, 1 suitcase, 6 chairs, 2 tvs, 880.3ms\n",
            "Speed: 2.6ms preprocess, 880.3ms inference, 1.6ms postprocess per image at shape (1, 3, 640, 640)\n"
          ]
        },
        {
          "output_type": "stream",
          "name": "stderr",
          "text": [
            "\r 78%|███████▊  | 140/180 [02:35<00:51,  1.30s/it]"
          ]
        },
        {
          "output_type": "stream",
          "name": "stdout",
          "text": [
            "\n",
            "0: 640x640 1 person, 1 handbag, 1 suitcase, 5 chairs, 1 tv, 835.8ms\n",
            "Speed: 2.9ms preprocess, 835.8ms inference, 1.7ms postprocess per image at shape (1, 3, 640, 640)\n"
          ]
        },
        {
          "output_type": "stream",
          "name": "stderr",
          "text": [
            "\r 78%|███████▊  | 141/180 [02:37<00:51,  1.31s/it]"
          ]
        },
        {
          "output_type": "stream",
          "name": "stdout",
          "text": [
            "\n",
            "0: 640x640 1 person, 1 umbrella, 1 handbag, 6 chairs, 1 tv, 855.4ms\n",
            "Speed: 2.6ms preprocess, 855.4ms inference, 1.9ms postprocess per image at shape (1, 3, 640, 640)\n"
          ]
        },
        {
          "output_type": "stream",
          "name": "stderr",
          "text": [
            "\r 79%|███████▉  | 142/180 [02:38<00:50,  1.34s/it]"
          ]
        },
        {
          "output_type": "stream",
          "name": "stdout",
          "text": [
            "\n",
            "0: 640x640 1 person, 1 surfboard, 5 chairs, 1 tv, 853.8ms\n",
            "Speed: 2.8ms preprocess, 853.8ms inference, 1.4ms postprocess per image at shape (1, 3, 640, 640)\n"
          ]
        },
        {
          "output_type": "stream",
          "name": "stderr",
          "text": [
            "\r 79%|███████▉  | 143/180 [02:39<00:48,  1.30s/it]"
          ]
        },
        {
          "output_type": "stream",
          "name": "stdout",
          "text": [
            "\n",
            "0: 640x640 1 person, 5 chairs, 2 tvs, 570.4ms\n",
            "Speed: 4.9ms preprocess, 570.4ms inference, 1.5ms postprocess per image at shape (1, 3, 640, 640)\n"
          ]
        },
        {
          "output_type": "stream",
          "name": "stderr",
          "text": [
            "\r 80%|████████  | 144/180 [02:40<00:43,  1.20s/it]"
          ]
        },
        {
          "output_type": "stream",
          "name": "stdout",
          "text": [
            "\n",
            "0: 640x640 1 person, 1 umbrella, 4 chairs, 2 tvs, 566.4ms\n",
            "Speed: 5.1ms preprocess, 566.4ms inference, 1.3ms postprocess per image at shape (1, 3, 640, 640)\n"
          ]
        },
        {
          "output_type": "stream",
          "name": "stderr",
          "text": [
            "\r 81%|████████  | 145/180 [02:41<00:39,  1.13s/it]"
          ]
        },
        {
          "output_type": "stream",
          "name": "stdout",
          "text": [
            "\n",
            "0: 640x640 1 person, 1 umbrella, 5 chairs, 1 potted plant, 3 tvs, 573.9ms\n",
            "Speed: 4.7ms preprocess, 573.9ms inference, 1.4ms postprocess per image at shape (1, 3, 640, 640)\n"
          ]
        },
        {
          "output_type": "stream",
          "name": "stderr",
          "text": [
            "\r 81%|████████  | 146/180 [02:43<00:39,  1.17s/it]"
          ]
        },
        {
          "output_type": "stream",
          "name": "stdout",
          "text": [
            "\n",
            "0: 640x640 1 person, 5 chairs, 1 potted plant, 1 tv, 555.1ms\n",
            "Speed: 9.7ms preprocess, 555.1ms inference, 1.3ms postprocess per image at shape (1, 3, 640, 640)\n"
          ]
        },
        {
          "output_type": "stream",
          "name": "stderr",
          "text": [
            "\r 82%|████████▏ | 147/180 [02:44<00:37,  1.13s/it]"
          ]
        },
        {
          "output_type": "stream",
          "name": "stdout",
          "text": [
            "\n",
            "0: 640x640 1 person, 1 suitcase, 5 chairs, 1 tv, 551.4ms\n",
            "Speed: 9.8ms preprocess, 551.4ms inference, 1.3ms postprocess per image at shape (1, 3, 640, 640)\n"
          ]
        },
        {
          "output_type": "stream",
          "name": "stderr",
          "text": [
            "\r 82%|████████▏ | 148/180 [02:44<00:34,  1.07s/it]"
          ]
        },
        {
          "output_type": "stream",
          "name": "stdout",
          "text": [
            "\n",
            "0: 640x640 3 chairs, 2 tvs, 561.0ms\n",
            "Speed: 3.7ms preprocess, 561.0ms inference, 1.3ms postprocess per image at shape (1, 3, 640, 640)\n"
          ]
        },
        {
          "output_type": "stream",
          "name": "stderr",
          "text": [
            "\r 83%|████████▎ | 149/180 [02:45<00:30,  1.02it/s]"
          ]
        },
        {
          "output_type": "stream",
          "name": "stdout",
          "text": [
            "\n",
            "0: 640x640 4 chairs, 1 potted plant, 1 tv, 562.7ms\n",
            "Speed: 3.9ms preprocess, 562.7ms inference, 1.3ms postprocess per image at shape (1, 3, 640, 640)\n"
          ]
        },
        {
          "output_type": "stream",
          "name": "stderr",
          "text": [
            "\r 83%|████████▎ | 150/180 [02:46<00:28,  1.06it/s]"
          ]
        },
        {
          "output_type": "stream",
          "name": "stdout",
          "text": [
            "\n",
            "0: 640x640 5 chairs, 1 potted plant, 1 tv, 581.9ms\n",
            "Speed: 4.8ms preprocess, 581.9ms inference, 1.5ms postprocess per image at shape (1, 3, 640, 640)\n"
          ]
        },
        {
          "output_type": "stream",
          "name": "stderr",
          "text": [
            "\r 84%|████████▍ | 151/180 [02:47<00:26,  1.10it/s]"
          ]
        },
        {
          "output_type": "stream",
          "name": "stdout",
          "text": [
            "\n",
            "0: 640x640 5 chairs, 1 potted plant, 1 tv, 554.7ms\n",
            "Speed: 2.9ms preprocess, 554.7ms inference, 1.3ms postprocess per image at shape (1, 3, 640, 640)\n"
          ]
        },
        {
          "output_type": "stream",
          "name": "stderr",
          "text": [
            "\r 84%|████████▍ | 152/180 [02:48<00:25,  1.11it/s]"
          ]
        },
        {
          "output_type": "stream",
          "name": "stdout",
          "text": [
            "\n",
            "0: 640x640 5 chairs, 1 potted plant, 2 tvs, 557.5ms\n",
            "Speed: 4.1ms preprocess, 557.5ms inference, 1.3ms postprocess per image at shape (1, 3, 640, 640)\n"
          ]
        },
        {
          "output_type": "stream",
          "name": "stderr",
          "text": [
            "\r 85%|████████▌ | 153/180 [02:49<00:24,  1.12it/s]"
          ]
        },
        {
          "output_type": "stream",
          "name": "stdout",
          "text": [
            "\n",
            "0: 640x640 5 chairs, 1 potted plant, 1 tv, 754.9ms\n",
            "Speed: 3.6ms preprocess, 754.9ms inference, 1.6ms postprocess per image at shape (1, 3, 640, 640)\n"
          ]
        },
        {
          "output_type": "stream",
          "name": "stderr",
          "text": [
            "\r 86%|████████▌ | 154/180 [02:50<00:24,  1.06it/s]"
          ]
        },
        {
          "output_type": "stream",
          "name": "stdout",
          "text": [
            "\n",
            "0: 640x640 4 chairs, 1 potted plant, 1 tv, 846.3ms\n",
            "Speed: 3.2ms preprocess, 846.3ms inference, 1.6ms postprocess per image at shape (1, 3, 640, 640)\n"
          ]
        },
        {
          "output_type": "stream",
          "name": "stderr",
          "text": [
            "\r 86%|████████▌ | 155/180 [02:51<00:25,  1.00s/it]"
          ]
        },
        {
          "output_type": "stream",
          "name": "stdout",
          "text": [
            "\n",
            "0: 640x640 4 chairs, 1 potted plant, 2 tvs, 833.2ms\n",
            "Speed: 3.1ms preprocess, 833.2ms inference, 1.6ms postprocess per image at shape (1, 3, 640, 640)\n"
          ]
        },
        {
          "output_type": "stream",
          "name": "stderr",
          "text": [
            "\r 87%|████████▋ | 156/180 [02:52<00:24,  1.04s/it]"
          ]
        },
        {
          "output_type": "stream",
          "name": "stdout",
          "text": [
            "\n",
            "0: 640x640 5 chairs, 1 potted plant, 2 tvs, 857.9ms\n",
            "Speed: 6.0ms preprocess, 857.9ms inference, 1.6ms postprocess per image at shape (1, 3, 640, 640)\n"
          ]
        },
        {
          "output_type": "stream",
          "name": "stderr",
          "text": [
            "\r 87%|████████▋ | 157/180 [02:53<00:25,  1.09s/it]"
          ]
        },
        {
          "output_type": "stream",
          "name": "stdout",
          "text": [
            "\n",
            "0: 640x640 5 chairs, 1 potted plant, 2 tvs, 863.3ms\n",
            "Speed: 2.9ms preprocess, 863.3ms inference, 1.8ms postprocess per image at shape (1, 3, 640, 640)\n"
          ]
        },
        {
          "output_type": "stream",
          "name": "stderr",
          "text": [
            "\r 88%|████████▊ | 158/180 [02:55<00:25,  1.16s/it]"
          ]
        },
        {
          "output_type": "stream",
          "name": "stdout",
          "text": [
            "\n",
            "0: 640x640 5 chairs, 1 potted plant, 1 tv, 567.4ms\n",
            "Speed: 3.2ms preprocess, 567.4ms inference, 1.3ms postprocess per image at shape (1, 3, 640, 640)\n"
          ]
        },
        {
          "output_type": "stream",
          "name": "stderr",
          "text": [
            "\r 88%|████████▊ | 159/180 [02:55<00:22,  1.08s/it]"
          ]
        },
        {
          "output_type": "stream",
          "name": "stdout",
          "text": [
            "\n",
            "0: 640x640 1 suitcase, 6 chairs, 1 potted plant, 1 tv, 551.8ms\n",
            "Speed: 3.7ms preprocess, 551.8ms inference, 1.3ms postprocess per image at shape (1, 3, 640, 640)\n"
          ]
        },
        {
          "output_type": "stream",
          "name": "stderr",
          "text": [
            "\r 89%|████████▉ | 160/180 [02:56<00:19,  1.00it/s]"
          ]
        },
        {
          "output_type": "stream",
          "name": "stdout",
          "text": [
            "\n",
            "0: 640x640 5 chairs, 1 potted plant, 1 tv, 555.6ms\n",
            "Speed: 3.3ms preprocess, 555.6ms inference, 1.4ms postprocess per image at shape (1, 3, 640, 640)\n"
          ]
        },
        {
          "output_type": "stream",
          "name": "stderr",
          "text": [
            "\r 89%|████████▉ | 161/180 [02:57<00:17,  1.07it/s]"
          ]
        },
        {
          "output_type": "stream",
          "name": "stdout",
          "text": [
            "\n",
            "0: 640x640 5 chairs, 1 potted plant, 1 tv, 565.0ms\n",
            "Speed: 3.5ms preprocess, 565.0ms inference, 2.3ms postprocess per image at shape (1, 3, 640, 640)\n"
          ]
        },
        {
          "output_type": "stream",
          "name": "stderr",
          "text": [
            "\r 90%|█████████ | 162/180 [02:58<00:16,  1.10it/s]"
          ]
        },
        {
          "output_type": "stream",
          "name": "stdout",
          "text": [
            "\n",
            "0: 640x640 5 chairs, 1 potted plant, 1 tv, 561.1ms\n",
            "Speed: 3.1ms preprocess, 561.1ms inference, 1.3ms postprocess per image at shape (1, 3, 640, 640)\n"
          ]
        },
        {
          "output_type": "stream",
          "name": "stderr",
          "text": [
            "\r 91%|█████████ | 163/180 [02:59<00:14,  1.14it/s]"
          ]
        },
        {
          "output_type": "stream",
          "name": "stdout",
          "text": [
            "\n",
            "0: 640x640 5 chairs, 1 potted plant, 1 tv, 555.2ms\n",
            "Speed: 2.9ms preprocess, 555.2ms inference, 1.4ms postprocess per image at shape (1, 3, 640, 640)\n"
          ]
        },
        {
          "output_type": "stream",
          "name": "stderr",
          "text": [
            "\r 91%|█████████ | 164/180 [03:00<00:13,  1.15it/s]"
          ]
        },
        {
          "output_type": "stream",
          "name": "stdout",
          "text": [
            "\n",
            "0: 640x640 5 chairs, 1 potted plant, 1 tv, 553.1ms\n",
            "Speed: 3.5ms preprocess, 553.1ms inference, 1.2ms postprocess per image at shape (1, 3, 640, 640)\n"
          ]
        },
        {
          "output_type": "stream",
          "name": "stderr",
          "text": [
            "\r 92%|█████████▏| 165/180 [03:00<00:12,  1.16it/s]"
          ]
        },
        {
          "output_type": "stream",
          "name": "stdout",
          "text": [
            "\n",
            "0: 640x640 3 chairs, 1 potted plant, 1 tv, 547.5ms\n",
            "Speed: 3.7ms preprocess, 547.5ms inference, 1.2ms postprocess per image at shape (1, 3, 640, 640)\n"
          ]
        },
        {
          "output_type": "stream",
          "name": "stderr",
          "text": [
            "\r 92%|█████████▏| 166/180 [03:01<00:11,  1.22it/s]"
          ]
        },
        {
          "output_type": "stream",
          "name": "stdout",
          "text": [
            "\n",
            "0: 640x640 4 chairs, 1 potted plant, 1 tv, 574.5ms\n",
            "Speed: 4.5ms preprocess, 574.5ms inference, 1.3ms postprocess per image at shape (1, 3, 640, 640)\n"
          ]
        },
        {
          "output_type": "stream",
          "name": "stderr",
          "text": [
            "\r 93%|█████████▎| 167/180 [03:02<00:10,  1.21it/s]"
          ]
        },
        {
          "output_type": "stream",
          "name": "stdout",
          "text": [
            "\n",
            "0: 640x640 5 chairs, 1 potted plant, 1 tv, 583.0ms\n",
            "Speed: 5.3ms preprocess, 583.0ms inference, 1.2ms postprocess per image at shape (1, 3, 640, 640)\n"
          ]
        },
        {
          "output_type": "stream",
          "name": "stderr",
          "text": [
            "\r 93%|█████████▎| 168/180 [03:03<00:10,  1.12it/s]"
          ]
        },
        {
          "output_type": "stream",
          "name": "stdout",
          "text": [
            "\n",
            "0: 640x640 5 chairs, 1 potted plant, 2 tvs, 559.4ms\n",
            "Speed: 6.5ms preprocess, 559.4ms inference, 1.2ms postprocess per image at shape (1, 3, 640, 640)\n"
          ]
        },
        {
          "output_type": "stream",
          "name": "stderr",
          "text": [
            "\r 94%|█████████▍| 169/180 [03:04<00:09,  1.15it/s]"
          ]
        },
        {
          "output_type": "stream",
          "name": "stdout",
          "text": [
            "\n",
            "0: 640x640 6 chairs, 1 potted plant, 2 tvs, 549.9ms\n",
            "Speed: 4.0ms preprocess, 549.9ms inference, 1.9ms postprocess per image at shape (1, 3, 640, 640)\n"
          ]
        },
        {
          "output_type": "stream",
          "name": "stderr",
          "text": [
            "\r 94%|█████████▍| 170/180 [03:05<00:09,  1.09it/s]"
          ]
        },
        {
          "output_type": "stream",
          "name": "stdout",
          "text": [
            "\n",
            "0: 640x640 6 chairs, 1 potted plant, 2 tvs, 875.6ms\n",
            "Speed: 8.2ms preprocess, 875.6ms inference, 2.0ms postprocess per image at shape (1, 3, 640, 640)\n"
          ]
        },
        {
          "output_type": "stream",
          "name": "stderr",
          "text": [
            "\r 95%|█████████▌| 171/180 [03:06<00:09,  1.04s/it]"
          ]
        },
        {
          "output_type": "stream",
          "name": "stdout",
          "text": [
            "\n",
            "0: 640x640 4 chairs, 1 potted plant, 1 tv, 861.5ms\n",
            "Speed: 4.0ms preprocess, 861.5ms inference, 1.7ms postprocess per image at shape (1, 3, 640, 640)\n"
          ]
        },
        {
          "output_type": "stream",
          "name": "stderr",
          "text": [
            "\r 96%|█████████▌| 172/180 [03:07<00:08,  1.08s/it]"
          ]
        },
        {
          "output_type": "stream",
          "name": "stdout",
          "text": [
            "\n",
            "0: 640x640 4 chairs, 1 potted plant, 2 tvs, 847.5ms\n",
            "Speed: 9.5ms preprocess, 847.5ms inference, 1.6ms postprocess per image at shape (1, 3, 640, 640)\n"
          ]
        },
        {
          "output_type": "stream",
          "name": "stderr",
          "text": [
            "\r 96%|█████████▌| 173/180 [03:09<00:07,  1.13s/it]"
          ]
        },
        {
          "output_type": "stream",
          "name": "stdout",
          "text": [
            "\n",
            "0: 640x640 6 chairs, 1 potted plant, 1 tv, 839.9ms\n",
            "Speed: 4.2ms preprocess, 839.9ms inference, 1.8ms postprocess per image at shape (1, 3, 640, 640)\n"
          ]
        },
        {
          "output_type": "stream",
          "name": "stderr",
          "text": [
            "\r 97%|█████████▋| 174/180 [03:10<00:06,  1.16s/it]"
          ]
        },
        {
          "output_type": "stream",
          "name": "stdout",
          "text": [
            "\n",
            "0: 640x640 1 suitcase, 4 chairs, 1 potted plant, 2 tvs, 559.4ms\n",
            "Speed: 6.7ms preprocess, 559.4ms inference, 1.2ms postprocess per image at shape (1, 3, 640, 640)\n"
          ]
        },
        {
          "output_type": "stream",
          "name": "stderr",
          "text": [
            "\r 97%|█████████▋| 175/180 [03:11<00:05,  1.06s/it]"
          ]
        },
        {
          "output_type": "stream",
          "name": "stdout",
          "text": [
            "\n",
            "0: 640x640 4 chairs, 1 potted plant, 2 tvs, 565.7ms\n",
            "Speed: 5.6ms preprocess, 565.7ms inference, 1.3ms postprocess per image at shape (1, 3, 640, 640)\n"
          ]
        },
        {
          "output_type": "stream",
          "name": "stderr",
          "text": [
            "\r 98%|█████████▊| 176/180 [03:11<00:03,  1.02it/s]"
          ]
        },
        {
          "output_type": "stream",
          "name": "stdout",
          "text": [
            "\n",
            "0: 640x640 6 chairs, 1 potted plant, 1 tv, 561.6ms\n",
            "Speed: 5.2ms preprocess, 561.6ms inference, 1.2ms postprocess per image at shape (1, 3, 640, 640)\n"
          ]
        },
        {
          "output_type": "stream",
          "name": "stderr",
          "text": [
            "\r 98%|█████████▊| 177/180 [03:12<00:02,  1.07it/s]"
          ]
        },
        {
          "output_type": "stream",
          "name": "stdout",
          "text": [
            "\n",
            "0: 640x640 1 suitcase, 4 chairs, 2 tvs, 574.7ms\n",
            "Speed: 5.7ms preprocess, 574.7ms inference, 1.3ms postprocess per image at shape (1, 3, 640, 640)\n"
          ]
        },
        {
          "output_type": "stream",
          "name": "stderr",
          "text": [
            "\r 99%|█████████▉| 178/180 [03:13<00:01,  1.08it/s]"
          ]
        },
        {
          "output_type": "stream",
          "name": "stdout",
          "text": [
            "\n",
            "0: 640x640 4 chairs, 1 potted plant, 2 tvs, 582.6ms\n",
            "Speed: 4.8ms preprocess, 582.6ms inference, 1.3ms postprocess per image at shape (1, 3, 640, 640)\n"
          ]
        },
        {
          "output_type": "stream",
          "name": "stderr",
          "text": [
            "\r 99%|█████████▉| 179/180 [03:14<00:00,  1.07it/s]"
          ]
        },
        {
          "output_type": "stream",
          "name": "stdout",
          "text": [
            "\n",
            "0: 640x640 5 chairs, 1 potted plant, 1 tv, 555.6ms\n",
            "Speed: 4.2ms preprocess, 555.6ms inference, 1.3ms postprocess per image at shape (1, 3, 640, 640)\n"
          ]
        },
        {
          "output_type": "stream",
          "name": "stderr",
          "text": [
            "100%|██████████| 180/180 [03:15<00:00,  1.09s/it]\n"
          ]
        }
      ]
    },
    {
      "cell_type": "code",
      "source": [
        "def process_detections(res, img, xy_list_list):\n",
        "    img_height, img_width = img.shape[:2]\n",
        "    for box in res.boxes:\n",
        "        # 경계 상자 좌표 추출 및 검증\n",
        "        xyxy = box.xyxy.cpu().numpy()[0]  # 첫 번째 객체에 대한 좌표 추출\n",
        "        confidence = box.conf.cpu().numpy()[0]  # 첫 번째 객체에 대한 신뢰도 추출\n",
        "        xx1, yy1, xx2, yy2 = xyxy[:4]\n",
        "\n",
        "        if confidence > y_CONFIDENCE:\n",
        "            # 경계 상자 좌표 조정 및 Mediapipe 처리\n",
        "            xx1 = max(0, int(xx1) - 10)\n",
        "            yy1 = max(0, int(yy1) - 10)\n",
        "            xx2 = min(img_width - 1, int(xx2) + 10)\n",
        "            yy2 = min(img_height - 1, int(yy2) + 10)\n",
        "\n",
        "            c_img = img[yy1:yy2, xx1:xx2]\n",
        "            results = pose.process(cv2.cvtColor(c_img, cv2.COLOR_BGR2RGB))\n",
        "            if not results.pose_landmarks: continue\n",
        "\n",
        "            xy_list = [x_and_y.x for idx, x_and_y in enumerate(results.pose_landmarks.landmark) if idx in attention_dot] + \\\n",
        "                      [x_and_y.y for idx, x_and_y in enumerate(results.pose_landmarks.landmark) if idx in attention_dot]\n",
        "            xy_list_list.append(xy_list)\n",
        "\n",
        "\n",
        "# 신경망 모델 평가 모드 설정\n",
        "net.eval()\n",
        "length = 30  # frame 상태를 표시할 길이\n",
        "out_img_list = []\n",
        "status = 'None'\n",
        "print('시퀀스 데이터 분석 중...')\n",
        "\n",
        "# 이미지 리스트 처리\n",
        "xy_list_list = []\n",
        "for img in tqdm(img_list):\n",
        "    res = yolo_model(img)\n",
        "\n",
        "    # YOLO 모델 출력 처리\n",
        "    if isinstance(res, list):\n",
        "        # 여러 결과가 리스트로 반환될 경우, 각각 처리\n",
        "        for r in res:\n",
        "            process_detections(r, img, xy_list_list)\n",
        "    else:\n",
        "        # 단일 결과 처리\n",
        "        process_detections(res, img, xy_list_list)\n",
        "\n",
        "    # 지정된 길이의 데이터가 쌓이면 모델에 입력\n",
        "    if len(xy_list_list) == length:\n",
        "        data_tensor = torch.tensor([xy_list_list], dtype=torch.float32).to(device)\n",
        "        with torch.no_grad():\n",
        "            result = net(data_tensor)\n",
        "            _, out = torch.max(result, 1)\n",
        "            status = 'Normal' if out.item() == 0 else 'Abnormal'\n",
        "        xy_list_list = []  # 리스트 초기화\n",
        "\n",
        "    # 결과 이미지에 상태 표시\n",
        "    cv2.putText(img, status, (0, 50), cv2.FONT_HERSHEY_COMPLEX, 1.5, (0, 0, 255), 2)\n",
        "    out_img_list.append(img)"
      ],
      "metadata": {
        "id": "-e_A9wz_7ryQ",
        "colab": {
          "base_uri": "https://localhost:8080/"
        },
        "outputId": "0127d688-ff23-463f-9751-db455f30894e"
      },
      "execution_count": 39,
      "outputs": [
        {
          "output_type": "stream",
          "name": "stdout",
          "text": [
            "시퀀스 데이터 분석 중...\n"
          ]
        },
        {
          "output_type": "stream",
          "name": "stderr",
          "text": [
            "\r  0%|          | 0/180 [00:00<?, ?it/s]"
          ]
        },
        {
          "output_type": "stream",
          "name": "stdout",
          "text": [
            "\n",
            "0: 640x640 1 suitcase, 4 chairs, 1 tv, 1136.1ms\n",
            "Speed: 3.2ms preprocess, 1136.1ms inference, 2.1ms postprocess per image at shape (1, 3, 640, 640)\n"
          ]
        },
        {
          "output_type": "stream",
          "name": "stderr",
          "text": [
            "\r  1%|          | 1/180 [00:02<06:54,  2.31s/it]"
          ]
        },
        {
          "output_type": "stream",
          "name": "stdout",
          "text": [
            "\n",
            "0: 640x640 1 suitcase, 5 chairs, 1 tv, 2466.8ms\n",
            "Speed: 6.1ms preprocess, 2466.8ms inference, 7.4ms postprocess per image at shape (1, 3, 640, 640)\n"
          ]
        },
        {
          "output_type": "stream",
          "name": "stderr",
          "text": [
            "\r  1%|          | 2/180 [00:05<08:42,  2.93s/it]"
          ]
        },
        {
          "output_type": "stream",
          "name": "stdout",
          "text": [
            "\n",
            "0: 640x640 5 chairs, 1 tv, 1973.3ms\n",
            "Speed: 2.7ms preprocess, 1973.3ms inference, 1.8ms postprocess per image at shape (1, 3, 640, 640)\n"
          ]
        },
        {
          "output_type": "stream",
          "name": "stderr",
          "text": [
            "\r  2%|▏         | 3/180 [00:07<07:43,  2.62s/it]"
          ]
        },
        {
          "output_type": "stream",
          "name": "stdout",
          "text": [
            "\n",
            "0: 640x640 1 suitcase, 4 chairs, 2 tvs, 556.4ms\n",
            "Speed: 3.0ms preprocess, 556.4ms inference, 1.3ms postprocess per image at shape (1, 3, 640, 640)\n"
          ]
        },
        {
          "output_type": "stream",
          "name": "stderr",
          "text": [
            "\r  2%|▏         | 4/180 [00:08<05:32,  1.89s/it]"
          ]
        },
        {
          "output_type": "stream",
          "name": "stdout",
          "text": [
            "\n",
            "0: 640x640 1 suitcase, 5 chairs, 2 tvs, 553.1ms\n",
            "Speed: 2.9ms preprocess, 553.1ms inference, 1.3ms postprocess per image at shape (1, 3, 640, 640)\n"
          ]
        },
        {
          "output_type": "stream",
          "name": "stderr",
          "text": [
            "\r  3%|▎         | 5/180 [00:09<04:32,  1.56s/it]"
          ]
        },
        {
          "output_type": "stream",
          "name": "stdout",
          "text": [
            "\n",
            "0: 640x640 1 suitcase, 5 chairs, 1 tv, 565.1ms\n",
            "Speed: 2.9ms preprocess, 565.1ms inference, 1.3ms postprocess per image at shape (1, 3, 640, 640)\n"
          ]
        },
        {
          "output_type": "stream",
          "name": "stderr",
          "text": [
            "\r  3%|▎         | 6/180 [00:10<03:57,  1.37s/it]"
          ]
        },
        {
          "output_type": "stream",
          "name": "stdout",
          "text": [
            "\n",
            "0: 640x640 5 chairs, 2 tvs, 555.5ms\n",
            "Speed: 3.4ms preprocess, 555.5ms inference, 1.3ms postprocess per image at shape (1, 3, 640, 640)\n"
          ]
        },
        {
          "output_type": "stream",
          "name": "stderr",
          "text": [
            "\r  4%|▍         | 7/180 [00:11<03:26,  1.20s/it]"
          ]
        },
        {
          "output_type": "stream",
          "name": "stdout",
          "text": [
            "\n",
            "0: 640x640 5 chairs, 1 tv, 558.4ms\n",
            "Speed: 2.9ms preprocess, 558.4ms inference, 1.2ms postprocess per image at shape (1, 3, 640, 640)\n"
          ]
        },
        {
          "output_type": "stream",
          "name": "stderr",
          "text": [
            "\r  4%|▍         | 8/180 [00:12<03:10,  1.11s/it]"
          ]
        },
        {
          "output_type": "stream",
          "name": "stdout",
          "text": [
            "\n",
            "0: 640x640 1 suitcase, 4 chairs, 2 tvs, 554.0ms\n",
            "Speed: 2.9ms preprocess, 554.0ms inference, 1.3ms postprocess per image at shape (1, 3, 640, 640)\n"
          ]
        },
        {
          "output_type": "stream",
          "name": "stderr",
          "text": [
            "\r  5%|▌         | 9/180 [00:13<02:57,  1.04s/it]"
          ]
        },
        {
          "output_type": "stream",
          "name": "stdout",
          "text": [
            "\n",
            "0: 640x640 5 chairs, 1 tv, 546.0ms\n",
            "Speed: 2.5ms preprocess, 546.0ms inference, 1.2ms postprocess per image at shape (1, 3, 640, 640)\n"
          ]
        },
        {
          "output_type": "stream",
          "name": "stderr",
          "text": [
            "\r  6%|▌         | 10/180 [00:14<02:41,  1.05it/s]"
          ]
        },
        {
          "output_type": "stream",
          "name": "stdout",
          "text": [
            "\n",
            "0: 640x640 5 chairs, 1 potted plant, 2 tvs, 562.6ms\n",
            "Speed: 3.4ms preprocess, 562.6ms inference, 1.7ms postprocess per image at shape (1, 3, 640, 640)\n"
          ]
        },
        {
          "output_type": "stream",
          "name": "stderr",
          "text": [
            "\r  6%|▌         | 11/180 [00:14<02:34,  1.09it/s]"
          ]
        },
        {
          "output_type": "stream",
          "name": "stdout",
          "text": [
            "\n",
            "0: 640x640 1 suitcase, 5 chairs, 1 tv, 556.2ms\n",
            "Speed: 2.9ms preprocess, 556.2ms inference, 1.3ms postprocess per image at shape (1, 3, 640, 640)\n"
          ]
        },
        {
          "output_type": "stream",
          "name": "stderr",
          "text": [
            "\r  7%|▋         | 12/180 [00:15<02:28,  1.13it/s]"
          ]
        },
        {
          "output_type": "stream",
          "name": "stdout",
          "text": [
            "\n",
            "0: 640x640 3 chairs, 2 tvs, 556.0ms\n",
            "Speed: 2.9ms preprocess, 556.0ms inference, 1.2ms postprocess per image at shape (1, 3, 640, 640)\n"
          ]
        },
        {
          "output_type": "stream",
          "name": "stderr",
          "text": [
            "\r  7%|▋         | 13/180 [00:16<02:21,  1.18it/s]"
          ]
        },
        {
          "output_type": "stream",
          "name": "stdout",
          "text": [
            "\n",
            "0: 640x640 3 chairs, 1 potted plant, 2 tvs, 540.1ms\n",
            "Speed: 4.2ms preprocess, 540.1ms inference, 1.4ms postprocess per image at shape (1, 3, 640, 640)\n"
          ]
        },
        {
          "output_type": "stream",
          "name": "stderr",
          "text": [
            "\r  8%|▊         | 14/180 [00:17<02:18,  1.20it/s]"
          ]
        },
        {
          "output_type": "stream",
          "name": "stdout",
          "text": [
            "\n",
            "0: 640x640 5 chairs, 2 tvs, 727.9ms\n",
            "Speed: 2.9ms preprocess, 727.9ms inference, 1.6ms postprocess per image at shape (1, 3, 640, 640)\n"
          ]
        },
        {
          "output_type": "stream",
          "name": "stderr",
          "text": [
            "\r  8%|▊         | 15/180 [00:18<02:31,  1.09it/s]"
          ]
        },
        {
          "output_type": "stream",
          "name": "stdout",
          "text": [
            "\n",
            "0: 640x640 1 suitcase, 4 chairs, 2 tvs, 847.0ms\n",
            "Speed: 2.6ms preprocess, 847.0ms inference, 1.7ms postprocess per image at shape (1, 3, 640, 640)\n"
          ]
        },
        {
          "output_type": "stream",
          "name": "stderr",
          "text": [
            "\r  9%|▉         | 16/180 [00:19<02:51,  1.05s/it]"
          ]
        },
        {
          "output_type": "stream",
          "name": "stdout",
          "text": [
            "\n",
            "0: 640x640 3 chairs, 2 tvs, 878.0ms\n",
            "Speed: 2.9ms preprocess, 878.0ms inference, 1.6ms postprocess per image at shape (1, 3, 640, 640)\n"
          ]
        },
        {
          "output_type": "stream",
          "name": "stderr",
          "text": [
            "\r  9%|▉         | 17/180 [00:20<02:56,  1.09s/it]"
          ]
        },
        {
          "output_type": "stream",
          "name": "stdout",
          "text": [
            "\n",
            "0: 640x640 5 chairs, 2 tvs, 927.1ms\n",
            "Speed: 6.7ms preprocess, 927.1ms inference, 1.6ms postprocess per image at shape (1, 3, 640, 640)\n"
          ]
        },
        {
          "output_type": "stream",
          "name": "stderr",
          "text": [
            "\r 10%|█         | 18/180 [00:22<03:11,  1.19s/it]"
          ]
        },
        {
          "output_type": "stream",
          "name": "stdout",
          "text": [
            "\n",
            "0: 640x640 6 chairs, 2 tvs, 858.6ms\n",
            "Speed: 2.7ms preprocess, 858.6ms inference, 1.9ms postprocess per image at shape (1, 3, 640, 640)\n"
          ]
        },
        {
          "output_type": "stream",
          "name": "stderr",
          "text": [
            "\r 11%|█         | 19/180 [00:23<03:14,  1.21s/it]"
          ]
        },
        {
          "output_type": "stream",
          "name": "stdout",
          "text": [
            "\n",
            "0: 640x640 4 chairs, 1 potted plant, 1 tv, 849.0ms\n",
            "Speed: 4.2ms preprocess, 849.0ms inference, 1.7ms postprocess per image at shape (1, 3, 640, 640)\n"
          ]
        },
        {
          "output_type": "stream",
          "name": "stderr",
          "text": [
            "\r 11%|█         | 20/180 [00:24<03:13,  1.21s/it]"
          ]
        },
        {
          "output_type": "stream",
          "name": "stdout",
          "text": [
            "\n",
            "0: 640x640 4 chairs, 1 potted plant, 2 tvs, 913.8ms\n",
            "Speed: 2.6ms preprocess, 913.8ms inference, 5.8ms postprocess per image at shape (1, 3, 640, 640)\n"
          ]
        },
        {
          "output_type": "stream",
          "name": "stderr",
          "text": [
            "\r 12%|█▏        | 21/180 [00:26<03:13,  1.22s/it]"
          ]
        },
        {
          "output_type": "stream",
          "name": "stdout",
          "text": [
            "\n",
            "0: 640x640 1 person, 4 chairs, 1 tv, 904.1ms\n",
            "Speed: 2.8ms preprocess, 904.1ms inference, 1.8ms postprocess per image at shape (1, 3, 640, 640)\n"
          ]
        },
        {
          "output_type": "stream",
          "name": "stderr",
          "text": [
            "\r 12%|█▏        | 22/180 [00:27<03:16,  1.24s/it]"
          ]
        },
        {
          "output_type": "stream",
          "name": "stdout",
          "text": [
            "\n",
            "0: 640x640 1 person, 4 chairs, 1 tv, 845.5ms\n",
            "Speed: 3.0ms preprocess, 845.5ms inference, 1.7ms postprocess per image at shape (1, 3, 640, 640)\n"
          ]
        },
        {
          "output_type": "stream",
          "name": "stderr",
          "text": [
            "\r 13%|█▎        | 23/180 [00:28<03:15,  1.24s/it]"
          ]
        },
        {
          "output_type": "stream",
          "name": "stdout",
          "text": [
            "\n",
            "0: 640x640 1 person, 1 suitcase, 5 chairs, 2 tvs, 853.7ms\n",
            "Speed: 4.9ms preprocess, 853.7ms inference, 2.0ms postprocess per image at shape (1, 3, 640, 640)\n"
          ]
        },
        {
          "output_type": "stream",
          "name": "stderr",
          "text": [
            "\r 13%|█▎        | 24/180 [00:30<03:29,  1.35s/it]"
          ]
        },
        {
          "output_type": "stream",
          "name": "stdout",
          "text": [
            "\n",
            "0: 640x640 1 person, 5 chairs, 2 tvs, 647.6ms\n",
            "Speed: 5.0ms preprocess, 647.6ms inference, 1.3ms postprocess per image at shape (1, 3, 640, 640)\n"
          ]
        },
        {
          "output_type": "stream",
          "name": "stderr",
          "text": [
            "\r 14%|█▍        | 25/180 [00:31<03:17,  1.28s/it]"
          ]
        },
        {
          "output_type": "stream",
          "name": "stdout",
          "text": [
            "\n",
            "0: 640x640 1 person, 1 umbrella, 4 chairs, 2 tvs, 564.2ms\n",
            "Speed: 2.9ms preprocess, 564.2ms inference, 1.3ms postprocess per image at shape (1, 3, 640, 640)\n"
          ]
        },
        {
          "output_type": "stream",
          "name": "stderr",
          "text": [
            "\r 14%|█▍        | 26/180 [00:32<03:03,  1.19s/it]"
          ]
        },
        {
          "output_type": "stream",
          "name": "stdout",
          "text": [
            "\n",
            "0: 640x640 1 person, 1 umbrella, 1 suitcase, 5 chairs, 2 tvs, 555.0ms\n",
            "Speed: 3.7ms preprocess, 555.0ms inference, 1.4ms postprocess per image at shape (1, 3, 640, 640)\n"
          ]
        },
        {
          "output_type": "stream",
          "name": "stderr",
          "text": [
            "\r 15%|█▌        | 27/180 [00:33<03:00,  1.18s/it]"
          ]
        },
        {
          "output_type": "stream",
          "name": "stdout",
          "text": [
            "\n",
            "0: 640x640 1 person, 1 suitcase, 5 chairs, 2 tvs, 554.4ms\n",
            "Speed: 3.3ms preprocess, 554.4ms inference, 1.3ms postprocess per image at shape (1, 3, 640, 640)\n"
          ]
        },
        {
          "output_type": "stream",
          "name": "stderr",
          "text": [
            "\r 16%|█▌        | 28/180 [00:34<02:48,  1.11s/it]"
          ]
        },
        {
          "output_type": "stream",
          "name": "stdout",
          "text": [
            "\n",
            "0: 640x640 1 person, 2 suitcases, 4 chairs, 2 tvs, 556.6ms\n",
            "Speed: 3.2ms preprocess, 556.6ms inference, 1.2ms postprocess per image at shape (1, 3, 640, 640)\n"
          ]
        },
        {
          "output_type": "stream",
          "name": "stderr",
          "text": [
            "\r 16%|█▌        | 29/180 [00:35<02:41,  1.07s/it]"
          ]
        },
        {
          "output_type": "stream",
          "name": "stdout",
          "text": [
            "\n",
            "0: 640x640 1 person, 1 suitcase, 4 chairs, 1 potted plant, 2 tvs, 555.3ms\n",
            "Speed: 3.2ms preprocess, 555.3ms inference, 1.3ms postprocess per image at shape (1, 3, 640, 640)\n"
          ]
        },
        {
          "output_type": "stream",
          "name": "stderr",
          "text": [
            "\r 17%|█▋        | 30/180 [00:36<02:36,  1.04s/it]"
          ]
        },
        {
          "output_type": "stream",
          "name": "stdout",
          "text": [
            "\n",
            "0: 640x640 1 person, 1 suitcase, 5 chairs, 1 tv, 736.5ms\n",
            "Speed: 2.8ms preprocess, 736.5ms inference, 1.6ms postprocess per image at shape (1, 3, 640, 640)\n"
          ]
        },
        {
          "output_type": "stream",
          "name": "stderr",
          "text": [
            "\r 17%|█▋        | 31/180 [00:37<02:43,  1.10s/it]"
          ]
        },
        {
          "output_type": "stream",
          "name": "stdout",
          "text": [
            "\n",
            "0: 640x640 1 person, 1 suitcase, 4 chairs, 2 tvs, 863.6ms\n",
            "Speed: 2.7ms preprocess, 863.6ms inference, 1.7ms postprocess per image at shape (1, 3, 640, 640)\n"
          ]
        },
        {
          "output_type": "stream",
          "name": "stderr",
          "text": [
            "\r 18%|█▊        | 32/180 [00:38<02:52,  1.16s/it]"
          ]
        },
        {
          "output_type": "stream",
          "name": "stdout",
          "text": [
            "\n",
            "0: 640x640 1 person, 1 suitcase, 1 bowl, 4 chairs, 2 tvs, 863.5ms\n",
            "Speed: 2.7ms preprocess, 863.5ms inference, 1.6ms postprocess per image at shape (1, 3, 640, 640)\n"
          ]
        },
        {
          "output_type": "stream",
          "name": "stderr",
          "text": [
            "\r 18%|█▊        | 33/180 [00:40<03:01,  1.23s/it]"
          ]
        },
        {
          "output_type": "stream",
          "name": "stdout",
          "text": [
            "\n",
            "0: 640x640 1 person, 1 suitcase, 4 chairs, 2 tvs, 844.1ms\n",
            "Speed: 2.9ms preprocess, 844.1ms inference, 1.6ms postprocess per image at shape (1, 3, 640, 640)\n"
          ]
        },
        {
          "output_type": "stream",
          "name": "stderr",
          "text": [
            "\r 19%|█▉        | 34/180 [00:41<03:12,  1.32s/it]"
          ]
        },
        {
          "output_type": "stream",
          "name": "stdout",
          "text": [
            "\n",
            "0: 640x640 4 chairs, 2 tvs, 623.2ms\n",
            "Speed: 6.3ms preprocess, 623.2ms inference, 1.3ms postprocess per image at shape (1, 3, 640, 640)\n"
          ]
        },
        {
          "output_type": "stream",
          "name": "stderr",
          "text": [
            "\r 19%|█▉        | 35/180 [00:42<02:50,  1.18s/it]"
          ]
        },
        {
          "output_type": "stream",
          "name": "stdout",
          "text": [
            "\n",
            "0: 640x640 2 chairs, 2 tvs, 546.2ms\n",
            "Speed: 3.0ms preprocess, 546.2ms inference, 1.3ms postprocess per image at shape (1, 3, 640, 640)\n"
          ]
        },
        {
          "output_type": "stream",
          "name": "stderr",
          "text": [
            "\r 20%|██        | 36/180 [00:43<02:26,  1.02s/it]"
          ]
        },
        {
          "output_type": "stream",
          "name": "stdout",
          "text": [
            "\n",
            "0: 640x640 3 chairs, 1 tv, 563.9ms\n",
            "Speed: 2.8ms preprocess, 563.9ms inference, 1.2ms postprocess per image at shape (1, 3, 640, 640)\n"
          ]
        },
        {
          "output_type": "stream",
          "name": "stderr",
          "text": [
            "\r 21%|██        | 37/180 [00:44<02:17,  1.04it/s]"
          ]
        },
        {
          "output_type": "stream",
          "name": "stdout",
          "text": [
            "\n",
            "0: 640x640 1 person, 4 chairs, 2 tvs, 553.5ms\n",
            "Speed: 2.6ms preprocess, 553.5ms inference, 1.3ms postprocess per image at shape (1, 3, 640, 640)\n"
          ]
        },
        {
          "output_type": "stream",
          "name": "stderr",
          "text": [
            "\r 21%|██        | 38/180 [00:45<02:15,  1.05it/s]"
          ]
        },
        {
          "output_type": "stream",
          "name": "stdout",
          "text": [
            "\n",
            "0: 640x640 1 person, 1 frisbee, 4 chairs, 2 tvs, 548.6ms\n",
            "Speed: 3.0ms preprocess, 548.6ms inference, 1.2ms postprocess per image at shape (1, 3, 640, 640)\n"
          ]
        },
        {
          "output_type": "stream",
          "name": "stderr",
          "text": [
            "\r 22%|██▏       | 39/180 [00:45<02:11,  1.07it/s]"
          ]
        },
        {
          "output_type": "stream",
          "name": "stdout",
          "text": [
            "\n",
            "0: 640x640 1 person, 4 chairs, 2 tvs, 537.7ms\n",
            "Speed: 3.8ms preprocess, 537.7ms inference, 1.2ms postprocess per image at shape (1, 3, 640, 640)\n"
          ]
        },
        {
          "output_type": "stream",
          "name": "stderr",
          "text": [
            "\r 22%|██▏       | 40/180 [00:46<02:04,  1.12it/s]"
          ]
        },
        {
          "output_type": "stream",
          "name": "stdout",
          "text": [
            "\n",
            "0: 640x640 1 person, 1 suitcase, 4 chairs, 2 tvs, 542.1ms\n",
            "Speed: 3.4ms preprocess, 542.1ms inference, 1.3ms postprocess per image at shape (1, 3, 640, 640)\n"
          ]
        },
        {
          "output_type": "stream",
          "name": "stderr",
          "text": [
            "\r 23%|██▎       | 41/180 [00:47<02:00,  1.15it/s]"
          ]
        },
        {
          "output_type": "stream",
          "name": "stdout",
          "text": [
            "\n",
            "0: 640x640 1 person, 1 handbag, 5 chairs, 1 tv, 557.6ms\n",
            "Speed: 3.4ms preprocess, 557.6ms inference, 1.2ms postprocess per image at shape (1, 3, 640, 640)\n"
          ]
        },
        {
          "output_type": "stream",
          "name": "stderr",
          "text": [
            "\r 23%|██▎       | 42/180 [00:48<02:01,  1.14it/s]"
          ]
        },
        {
          "output_type": "stream",
          "name": "stdout",
          "text": [
            "\n",
            "0: 640x640 1 person, 1 suitcase, 5 chairs, 1 potted plant, 2 tvs, 562.1ms\n",
            "Speed: 3.3ms preprocess, 562.1ms inference, 2.3ms postprocess per image at shape (1, 3, 640, 640)\n"
          ]
        },
        {
          "output_type": "stream",
          "name": "stderr",
          "text": [
            "\r 24%|██▍       | 43/180 [00:49<02:03,  1.11it/s]"
          ]
        },
        {
          "output_type": "stream",
          "name": "stdout",
          "text": [
            "\n",
            "0: 640x640 1 person, 1 suitcase, 6 chairs, 2 tvs, 567.4ms\n",
            "Speed: 3.4ms preprocess, 567.4ms inference, 1.2ms postprocess per image at shape (1, 3, 640, 640)\n"
          ]
        },
        {
          "output_type": "stream",
          "name": "stderr",
          "text": [
            "\r 24%|██▍       | 44/180 [00:50<02:07,  1.07it/s]"
          ]
        },
        {
          "output_type": "stream",
          "name": "stdout",
          "text": [
            "\n",
            "0: 640x640 1 person, 1 suitcase, 5 chairs, 1 potted plant, 2 tvs, 557.0ms\n",
            "Speed: 2.9ms preprocess, 557.0ms inference, 1.3ms postprocess per image at shape (1, 3, 640, 640)\n"
          ]
        },
        {
          "output_type": "stream",
          "name": "stderr",
          "text": [
            "\r 25%|██▌       | 45/180 [00:51<02:05,  1.08it/s]"
          ]
        },
        {
          "output_type": "stream",
          "name": "stdout",
          "text": [
            "\n",
            "0: 640x640 1 person, 4 chairs, 2 tvs, 583.3ms\n",
            "Speed: 3.5ms preprocess, 583.3ms inference, 1.2ms postprocess per image at shape (1, 3, 640, 640)\n"
          ]
        },
        {
          "output_type": "stream",
          "name": "stderr",
          "text": [
            "\r 26%|██▌       | 46/180 [00:52<02:06,  1.06it/s]"
          ]
        },
        {
          "output_type": "stream",
          "name": "stdout",
          "text": [
            "\n",
            "0: 640x640 1 person, 4 chairs, 2 tvs, 839.9ms\n",
            "Speed: 5.2ms preprocess, 839.9ms inference, 1.6ms postprocess per image at shape (1, 3, 640, 640)\n"
          ]
        },
        {
          "output_type": "stream",
          "name": "stderr",
          "text": [
            "\r 26%|██▌       | 47/180 [00:53<02:16,  1.03s/it]"
          ]
        },
        {
          "output_type": "stream",
          "name": "stdout",
          "text": [
            "\n",
            "0: 640x640 1 person, 1 suitcase, 5 chairs, 1 potted plant, 2 tvs, 846.1ms\n",
            "Speed: 6.9ms preprocess, 846.1ms inference, 2.2ms postprocess per image at shape (1, 3, 640, 640)\n"
          ]
        },
        {
          "output_type": "stream",
          "name": "stderr",
          "text": [
            "\r 27%|██▋       | 48/180 [00:54<02:26,  1.11s/it]"
          ]
        },
        {
          "output_type": "stream",
          "name": "stdout",
          "text": [
            "\n",
            "0: 640x640 1 person, 1 suitcase, 4 chairs, 2 tvs, 833.8ms\n",
            "Speed: 3.4ms preprocess, 833.8ms inference, 1.9ms postprocess per image at shape (1, 3, 640, 640)\n"
          ]
        },
        {
          "output_type": "stream",
          "name": "stderr",
          "text": [
            "\r 27%|██▋       | 49/180 [00:56<02:28,  1.13s/it]"
          ]
        },
        {
          "output_type": "stream",
          "name": "stdout",
          "text": [
            "\n",
            "0: 640x640 1 person, 1 suitcase, 5 chairs, 2 tvs, 830.4ms\n",
            "Speed: 3.1ms preprocess, 830.4ms inference, 1.6ms postprocess per image at shape (1, 3, 640, 640)\n"
          ]
        },
        {
          "output_type": "stream",
          "name": "stderr",
          "text": [
            "\r 28%|██▊       | 50/180 [00:57<02:45,  1.27s/it]"
          ]
        },
        {
          "output_type": "stream",
          "name": "stdout",
          "text": [
            "\n",
            "0: 640x640 1 person, 1 suitcase, 4 chairs, 2 tvs, 557.5ms\n",
            "Speed: 3.2ms preprocess, 557.5ms inference, 1.4ms postprocess per image at shape (1, 3, 640, 640)\n"
          ]
        },
        {
          "output_type": "stream",
          "name": "stderr",
          "text": [
            "\r 28%|██▊       | 51/180 [00:58<02:30,  1.17s/it]"
          ]
        },
        {
          "output_type": "stream",
          "name": "stdout",
          "text": [
            "\n",
            "0: 640x640 1 person, 1 suitcase, 4 chairs, 2 tvs, 550.1ms\n",
            "Speed: 3.8ms preprocess, 550.1ms inference, 1.3ms postprocess per image at shape (1, 3, 640, 640)\n"
          ]
        },
        {
          "output_type": "stream",
          "name": "stderr",
          "text": [
            "\r 29%|██▉       | 52/180 [00:59<02:20,  1.10s/it]"
          ]
        },
        {
          "output_type": "stream",
          "name": "stdout",
          "text": [
            "\n",
            "0: 640x640 1 person, 5 chairs, 1 tv, 1 book, 555.3ms\n",
            "Speed: 3.3ms preprocess, 555.3ms inference, 1.3ms postprocess per image at shape (1, 3, 640, 640)\n"
          ]
        },
        {
          "output_type": "stream",
          "name": "stderr",
          "text": [
            "\r 29%|██▉       | 53/180 [01:00<02:15,  1.07s/it]"
          ]
        },
        {
          "output_type": "stream",
          "name": "stdout",
          "text": [
            "\n",
            "0: 640x640 3 chairs, 2 tvs, 605.9ms\n",
            "Speed: 3.0ms preprocess, 605.9ms inference, 1.2ms postprocess per image at shape (1, 3, 640, 640)\n"
          ]
        },
        {
          "output_type": "stream",
          "name": "stderr",
          "text": [
            "\r 30%|███       | 54/180 [01:01<02:05,  1.00it/s]"
          ]
        },
        {
          "output_type": "stream",
          "name": "stdout",
          "text": [
            "\n",
            "0: 640x640 1 person, 1 suitcase, 3 chairs, 2 tvs, 567.8ms\n",
            "Speed: 2.9ms preprocess, 567.8ms inference, 1.3ms postprocess per image at shape (1, 3, 640, 640)\n"
          ]
        },
        {
          "output_type": "stream",
          "name": "stderr",
          "text": [
            "\r 31%|███       | 55/180 [01:02<02:00,  1.04it/s]"
          ]
        },
        {
          "output_type": "stream",
          "name": "stdout",
          "text": [
            "\n",
            "0: 640x640 1 person, 1 suitcase, 3 chairs, 2 tvs, 550.7ms\n",
            "Speed: 2.9ms preprocess, 550.7ms inference, 1.3ms postprocess per image at shape (1, 3, 640, 640)\n"
          ]
        },
        {
          "output_type": "stream",
          "name": "stderr",
          "text": [
            "\r 31%|███       | 56/180 [01:03<01:56,  1.07it/s]"
          ]
        },
        {
          "output_type": "stream",
          "name": "stdout",
          "text": [
            "\n",
            "0: 640x640 1 person, 1 suitcase, 5 chairs, 2 tvs, 560.0ms\n",
            "Speed: 3.1ms preprocess, 560.0ms inference, 1.3ms postprocess per image at shape (1, 3, 640, 640)\n"
          ]
        },
        {
          "output_type": "stream",
          "name": "stderr",
          "text": [
            "\r 32%|███▏      | 57/180 [01:03<01:54,  1.08it/s]"
          ]
        },
        {
          "output_type": "stream",
          "name": "stdout",
          "text": [
            "\n",
            "0: 640x640 1 person, 1 suitcase, 5 chairs, 1 tv, 552.6ms\n",
            "Speed: 3.8ms preprocess, 552.6ms inference, 1.3ms postprocess per image at shape (1, 3, 640, 640)\n"
          ]
        },
        {
          "output_type": "stream",
          "name": "stderr",
          "text": [
            "\r 32%|███▏      | 58/180 [01:04<01:53,  1.07it/s]"
          ]
        },
        {
          "output_type": "stream",
          "name": "stdout",
          "text": [
            "\n",
            "0: 640x640 1 person, 1 suitcase, 5 chairs, 1 potted plant, 2 tvs, 551.2ms\n",
            "Speed: 4.0ms preprocess, 551.2ms inference, 1.3ms postprocess per image at shape (1, 3, 640, 640)\n"
          ]
        },
        {
          "output_type": "stream",
          "name": "stderr",
          "text": [
            "\r 33%|███▎      | 59/180 [01:05<01:54,  1.05it/s]"
          ]
        },
        {
          "output_type": "stream",
          "name": "stdout",
          "text": [
            "\n",
            "0: 640x640 1 person, 1 handbag, 5 chairs, 1 potted plant, 2 tvs, 553.3ms\n",
            "Speed: 3.1ms preprocess, 553.3ms inference, 1.9ms postprocess per image at shape (1, 3, 640, 640)\n"
          ]
        },
        {
          "output_type": "stream",
          "name": "stderr",
          "text": [
            "\r 33%|███▎      | 60/180 [01:06<01:55,  1.03it/s]"
          ]
        },
        {
          "output_type": "stream",
          "name": "stdout",
          "text": [
            "\n",
            "0: 640x640 1 person, 1 suitcase, 6 chairs, 1 potted plant, 2 tvs, 552.0ms\n",
            "Speed: 3.6ms preprocess, 552.0ms inference, 1.2ms postprocess per image at shape (1, 3, 640, 640)\n"
          ]
        },
        {
          "output_type": "stream",
          "name": "stderr",
          "text": [
            "\r 34%|███▍      | 61/180 [01:07<01:58,  1.00it/s]"
          ]
        },
        {
          "output_type": "stream",
          "name": "stdout",
          "text": [
            "\n",
            "0: 640x640 1 person, 6 chairs, 2 tvs, 840.0ms\n",
            "Speed: 2.8ms preprocess, 840.0ms inference, 1.7ms postprocess per image at shape (1, 3, 640, 640)\n"
          ]
        },
        {
          "output_type": "stream",
          "name": "stderr",
          "text": [
            "\r 34%|███▍      | 62/180 [01:09<02:12,  1.13s/it]"
          ]
        },
        {
          "output_type": "stream",
          "name": "stdout",
          "text": [
            "\n",
            "0: 640x640 1 person, 6 chairs, 1 potted plant, 2 tvs, 846.6ms\n",
            "Speed: 4.9ms preprocess, 846.6ms inference, 1.7ms postprocess per image at shape (1, 3, 640, 640)\n"
          ]
        },
        {
          "output_type": "stream",
          "name": "stderr",
          "text": [
            "\r 35%|███▌      | 63/180 [01:10<02:23,  1.22s/it]"
          ]
        },
        {
          "output_type": "stream",
          "name": "stdout",
          "text": [
            "\n",
            "0: 640x640 1 person, 1 suitcase, 7 chairs, 1 tv, 847.8ms\n",
            "Speed: 2.9ms preprocess, 847.8ms inference, 1.6ms postprocess per image at shape (1, 3, 640, 640)\n"
          ]
        },
        {
          "output_type": "stream",
          "name": "stderr",
          "text": [
            "\r 36%|███▌      | 64/180 [01:12<02:28,  1.28s/it]"
          ]
        },
        {
          "output_type": "stream",
          "name": "stdout",
          "text": [
            "\n",
            "0: 640x640 1 person, 5 chairs, 2 tvs, 819.4ms\n",
            "Speed: 2.9ms preprocess, 819.4ms inference, 1.3ms postprocess per image at shape (1, 3, 640, 640)\n"
          ]
        },
        {
          "output_type": "stream",
          "name": "stderr",
          "text": [
            "\r 36%|███▌      | 65/180 [01:13<02:19,  1.21s/it]"
          ]
        },
        {
          "output_type": "stream",
          "name": "stdout",
          "text": [
            "\n",
            "0: 640x640 1 person, 1 handbag, 1 suitcase, 6 chairs, 2 tvs, 561.7ms\n",
            "Speed: 3.0ms preprocess, 561.7ms inference, 1.3ms postprocess per image at shape (1, 3, 640, 640)\n"
          ]
        },
        {
          "output_type": "stream",
          "name": "stderr",
          "text": [
            "\r 37%|███▋      | 66/180 [01:14<02:11,  1.15s/it]"
          ]
        },
        {
          "output_type": "stream",
          "name": "stdout",
          "text": [
            "\n",
            "0: 640x640 1 person, 1 handbag, 1 suitcase, 5 chairs, 2 tvs, 558.2ms\n",
            "Speed: 3.8ms preprocess, 558.2ms inference, 1.3ms postprocess per image at shape (1, 3, 640, 640)\n"
          ]
        },
        {
          "output_type": "stream",
          "name": "stderr",
          "text": [
            "\r 37%|███▋      | 67/180 [01:15<02:03,  1.10s/it]"
          ]
        },
        {
          "output_type": "stream",
          "name": "stdout",
          "text": [
            "\n",
            "0: 640x640 1 person, 1 suitcase, 4 chairs, 1 potted plant, 2 tvs, 564.8ms\n",
            "Speed: 3.5ms preprocess, 564.8ms inference, 1.4ms postprocess per image at shape (1, 3, 640, 640)\n"
          ]
        },
        {
          "output_type": "stream",
          "name": "stderr",
          "text": [
            "\r 38%|███▊      | 68/180 [01:16<02:00,  1.07s/it]"
          ]
        },
        {
          "output_type": "stream",
          "name": "stdout",
          "text": [
            "\n",
            "0: 640x640 1 person, 1 suitcase, 5 chairs, 2 tvs, 556.7ms\n",
            "Speed: 3.5ms preprocess, 556.7ms inference, 1.3ms postprocess per image at shape (1, 3, 640, 640)\n"
          ]
        },
        {
          "output_type": "stream",
          "name": "stderr",
          "text": [
            "\r 38%|███▊      | 69/180 [01:17<01:56,  1.05s/it]"
          ]
        },
        {
          "output_type": "stream",
          "name": "stdout",
          "text": [
            "\n",
            "0: 640x640 1 person, 1 handbag, 1 suitcase, 3 chairs, 1 tv, 560.8ms\n",
            "Speed: 3.6ms preprocess, 560.8ms inference, 1.3ms postprocess per image at shape (1, 3, 640, 640)\n"
          ]
        },
        {
          "output_type": "stream",
          "name": "stderr",
          "text": [
            "\r 39%|███▉      | 70/180 [01:18<01:49,  1.00it/s]"
          ]
        },
        {
          "output_type": "stream",
          "name": "stdout",
          "text": [
            "\n",
            "0: 640x640 1 person, 1 suitcase, 6 chairs, 1 tv, 550.1ms\n",
            "Speed: 3.2ms preprocess, 550.1ms inference, 1.3ms postprocess per image at shape (1, 3, 640, 640)\n"
          ]
        },
        {
          "output_type": "stream",
          "name": "stderr",
          "text": [
            "\r 39%|███▉      | 71/180 [01:19<01:48,  1.01it/s]"
          ]
        },
        {
          "output_type": "stream",
          "name": "stdout",
          "text": [
            "\n",
            "0: 640x640 1 person, 1 suitcase, 6 chairs, 1 tv, 542.8ms\n",
            "Speed: 3.9ms preprocess, 542.8ms inference, 1.2ms postprocess per image at shape (1, 3, 640, 640)\n"
          ]
        },
        {
          "output_type": "stream",
          "name": "stderr",
          "text": [
            "\r 40%|████      | 72/180 [01:20<01:45,  1.02it/s]"
          ]
        },
        {
          "output_type": "stream",
          "name": "stdout",
          "text": [
            "\n",
            "0: 640x640 1 person, 1 suitcase, 4 chairs, 1 tv, 548.9ms\n",
            "Speed: 3.0ms preprocess, 548.9ms inference, 1.2ms postprocess per image at shape (1, 3, 640, 640)\n"
          ]
        },
        {
          "output_type": "stream",
          "name": "stderr",
          "text": [
            "\r 41%|████      | 73/180 [01:21<01:44,  1.02it/s]"
          ]
        },
        {
          "output_type": "stream",
          "name": "stdout",
          "text": [
            "\n",
            "0: 640x640 1 person, 1 suitcase, 5 chairs, 1 tv, 551.8ms\n",
            "Speed: 3.2ms preprocess, 551.8ms inference, 1.2ms postprocess per image at shape (1, 3, 640, 640)\n"
          ]
        },
        {
          "output_type": "stream",
          "name": "stderr",
          "text": [
            "\r 41%|████      | 74/180 [01:22<01:43,  1.02it/s]"
          ]
        },
        {
          "output_type": "stream",
          "name": "stdout",
          "text": [
            "\n",
            "0: 640x640 1 person, 1 suitcase, 6 chairs, 1 tv, 545.0ms\n",
            "Speed: 3.4ms preprocess, 545.0ms inference, 1.3ms postprocess per image at shape (1, 3, 640, 640)\n"
          ]
        },
        {
          "output_type": "stream",
          "name": "stderr",
          "text": [
            "\r 42%|████▏     | 75/180 [01:23<01:41,  1.03it/s]"
          ]
        },
        {
          "output_type": "stream",
          "name": "stdout",
          "text": [
            "\n",
            "0: 640x640 1 person, 5 chairs, 1 tv, 854.2ms\n",
            "Speed: 3.4ms preprocess, 854.2ms inference, 1.6ms postprocess per image at shape (1, 3, 640, 640)\n"
          ]
        },
        {
          "output_type": "stream",
          "name": "stderr",
          "text": [
            "\r 42%|████▏     | 76/180 [01:24<01:45,  1.02s/it]"
          ]
        },
        {
          "output_type": "stream",
          "name": "stdout",
          "text": [
            "\n",
            "0: 640x640 1 person, 4 chairs, 1 tv, 845.5ms\n",
            "Speed: 3.7ms preprocess, 845.5ms inference, 1.6ms postprocess per image at shape (1, 3, 640, 640)\n"
          ]
        },
        {
          "output_type": "stream",
          "name": "stderr",
          "text": [
            "\r 43%|████▎     | 77/180 [01:25<01:53,  1.10s/it]"
          ]
        },
        {
          "output_type": "stream",
          "name": "stdout",
          "text": [
            "\n",
            "0: 640x640 1 person, 6 chairs, 1 tv, 854.8ms\n",
            "Speed: 2.7ms preprocess, 854.8ms inference, 1.7ms postprocess per image at shape (1, 3, 640, 640)\n"
          ]
        },
        {
          "output_type": "stream",
          "name": "stderr",
          "text": [
            "\r 43%|████▎     | 78/180 [01:26<02:02,  1.20s/it]"
          ]
        },
        {
          "output_type": "stream",
          "name": "stdout",
          "text": [
            "\n",
            "0: 640x640 1 person, 5 chairs, 1 tv, 834.1ms\n",
            "Speed: 2.8ms preprocess, 834.1ms inference, 1.8ms postprocess per image at shape (1, 3, 640, 640)\n"
          ]
        },
        {
          "output_type": "stream",
          "name": "stderr",
          "text": [
            "\r 44%|████▍     | 79/180 [01:28<02:05,  1.24s/it]"
          ]
        },
        {
          "output_type": "stream",
          "name": "stdout",
          "text": [
            "\n",
            "0: 640x640 1 person, 1 suitcase, 4 chairs, 1 tv, 666.9ms\n",
            "Speed: 6.4ms preprocess, 666.9ms inference, 1.3ms postprocess per image at shape (1, 3, 640, 640)\n"
          ]
        },
        {
          "output_type": "stream",
          "name": "stderr",
          "text": [
            "\r 44%|████▍     | 80/180 [01:29<01:56,  1.16s/it]"
          ]
        },
        {
          "output_type": "stream",
          "name": "stdout",
          "text": [
            "\n",
            "0: 640x640 1 person, 1 suitcase, 5 chairs, 1 tv, 555.4ms\n",
            "Speed: 4.1ms preprocess, 555.4ms inference, 1.2ms postprocess per image at shape (1, 3, 640, 640)\n"
          ]
        },
        {
          "output_type": "stream",
          "name": "stderr",
          "text": [
            "\r 45%|████▌     | 81/180 [01:30<01:47,  1.09s/it]"
          ]
        },
        {
          "output_type": "stream",
          "name": "stdout",
          "text": [
            "\n",
            "0: 640x640 1 person, 1 handbag, 1 suitcase, 4 chairs, 1 tv, 556.6ms\n",
            "Speed: 4.9ms preprocess, 556.6ms inference, 1.2ms postprocess per image at shape (1, 3, 640, 640)\n"
          ]
        },
        {
          "output_type": "stream",
          "name": "stderr",
          "text": [
            "\r 46%|████▌     | 82/180 [01:30<01:39,  1.02s/it]"
          ]
        },
        {
          "output_type": "stream",
          "name": "stdout",
          "text": [
            "\n",
            "0: 640x640 1 person, 1 suitcase, 6 chairs, 1 tv, 559.2ms\n",
            "Speed: 3.9ms preprocess, 559.2ms inference, 1.3ms postprocess per image at shape (1, 3, 640, 640)\n"
          ]
        },
        {
          "output_type": "stream",
          "name": "stderr",
          "text": [
            "\r 46%|████▌     | 83/180 [01:31<01:37,  1.01s/it]"
          ]
        },
        {
          "output_type": "stream",
          "name": "stdout",
          "text": [
            "\n",
            "0: 640x640 1 person, 1 suitcase, 5 chairs, 1 tv, 558.9ms\n",
            "Speed: 3.5ms preprocess, 558.9ms inference, 1.3ms postprocess per image at shape (1, 3, 640, 640)\n"
          ]
        },
        {
          "output_type": "stream",
          "name": "stderr",
          "text": [
            "\r 47%|████▋     | 84/180 [01:32<01:34,  1.01it/s]"
          ]
        },
        {
          "output_type": "stream",
          "name": "stdout",
          "text": [
            "\n",
            "0: 640x640 1 person, 1 suitcase, 6 chairs, 1 tv, 554.0ms\n",
            "Speed: 3.3ms preprocess, 554.0ms inference, 1.3ms postprocess per image at shape (1, 3, 640, 640)\n"
          ]
        },
        {
          "output_type": "stream",
          "name": "stderr",
          "text": [
            "\r 47%|████▋     | 85/180 [01:33<01:32,  1.03it/s]"
          ]
        },
        {
          "output_type": "stream",
          "name": "stdout",
          "text": [
            "\n",
            "0: 640x640 1 person, 1 suitcase, 5 chairs, 1 tv, 560.5ms\n",
            "Speed: 4.1ms preprocess, 560.5ms inference, 1.3ms postprocess per image at shape (1, 3, 640, 640)\n"
          ]
        },
        {
          "output_type": "stream",
          "name": "stderr",
          "text": [
            "\r 48%|████▊     | 86/180 [01:34<01:30,  1.04it/s]"
          ]
        },
        {
          "output_type": "stream",
          "name": "stdout",
          "text": [
            "\n",
            "0: 640x640 1 person, 1 handbag, 1 suitcase, 5 chairs, 1 tv, 552.6ms\n",
            "Speed: 3.6ms preprocess, 552.6ms inference, 1.3ms postprocess per image at shape (1, 3, 640, 640)\n"
          ]
        },
        {
          "output_type": "stream",
          "name": "stderr",
          "text": [
            "\r 48%|████▊     | 87/180 [01:35<01:27,  1.06it/s]"
          ]
        },
        {
          "output_type": "stream",
          "name": "stdout",
          "text": [
            "\n",
            "0: 640x640 1 person, 1 handbag, 1 suitcase, 5 chairs, 1 tv, 549.7ms\n",
            "Speed: 3.1ms preprocess, 549.7ms inference, 1.3ms postprocess per image at shape (1, 3, 640, 640)\n"
          ]
        },
        {
          "output_type": "stream",
          "name": "stderr",
          "text": [
            "\r 49%|████▉     | 88/180 [01:36<01:26,  1.06it/s]"
          ]
        },
        {
          "output_type": "stream",
          "name": "stdout",
          "text": [
            "\n",
            "0: 640x640 1 person, 1 handbag, 6 chairs, 1 tv, 557.4ms\n",
            "Speed: 5.2ms preprocess, 557.4ms inference, 1.3ms postprocess per image at shape (1, 3, 640, 640)\n"
          ]
        },
        {
          "output_type": "stream",
          "name": "stderr",
          "text": [
            "\r 49%|████▉     | 89/180 [01:37<01:26,  1.05it/s]"
          ]
        },
        {
          "output_type": "stream",
          "name": "stdout",
          "text": [
            "\n",
            "0: 640x640 1 person, 1 handbag, 4 chairs, 1 tv, 544.8ms\n",
            "Speed: 3.5ms preprocess, 544.8ms inference, 1.3ms postprocess per image at shape (1, 3, 640, 640)\n"
          ]
        },
        {
          "output_type": "stream",
          "name": "stderr",
          "text": [
            "\r 50%|█████     | 90/180 [01:38<01:24,  1.07it/s]"
          ]
        },
        {
          "output_type": "stream",
          "name": "stdout",
          "text": [
            "\n",
            "0: 640x640 1 person, 1 handbag, 4 chairs, 1 tv, 857.3ms\n",
            "Speed: 3.3ms preprocess, 857.3ms inference, 1.6ms postprocess per image at shape (1, 3, 640, 640)\n"
          ]
        },
        {
          "output_type": "stream",
          "name": "stderr",
          "text": [
            "\r 51%|█████     | 91/180 [01:39<01:32,  1.04s/it]"
          ]
        },
        {
          "output_type": "stream",
          "name": "stdout",
          "text": [
            "\n",
            "0: 640x640 1 person, 1 handbag, 4 chairs, 1 tv, 840.9ms\n",
            "Speed: 8.7ms preprocess, 840.9ms inference, 1.6ms postprocess per image at shape (1, 3, 640, 640)\n"
          ]
        },
        {
          "output_type": "stream",
          "name": "stderr",
          "text": [
            "\r 51%|█████     | 92/180 [01:41<01:39,  1.13s/it]"
          ]
        },
        {
          "output_type": "stream",
          "name": "stdout",
          "text": [
            "\n",
            "0: 640x640 1 person, 1 handbag, 5 chairs, 1 tv, 847.5ms\n",
            "Speed: 3.8ms preprocess, 847.5ms inference, 1.6ms postprocess per image at shape (1, 3, 640, 640)\n"
          ]
        },
        {
          "output_type": "stream",
          "name": "stderr",
          "text": [
            "\r 52%|█████▏    | 93/180 [01:42<01:42,  1.18s/it]"
          ]
        },
        {
          "output_type": "stream",
          "name": "stdout",
          "text": [
            "\n",
            "0: 640x640 1 person, 1 handbag, 1 suitcase, 5 chairs, 1 tv, 846.4ms\n",
            "Speed: 6.7ms preprocess, 846.4ms inference, 1.9ms postprocess per image at shape (1, 3, 640, 640)\n"
          ]
        },
        {
          "output_type": "stream",
          "name": "stderr",
          "text": [
            "\r 52%|█████▏    | 94/180 [01:43<01:46,  1.24s/it]"
          ]
        },
        {
          "output_type": "stream",
          "name": "stdout",
          "text": [
            "\n",
            "0: 640x640 1 person, 1 handbag, 1 suitcase, 5 chairs, 1 tv, 636.1ms\n",
            "Speed: 3.7ms preprocess, 636.1ms inference, 1.3ms postprocess per image at shape (1, 3, 640, 640)\n"
          ]
        },
        {
          "output_type": "stream",
          "name": "stderr",
          "text": [
            "\r 53%|█████▎    | 95/180 [01:44<01:41,  1.19s/it]"
          ]
        },
        {
          "output_type": "stream",
          "name": "stdout",
          "text": [
            "\n",
            "0: 640x640 1 person, 1 suitcase, 6 chairs, 2 tvs, 535.9ms\n",
            "Speed: 4.1ms preprocess, 535.9ms inference, 1.2ms postprocess per image at shape (1, 3, 640, 640)\n"
          ]
        },
        {
          "output_type": "stream",
          "name": "stderr",
          "text": [
            "\r 53%|█████▎    | 96/180 [01:46<01:39,  1.18s/it]"
          ]
        },
        {
          "output_type": "stream",
          "name": "stdout",
          "text": [
            "\n",
            "0: 640x640 1 person, 4 chairs, 1 tv, 551.3ms\n",
            "Speed: 3.4ms preprocess, 551.3ms inference, 1.4ms postprocess per image at shape (1, 3, 640, 640)\n"
          ]
        },
        {
          "output_type": "stream",
          "name": "stderr",
          "text": [
            "\r 54%|█████▍    | 97/180 [01:46<01:28,  1.07s/it]"
          ]
        },
        {
          "output_type": "stream",
          "name": "stdout",
          "text": [
            "\n",
            "0: 640x640 1 person, 1 suitcase, 4 chairs, 1 tv, 559.0ms\n",
            "Speed: 3.5ms preprocess, 559.0ms inference, 1.2ms postprocess per image at shape (1, 3, 640, 640)\n"
          ]
        },
        {
          "output_type": "stream",
          "name": "stderr",
          "text": [
            "\r 54%|█████▍    | 98/180 [01:47<01:23,  1.02s/it]"
          ]
        },
        {
          "output_type": "stream",
          "name": "stdout",
          "text": [
            "\n",
            "0: 640x640 1 person, 1 suitcase, 5 chairs, 1 tv, 555.2ms\n",
            "Speed: 2.9ms preprocess, 555.2ms inference, 1.2ms postprocess per image at shape (1, 3, 640, 640)\n"
          ]
        },
        {
          "output_type": "stream",
          "name": "stderr",
          "text": [
            "\r 55%|█████▌    | 99/180 [01:48<01:18,  1.03it/s]"
          ]
        },
        {
          "output_type": "stream",
          "name": "stdout",
          "text": [
            "\n",
            "0: 640x640 1 person, 1 handbag, 1 suitcase, 4 chairs, 1 tv, 559.0ms\n",
            "Speed: 3.3ms preprocess, 559.0ms inference, 1.2ms postprocess per image at shape (1, 3, 640, 640)\n"
          ]
        },
        {
          "output_type": "stream",
          "name": "stderr",
          "text": [
            "\r 56%|█████▌    | 100/180 [01:49<01:17,  1.03it/s]"
          ]
        },
        {
          "output_type": "stream",
          "name": "stdout",
          "text": [
            "\n",
            "0: 640x640 1 person, 1 handbag, 1 suitcase, 5 chairs, 1 tv, 550.6ms\n",
            "Speed: 2.9ms preprocess, 550.6ms inference, 1.4ms postprocess per image at shape (1, 3, 640, 640)\n"
          ]
        },
        {
          "output_type": "stream",
          "name": "stderr",
          "text": [
            "\r 56%|█████▌    | 101/180 [01:50<01:14,  1.06it/s]"
          ]
        },
        {
          "output_type": "stream",
          "name": "stdout",
          "text": [
            "\n",
            "0: 640x640 1 person, 5 chairs, 1 tv, 560.4ms\n",
            "Speed: 3.0ms preprocess, 560.4ms inference, 1.3ms postprocess per image at shape (1, 3, 640, 640)\n"
          ]
        },
        {
          "output_type": "stream",
          "name": "stderr",
          "text": [
            "\r 57%|█████▋    | 102/180 [01:51<01:10,  1.11it/s]"
          ]
        },
        {
          "output_type": "stream",
          "name": "stdout",
          "text": [
            "\n",
            "0: 640x640 1 person, 1 suitcase, 5 chairs, 1 tv, 561.1ms\n",
            "Speed: 2.9ms preprocess, 561.1ms inference, 1.3ms postprocess per image at shape (1, 3, 640, 640)\n"
          ]
        },
        {
          "output_type": "stream",
          "name": "stderr",
          "text": [
            "\r 57%|█████▋    | 103/180 [01:52<01:08,  1.12it/s]"
          ]
        },
        {
          "output_type": "stream",
          "name": "stdout",
          "text": [
            "\n",
            "0: 640x640 1 person, 1 suitcase, 5 chairs, 1 tv, 544.2ms\n",
            "Speed: 3.2ms preprocess, 544.2ms inference, 1.2ms postprocess per image at shape (1, 3, 640, 640)\n"
          ]
        },
        {
          "output_type": "stream",
          "name": "stderr",
          "text": [
            "\r 58%|█████▊    | 104/180 [01:52<01:05,  1.16it/s]"
          ]
        },
        {
          "output_type": "stream",
          "name": "stdout",
          "text": [
            "\n",
            "0: 640x640 1 person, 1 handbag, 5 chairs, 1 tv, 1 remote, 556.2ms\n",
            "Speed: 3.3ms preprocess, 556.2ms inference, 1.2ms postprocess per image at shape (1, 3, 640, 640)\n"
          ]
        },
        {
          "output_type": "stream",
          "name": "stderr",
          "text": [
            "\r 58%|█████▊    | 105/180 [01:53<01:06,  1.13it/s]"
          ]
        },
        {
          "output_type": "stream",
          "name": "stdout",
          "text": [
            "\n",
            "0: 640x640 1 person, 5 chairs, 1 tv, 778.5ms\n",
            "Speed: 5.1ms preprocess, 778.5ms inference, 1.7ms postprocess per image at shape (1, 3, 640, 640)\n"
          ]
        },
        {
          "output_type": "stream",
          "name": "stderr",
          "text": [
            "\r 59%|█████▉    | 106/180 [01:55<01:14,  1.01s/it]"
          ]
        },
        {
          "output_type": "stream",
          "name": "stdout",
          "text": [
            "\n",
            "0: 640x640 1 person, 1 handbag, 1 suitcase, 5 chairs, 1 tv, 844.7ms\n",
            "Speed: 2.6ms preprocess, 844.7ms inference, 1.6ms postprocess per image at shape (1, 3, 640, 640)\n"
          ]
        },
        {
          "output_type": "stream",
          "name": "stderr",
          "text": [
            "\r 59%|█████▉    | 107/180 [01:56<01:22,  1.14s/it]"
          ]
        },
        {
          "output_type": "stream",
          "name": "stdout",
          "text": [
            "\n",
            "0: 640x640 1 person, 1 suitcase, 5 chairs, 1 tv, 852.4ms\n",
            "Speed: 2.7ms preprocess, 852.4ms inference, 1.5ms postprocess per image at shape (1, 3, 640, 640)\n"
          ]
        },
        {
          "output_type": "stream",
          "name": "stderr",
          "text": [
            "\r 60%|██████    | 108/180 [01:57<01:26,  1.20s/it]"
          ]
        },
        {
          "output_type": "stream",
          "name": "stdout",
          "text": [
            "\n",
            "0: 640x640 1 person, 1 suitcase, 5 chairs, 1 tv, 841.0ms\n",
            "Speed: 2.8ms preprocess, 841.0ms inference, 1.8ms postprocess per image at shape (1, 3, 640, 640)\n"
          ]
        },
        {
          "output_type": "stream",
          "name": "stderr",
          "text": [
            "\r 61%|██████    | 109/180 [01:59<01:28,  1.25s/it]"
          ]
        },
        {
          "output_type": "stream",
          "name": "stdout",
          "text": [
            "\n",
            "0: 640x640 1 person, 1 suitcase, 5 chairs, 1 tv, 646.1ms\n",
            "Speed: 3.0ms preprocess, 646.1ms inference, 1.3ms postprocess per image at shape (1, 3, 640, 640)\n"
          ]
        },
        {
          "output_type": "stream",
          "name": "stderr",
          "text": [
            "\r 61%|██████    | 110/180 [02:00<01:24,  1.20s/it]"
          ]
        },
        {
          "output_type": "stream",
          "name": "stdout",
          "text": [
            "\n",
            "0: 640x640 1 person, 5 chairs, 1 tv, 537.7ms\n",
            "Speed: 2.9ms preprocess, 537.7ms inference, 1.3ms postprocess per image at shape (1, 3, 640, 640)\n"
          ]
        },
        {
          "output_type": "stream",
          "name": "stderr",
          "text": [
            "\r 62%|██████▏   | 111/180 [02:01<01:14,  1.09s/it]"
          ]
        },
        {
          "output_type": "stream",
          "name": "stdout",
          "text": [
            "\n",
            "0: 640x640 1 person, 1 handbag, 4 chairs, 1 tv, 612.3ms\n",
            "Speed: 2.9ms preprocess, 612.3ms inference, 1.3ms postprocess per image at shape (1, 3, 640, 640)\n"
          ]
        },
        {
          "output_type": "stream",
          "name": "stderr",
          "text": [
            "\r 62%|██████▏   | 112/180 [02:02<01:10,  1.04s/it]"
          ]
        },
        {
          "output_type": "stream",
          "name": "stdout",
          "text": [
            "\n",
            "0: 640x640 1 person, 1 handbag, 1 suitcase, 4 chairs, 1 tv, 556.5ms\n",
            "Speed: 2.9ms preprocess, 556.5ms inference, 1.3ms postprocess per image at shape (1, 3, 640, 640)\n"
          ]
        },
        {
          "output_type": "stream",
          "name": "stderr",
          "text": [
            "\r 63%|██████▎   | 113/180 [02:03<01:07,  1.00s/it]"
          ]
        },
        {
          "output_type": "stream",
          "name": "stdout",
          "text": [
            "\n",
            "0: 640x640 1 person, 1 handbag, 4 chairs, 1 tv, 570.7ms\n",
            "Speed: 2.9ms preprocess, 570.7ms inference, 1.3ms postprocess per image at shape (1, 3, 640, 640)\n"
          ]
        },
        {
          "output_type": "stream",
          "name": "stderr",
          "text": [
            "\r 63%|██████▎   | 114/180 [02:03<01:01,  1.07it/s]"
          ]
        },
        {
          "output_type": "stream",
          "name": "stdout",
          "text": [
            "\n",
            "0: 640x640 1 person, 1 handbag, 4 chairs, 1 tv, 540.3ms\n",
            "Speed: 2.9ms preprocess, 540.3ms inference, 1.2ms postprocess per image at shape (1, 3, 640, 640)\n"
          ]
        },
        {
          "output_type": "stream",
          "name": "stderr",
          "text": [
            "\r 64%|██████▍   | 115/180 [02:04<00:58,  1.10it/s]"
          ]
        },
        {
          "output_type": "stream",
          "name": "stdout",
          "text": [
            "\n",
            "0: 640x640 1 person, 1 handbag, 4 chairs, 1 tv, 554.1ms\n",
            "Speed: 3.8ms preprocess, 554.1ms inference, 1.3ms postprocess per image at shape (1, 3, 640, 640)\n"
          ]
        },
        {
          "output_type": "stream",
          "name": "stderr",
          "text": [
            "\r 64%|██████▍   | 116/180 [02:05<00:58,  1.10it/s]"
          ]
        },
        {
          "output_type": "stream",
          "name": "stdout",
          "text": [
            "\n",
            "0: 640x640 1 person, 1 handbag, 1 bottle, 6 chairs, 1 tv, 549.4ms\n",
            "Speed: 3.3ms preprocess, 549.4ms inference, 1.2ms postprocess per image at shape (1, 3, 640, 640)\n"
          ]
        },
        {
          "output_type": "stream",
          "name": "stderr",
          "text": [
            "\r 65%|██████▌   | 117/180 [02:06<00:58,  1.07it/s]"
          ]
        },
        {
          "output_type": "stream",
          "name": "stdout",
          "text": [
            "\n",
            "0: 640x640 1 person, 1 handbag, 1 suitcase, 5 chairs, 1 tv, 544.6ms\n",
            "Speed: 4.2ms preprocess, 544.6ms inference, 1.3ms postprocess per image at shape (1, 3, 640, 640)\n"
          ]
        },
        {
          "output_type": "stream",
          "name": "stderr",
          "text": [
            "\r 66%|██████▌   | 118/180 [02:07<00:55,  1.11it/s]"
          ]
        },
        {
          "output_type": "stream",
          "name": "stdout",
          "text": [
            "\n",
            "0: 640x640 1 person, 1 handbag, 1 suitcase, 4 chairs, 1 tv, 567.4ms\n",
            "Speed: 2.7ms preprocess, 567.4ms inference, 1.2ms postprocess per image at shape (1, 3, 640, 640)\n"
          ]
        },
        {
          "output_type": "stream",
          "name": "stderr",
          "text": [
            "\r 66%|██████▌   | 119/180 [02:08<00:55,  1.10it/s]"
          ]
        },
        {
          "output_type": "stream",
          "name": "stdout",
          "text": [
            "\n",
            "0: 640x640 1 person, 1 suitcase, 4 chairs, 1 tv, 557.5ms\n",
            "Speed: 4.5ms preprocess, 557.5ms inference, 1.3ms postprocess per image at shape (1, 3, 640, 640)\n"
          ]
        },
        {
          "output_type": "stream",
          "name": "stderr",
          "text": [
            "\r 67%|██████▋   | 120/180 [02:09<00:53,  1.12it/s]"
          ]
        },
        {
          "output_type": "stream",
          "name": "stdout",
          "text": [
            "\n",
            "0: 640x640 1 person, 1 suitcase, 3 chairs, 1 tv, 696.2ms\n",
            "Speed: 3.5ms preprocess, 696.2ms inference, 1.8ms postprocess per image at shape (1, 3, 640, 640)\n"
          ]
        },
        {
          "output_type": "stream",
          "name": "stderr",
          "text": [
            "\r 67%|██████▋   | 121/180 [02:10<00:58,  1.01it/s]"
          ]
        },
        {
          "output_type": "stream",
          "name": "stdout",
          "text": [
            "\n",
            "0: 640x640 1 person, 1 suitcase, 5 chairs, 1 tv, 849.7ms\n",
            "Speed: 3.2ms preprocess, 849.7ms inference, 1.6ms postprocess per image at shape (1, 3, 640, 640)\n"
          ]
        },
        {
          "output_type": "stream",
          "name": "stderr",
          "text": [
            "\r 68%|██████▊   | 122/180 [02:11<01:04,  1.11s/it]"
          ]
        },
        {
          "output_type": "stream",
          "name": "stdout",
          "text": [
            "\n",
            "0: 640x640 1 person, 1 suitcase, 4 chairs, 1 tv, 876.6ms\n",
            "Speed: 3.4ms preprocess, 876.6ms inference, 1.6ms postprocess per image at shape (1, 3, 640, 640)\n"
          ]
        },
        {
          "output_type": "stream",
          "name": "stderr",
          "text": [
            "\r 68%|██████▊   | 123/180 [02:13<01:08,  1.20s/it]"
          ]
        },
        {
          "output_type": "stream",
          "name": "stdout",
          "text": [
            "\n",
            "0: 640x640 1 person, 1 backpack, 1 handbag, 1 suitcase, 4 chairs, 1 tv, 860.1ms\n",
            "Speed: 3.0ms preprocess, 860.1ms inference, 1.5ms postprocess per image at shape (1, 3, 640, 640)\n"
          ]
        },
        {
          "output_type": "stream",
          "name": "stderr",
          "text": [
            "\r 69%|██████▉   | 124/180 [02:14<01:13,  1.30s/it]"
          ]
        },
        {
          "output_type": "stream",
          "name": "stdout",
          "text": [
            "\n",
            "0: 640x640 1 person, 1 handbag, 5 chairs, 1 tv, 661.8ms\n",
            "Speed: 2.8ms preprocess, 661.8ms inference, 1.2ms postprocess per image at shape (1, 3, 640, 640)\n"
          ]
        },
        {
          "output_type": "stream",
          "name": "stderr",
          "text": [
            "\r 69%|██████▉   | 125/180 [02:15<01:07,  1.23s/it]"
          ]
        },
        {
          "output_type": "stream",
          "name": "stdout",
          "text": [
            "\n",
            "0: 640x640 1 person, 1 handbag, 5 chairs, 2 tvs, 549.5ms\n",
            "Speed: 2.7ms preprocess, 549.5ms inference, 1.2ms postprocess per image at shape (1, 3, 640, 640)\n"
          ]
        },
        {
          "output_type": "stream",
          "name": "stderr",
          "text": [
            "\r 70%|███████   | 126/180 [02:16<01:01,  1.14s/it]"
          ]
        },
        {
          "output_type": "stream",
          "name": "stdout",
          "text": [
            "\n",
            "0: 640x640 1 person, 1 handbag, 1 bottle, 6 chairs, 1 tv, 554.6ms\n",
            "Speed: 2.7ms preprocess, 554.6ms inference, 1.3ms postprocess per image at shape (1, 3, 640, 640)\n"
          ]
        },
        {
          "output_type": "stream",
          "name": "stderr",
          "text": [
            "\r 71%|███████   | 127/180 [02:17<00:55,  1.04s/it]"
          ]
        },
        {
          "output_type": "stream",
          "name": "stdout",
          "text": [
            "\n",
            "0: 640x640 1 person, 1 handbag, 6 chairs, 1 tv, 560.4ms\n",
            "Speed: 2.8ms preprocess, 560.4ms inference, 1.3ms postprocess per image at shape (1, 3, 640, 640)\n"
          ]
        },
        {
          "output_type": "stream",
          "name": "stderr",
          "text": [
            "\r 71%|███████   | 128/180 [02:18<00:53,  1.02s/it]"
          ]
        },
        {
          "output_type": "stream",
          "name": "stdout",
          "text": [
            "\n",
            "0: 640x640 1 person, 1 suitcase, 5 chairs, 1 tv, 553.8ms\n",
            "Speed: 3.3ms preprocess, 553.8ms inference, 2.0ms postprocess per image at shape (1, 3, 640, 640)\n"
          ]
        },
        {
          "output_type": "stream",
          "name": "stderr",
          "text": [
            "\r 72%|███████▏  | 129/180 [02:19<00:50,  1.01it/s]"
          ]
        },
        {
          "output_type": "stream",
          "name": "stdout",
          "text": [
            "\n",
            "0: 640x640 1 person, 1 handbag, 6 chairs, 1 tv, 551.6ms\n",
            "Speed: 5.4ms preprocess, 551.6ms inference, 1.3ms postprocess per image at shape (1, 3, 640, 640)\n"
          ]
        },
        {
          "output_type": "stream",
          "name": "stderr",
          "text": [
            "\r 72%|███████▏  | 130/180 [02:20<00:49,  1.01it/s]"
          ]
        },
        {
          "output_type": "stream",
          "name": "stdout",
          "text": [
            "\n",
            "0: 640x640 1 person, 1 suitcase, 1 bowl, 6 chairs, 1 tv, 548.1ms\n",
            "Speed: 3.8ms preprocess, 548.1ms inference, 1.3ms postprocess per image at shape (1, 3, 640, 640)\n"
          ]
        },
        {
          "output_type": "stream",
          "name": "stderr",
          "text": [
            "\r 73%|███████▎  | 131/180 [02:21<00:49,  1.01s/it]"
          ]
        },
        {
          "output_type": "stream",
          "name": "stdout",
          "text": [
            "\n",
            "0: 640x640 1 person, 1 handbag, 1 suitcase, 6 chairs, 1 tv, 549.5ms\n",
            "Speed: 2.9ms preprocess, 549.5ms inference, 1.2ms postprocess per image at shape (1, 3, 640, 640)\n"
          ]
        },
        {
          "output_type": "stream",
          "name": "stderr",
          "text": [
            "\r 73%|███████▎  | 132/180 [02:22<00:49,  1.03s/it]"
          ]
        },
        {
          "output_type": "stream",
          "name": "stdout",
          "text": [
            "\n",
            "0: 640x640 1 person, 1 suitcase, 5 chairs, 548.2ms\n",
            "Speed: 3.0ms preprocess, 548.2ms inference, 1.3ms postprocess per image at shape (1, 3, 640, 640)\n"
          ]
        },
        {
          "output_type": "stream",
          "name": "stderr",
          "text": [
            "\r 74%|███████▍  | 133/180 [02:23<00:47,  1.02s/it]"
          ]
        },
        {
          "output_type": "stream",
          "name": "stdout",
          "text": [
            "\n",
            "0: 640x640 1 person, 1 suitcase, 4 chairs, 1 tv, 552.1ms\n",
            "Speed: 3.0ms preprocess, 552.1ms inference, 1.3ms postprocess per image at shape (1, 3, 640, 640)\n"
          ]
        },
        {
          "output_type": "stream",
          "name": "stderr",
          "text": [
            "\r 74%|███████▍  | 134/180 [02:24<00:46,  1.00s/it]"
          ]
        },
        {
          "output_type": "stream",
          "name": "stdout",
          "text": [
            "\n",
            "0: 640x640 1 person, 1 suitcase, 6 chairs, 1 tv, 539.3ms\n",
            "Speed: 2.7ms preprocess, 539.3ms inference, 1.2ms postprocess per image at shape (1, 3, 640, 640)\n"
          ]
        },
        {
          "output_type": "stream",
          "name": "stderr",
          "text": [
            "\r 75%|███████▌  | 135/180 [02:25<00:49,  1.09s/it]"
          ]
        },
        {
          "output_type": "stream",
          "name": "stdout",
          "text": [
            "\n",
            "0: 640x640 1 person, 1 handbag, 1 suitcase, 5 chairs, 1 potted plant, 1 tv, 844.0ms\n",
            "Speed: 2.7ms preprocess, 844.0ms inference, 1.7ms postprocess per image at shape (1, 3, 640, 640)\n"
          ]
        },
        {
          "output_type": "stream",
          "name": "stderr",
          "text": [
            "\r 76%|███████▌  | 136/180 [02:27<00:51,  1.17s/it]"
          ]
        },
        {
          "output_type": "stream",
          "name": "stdout",
          "text": [
            "\n",
            "0: 640x640 1 person, 1 handbag, 1 suitcase, 6 chairs, 1 potted plant, 1 tv, 873.5ms\n",
            "Speed: 3.3ms preprocess, 873.5ms inference, 1.6ms postprocess per image at shape (1, 3, 640, 640)\n"
          ]
        },
        {
          "output_type": "stream",
          "name": "stderr",
          "text": [
            "\r 76%|███████▌  | 137/180 [02:28<00:55,  1.28s/it]"
          ]
        },
        {
          "output_type": "stream",
          "name": "stdout",
          "text": [
            "\n",
            "0: 640x640 1 person, 1 handbag, 1 suitcase, 5 chairs, 1 tv, 846.2ms\n",
            "Speed: 2.9ms preprocess, 846.2ms inference, 1.6ms postprocess per image at shape (1, 3, 640, 640)\n"
          ]
        },
        {
          "output_type": "stream",
          "name": "stderr",
          "text": [
            "\r 77%|███████▋  | 138/180 [02:30<00:57,  1.38s/it]"
          ]
        },
        {
          "output_type": "stream",
          "name": "stdout",
          "text": [
            "\n",
            "0: 640x640 1 person, 1 handbag, 1 suitcase, 5 chairs, 1 tv, 653.4ms\n",
            "Speed: 2.7ms preprocess, 653.4ms inference, 1.2ms postprocess per image at shape (1, 3, 640, 640)\n"
          ]
        },
        {
          "output_type": "stream",
          "name": "stderr",
          "text": [
            "\r 77%|███████▋  | 139/180 [02:31<00:53,  1.30s/it]"
          ]
        },
        {
          "output_type": "stream",
          "name": "stdout",
          "text": [
            "\n",
            "0: 640x640 1 person, 1 handbag, 1 suitcase, 6 chairs, 2 tvs, 569.3ms\n",
            "Speed: 4.1ms preprocess, 569.3ms inference, 1.3ms postprocess per image at shape (1, 3, 640, 640)\n"
          ]
        },
        {
          "output_type": "stream",
          "name": "stderr",
          "text": [
            "\r 78%|███████▊  | 140/180 [02:32<00:50,  1.25s/it]"
          ]
        },
        {
          "output_type": "stream",
          "name": "stdout",
          "text": [
            "\n",
            "0: 640x640 1 person, 1 handbag, 1 suitcase, 5 chairs, 1 tv, 553.9ms\n",
            "Speed: 2.8ms preprocess, 553.9ms inference, 1.3ms postprocess per image at shape (1, 3, 640, 640)\n"
          ]
        },
        {
          "output_type": "stream",
          "name": "stderr",
          "text": [
            "\r 78%|███████▊  | 141/180 [02:33<00:44,  1.15s/it]"
          ]
        },
        {
          "output_type": "stream",
          "name": "stdout",
          "text": [
            "\n",
            "0: 640x640 1 person, 1 umbrella, 1 handbag, 6 chairs, 1 tv, 560.2ms\n",
            "Speed: 3.1ms preprocess, 560.2ms inference, 1.3ms postprocess per image at shape (1, 3, 640, 640)\n"
          ]
        },
        {
          "output_type": "stream",
          "name": "stderr",
          "text": [
            "\r 79%|███████▉  | 142/180 [02:34<00:41,  1.09s/it]"
          ]
        },
        {
          "output_type": "stream",
          "name": "stdout",
          "text": [
            "\n",
            "0: 640x640 1 person, 1 surfboard, 5 chairs, 1 tv, 562.0ms\n",
            "Speed: 3.6ms preprocess, 562.0ms inference, 1.4ms postprocess per image at shape (1, 3, 640, 640)\n"
          ]
        },
        {
          "output_type": "stream",
          "name": "stderr",
          "text": [
            "\r 79%|███████▉  | 143/180 [02:35<00:38,  1.04s/it]"
          ]
        },
        {
          "output_type": "stream",
          "name": "stdout",
          "text": [
            "\n",
            "0: 640x640 1 person, 5 chairs, 2 tvs, 558.4ms\n",
            "Speed: 2.8ms preprocess, 558.4ms inference, 1.2ms postprocess per image at shape (1, 3, 640, 640)\n"
          ]
        },
        {
          "output_type": "stream",
          "name": "stderr",
          "text": [
            "\r 80%|████████  | 144/180 [02:36<00:36,  1.01s/it]"
          ]
        },
        {
          "output_type": "stream",
          "name": "stdout",
          "text": [
            "\n",
            "0: 640x640 1 person, 1 umbrella, 4 chairs, 2 tvs, 560.4ms\n",
            "Speed: 3.7ms preprocess, 560.4ms inference, 1.3ms postprocess per image at shape (1, 3, 640, 640)\n"
          ]
        },
        {
          "output_type": "stream",
          "name": "stderr",
          "text": [
            "\r 81%|████████  | 145/180 [02:37<00:34,  1.01it/s]"
          ]
        },
        {
          "output_type": "stream",
          "name": "stdout",
          "text": [
            "\n",
            "0: 640x640 1 person, 1 umbrella, 5 chairs, 1 potted plant, 3 tvs, 554.6ms\n",
            "Speed: 3.0ms preprocess, 554.6ms inference, 1.8ms postprocess per image at shape (1, 3, 640, 640)\n"
          ]
        },
        {
          "output_type": "stream",
          "name": "stderr",
          "text": [
            "\r 81%|████████  | 146/180 [02:38<00:36,  1.07s/it]"
          ]
        },
        {
          "output_type": "stream",
          "name": "stdout",
          "text": [
            "\n",
            "0: 640x640 1 person, 5 chairs, 1 tv, 565.2ms\n",
            "Speed: 2.8ms preprocess, 565.2ms inference, 1.3ms postprocess per image at shape (1, 3, 640, 640)\n"
          ]
        },
        {
          "output_type": "stream",
          "name": "stderr",
          "text": [
            "\r 82%|████████▏ | 147/180 [02:39<00:34,  1.04s/it]"
          ]
        },
        {
          "output_type": "stream",
          "name": "stdout",
          "text": [
            "\n",
            "0: 640x640 1 person, 1 suitcase, 5 chairs, 1 tv, 566.6ms\n",
            "Speed: 2.8ms preprocess, 566.6ms inference, 1.3ms postprocess per image at shape (1, 3, 640, 640)\n"
          ]
        },
        {
          "output_type": "stream",
          "name": "stderr",
          "text": [
            "\r 82%|████████▏ | 148/180 [02:40<00:31,  1.00it/s]"
          ]
        },
        {
          "output_type": "stream",
          "name": "stdout",
          "text": [
            "\n",
            "0: 640x640 3 chairs, 2 tvs, 733.7ms\n",
            "Speed: 3.1ms preprocess, 733.7ms inference, 1.7ms postprocess per image at shape (1, 3, 640, 640)\n"
          ]
        },
        {
          "output_type": "stream",
          "name": "stderr",
          "text": [
            "\r 83%|████████▎ | 149/180 [02:41<00:31,  1.02s/it]"
          ]
        },
        {
          "output_type": "stream",
          "name": "stdout",
          "text": [
            "\n",
            "0: 640x640 4 chairs, 1 tv, 838.2ms\n",
            "Speed: 3.1ms preprocess, 838.2ms inference, 1.6ms postprocess per image at shape (1, 3, 640, 640)\n"
          ]
        },
        {
          "output_type": "stream",
          "name": "stderr",
          "text": [
            "\r 83%|████████▎ | 150/180 [02:42<00:32,  1.08s/it]"
          ]
        },
        {
          "output_type": "stream",
          "name": "stdout",
          "text": [
            "\n",
            "0: 640x640 5 chairs, 1 tv, 867.2ms\n",
            "Speed: 2.6ms preprocess, 867.2ms inference, 1.6ms postprocess per image at shape (1, 3, 640, 640)\n"
          ]
        },
        {
          "output_type": "stream",
          "name": "stderr",
          "text": [
            "\r 84%|████████▍ | 151/180 [02:43<00:32,  1.12s/it]"
          ]
        },
        {
          "output_type": "stream",
          "name": "stdout",
          "text": [
            "\n",
            "0: 640x640 5 chairs, 1 tv, 875.5ms\n",
            "Speed: 2.5ms preprocess, 875.5ms inference, 1.9ms postprocess per image at shape (1, 3, 640, 640)\n"
          ]
        },
        {
          "output_type": "stream",
          "name": "stderr",
          "text": [
            "\r 84%|████████▍ | 152/180 [02:45<00:31,  1.14s/it]"
          ]
        },
        {
          "output_type": "stream",
          "name": "stdout",
          "text": [
            "\n",
            "0: 640x640 5 chairs, 2 tvs, 872.5ms\n",
            "Speed: 3.2ms preprocess, 872.5ms inference, 1.7ms postprocess per image at shape (1, 3, 640, 640)\n"
          ]
        },
        {
          "output_type": "stream",
          "name": "stderr",
          "text": [
            "\r 85%|████████▌ | 153/180 [02:46<00:31,  1.17s/it]"
          ]
        },
        {
          "output_type": "stream",
          "name": "stdout",
          "text": [
            "\n",
            "0: 640x640 5 chairs, 1 tv, 556.7ms\n",
            "Speed: 3.5ms preprocess, 556.7ms inference, 1.3ms postprocess per image at shape (1, 3, 640, 640)\n"
          ]
        },
        {
          "output_type": "stream",
          "name": "stderr",
          "text": [
            "\r 86%|████████▌ | 154/180 [02:47<00:27,  1.05s/it]"
          ]
        },
        {
          "output_type": "stream",
          "name": "stdout",
          "text": [
            "\n",
            "0: 640x640 4 chairs, 1 tv, 549.6ms\n",
            "Speed: 2.8ms preprocess, 549.6ms inference, 1.2ms postprocess per image at shape (1, 3, 640, 640)\n"
          ]
        },
        {
          "output_type": "stream",
          "name": "stderr",
          "text": [
            "\r 86%|████████▌ | 155/180 [02:47<00:24,  1.04it/s]"
          ]
        },
        {
          "output_type": "stream",
          "name": "stdout",
          "text": [
            "\n",
            "0: 640x640 4 chairs, 2 tvs, 555.5ms\n",
            "Speed: 3.7ms preprocess, 555.5ms inference, 1.2ms postprocess per image at shape (1, 3, 640, 640)\n"
          ]
        },
        {
          "output_type": "stream",
          "name": "stderr",
          "text": [
            "\r 87%|████████▋ | 156/180 [02:48<00:21,  1.10it/s]"
          ]
        },
        {
          "output_type": "stream",
          "name": "stdout",
          "text": [
            "\n",
            "0: 640x640 5 chairs, 2 tvs, 551.5ms\n",
            "Speed: 3.7ms preprocess, 551.5ms inference, 1.3ms postprocess per image at shape (1, 3, 640, 640)\n"
          ]
        },
        {
          "output_type": "stream",
          "name": "stderr",
          "text": [
            "\r 87%|████████▋ | 157/180 [02:49<00:20,  1.14it/s]"
          ]
        },
        {
          "output_type": "stream",
          "name": "stdout",
          "text": [
            "\n",
            "0: 640x640 5 chairs, 2 tvs, 554.5ms\n",
            "Speed: 3.6ms preprocess, 554.5ms inference, 1.3ms postprocess per image at shape (1, 3, 640, 640)\n"
          ]
        },
        {
          "output_type": "stream",
          "name": "stderr",
          "text": [
            "\r 88%|████████▊ | 158/180 [02:50<00:19,  1.12it/s]"
          ]
        },
        {
          "output_type": "stream",
          "name": "stdout",
          "text": [
            "\n",
            "0: 640x640 5 chairs, 1 tv, 554.6ms\n",
            "Speed: 3.0ms preprocess, 554.6ms inference, 1.3ms postprocess per image at shape (1, 3, 640, 640)\n"
          ]
        },
        {
          "output_type": "stream",
          "name": "stderr",
          "text": [
            "\r 88%|████████▊ | 159/180 [02:51<00:18,  1.13it/s]"
          ]
        },
        {
          "output_type": "stream",
          "name": "stdout",
          "text": [
            "\n",
            "0: 640x640 1 suitcase, 6 chairs, 1 tv, 560.8ms\n",
            "Speed: 2.7ms preprocess, 560.8ms inference, 1.2ms postprocess per image at shape (1, 3, 640, 640)\n"
          ]
        },
        {
          "output_type": "stream",
          "name": "stderr",
          "text": [
            "\r 89%|████████▉ | 160/180 [02:51<00:17,  1.16it/s]"
          ]
        },
        {
          "output_type": "stream",
          "name": "stdout",
          "text": [
            "\n",
            "0: 640x640 5 chairs, 1 tv, 556.8ms\n",
            "Speed: 2.8ms preprocess, 556.8ms inference, 1.3ms postprocess per image at shape (1, 3, 640, 640)\n"
          ]
        },
        {
          "output_type": "stream",
          "name": "stderr",
          "text": [
            "\r 89%|████████▉ | 161/180 [02:52<00:16,  1.18it/s]"
          ]
        },
        {
          "output_type": "stream",
          "name": "stdout",
          "text": [
            "\n",
            "0: 640x640 5 chairs, 1 tv, 543.8ms\n",
            "Speed: 2.9ms preprocess, 543.8ms inference, 1.2ms postprocess per image at shape (1, 3, 640, 640)\n"
          ]
        },
        {
          "output_type": "stream",
          "name": "stderr",
          "text": [
            "\r 90%|█████████ | 162/180 [02:53<00:15,  1.19it/s]"
          ]
        },
        {
          "output_type": "stream",
          "name": "stdout",
          "text": [
            "\n",
            "0: 640x640 5 chairs, 1 tv, 543.6ms\n",
            "Speed: 3.5ms preprocess, 543.6ms inference, 1.2ms postprocess per image at shape (1, 3, 640, 640)\n"
          ]
        },
        {
          "output_type": "stream",
          "name": "stderr",
          "text": [
            "\r 91%|█████████ | 163/180 [02:54<00:14,  1.21it/s]"
          ]
        },
        {
          "output_type": "stream",
          "name": "stdout",
          "text": [
            "\n",
            "0: 640x640 5 chairs, 1 tv, 566.1ms\n",
            "Speed: 2.9ms preprocess, 566.1ms inference, 1.4ms postprocess per image at shape (1, 3, 640, 640)\n"
          ]
        },
        {
          "output_type": "stream",
          "name": "stderr",
          "text": [
            "\r 91%|█████████ | 164/180 [02:55<00:13,  1.20it/s]"
          ]
        },
        {
          "output_type": "stream",
          "name": "stdout",
          "text": [
            "\n",
            "0: 640x640 5 chairs, 1 tv, 567.6ms\n",
            "Speed: 3.3ms preprocess, 567.6ms inference, 1.3ms postprocess per image at shape (1, 3, 640, 640)\n"
          ]
        },
        {
          "output_type": "stream",
          "name": "stderr",
          "text": [
            "\r 92%|█████████▏| 165/180 [02:56<00:12,  1.17it/s]"
          ]
        },
        {
          "output_type": "stream",
          "name": "stdout",
          "text": [
            "\n",
            "0: 640x640 3 chairs, 1 tv, 867.3ms\n",
            "Speed: 2.8ms preprocess, 867.3ms inference, 1.5ms postprocess per image at shape (1, 3, 640, 640)\n"
          ]
        },
        {
          "output_type": "stream",
          "name": "stderr",
          "text": [
            "\r 92%|█████████▏| 166/180 [02:57<00:13,  1.08it/s]"
          ]
        },
        {
          "output_type": "stream",
          "name": "stdout",
          "text": [
            "\n",
            "0: 640x640 4 chairs, 1 tv, 849.5ms\n",
            "Speed: 2.9ms preprocess, 849.5ms inference, 1.6ms postprocess per image at shape (1, 3, 640, 640)\n"
          ]
        },
        {
          "output_type": "stream",
          "name": "stderr",
          "text": [
            "\r 93%|█████████▎| 167/180 [02:58<00:13,  1.01s/it]"
          ]
        },
        {
          "output_type": "stream",
          "name": "stdout",
          "text": [
            "\n",
            "0: 640x640 5 chairs, 1 tv, 866.2ms\n",
            "Speed: 2.9ms preprocess, 866.2ms inference, 1.9ms postprocess per image at shape (1, 3, 640, 640)\n"
          ]
        },
        {
          "output_type": "stream",
          "name": "stderr",
          "text": [
            "\r 93%|█████████▎| 168/180 [02:59<00:13,  1.14s/it]"
          ]
        },
        {
          "output_type": "stream",
          "name": "stdout",
          "text": [
            "\n",
            "0: 640x640 5 chairs, 2 tvs, 847.1ms\n",
            "Speed: 2.9ms preprocess, 847.1ms inference, 1.6ms postprocess per image at shape (1, 3, 640, 640)\n"
          ]
        },
        {
          "output_type": "stream",
          "name": "stderr",
          "text": [
            "\r 94%|█████████▍| 169/180 [03:01<00:12,  1.17s/it]"
          ]
        },
        {
          "output_type": "stream",
          "name": "stdout",
          "text": [
            "\n",
            "0: 640x640 6 chairs, 2 tvs, 732.6ms\n",
            "Speed: 8.1ms preprocess, 732.6ms inference, 1.3ms postprocess per image at shape (1, 3, 640, 640)\n"
          ]
        },
        {
          "output_type": "stream",
          "name": "stderr",
          "text": [
            "\r 94%|█████████▍| 170/180 [03:02<00:11,  1.14s/it]"
          ]
        },
        {
          "output_type": "stream",
          "name": "stdout",
          "text": [
            "\n",
            "0: 640x640 6 chairs, 2 tvs, 607.3ms\n",
            "Speed: 4.7ms preprocess, 607.3ms inference, 1.3ms postprocess per image at shape (1, 3, 640, 640)\n"
          ]
        },
        {
          "output_type": "stream",
          "name": "stderr",
          "text": [
            "\r 95%|█████████▌| 171/180 [03:03<00:09,  1.06s/it]"
          ]
        },
        {
          "output_type": "stream",
          "name": "stdout",
          "text": [
            "\n",
            "0: 640x640 4 chairs, 1 tv, 549.4ms\n",
            "Speed: 3.0ms preprocess, 549.4ms inference, 1.3ms postprocess per image at shape (1, 3, 640, 640)\n"
          ]
        },
        {
          "output_type": "stream",
          "name": "stderr",
          "text": [
            "\r 96%|█████████▌| 172/180 [03:03<00:07,  1.03it/s]"
          ]
        },
        {
          "output_type": "stream",
          "name": "stdout",
          "text": [
            "\n",
            "0: 640x640 4 chairs, 2 tvs, 554.0ms\n",
            "Speed: 2.9ms preprocess, 554.0ms inference, 1.3ms postprocess per image at shape (1, 3, 640, 640)\n"
          ]
        },
        {
          "output_type": "stream",
          "name": "stderr",
          "text": [
            "\r 96%|█████████▌| 173/180 [03:04<00:06,  1.10it/s]"
          ]
        },
        {
          "output_type": "stream",
          "name": "stdout",
          "text": [
            "\n",
            "0: 640x640 6 chairs, 1 tv, 557.6ms\n",
            "Speed: 3.0ms preprocess, 557.6ms inference, 1.2ms postprocess per image at shape (1, 3, 640, 640)\n"
          ]
        },
        {
          "output_type": "stream",
          "name": "stderr",
          "text": [
            "\r 97%|█████████▋| 174/180 [03:05<00:05,  1.12it/s]"
          ]
        },
        {
          "output_type": "stream",
          "name": "stdout",
          "text": [
            "\n",
            "0: 640x640 1 suitcase, 4 chairs, 2 tvs, 570.5ms\n",
            "Speed: 3.1ms preprocess, 570.5ms inference, 1.2ms postprocess per image at shape (1, 3, 640, 640)\n"
          ]
        },
        {
          "output_type": "stream",
          "name": "stderr",
          "text": [
            "\r 97%|█████████▋| 175/180 [03:06<00:04,  1.16it/s]"
          ]
        },
        {
          "output_type": "stream",
          "name": "stdout",
          "text": [
            "\n",
            "0: 640x640 4 chairs, 2 tvs, 563.9ms\n",
            "Speed: 5.9ms preprocess, 563.9ms inference, 1.2ms postprocess per image at shape (1, 3, 640, 640)\n"
          ]
        },
        {
          "output_type": "stream",
          "name": "stderr",
          "text": [
            "\r 98%|█████████▊| 176/180 [03:07<00:03,  1.21it/s]"
          ]
        },
        {
          "output_type": "stream",
          "name": "stdout",
          "text": [
            "\n",
            "0: 640x640 6 chairs, 1 tv, 552.3ms\n",
            "Speed: 3.1ms preprocess, 552.3ms inference, 1.2ms postprocess per image at shape (1, 3, 640, 640)\n"
          ]
        },
        {
          "output_type": "stream",
          "name": "stderr",
          "text": [
            "\r 98%|█████████▊| 177/180 [03:07<00:02,  1.24it/s]"
          ]
        },
        {
          "output_type": "stream",
          "name": "stdout",
          "text": [
            "\n",
            "0: 640x640 1 suitcase, 4 chairs, 2 tvs, 561.1ms\n",
            "Speed: 3.1ms preprocess, 561.1ms inference, 1.5ms postprocess per image at shape (1, 3, 640, 640)\n"
          ]
        },
        {
          "output_type": "stream",
          "name": "stderr",
          "text": [
            "\r 99%|█████████▉| 178/180 [03:08<00:01,  1.20it/s]"
          ]
        },
        {
          "output_type": "stream",
          "name": "stdout",
          "text": [
            "\n",
            "0: 640x640 4 chairs, 2 tvs, 560.6ms\n",
            "Speed: 3.1ms preprocess, 560.6ms inference, 1.4ms postprocess per image at shape (1, 3, 640, 640)\n"
          ]
        },
        {
          "output_type": "stream",
          "name": "stderr",
          "text": [
            "\r 99%|█████████▉| 179/180 [03:09<00:00,  1.17it/s]"
          ]
        },
        {
          "output_type": "stream",
          "name": "stdout",
          "text": [
            "\n",
            "0: 640x640 5 chairs, 1 tv, 583.0ms\n",
            "Speed: 2.9ms preprocess, 583.0ms inference, 1.4ms postprocess per image at shape (1, 3, 640, 640)\n"
          ]
        },
        {
          "output_type": "stream",
          "name": "stderr",
          "text": [
            "100%|██████████| 180/180 [03:10<00:00,  1.06s/it]\n"
          ]
        }
      ]
    },
    {
      "cell_type": "code",
      "source": [
        "# 테스트 원본 영상 내보내기\n",
        "filename = '/content/drive/MyDrive/CCTV/output_yolov8_lstm_mediapipe.mp4'\n",
        "fourcc = cv2.VideoWriter_fourcc(*'DIVX')\n",
        "fps = 3\n",
        "frameSize = (640, 640)\n",
        "isColor = True\n",
        "out = cv2.VideoWriter(filename, fourcc, fps, frameSize, isColor)\n",
        "for out_img in out_img_list:\n",
        "    out.write(out_img)\n",
        "out.release()"
      ],
      "metadata": {
        "id": "NwWXKbSv7r0g"
      },
      "execution_count": 40,
      "outputs": []
    },
    {
      "cell_type": "code",
      "source": [
        "# 모델 저장하기\n",
        "PATH = '/content/drive/MyDrive/CCTV/'\n",
        "model_name = 'LSTM_2nd.pt'\n",
        "torch.save(net.state_dict(), PATH + model_name)"
      ],
      "metadata": {
        "id": "gTE_dDSs7r2g"
      },
      "execution_count": 41,
      "outputs": []
    },
    {
      "cell_type": "code",
      "source": [],
      "metadata": {
        "id": "DC6FUEtt7r4Q"
      },
      "execution_count": null,
      "outputs": []
    },
    {
      "cell_type": "code",
      "source": [],
      "metadata": {
        "id": "QH2AtwM67r6Q"
      },
      "execution_count": null,
      "outputs": []
    },
    {
      "cell_type": "code",
      "source": [],
      "metadata": {
        "id": "H2-X_aql7r8Y"
      },
      "execution_count": null,
      "outputs": []
    },
    {
      "cell_type": "code",
      "source": [],
      "metadata": {
        "id": "Qcn24eDD7r-g"
      },
      "execution_count": null,
      "outputs": []
    },
    {
      "cell_type": "code",
      "source": [],
      "metadata": {
        "id": "MtqwvaIm7sAz"
      },
      "execution_count": null,
      "outputs": []
    },
    {
      "cell_type": "code",
      "source": [],
      "metadata": {
        "id": "Aep3RkeO7sC4"
      },
      "execution_count": null,
      "outputs": []
    },
    {
      "cell_type": "code",
      "source": [],
      "metadata": {
        "id": "CCIcogaa7sFZ"
      },
      "execution_count": null,
      "outputs": []
    },
    {
      "cell_type": "code",
      "source": [],
      "metadata": {
        "id": "0V-W4LBK7sJ3"
      },
      "execution_count": null,
      "outputs": []
    },
    {
      "cell_type": "code",
      "source": [],
      "metadata": {
        "id": "tw5nMAWu7sMI"
      },
      "execution_count": null,
      "outputs": []
    }
  ]
}